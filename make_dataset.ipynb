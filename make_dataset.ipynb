{
 "cells": [
  {
   "cell_type": "markdown",
   "metadata": {},
   "source": [
    "# SGCN用データセット作り"
   ]
  },
  {
   "cell_type": "code",
   "execution_count": 1,
   "metadata": {
    "scrolled": true
   },
   "outputs": [],
   "source": [
    "import numpy as np\n",
    "import pandas as pd\n",
    "import pickle\n",
    "import networkx as nx\n",
    "import matplotlib\n",
    "%matplotlib inline"
   ]
  },
  {
   "cell_type": "code",
   "execution_count": 2,
   "metadata": {},
   "outputs": [],
   "source": [
    "def get_dist(df,col):\n",
    "    df_cnt = df.groupby([col]+['rating'])['time'].count().unstack(1,fill_value=0)\n",
    "    df_dist = pd.DataFrame(df_cnt.values / df_cnt.sum(1).values.reshape(-1,1),\n",
    "                                               columns=df_cnt.columns,\n",
    "                                               index=df_cnt.index)\n",
    "    return df_dist"
   ]
  },
  {
   "cell_type": "markdown",
   "metadata": {},
   "source": [
    "## Amazon → SGCN"
   ]
  },
  {
   "cell_type": "markdown",
   "metadata": {},
   "source": [
    "### user-product network"
   ]
  },
  {
   "cell_type": "markdown",
   "metadata": {},
   "source": [
    "#### network"
   ]
  },
  {
   "cell_type": "code",
   "execution_count": 19,
   "metadata": {},
   "outputs": [],
   "source": [
    "amazon_network = pd.read_csv('raw_data/amazon/amazon_network.csv',header=None)"
   ]
  },
  {
   "cell_type": "code",
   "execution_count": 20,
   "metadata": {
    "scrolled": true
   },
   "outputs": [
    {
     "data": {
      "text/html": [
       "<div>\n",
       "<style scoped>\n",
       "    .dataframe tbody tr th:only-of-type {\n",
       "        vertical-align: middle;\n",
       "    }\n",
       "\n",
       "    .dataframe tbody tr th {\n",
       "        vertical-align: top;\n",
       "    }\n",
       "\n",
       "    .dataframe thead th {\n",
       "        text-align: right;\n",
       "    }\n",
       "</style>\n",
       "<table border=\"1\" class=\"dataframe\">\n",
       "  <thead>\n",
       "    <tr style=\"text-align: right;\">\n",
       "      <th></th>\n",
       "      <th>0</th>\n",
       "      <th>1</th>\n",
       "      <th>2</th>\n",
       "      <th>3</th>\n",
       "    </tr>\n",
       "  </thead>\n",
       "  <tbody>\n",
       "    <tr>\n",
       "      <th>0</th>\n",
       "      <td>A3SGXH7AUHU8GW</td>\n",
       "      <td>B001E4KFG0</td>\n",
       "      <td>5.0</td>\n",
       "      <td>1303862400</td>\n",
       "    </tr>\n",
       "    <tr>\n",
       "      <th>1</th>\n",
       "      <td>A1D87F6ZCVE5NK</td>\n",
       "      <td>B00813GRG4</td>\n",
       "      <td>1.0</td>\n",
       "      <td>1346976000</td>\n",
       "    </tr>\n",
       "    <tr>\n",
       "      <th>2</th>\n",
       "      <td>ABXLMWJIXXAIN</td>\n",
       "      <td>B000LQOCH0</td>\n",
       "      <td>4.0</td>\n",
       "      <td>1219017600</td>\n",
       "    </tr>\n",
       "    <tr>\n",
       "      <th>3</th>\n",
       "      <td>A395BORC6FGVXV</td>\n",
       "      <td>B000UA0QIQ</td>\n",
       "      <td>2.0</td>\n",
       "      <td>1307923200</td>\n",
       "    </tr>\n",
       "    <tr>\n",
       "      <th>4</th>\n",
       "      <td>A1UQRSCLF8GW1T</td>\n",
       "      <td>B006K2ZZ7K</td>\n",
       "      <td>5.0</td>\n",
       "      <td>1350777600</td>\n",
       "    </tr>\n",
       "    <tr>\n",
       "      <th>5</th>\n",
       "      <td>ADT0SRK1MGOEU</td>\n",
       "      <td>B006K2ZZ7K</td>\n",
       "      <td>4.0</td>\n",
       "      <td>1342051200</td>\n",
       "    </tr>\n",
       "    <tr>\n",
       "      <th>6</th>\n",
       "      <td>A1SP2KVKFXXRU1</td>\n",
       "      <td>B006K2ZZ7K</td>\n",
       "      <td>5.0</td>\n",
       "      <td>1340150400</td>\n",
       "    </tr>\n",
       "    <tr>\n",
       "      <th>7</th>\n",
       "      <td>A3JRGQVEQN31IQ</td>\n",
       "      <td>B006K2ZZ7K</td>\n",
       "      <td>5.0</td>\n",
       "      <td>1336003200</td>\n",
       "    </tr>\n",
       "    <tr>\n",
       "      <th>8</th>\n",
       "      <td>A1MZYO9TZK0BBI</td>\n",
       "      <td>B000E7L2R4</td>\n",
       "      <td>5.0</td>\n",
       "      <td>1322006400</td>\n",
       "    </tr>\n",
       "    <tr>\n",
       "      <th>9</th>\n",
       "      <td>A21BT40VZCCYT4</td>\n",
       "      <td>B00171APVA</td>\n",
       "      <td>5.0</td>\n",
       "      <td>1351209600</td>\n",
       "    </tr>\n",
       "    <tr>\n",
       "      <th>10</th>\n",
       "      <td>A3HDKO7OW0QNK4</td>\n",
       "      <td>B0001PB9FE</td>\n",
       "      <td>5.0</td>\n",
       "      <td>1107820800</td>\n",
       "    </tr>\n",
       "    <tr>\n",
       "      <th>11</th>\n",
       "      <td>A2725IB4YY9JEB</td>\n",
       "      <td>B0009XLVG0</td>\n",
       "      <td>5.0</td>\n",
       "      <td>1282867200</td>\n",
       "    </tr>\n",
       "    <tr>\n",
       "      <th>12</th>\n",
       "      <td>A327PCT23YH90</td>\n",
       "      <td>B0009XLVG0</td>\n",
       "      <td>1.0</td>\n",
       "      <td>1339545600</td>\n",
       "    </tr>\n",
       "    <tr>\n",
       "      <th>13</th>\n",
       "      <td>A18ECVX2RJ7HUE</td>\n",
       "      <td>B001GVISJM</td>\n",
       "      <td>4.0</td>\n",
       "      <td>1288915200</td>\n",
       "    </tr>\n",
       "    <tr>\n",
       "      <th>14</th>\n",
       "      <td>A2MUGFV2TDQ47K</td>\n",
       "      <td>B001GVISJM</td>\n",
       "      <td>5.0</td>\n",
       "      <td>1268352000</td>\n",
       "    </tr>\n",
       "    <tr>\n",
       "      <th>15</th>\n",
       "      <td>A1CZX3CP8IKQIJ</td>\n",
       "      <td>B001GVISJM</td>\n",
       "      <td>5.0</td>\n",
       "      <td>1262044800</td>\n",
       "    </tr>\n",
       "    <tr>\n",
       "      <th>16</th>\n",
       "      <td>A3KLWF6WQ5BNYO</td>\n",
       "      <td>B001GVISJM</td>\n",
       "      <td>2.0</td>\n",
       "      <td>1348099200</td>\n",
       "    </tr>\n",
       "    <tr>\n",
       "      <th>17</th>\n",
       "      <td>AFKW14U97Z6QO</td>\n",
       "      <td>B001GVISJM</td>\n",
       "      <td>5.0</td>\n",
       "      <td>1345075200</td>\n",
       "    </tr>\n",
       "    <tr>\n",
       "      <th>18</th>\n",
       "      <td>A2A9X58G2GTBLP</td>\n",
       "      <td>B001GVISJM</td>\n",
       "      <td>5.0</td>\n",
       "      <td>1324598400</td>\n",
       "    </tr>\n",
       "    <tr>\n",
       "      <th>19</th>\n",
       "      <td>A3IV7CL2C13K2U</td>\n",
       "      <td>B001GVISJM</td>\n",
       "      <td>5.0</td>\n",
       "      <td>1318032000</td>\n",
       "    </tr>\n",
       "    <tr>\n",
       "      <th>20</th>\n",
       "      <td>A1WO0KGLPR5PV6</td>\n",
       "      <td>B001GVISJM</td>\n",
       "      <td>5.0</td>\n",
       "      <td>1313452800</td>\n",
       "    </tr>\n",
       "    <tr>\n",
       "      <th>21</th>\n",
       "      <td>AZOF9E17RGZH8</td>\n",
       "      <td>B001GVISJM</td>\n",
       "      <td>5.0</td>\n",
       "      <td>1308960000</td>\n",
       "    </tr>\n",
       "    <tr>\n",
       "      <th>22</th>\n",
       "      <td>ARYVQL4N737A1</td>\n",
       "      <td>B001GVISJM</td>\n",
       "      <td>5.0</td>\n",
       "      <td>1304899200</td>\n",
       "    </tr>\n",
       "    <tr>\n",
       "      <th>23</th>\n",
       "      <td>AJ613OLZZUG7V</td>\n",
       "      <td>B001GVISJM</td>\n",
       "      <td>5.0</td>\n",
       "      <td>1304467200</td>\n",
       "    </tr>\n",
       "    <tr>\n",
       "      <th>24</th>\n",
       "      <td>A22P2J09NJ9HKE</td>\n",
       "      <td>B001GVISJM</td>\n",
       "      <td>5.0</td>\n",
       "      <td>1295481600</td>\n",
       "    </tr>\n",
       "    <tr>\n",
       "      <th>25</th>\n",
       "      <td>A3FONPR03H3PJS</td>\n",
       "      <td>B001GVISJM</td>\n",
       "      <td>5.0</td>\n",
       "      <td>1288310400</td>\n",
       "    </tr>\n",
       "    <tr>\n",
       "      <th>26</th>\n",
       "      <td>A3RXAU2N8KV45G</td>\n",
       "      <td>B001GVISJM</td>\n",
       "      <td>1.0</td>\n",
       "      <td>1332633600</td>\n",
       "    </tr>\n",
       "    <tr>\n",
       "      <th>27</th>\n",
       "      <td>AAAS38B98HMIK</td>\n",
       "      <td>B001GVISJM</td>\n",
       "      <td>4.0</td>\n",
       "      <td>1331856000</td>\n",
       "    </tr>\n",
       "    <tr>\n",
       "      <th>28</th>\n",
       "      <td>A2F4LZVGFLD1OB</td>\n",
       "      <td>B00144C10S</td>\n",
       "      <td>5.0</td>\n",
       "      <td>1338854400</td>\n",
       "    </tr>\n",
       "    <tr>\n",
       "      <th>29</th>\n",
       "      <td>A3HDKO7OW0QNK4</td>\n",
       "      <td>B0001PB9FY</td>\n",
       "      <td>5.0</td>\n",
       "      <td>1107820800</td>\n",
       "    </tr>\n",
       "    <tr>\n",
       "      <th>...</th>\n",
       "      <td>...</td>\n",
       "      <td>...</td>\n",
       "      <td>...</td>\n",
       "      <td>...</td>\n",
       "    </tr>\n",
       "    <tr>\n",
       "      <th>568424</th>\n",
       "      <td>A291HTT117RVS9</td>\n",
       "      <td>B001FPT1WM</td>\n",
       "      <td>5.0</td>\n",
       "      <td>1333411200</td>\n",
       "    </tr>\n",
       "    <tr>\n",
       "      <th>568425</th>\n",
       "      <td>A1TRJQBYQFZW4</td>\n",
       "      <td>B001FPT1WM</td>\n",
       "      <td>5.0</td>\n",
       "      <td>1325376000</td>\n",
       "    </tr>\n",
       "    <tr>\n",
       "      <th>568426</th>\n",
       "      <td>A2F25C6QCKJ3HL</td>\n",
       "      <td>B001FPT1WM</td>\n",
       "      <td>1.0</td>\n",
       "      <td>1341532800</td>\n",
       "    </tr>\n",
       "    <tr>\n",
       "      <th>568427</th>\n",
       "      <td>A7VLVCQJIROTF</td>\n",
       "      <td>B001FPT1WM</td>\n",
       "      <td>5.0</td>\n",
       "      <td>1340323200</td>\n",
       "    </tr>\n",
       "    <tr>\n",
       "      <th>568428</th>\n",
       "      <td>A1YGG6T4YJZWC1</td>\n",
       "      <td>B001FPT1WM</td>\n",
       "      <td>5.0</td>\n",
       "      <td>1340236800</td>\n",
       "    </tr>\n",
       "    <tr>\n",
       "      <th>568429</th>\n",
       "      <td>AW7HIV8I53FE4</td>\n",
       "      <td>B001FPT1WM</td>\n",
       "      <td>5.0</td>\n",
       "      <td>1338508800</td>\n",
       "    </tr>\n",
       "    <tr>\n",
       "      <th>568430</th>\n",
       "      <td>A1XDMZMMOAMR7</td>\n",
       "      <td>B001FPT1WM</td>\n",
       "      <td>5.0</td>\n",
       "      <td>1345161600</td>\n",
       "    </tr>\n",
       "    <tr>\n",
       "      <th>568431</th>\n",
       "      <td>A32Y0419QFGVHM</td>\n",
       "      <td>B003XUL27E</td>\n",
       "      <td>1.0</td>\n",
       "      <td>1319673600</td>\n",
       "    </tr>\n",
       "    <tr>\n",
       "      <th>568432</th>\n",
       "      <td>A1YKXVGAIA8952</td>\n",
       "      <td>B003XUL27E</td>\n",
       "      <td>1.0</td>\n",
       "      <td>1319500800</td>\n",
       "    </tr>\n",
       "    <tr>\n",
       "      <th>568433</th>\n",
       "      <td>A1JUG9WCN1A52Z</td>\n",
       "      <td>B003XUL27E</td>\n",
       "      <td>1.0</td>\n",
       "      <td>1311638400</td>\n",
       "    </tr>\n",
       "    <tr>\n",
       "      <th>568434</th>\n",
       "      <td>ABGQPE97ZVYJ3</td>\n",
       "      <td>B003XUL27E</td>\n",
       "      <td>2.0</td>\n",
       "      <td>1306368000</td>\n",
       "    </tr>\n",
       "    <tr>\n",
       "      <th>568435</th>\n",
       "      <td>A2PSB4WQHH46HN</td>\n",
       "      <td>B003XUL27E</td>\n",
       "      <td>2.0</td>\n",
       "      <td>1285718400</td>\n",
       "    </tr>\n",
       "    <tr>\n",
       "      <th>568436</th>\n",
       "      <td>A3ODWHC3EMMWTT</td>\n",
       "      <td>B000NY4SAG</td>\n",
       "      <td>5.0</td>\n",
       "      <td>1229731200</td>\n",
       "    </tr>\n",
       "    <tr>\n",
       "      <th>568437</th>\n",
       "      <td>A1RKKPSXF9QIZF</td>\n",
       "      <td>B000NY4SAG</td>\n",
       "      <td>5.0</td>\n",
       "      <td>1233792000</td>\n",
       "    </tr>\n",
       "    <tr>\n",
       "      <th>568438</th>\n",
       "      <td>A3M89SF0SSOGBK</td>\n",
       "      <td>B000NY4SAG</td>\n",
       "      <td>5.0</td>\n",
       "      <td>1316995200</td>\n",
       "    </tr>\n",
       "    <tr>\n",
       "      <th>568439</th>\n",
       "      <td>A34GDV49ZZQKXG</td>\n",
       "      <td>B000NY4SAG</td>\n",
       "      <td>4.0</td>\n",
       "      <td>1280102400</td>\n",
       "    </tr>\n",
       "    <tr>\n",
       "      <th>568440</th>\n",
       "      <td>A2TO5R8QLIITEF</td>\n",
       "      <td>B005ZC0RRO</td>\n",
       "      <td>5.0</td>\n",
       "      <td>1323734400</td>\n",
       "    </tr>\n",
       "    <tr>\n",
       "      <th>568441</th>\n",
       "      <td>AZRHU8CP5XKMF</td>\n",
       "      <td>B000NY8O9M</td>\n",
       "      <td>5.0</td>\n",
       "      <td>1264204800</td>\n",
       "    </tr>\n",
       "    <tr>\n",
       "      <th>568442</th>\n",
       "      <td>A3BOURUK79CYY5</td>\n",
       "      <td>B006T7TKZO</td>\n",
       "      <td>5.0</td>\n",
       "      <td>1338854400</td>\n",
       "    </tr>\n",
       "    <tr>\n",
       "      <th>568443</th>\n",
       "      <td>A2AGSSZR9V7XST</td>\n",
       "      <td>B000H7K114</td>\n",
       "      <td>5.0</td>\n",
       "      <td>1281744000</td>\n",
       "    </tr>\n",
       "    <tr>\n",
       "      <th>568444</th>\n",
       "      <td>A2SD7TY3IOX69B</td>\n",
       "      <td>B001EO7N10</td>\n",
       "      <td>5.0</td>\n",
       "      <td>1245369600</td>\n",
       "    </tr>\n",
       "    <tr>\n",
       "      <th>568445</th>\n",
       "      <td>A2E5C8TTAED4CQ</td>\n",
       "      <td>B001EO7N10</td>\n",
       "      <td>5.0</td>\n",
       "      <td>1268006400</td>\n",
       "    </tr>\n",
       "    <tr>\n",
       "      <th>568446</th>\n",
       "      <td>A2P9W8T7NTLG2Z</td>\n",
       "      <td>B001EO7N10</td>\n",
       "      <td>2.0</td>\n",
       "      <td>1328918400</td>\n",
       "    </tr>\n",
       "    <tr>\n",
       "      <th>568447</th>\n",
       "      <td>APWCOAVILK94B</td>\n",
       "      <td>B001EO7N10</td>\n",
       "      <td>5.0</td>\n",
       "      <td>1322524800</td>\n",
       "    </tr>\n",
       "    <tr>\n",
       "      <th>568448</th>\n",
       "      <td>A1F6BHEYB7R6R7</td>\n",
       "      <td>B001EO7N10</td>\n",
       "      <td>5.0</td>\n",
       "      <td>1308096000</td>\n",
       "    </tr>\n",
       "    <tr>\n",
       "      <th>568449</th>\n",
       "      <td>A28KG5XORO54AY</td>\n",
       "      <td>B001EO7N10</td>\n",
       "      <td>5.0</td>\n",
       "      <td>1299628800</td>\n",
       "    </tr>\n",
       "    <tr>\n",
       "      <th>568450</th>\n",
       "      <td>A3I8AFVPEE8KI5</td>\n",
       "      <td>B003S1WTCU</td>\n",
       "      <td>2.0</td>\n",
       "      <td>1331251200</td>\n",
       "    </tr>\n",
       "    <tr>\n",
       "      <th>568451</th>\n",
       "      <td>A121AA1GQV751Z</td>\n",
       "      <td>B004I613EE</td>\n",
       "      <td>5.0</td>\n",
       "      <td>1329782400</td>\n",
       "    </tr>\n",
       "    <tr>\n",
       "      <th>568452</th>\n",
       "      <td>A3IBEVCTXKNOH</td>\n",
       "      <td>B004I613EE</td>\n",
       "      <td>5.0</td>\n",
       "      <td>1331596800</td>\n",
       "    </tr>\n",
       "    <tr>\n",
       "      <th>568453</th>\n",
       "      <td>A3LGQPJCZVL9UC</td>\n",
       "      <td>B001LR2CU2</td>\n",
       "      <td>5.0</td>\n",
       "      <td>1338422400</td>\n",
       "    </tr>\n",
       "  </tbody>\n",
       "</table>\n",
       "<p>568454 rows × 4 columns</p>\n",
       "</div>"
      ],
      "text/plain": [
       "                     0           1    2           3\n",
       "0       A3SGXH7AUHU8GW  B001E4KFG0  5.0  1303862400\n",
       "1       A1D87F6ZCVE5NK  B00813GRG4  1.0  1346976000\n",
       "2        ABXLMWJIXXAIN  B000LQOCH0  4.0  1219017600\n",
       "3       A395BORC6FGVXV  B000UA0QIQ  2.0  1307923200\n",
       "4       A1UQRSCLF8GW1T  B006K2ZZ7K  5.0  1350777600\n",
       "5        ADT0SRK1MGOEU  B006K2ZZ7K  4.0  1342051200\n",
       "6       A1SP2KVKFXXRU1  B006K2ZZ7K  5.0  1340150400\n",
       "7       A3JRGQVEQN31IQ  B006K2ZZ7K  5.0  1336003200\n",
       "8       A1MZYO9TZK0BBI  B000E7L2R4  5.0  1322006400\n",
       "9       A21BT40VZCCYT4  B00171APVA  5.0  1351209600\n",
       "10      A3HDKO7OW0QNK4  B0001PB9FE  5.0  1107820800\n",
       "11      A2725IB4YY9JEB  B0009XLVG0  5.0  1282867200\n",
       "12       A327PCT23YH90  B0009XLVG0  1.0  1339545600\n",
       "13      A18ECVX2RJ7HUE  B001GVISJM  4.0  1288915200\n",
       "14      A2MUGFV2TDQ47K  B001GVISJM  5.0  1268352000\n",
       "15      A1CZX3CP8IKQIJ  B001GVISJM  5.0  1262044800\n",
       "16      A3KLWF6WQ5BNYO  B001GVISJM  2.0  1348099200\n",
       "17       AFKW14U97Z6QO  B001GVISJM  5.0  1345075200\n",
       "18      A2A9X58G2GTBLP  B001GVISJM  5.0  1324598400\n",
       "19      A3IV7CL2C13K2U  B001GVISJM  5.0  1318032000\n",
       "20      A1WO0KGLPR5PV6  B001GVISJM  5.0  1313452800\n",
       "21       AZOF9E17RGZH8  B001GVISJM  5.0  1308960000\n",
       "22       ARYVQL4N737A1  B001GVISJM  5.0  1304899200\n",
       "23       AJ613OLZZUG7V  B001GVISJM  5.0  1304467200\n",
       "24      A22P2J09NJ9HKE  B001GVISJM  5.0  1295481600\n",
       "25      A3FONPR03H3PJS  B001GVISJM  5.0  1288310400\n",
       "26      A3RXAU2N8KV45G  B001GVISJM  1.0  1332633600\n",
       "27       AAAS38B98HMIK  B001GVISJM  4.0  1331856000\n",
       "28      A2F4LZVGFLD1OB  B00144C10S  5.0  1338854400\n",
       "29      A3HDKO7OW0QNK4  B0001PB9FY  5.0  1107820800\n",
       "...                ...         ...  ...         ...\n",
       "568424  A291HTT117RVS9  B001FPT1WM  5.0  1333411200\n",
       "568425   A1TRJQBYQFZW4  B001FPT1WM  5.0  1325376000\n",
       "568426  A2F25C6QCKJ3HL  B001FPT1WM  1.0  1341532800\n",
       "568427   A7VLVCQJIROTF  B001FPT1WM  5.0  1340323200\n",
       "568428  A1YGG6T4YJZWC1  B001FPT1WM  5.0  1340236800\n",
       "568429   AW7HIV8I53FE4  B001FPT1WM  5.0  1338508800\n",
       "568430   A1XDMZMMOAMR7  B001FPT1WM  5.0  1345161600\n",
       "568431  A32Y0419QFGVHM  B003XUL27E  1.0  1319673600\n",
       "568432  A1YKXVGAIA8952  B003XUL27E  1.0  1319500800\n",
       "568433  A1JUG9WCN1A52Z  B003XUL27E  1.0  1311638400\n",
       "568434   ABGQPE97ZVYJ3  B003XUL27E  2.0  1306368000\n",
       "568435  A2PSB4WQHH46HN  B003XUL27E  2.0  1285718400\n",
       "568436  A3ODWHC3EMMWTT  B000NY4SAG  5.0  1229731200\n",
       "568437  A1RKKPSXF9QIZF  B000NY4SAG  5.0  1233792000\n",
       "568438  A3M89SF0SSOGBK  B000NY4SAG  5.0  1316995200\n",
       "568439  A34GDV49ZZQKXG  B000NY4SAG  4.0  1280102400\n",
       "568440  A2TO5R8QLIITEF  B005ZC0RRO  5.0  1323734400\n",
       "568441   AZRHU8CP5XKMF  B000NY8O9M  5.0  1264204800\n",
       "568442  A3BOURUK79CYY5  B006T7TKZO  5.0  1338854400\n",
       "568443  A2AGSSZR9V7XST  B000H7K114  5.0  1281744000\n",
       "568444  A2SD7TY3IOX69B  B001EO7N10  5.0  1245369600\n",
       "568445  A2E5C8TTAED4CQ  B001EO7N10  5.0  1268006400\n",
       "568446  A2P9W8T7NTLG2Z  B001EO7N10  2.0  1328918400\n",
       "568447   APWCOAVILK94B  B001EO7N10  5.0  1322524800\n",
       "568448  A1F6BHEYB7R6R7  B001EO7N10  5.0  1308096000\n",
       "568449  A28KG5XORO54AY  B001EO7N10  5.0  1299628800\n",
       "568450  A3I8AFVPEE8KI5  B003S1WTCU  2.0  1331251200\n",
       "568451  A121AA1GQV751Z  B004I613EE  5.0  1329782400\n",
       "568452   A3IBEVCTXKNOH  B004I613EE  5.0  1331596800\n",
       "568453  A3LGQPJCZVL9UC  B001LR2CU2  5.0  1338422400\n",
       "\n",
       "[568454 rows x 4 columns]"
      ]
     },
     "execution_count": 20,
     "metadata": {},
     "output_type": "execute_result"
    }
   ],
   "source": [
    "amazon_network"
   ]
  },
  {
   "cell_type": "code",
   "execution_count": 3,
   "metadata": {
    "scrolled": true
   },
   "outputs": [],
   "source": [
    "amazon_network = pd.read_csv('raw_data/amazon/amazon_network.csv',header=None)\n",
    "amazon_network.columns = ['user_id','product_id','rating','time']\n",
    "amazon_network['weight'] = amazon_network.rating.map(lambda x:(x-3)/2).round()\n",
    "\n",
    "amazon_gt = pd.read_csv('raw_data/amazon/amazon_gt.csv',header=None)\n",
    "amazon_gt.columns = ['user_id','label']"
   ]
  },
  {
   "cell_type": "code",
   "execution_count": 17,
   "metadata": {
    "scrolled": false
   },
   "outputs": [
    {
     "data": {
      "text/plain": [
       "(Timestamp('2012-10-26 00:00:00'), Timestamp('1999-10-08 00:00:00'))"
      ]
     },
     "execution_count": 17,
     "metadata": {},
     "output_type": "execute_result"
    }
   ],
   "source": [
    "pd.to_datetime(amazon_network.time,unit='s').max(),pd.to_datetime(amazon_network.time,unit='s').min()"
   ]
  },
  {
   "cell_type": "code",
   "execution_count": null,
   "metadata": {},
   "outputs": [],
   "source": [
    "truncated_amazon_network = amazon_network.loc[amazon_network.weight!=0,['user_id','product_id','weight']]"
   ]
  },
  {
   "cell_type": "code",
   "execution_count": null,
   "metadata": {},
   "outputs": [],
   "source": [
    "from sklearn.preprocessing import LabelEncoder\n",
    "\n",
    "label_encoder = LabelEncoder()\n",
    "\n",
    "label_encoder.fit(np.hstack((truncated_amazon_network.user_id,\n",
    "                                                   truncated_amazon_network.product_id,\n",
    "                                                   amazon_gt.user_id)))"
   ]
  },
  {
   "cell_type": "code",
   "execution_count": null,
   "metadata": {},
   "outputs": [],
   "source": [
    "truncated_amazon_network['id1'] = label_encoder.transform(truncated_amazon_network.user_id)\n",
    "\n",
    "truncated_amazon_network['id2'] = label_encoder.transform(truncated_amazon_network.product_id)\n",
    "\n",
    "amazon_gt['node_id'] = label_encoder.transform(amazon_gt.user_id)"
   ]
  },
  {
   "cell_type": "markdown",
   "metadata": {},
   "source": [
    "#### node features"
   ]
  },
  {
   "cell_type": "code",
   "execution_count": null,
   "metadata": {},
   "outputs": [],
   "source": [
    "user_dist = get_dist(amazon_network,'user_id')\n",
    "\n",
    "product_dist = get_dist(amazon_network,'product_id')\n",
    "\n",
    "# user_product_dist = user_dist.append(product_dist)\n",
    "\n",
    "user_product_dist = pd.concat([user_dist,product_dist],1).fillna(0)"
   ]
  },
  {
   "cell_type": "code",
   "execution_count": null,
   "metadata": {
    "scrolled": true
   },
   "outputs": [],
   "source": [
    "node_features_df = user_product_dist.loc[label_encoder.classes_]"
   ]
  },
  {
   "cell_type": "markdown",
   "metadata": {},
   "source": [
    "#### ファイル出力"
   ]
  },
  {
   "cell_type": "code",
   "execution_count": null,
   "metadata": {},
   "outputs": [],
   "source": [
    "truncated_amazon_network[['id1','id2','weight']].to_csv('input/amazon/amazon_network.csv',index=None)\n",
    "\n",
    "amazon_gt[['node_id','label']].to_csv('input/amazon/amazon_gt.csv',index=None)\n",
    "\n",
    "np.save(arr=label_encoder.classes_,file='input/amazon/amazon_label_encoder.npy')\n",
    "\n",
    "node_features_df.to_csv('input/amazon/amazon_node_feature.csv',index=None)"
   ]
  },
  {
   "cell_type": "markdown",
   "metadata": {},
   "source": [
    "## epinions"
   ]
  },
  {
   "cell_type": "markdown",
   "metadata": {},
   "source": [
    "### network"
   ]
  },
  {
   "cell_type": "code",
   "execution_count": null,
   "metadata": {},
   "outputs": [],
   "source": [
    "epinions_network = pd.read_csv('raw_data/epinions/epinions_network.csv',header=None)\n",
    "\n",
    "epinions_network.columns = ['id1','id2','rating','time']\n",
    "\n",
    "epinions_network['weight'] = epinions_network.rating.map(lambda x:-1 if x-3.5 < 0 else 1)"
   ]
  },
  {
   "cell_type": "code",
   "execution_count": null,
   "metadata": {},
   "outputs": [],
   "source": [
    "epinions_gt = pd.read_csv('raw_data/epinions/epinions_gt.csv',header=None)\n",
    "\n",
    "epinions_gt.columns = ['user_id','label']"
   ]
  },
  {
   "cell_type": "code",
   "execution_count": null,
   "metadata": {},
   "outputs": [],
   "source": [
    "from sklearn.preprocessing import LabelEncoder\n",
    "\n",
    "label_encoder = LabelEncoder()\n",
    "\n",
    "label_encoder.fit(np.hstack((epinions_network.id1,\n",
    "                                                   epinions_network.id2,\n",
    "                                                   epinions_gt.user_id)))"
   ]
  },
  {
   "cell_type": "code",
   "execution_count": null,
   "metadata": {},
   "outputs": [],
   "source": [
    "epinions_network['id1_'] = label_encoder.transform(epinions_network.id1)\n",
    "\n",
    "epinions_network['id2_'] = label_encoder.transform(epinions_network.id2)\n",
    "\n",
    "epinions_gt['node_id'] = label_encoder.transform(epinions_gt.user_id)"
   ]
  },
  {
   "cell_type": "markdown",
   "metadata": {},
   "source": [
    "### node features"
   ]
  },
  {
   "cell_type": "code",
   "execution_count": null,
   "metadata": {},
   "outputs": [],
   "source": [
    "node_features_df = pd.concat([get_dist(epinions_network,'id1_'),get_dist(epinions_network,'id2_')],1).fillna(0).sort_index()"
   ]
  },
  {
   "cell_type": "markdown",
   "metadata": {},
   "source": [
    "### ファイル出力"
   ]
  },
  {
   "cell_type": "code",
   "execution_count": null,
   "metadata": {},
   "outputs": [],
   "source": [
    "epinions_network[['id1_','id2_','weight']].to_csv('input/epinions/epinions_network.csv',index=None)\n",
    "epinions_gt[['node_id','label']].to_csv('input/epinions/epinions_gt.csv',index=None)\n",
    "np.save(arr=label_encoder.classes_,file='input/epinions/epinions_label_encoder.npy')\n",
    "node_features_df.to_csv('input/epinions/epinions_node_feature.csv',index=None)"
   ]
  },
  {
   "cell_type": "markdown",
   "metadata": {},
   "source": [
    "## epinions_sub"
   ]
  },
  {
   "cell_type": "code",
   "execution_count": null,
   "metadata": {},
   "outputs": [],
   "source": [
    "sampled_nodes = np.random.choice()"
   ]
  },
  {
   "cell_type": "markdown",
   "metadata": {},
   "source": [
    "## alpha"
   ]
  },
  {
   "cell_type": "code",
   "execution_count": null,
   "metadata": {},
   "outputs": [],
   "source": [
    "alpha_network = pd.read_csv('raw_data/alpha/alpha_network.csv',header=None)\n",
    "\n",
    "alpha_network.columns = ['id1','id2','rating','time']\n",
    "\n",
    "alpha_network['weight'] = alpha_network.rating.map(lambda x:1 if x>0 else -1)"
   ]
  },
  {
   "cell_type": "code",
   "execution_count": null,
   "metadata": {},
   "outputs": [],
   "source": [
    "alpha_gt = pd.read_csv('raw_data/alpha/alpha_gt.csv',header=None)\n",
    "\n",
    "alpha_gt.columns = ['user_id','label']"
   ]
  },
  {
   "cell_type": "code",
   "execution_count": null,
   "metadata": {},
   "outputs": [],
   "source": [
    "from sklearn.preprocessing import LabelEncoder\n",
    "\n",
    "label_encoder = LabelEncoder()\n",
    "\n",
    "label_encoder.fit(np.hstack((alpha_network.id1,\n",
    "                                                   alpha_network.id2,\n",
    "                                                   alpha_gt.user_id)))"
   ]
  },
  {
   "cell_type": "code",
   "execution_count": null,
   "metadata": {},
   "outputs": [],
   "source": [
    "alpha_network['id1_'] = label_encoder.transform(alpha_network.id1)\n",
    "\n",
    "alpha_network['id2_'] = label_encoder.transform(alpha_network.id2)\n",
    "\n",
    "alpha_gt['node_id'] = label_encoder.transform(alpha_gt.user_id)\n",
    "\n",
    "node_features_df = pd.concat([get_dist(alpha_network,'id1_'),get_dist(alpha_network,'id2_')],1).fillna(0).sort_index()"
   ]
  },
  {
   "cell_type": "code",
   "execution_count": null,
   "metadata": {},
   "outputs": [],
   "source": [
    "alpha_network[['id1_','id2_','weight']].to_csv('input/alpha/alpha_network.csv',index=None)\n",
    "alpha_gt[['node_id','label']].to_csv('input/alpha/alpha_gt.csv',index=None)\n",
    "np.save(arr=label_encoder.classes_,file='input/alpha/alpha_label_encoder.npy')\n",
    "node_features_df.to_csv('input/alpha/alpha_node_feature.csv',index=None)"
   ]
  },
  {
   "cell_type": "markdown",
   "metadata": {},
   "source": [
    "## otc"
   ]
  },
  {
   "cell_type": "code",
   "execution_count": null,
   "metadata": {},
   "outputs": [],
   "source": [
    "otc_network = pd.read_csv('raw_data/otc/otc_network.csv',header=None)\n",
    "\n",
    "otc_network.columns = ['id1','id2','rating','time']\n",
    "\n",
    "otc_network['weight'] = otc_network.rating.map(lambda x:1 if x>0 else -1)"
   ]
  },
  {
   "cell_type": "code",
   "execution_count": null,
   "metadata": {},
   "outputs": [],
   "source": [
    "otc_gt = pd.read_csv('raw_data/otc/otc_gt.csv',header=None)\n",
    "\n",
    "otc_gt.columns = ['user_id','label']"
   ]
  },
  {
   "cell_type": "code",
   "execution_count": null,
   "metadata": {},
   "outputs": [],
   "source": [
    "from sklearn.preprocessing import LabelEncoder\n",
    "\n",
    "label_encoder = LabelEncoder()\n",
    "\n",
    "label_encoder.fit(np.hstack((otc_network.id1,\n",
    "                                                   otc_network.id2,\n",
    "                                                   otc_gt.user_id)))"
   ]
  },
  {
   "cell_type": "code",
   "execution_count": null,
   "metadata": {},
   "outputs": [],
   "source": [
    "otc_network['id1_'] = label_encoder.transform(otc_network.id1)\n",
    "\n",
    "otc_network['id2_'] = label_encoder.transform(otc_network.id2)\n",
    "\n",
    "otc_gt['node_id'] = label_encoder.transform(otc_gt.user_id)\n",
    "\n",
    "node_features_df = pd.concat([get_dist(otc_network,'id1_'),get_dist(otc_network,'id2_')],1).fillna(0).sort_index()"
   ]
  },
  {
   "cell_type": "code",
   "execution_count": null,
   "metadata": {},
   "outputs": [],
   "source": [
    "otc_network[['id1_','id2_','weight']].to_csv('input/otc/otc_network.csv',index=None)\n",
    "otc_gt[['node_id','label']].to_csv('input/otc/otc_gt.csv',index=None)\n",
    "np.save(arr=label_encoder.classes_,file='input/otc/otc_label_encoder.npy')\n",
    "node_features_df.to_csv('input/otc/otc_node_feature.csv',index=None)"
   ]
  },
  {
   "cell_type": "code",
   "execution_count": null,
   "metadata": {},
   "outputs": [],
   "source": []
  },
  {
   "cell_type": "markdown",
   "metadata": {},
   "source": [
    "# Appindix"
   ]
  },
  {
   "cell_type": "markdown",
   "metadata": {},
   "source": [
    "## amazon user networkを作る"
   ]
  },
  {
   "cell_type": "code",
   "execution_count": null,
   "metadata": {},
   "outputs": [],
   "source": [
    "amazon_network"
   ]
  },
  {
   "cell_type": "code",
   "execution_count": null,
   "metadata": {
    "scrolled": true
   },
   "outputs": [],
   "source": [
    "self_joined = pd.merge(amazon_network,amazon_network,on='product_id',how='right')\n",
    "\n",
    "self_joined = self_joined.loc[~(self_joined.user_id_x==self_joined.user_id_y)]\n",
    "\n",
    "self_joined['sign'] = self_joined.weight_x*self_joined.weight_y"
   ]
  },
  {
   "cell_type": "code",
   "execution_count": null,
   "metadata": {
    "scrolled": true
   },
   "outputs": [],
   "source": [
    "user_network = self_joined.loc[self_joined.sign!=0,['user_id_x','user_id_y','sign']]\n",
    "\n",
    "user_network = user_network.groupby(['user_id_x','user_id_y'],as_index=False)['sign'].mean().round()\n",
    "\n",
    "user_network = user_network.loc[user_network.sign!=0]"
   ]
  },
  {
   "cell_type": "code",
   "execution_count": null,
   "metadata": {},
   "outputs": [],
   "source": [
    "from sklearn.preprocessing import LabelEncoder\n",
    "\n",
    "label_encoder = LabelEncoder()\n",
    "\n",
    "label_encoder.fit(np.hstack((user_network.user_id_x,\n",
    "                                                   user_network.user_id_y,\n",
    "                                                   amazon_gt.user_id)))"
   ]
  },
  {
   "cell_type": "code",
   "execution_count": null,
   "metadata": {},
   "outputs": [],
   "source": [
    "user_network['id1'] = label_encoder.transform(user_network.user_id_x)\n",
    "\n",
    "user_network['id2'] = label_encoder.transform(user_network.user_id_y)"
   ]
  },
  {
   "cell_type": "code",
   "execution_count": null,
   "metadata": {},
   "outputs": [],
   "source": [
    "for_nx_network = user_network.copy()[['id1','id2','sign']]\n",
    "\n",
    "for_nx_network.columns = ['source','target','weight']\n",
    "\n",
    "G = nx.from_pandas_edgelist(for_nx_network,edge_attr=True)"
   ]
  },
  {
   "cell_type": "code",
   "execution_count": null,
   "metadata": {
    "scrolled": true
   },
   "outputs": [],
   "source": [
    "amazon_user_network = nx.to_pandas_edgelist(G)"
   ]
  },
  {
   "cell_type": "code",
   "execution_count": null,
   "metadata": {},
   "outputs": [],
   "source": [
    "amazon_gt['node_id'] = label_encoder.transform(amazon_gt.user_id)"
   ]
  },
  {
   "cell_type": "code",
   "execution_count": null,
   "metadata": {},
   "outputs": [],
   "source": [
    "amazon_user_network[['source','target','weight']].to_csv('input/amazon/user_network.csv',index=None)\n",
    "\n",
    "amazon_gt[['node_id','label']].to_csv('input/amazon/user_gt.csv',index=None)\n",
    "\n",
    "np.save(arr=label_encoder.classes_,file='input/amazon/user_label_encoder.npy')"
   ]
  },
  {
   "cell_type": "code",
   "execution_count": null,
   "metadata": {},
   "outputs": [],
   "source": []
  },
  {
   "cell_type": "code",
   "execution_count": null,
   "metadata": {},
   "outputs": [],
   "source": []
  }
 ],
 "metadata": {
  "kernelspec": {
   "display_name": "Python 3",
   "language": "python",
   "name": "python3"
  },
  "language_info": {
   "codemirror_mode": {
    "name": "ipython",
    "version": 3
   },
   "file_extension": ".py",
   "mimetype": "text/x-python",
   "name": "python",
   "nbconvert_exporter": "python",
   "pygments_lexer": "ipython3",
   "version": "3.5.2"
  },
  "toc": {
   "base_numbering": 1,
   "nav_menu": {},
   "number_sections": false,
   "sideBar": true,
   "skip_h1_title": false,
   "title_cell": "Table of Contents",
   "title_sidebar": "Contents",
   "toc_cell": false,
   "toc_position": {},
   "toc_section_display": true,
   "toc_window_display": true
  }
 },
 "nbformat": 4,
 "nbformat_minor": 2
}
