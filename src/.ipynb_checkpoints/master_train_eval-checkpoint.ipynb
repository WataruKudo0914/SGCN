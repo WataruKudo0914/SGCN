{
 "cells": [
  {
   "cell_type": "markdown",
   "metadata": {
    "colab_type": "text",
    "id": "C343BEEwuktz"
   },
   "source": [
    "# Signed Graph Convolutional Network(SGCN)を用いたFraud User Detection"
   ]
  },
  {
   "cell_type": "code",
   "execution_count": 1,
   "metadata": {
    "scrolled": true
   },
   "outputs": [
    {
     "name": "stdout",
     "output_type": "stream",
     "text": [
      "  balance_theory\u001b[m\r\n",
      "  balance_theory2\u001b[m\r\n",
      "  master\u001b[m\r\n",
      "  new_balance_theory2\u001b[m\r\n",
      "  subgraph_training_theory2\u001b[m\r\n",
      "* \u001b[32mvariants\u001b[m\r\n"
     ]
    }
   ],
   "source": [
    "!git branch"
   ]
  },
  {
   "cell_type": "code",
   "execution_count": 2,
   "metadata": {
    "colab": {},
    "colab_type": "code",
    "id": "-OrHa6xIukt6",
    "scrolled": true
   },
   "outputs": [
    {
     "name": "stderr",
     "output_type": "stream",
     "text": [
      "/home/ubuntu/anaconda3/envs/pytorch_p36/lib/python3.6/site-packages/matplotlib/__init__.py:1067: UserWarning: Duplicate key in file \"/home/ubuntu/.config/matplotlib/matplotlibrc\", line #2\n",
      "  (fname, cnt))\n",
      "/home/ubuntu/anaconda3/envs/pytorch_p36/lib/python3.6/site-packages/matplotlib/__init__.py:1067: UserWarning: Duplicate key in file \"/home/ubuntu/.config/matplotlib/matplotlibrc\", line #3\n",
      "  (fname, cnt))\n"
     ]
    }
   ],
   "source": [
    "from sgcn_master import SignedGCNTrainer, SignedGCNPredictor\n",
    "from parser import parameter_parser\n",
    "from utils import tab_printer, read_graph, score_printer, save_logs\n",
    "import easydict\n",
    "import argparse\n",
    "import pandas as pd\n",
    "import numpy as np\n",
    "import torch\n",
    "import json\n",
    "import networkx as nx\n",
    "from sklearn.metrics import roc_auc_score, roc_curve, auc\n",
    "from sklearn.metrics import accuracy_score,confusion_matrix\n",
    "from sklearn.model_selection import train_test_split\n",
    "from IPython.display import display\n",
    "import matplotlib.pyplot as plt\n",
    "%matplotlib inline"
   ]
  },
  {
   "cell_type": "code",
   "execution_count": null,
   "metadata": {
    "colab": {
     "base_uri": "https://localhost:8080/",
     "height": 34
    },
    "colab_type": "code",
    "executionInfo": {
     "elapsed": 4847,
     "status": "ok",
     "timestamp": 1549775256399,
     "user": {
      "displayName": "Kudo Wataru",
      "photoUrl": "",
      "userId": "01009934963101209451"
     },
     "user_tz": -540
    },
    "id": "WpT-vtcxukt-",
    "outputId": "21e951ee-fbc1-4546-c656-f121c007b604"
   },
   "outputs": [],
   "source": [
    "data_name = input('データセット：')"
   ]
  },
  {
   "cell_type": "code",
   "execution_count": null,
   "metadata": {
    "colab": {},
    "colab_type": "code",
    "id": "RfwadF2Wukt_"
   },
   "outputs": [],
   "source": [
    "args = easydict.EasyDict({\n",
    "        \"edge_path\": '../input/{0}/{0}_network.csv'.format(data_name),\n",
    "        \"features_path\":  '../input/{0}/{0}_node_feature.csv'.format(data_name),\n",
    "        \"nodes_path\": '../input/{0}/{0}_gt.csv'.format(data_name),\n",
    "        \"embedding_path\": '../tmp/embedding/{0}_sgcn_feature05.pkl'.format(data_name), \n",
    "        \"regression_weights_path\": '../tmp/weights/{0}_sgcn_feature05.pkl'.format(data_name),\n",
    "        \"inductive_model_path\": None, # '/home2/kudo/SGCN/output/inductive/{0}_model'.format(data_name), # or None\n",
    "        \"log_path\": '../logs/{0}_logs_feature05.json'.format(data_name),\n",
    "        \"epochs\":150,\n",
    "        \"test_size\":0.33,\n",
    "        \"reduction_iterations\": 128,\n",
    "        \"reduction_dimensions\": 30,\n",
    "        \"seed\": 42,\n",
    "        \"lamb\": 0.0,\n",
    "        \"learning_rate\": 0.001,  \n",
    "        \"weight_decay\": 10e-4, \n",
    "        # \"layers\": [64, 32,16,8],\n",
    "        \"layers\": [32,16,],\n",
    "        \"spectral_features\":False,\n",
    "        \"general_features\": True,  \n",
    "        \"sample_num\":None,\n",
    "        \"class_weights\":False,\n",
    "        \"node_under_sampling\":False,\n",
    "        \"hidden_residual\":False,\n",
    "        \"eval_freq\":1,\n",
    "        \"subgraph_training\":False\n",
    "})"
   ]
  },
  {
   "cell_type": "code",
   "execution_count": null,
   "metadata": {
    "colab": {
     "base_uri": "https://localhost:8080/",
     "height": 793
    },
    "colab_type": "code",
    "executionInfo": {
     "elapsed": 509,
     "status": "ok",
     "timestamp": 1549775258835,
     "user": {
      "displayName": "Kudo Wataru",
      "photoUrl": "",
      "userId": "01009934963101209451"
     },
     "user_tz": -540
    },
    "id": "zGh98q2jukuB",
    "outputId": "2d453375-23bf-4a66-90c2-9d80ac623acd",
    "scrolled": false
   },
   "outputs": [],
   "source": [
    "display(pd.io.json.json_normalize(args).T)"
   ]
  },
  {
   "cell_type": "markdown",
   "metadata": {
    "colab_type": "text",
    "id": "mHuD_J_vukuD"
   },
   "source": [
    "## 10-fold cross-validation\n",
    "- train : validation : test = 6:3:1"
   ]
  },
  {
   "cell_type": "code",
   "execution_count": null,
   "metadata": {
    "colab": {},
    "colab_type": "code",
    "id": "fbr7dkg7ukuE"
   },
   "outputs": [],
   "source": [
    "#tab_printer(args)\n",
    "edges, nodes_dict = read_graph(args) # nodes_dict['indice']:node_id , nodes_dict['label'] : label"
   ]
  },
  {
   "cell_type": "code",
   "execution_count": null,
   "metadata": {
    "colab": {},
    "colab_type": "code",
    "id": "kZl0vyYzzdcg"
   },
   "outputs": [],
   "source": [
    "# undirected\n",
    "edges['positive_edges'] = edges['positive_edges'] + [[d,s] for s,d in edges['positive_edges']]\n",
    "edges['negative_edges'] = edges['negative_edges'] + [[d,s] for s,d in edges['negative_edges']]"
   ]
  },
  {
   "cell_type": "code",
   "execution_count": null,
   "metadata": {
    "colab": {},
    "colab_type": "code",
    "id": "6FgWMJJgukuG"
   },
   "outputs": [],
   "source": [
    "from sklearn.model_selection import StratifiedKFold"
   ]
  },
  {
   "cell_type": "code",
   "execution_count": null,
   "metadata": {
    "colab": {},
    "colab_type": "code",
    "id": "fd2bwxkYukuI"
   },
   "outputs": [],
   "source": [
    "kf = StratifiedKFold(n_splits=10,shuffle=True,random_state=0)\n",
    "all_indice = nodes_dict['indice']\n",
    "all_labels = nodes_dict['label']\n",
    "auc_scores = []"
   ]
  },
  {
   "cell_type": "code",
   "execution_count": null,
   "metadata": {
    "colab": {},
    "colab_type": "code",
    "id": "QfI5IlQvukuL",
    "scrolled": true
   },
   "outputs": [],
   "source": [
    "for i, (train_index, test_index) in enumerate(kf.split(X=nodes_dict['indice'],y=nodes_dict['label'])):\n",
    "    print(\"==== Training Phase ====\")\n",
    "    print('{}-th fold'.format(i))\n",
    "    # training\n",
    "    train_node_indice = all_indice[train_index]\n",
    "    train_node_labels = all_labels[train_index]\n",
    "    print('labels:{}'.format(np.unique(train_node_labels,return_counts=True)))\n",
    "    tmp_nodes_dict = {}\n",
    "    tmp_nodes_dict['all_ncount'] = nodes_dict['all_ncount']\n",
    "    tmp_nodes_dict['indice'] = train_node_indice\n",
    "    tmp_nodes_dict['label'] = train_node_labels\n",
    "    trainer = SignedGCNTrainer(args, edges, tmp_nodes_dict)\n",
    "    trainer.setup_dataset()\n",
    "    trainer.create_and_train_model()\n",
    "    \n",
    "    if args.test_size > 0:\n",
    "        # trainer.save_model() ## trainer.create_and_train_model()のなかで，すでにbest_modelが保存されている．\n",
    "        # score_printer(trainer.logs)\n",
    "        display(pd.DataFrame(trainer.logs['performance']))\n",
    "        save_logs(args, trainer.logs)\n",
    "\n",
    "    # test\n",
    "    print(\"==== Test Phase ====\")\n",
    "    test_node_indice = all_indice[test_index]\n",
    "    test_node_labels = all_labels[test_index]\n",
    "    # feature = pd.read_csv(args.embedding_path,index_col='id').values\n",
    "    feature = pd.read_pickle(args.embedding_path).drop('id',1).values\n",
    "    test_feature = feature[test_node_indice]\n",
    "    # weight = pd.read_csv(args.regression_weights_path)\n",
    "    weight = pd.read_pickle(args.regression_weights_path)\n",
    "    predictions = np.dot(test_feature,weight.values.T)\n",
    "    probabilities = torch.nn.functional.softmax(torch.from_numpy(predictions)).numpy()\n",
    "    predict_labels = probabilities.argmax(1)\n",
    "    auc_score = roc_auc_score(y_true=[1 if i==-1 else 0 for i in test_node_labels],y_score=probabilities[:,1])\n",
    "    auc_scores.append(auc_score)\n",
    "    cmx = confusion_matrix(y_true=[1 if i==-1 else 0 for i in test_node_labels],y_pred=predict_labels)\n",
    "    print(\"{0}-th fold's auc_score:{1}\".format(i,auc_score))\n",
    "    print(cmx)\n",
    "    print()"
   ]
  },
  {
   "cell_type": "code",
   "execution_count": null,
   "metadata": {
    "colab": {
     "base_uri": "https://localhost:8080/",
     "height": 34
    },
    "colab_type": "code",
    "executionInfo": {
     "elapsed": 857,
     "status": "ok",
     "timestamp": 1549775610524,
     "user": {
      "displayName": "Kudo Wataru",
      "photoUrl": "",
      "userId": "01009934963101209451"
     },
     "user_tz": -540
    },
    "id": "NpRIiE1tukuM",
    "outputId": "ea9bca18-c32d-49cc-85ef-75ccd67ebc6c",
    "scrolled": false
   },
   "outputs": [],
   "source": [
    "np.mean(auc_scores)"
   ]
  },
  {
   "cell_type": "code",
   "execution_count": null,
   "metadata": {
    "colab": {
     "base_uri": "https://localhost:8080/",
     "height": 268
    },
    "colab_type": "code",
    "executionInfo": {
     "elapsed": 1099,
     "status": "ok",
     "timestamp": 1549775619130,
     "user": {
      "displayName": "Kudo Wataru",
      "photoUrl": "",
      "userId": "01009934963101209451"
     },
     "user_tz": -540
    },
    "id": "HnhINAe-ukuO",
    "outputId": "cf8d79a5-44a9-4b17-f6e8-c1ac96468d83",
    "scrolled": false
   },
   "outputs": [],
   "source": [
    "_ = plt.hist(probabilities[:,1][test_node_labels==1],alpha=0.5,bins=10)\n",
    "_ = plt.hist(probabilities[:,1][test_node_labels==-1],alpha=0.5,bins=10)\n",
    "# plt.xlim(0,0.03)"
   ]
  },
  {
   "cell_type": "markdown",
   "metadata": {
    "colab_type": "text",
    "id": "32g7yu1aukuP"
   },
   "source": [
    "## new_new_balance_theoryの結果\n",
    "結果 (32,) (non-class-weights,10e-4, test_size=0.33,lamb=0,lr=0.001)　⬅️これに決定\n",
    "- amazon :  0.8655989752374083\n",
    "- alpha : 0.974480519480\n",
    "- otc : 0.99349\n",
    "\n",
    "結果 (32,16) (non-class-weights,10e-4, test_size=0.33,lamb=0,lr=0.001)　\n",
    "- amazon :  0.876279480706\n",
    "- alpha : 0.977922077922\n",
    "- otc : 0.99072039072\n",
    "- epinions : 0.9768200116\n",
    "\n",
    "\n",
    "結果 (32,16, 8) (non-class-weights,10e-4, test_size=0.33, lamb=0)\n",
    "- amazon : 0.8786657350643106\n",
    "- alpha : \n",
    "- otc : \n",
    "\n",
    "結果 (32,16, 8, 8) (non-class-weights,10e-4, test_size=0.33, lamb=0)\n",
    "- amazon : 0.8778590500661\n",
    "- alpha : \n",
    "- otc : \n",
    "\n"
   ]
  },
  {
   "cell_type": "markdown",
   "metadata": {
    "colab_type": "text",
    "id": "TqaT6DeZukuQ"
   },
   "source": [
    "## single-validation"
   ]
  },
  {
   "cell_type": "code",
   "execution_count": 3,
   "metadata": {
    "colab": {},
    "colab_type": "code",
    "id": "vHQMPYOyukuR"
   },
   "outputs": [
    {
     "name": "stdout",
     "output_type": "stream",
     "text": [
      "データセット：alpha\n"
     ]
    }
   ],
   "source": [
    "data_name = input('データセット：')"
   ]
  },
  {
   "cell_type": "code",
   "execution_count": 4,
   "metadata": {
    "colab": {},
    "colab_type": "code",
    "id": "3CRRU7w-ukuT"
   },
   "outputs": [],
   "source": [
    "args = easydict.EasyDict({\n",
    "        \"edge_path\": f'../input/{data_name}/{data_name}_network.csv',\n",
    "        \"features_path\":  f'../input/{data_name}/{data_name}_node_feature.csv',\n",
    "        \"nodes_path\": f'../input/{data_name}/{data_name}_gt.csv',\n",
    "        \"embedding_path\": f'../tmp/embedding/{data_name}_sgcn_feature05.pkl', # tmp folder for cross-validation\n",
    "        \"regression_weights_path\": f'../tmp/weights/{data_name}_sgcn_feature05.pkl',\n",
    "        \"inductive_model_path\": f'../output/inductive/{data_name}_model_master', # or None\n",
    "        \"log_path\": f'../logs/{data_name}_logs_feature05.json',\n",
    "        \"epochs\":300,\n",
    "        \"test_size\":0.33,\n",
    "        \"reduction_iterations\": 128,\n",
    "        \"reduction_dimensions\": 30,\n",
    "        \"seed\": 42,\n",
    "        \"lamb\": 0.0,\n",
    "        \"learning_rate\": 0.001,  \n",
    "        \"weight_decay\": 10e-4, \n",
    "        # \"layers\": [64, 32,16,8],\n",
    "        \"layers\": [32, 16,],\n",
    "        \"spectral_features\":False,\n",
    "        \"general_features\": True,  \n",
    "        \"sample_num\":None,\n",
    "        \"class_weights\":False,\n",
    "        \"node_under_sampling\":False,\n",
    "        \"hidden_residual\":False,\n",
    "        \"eval_freq\":1,\n",
    "        \"subgraph_training\":False,\n",
    "})"
   ]
  },
  {
   "cell_type": "code",
   "execution_count": 5,
   "metadata": {
    "colab": {},
    "colab_type": "code",
    "id": "lNeitB5vukuU"
   },
   "outputs": [],
   "source": [
    "#tab_printer(args)\n",
    "edges, nodes_dict = read_graph(args) # nodes_dict['indice']:node_id , nodes_dict['label'] : label\n",
    "if data_name == 'amazon':\n",
    "    edges['positive_edges'] = edges['positive_edges'] + [[d,s] for s,d in edges['positive_edges']]\n",
    "    edges['negative_edges'] = edges['negative_edges'] + [[d,s] for s,d in edges['negative_edges']]"
   ]
  },
  {
   "cell_type": "markdown",
   "metadata": {},
   "source": [
    "### Easy"
   ]
  },
  {
   "cell_type": "code",
   "execution_count": null,
   "metadata": {
    "colab": {},
    "colab_type": "code",
    "id": "b8_Fiad7ukuV",
    "scrolled": false
   },
   "outputs": [],
   "source": [
    "trainer = SignedGCNTrainer(args, edges, nodes_dict)\n",
    "trainer.setup_dataset()\n",
    "trainer.create_and_train_model()"
   ]
  },
  {
   "cell_type": "code",
   "execution_count": null,
   "metadata": {
    "colab": {},
    "colab_type": "code",
    "id": "OPg0uMV_ukuX",
    "scrolled": true
   },
   "outputs": [],
   "source": [
    "if args.test_size > 0:\n",
    "    trainer.save_model()\n",
    "    # score_printer(trainer.logs)\n",
    "    display(pd.DataFrame(trainer.logs['performance']))\n",
    "    save_logs(args, trainer.logs)"
   ]
  },
  {
   "cell_type": "markdown",
   "metadata": {},
   "source": [
    "### Difficult"
   ]
  },
  {
   "cell_type": "code",
   "execution_count": 13,
   "metadata": {},
   "outputs": [
    {
     "name": "stderr",
     "output_type": "stream",
     "text": [
      "/home/ubuntu/anaconda3/envs/pytorch_p36/lib/python3.6/site-packages/sklearn/model_selection/_split.py:2179: FutureWarning: From version 0.21, test_size will always complement train_size unless both are specified.\n",
      "  FutureWarning)\n",
      "SGCN (Loss=0.6269):   1%|          | 3/300 [00:00<00:11, 26.83it/s]"
     ]
    },
    {
     "name": "stdout",
     "output_type": "stream",
     "text": [
      "labels:(array([-1,  1]), array([5, 7]))\n",
      "\n",
      "Training started.\n",
      "\n"
     ]
    },
    {
     "name": "stderr",
     "output_type": "stream",
     "text": [
      "SGCN (Loss=0.011): 100%|██████████| 300/300 [00:10<00:00, 27.49it/s] \n"
     ]
    },
    {
     "data": {
      "text/html": [
       "<div>\n",
       "<style scoped>\n",
       "    .dataframe tbody tr th:only-of-type {\n",
       "        vertical-align: middle;\n",
       "    }\n",
       "\n",
       "    .dataframe tbody tr th {\n",
       "        vertical-align: top;\n",
       "    }\n",
       "\n",
       "    .dataframe thead th {\n",
       "        text-align: right;\n",
       "    }\n",
       "</style>\n",
       "<table border=\"1\" class=\"dataframe\">\n",
       "  <thead>\n",
       "    <tr style=\"text-align: right;\">\n",
       "      <th></th>\n",
       "      <th>0</th>\n",
       "      <th>1</th>\n",
       "      <th>2</th>\n",
       "    </tr>\n",
       "  </thead>\n",
       "  <tbody>\n",
       "    <tr>\n",
       "      <th>0</th>\n",
       "      <td>Epoch</td>\n",
       "      <td>AUC</td>\n",
       "      <td>F1</td>\n",
       "    </tr>\n",
       "    <tr>\n",
       "      <th>1</th>\n",
       "      <td>1</td>\n",
       "      <td>1</td>\n",
       "      <td>0</td>\n",
       "    </tr>\n",
       "    <tr>\n",
       "      <th>2</th>\n",
       "      <td>2</td>\n",
       "      <td>1</td>\n",
       "      <td>0</td>\n",
       "    </tr>\n",
       "    <tr>\n",
       "      <th>3</th>\n",
       "      <td>3</td>\n",
       "      <td>1</td>\n",
       "      <td>0</td>\n",
       "    </tr>\n",
       "    <tr>\n",
       "      <th>4</th>\n",
       "      <td>4</td>\n",
       "      <td>1</td>\n",
       "      <td>0</td>\n",
       "    </tr>\n",
       "    <tr>\n",
       "      <th>5</th>\n",
       "      <td>5</td>\n",
       "      <td>1</td>\n",
       "      <td>0</td>\n",
       "    </tr>\n",
       "    <tr>\n",
       "      <th>6</th>\n",
       "      <td>6</td>\n",
       "      <td>1</td>\n",
       "      <td>0</td>\n",
       "    </tr>\n",
       "    <tr>\n",
       "      <th>7</th>\n",
       "      <td>7</td>\n",
       "      <td>1</td>\n",
       "      <td>0</td>\n",
       "    </tr>\n",
       "    <tr>\n",
       "      <th>8</th>\n",
       "      <td>8</td>\n",
       "      <td>1</td>\n",
       "      <td>0</td>\n",
       "    </tr>\n",
       "    <tr>\n",
       "      <th>9</th>\n",
       "      <td>9</td>\n",
       "      <td>1</td>\n",
       "      <td>0</td>\n",
       "    </tr>\n",
       "    <tr>\n",
       "      <th>10</th>\n",
       "      <td>10</td>\n",
       "      <td>1</td>\n",
       "      <td>0</td>\n",
       "    </tr>\n",
       "    <tr>\n",
       "      <th>11</th>\n",
       "      <td>11</td>\n",
       "      <td>1</td>\n",
       "      <td>0</td>\n",
       "    </tr>\n",
       "    <tr>\n",
       "      <th>12</th>\n",
       "      <td>12</td>\n",
       "      <td>1</td>\n",
       "      <td>0</td>\n",
       "    </tr>\n",
       "    <tr>\n",
       "      <th>13</th>\n",
       "      <td>13</td>\n",
       "      <td>1</td>\n",
       "      <td>0</td>\n",
       "    </tr>\n",
       "    <tr>\n",
       "      <th>14</th>\n",
       "      <td>14</td>\n",
       "      <td>1</td>\n",
       "      <td>0</td>\n",
       "    </tr>\n",
       "    <tr>\n",
       "      <th>15</th>\n",
       "      <td>15</td>\n",
       "      <td>1</td>\n",
       "      <td>0</td>\n",
       "    </tr>\n",
       "    <tr>\n",
       "      <th>16</th>\n",
       "      <td>16</td>\n",
       "      <td>1</td>\n",
       "      <td>0</td>\n",
       "    </tr>\n",
       "    <tr>\n",
       "      <th>17</th>\n",
       "      <td>17</td>\n",
       "      <td>1</td>\n",
       "      <td>0</td>\n",
       "    </tr>\n",
       "    <tr>\n",
       "      <th>18</th>\n",
       "      <td>18</td>\n",
       "      <td>1</td>\n",
       "      <td>0</td>\n",
       "    </tr>\n",
       "    <tr>\n",
       "      <th>19</th>\n",
       "      <td>19</td>\n",
       "      <td>1</td>\n",
       "      <td>0</td>\n",
       "    </tr>\n",
       "    <tr>\n",
       "      <th>20</th>\n",
       "      <td>20</td>\n",
       "      <td>1</td>\n",
       "      <td>0</td>\n",
       "    </tr>\n",
       "    <tr>\n",
       "      <th>21</th>\n",
       "      <td>21</td>\n",
       "      <td>1</td>\n",
       "      <td>0</td>\n",
       "    </tr>\n",
       "    <tr>\n",
       "      <th>22</th>\n",
       "      <td>22</td>\n",
       "      <td>1</td>\n",
       "      <td>0</td>\n",
       "    </tr>\n",
       "    <tr>\n",
       "      <th>23</th>\n",
       "      <td>23</td>\n",
       "      <td>1</td>\n",
       "      <td>0</td>\n",
       "    </tr>\n",
       "    <tr>\n",
       "      <th>24</th>\n",
       "      <td>24</td>\n",
       "      <td>1</td>\n",
       "      <td>0</td>\n",
       "    </tr>\n",
       "    <tr>\n",
       "      <th>25</th>\n",
       "      <td>25</td>\n",
       "      <td>1</td>\n",
       "      <td>0</td>\n",
       "    </tr>\n",
       "    <tr>\n",
       "      <th>26</th>\n",
       "      <td>26</td>\n",
       "      <td>1</td>\n",
       "      <td>0</td>\n",
       "    </tr>\n",
       "    <tr>\n",
       "      <th>27</th>\n",
       "      <td>27</td>\n",
       "      <td>1</td>\n",
       "      <td>0</td>\n",
       "    </tr>\n",
       "    <tr>\n",
       "      <th>28</th>\n",
       "      <td>28</td>\n",
       "      <td>1</td>\n",
       "      <td>0</td>\n",
       "    </tr>\n",
       "    <tr>\n",
       "      <th>29</th>\n",
       "      <td>29</td>\n",
       "      <td>1</td>\n",
       "      <td>0</td>\n",
       "    </tr>\n",
       "    <tr>\n",
       "      <th>...</th>\n",
       "      <td>...</td>\n",
       "      <td>...</td>\n",
       "      <td>...</td>\n",
       "    </tr>\n",
       "    <tr>\n",
       "      <th>271</th>\n",
       "      <td>271</td>\n",
       "      <td>1</td>\n",
       "      <td>0</td>\n",
       "    </tr>\n",
       "    <tr>\n",
       "      <th>272</th>\n",
       "      <td>272</td>\n",
       "      <td>1</td>\n",
       "      <td>0</td>\n",
       "    </tr>\n",
       "    <tr>\n",
       "      <th>273</th>\n",
       "      <td>273</td>\n",
       "      <td>1</td>\n",
       "      <td>0</td>\n",
       "    </tr>\n",
       "    <tr>\n",
       "      <th>274</th>\n",
       "      <td>274</td>\n",
       "      <td>1</td>\n",
       "      <td>0</td>\n",
       "    </tr>\n",
       "    <tr>\n",
       "      <th>275</th>\n",
       "      <td>275</td>\n",
       "      <td>1</td>\n",
       "      <td>0</td>\n",
       "    </tr>\n",
       "    <tr>\n",
       "      <th>276</th>\n",
       "      <td>276</td>\n",
       "      <td>1</td>\n",
       "      <td>0</td>\n",
       "    </tr>\n",
       "    <tr>\n",
       "      <th>277</th>\n",
       "      <td>277</td>\n",
       "      <td>1</td>\n",
       "      <td>0</td>\n",
       "    </tr>\n",
       "    <tr>\n",
       "      <th>278</th>\n",
       "      <td>278</td>\n",
       "      <td>1</td>\n",
       "      <td>0</td>\n",
       "    </tr>\n",
       "    <tr>\n",
       "      <th>279</th>\n",
       "      <td>279</td>\n",
       "      <td>1</td>\n",
       "      <td>0</td>\n",
       "    </tr>\n",
       "    <tr>\n",
       "      <th>280</th>\n",
       "      <td>280</td>\n",
       "      <td>1</td>\n",
       "      <td>0</td>\n",
       "    </tr>\n",
       "    <tr>\n",
       "      <th>281</th>\n",
       "      <td>281</td>\n",
       "      <td>1</td>\n",
       "      <td>0</td>\n",
       "    </tr>\n",
       "    <tr>\n",
       "      <th>282</th>\n",
       "      <td>282</td>\n",
       "      <td>1</td>\n",
       "      <td>0</td>\n",
       "    </tr>\n",
       "    <tr>\n",
       "      <th>283</th>\n",
       "      <td>283</td>\n",
       "      <td>1</td>\n",
       "      <td>0</td>\n",
       "    </tr>\n",
       "    <tr>\n",
       "      <th>284</th>\n",
       "      <td>284</td>\n",
       "      <td>1</td>\n",
       "      <td>0</td>\n",
       "    </tr>\n",
       "    <tr>\n",
       "      <th>285</th>\n",
       "      <td>285</td>\n",
       "      <td>1</td>\n",
       "      <td>0</td>\n",
       "    </tr>\n",
       "    <tr>\n",
       "      <th>286</th>\n",
       "      <td>286</td>\n",
       "      <td>1</td>\n",
       "      <td>0</td>\n",
       "    </tr>\n",
       "    <tr>\n",
       "      <th>287</th>\n",
       "      <td>287</td>\n",
       "      <td>1</td>\n",
       "      <td>0</td>\n",
       "    </tr>\n",
       "    <tr>\n",
       "      <th>288</th>\n",
       "      <td>288</td>\n",
       "      <td>1</td>\n",
       "      <td>0</td>\n",
       "    </tr>\n",
       "    <tr>\n",
       "      <th>289</th>\n",
       "      <td>289</td>\n",
       "      <td>1</td>\n",
       "      <td>0</td>\n",
       "    </tr>\n",
       "    <tr>\n",
       "      <th>290</th>\n",
       "      <td>290</td>\n",
       "      <td>1</td>\n",
       "      <td>0</td>\n",
       "    </tr>\n",
       "    <tr>\n",
       "      <th>291</th>\n",
       "      <td>291</td>\n",
       "      <td>1</td>\n",
       "      <td>0</td>\n",
       "    </tr>\n",
       "    <tr>\n",
       "      <th>292</th>\n",
       "      <td>292</td>\n",
       "      <td>1</td>\n",
       "      <td>0</td>\n",
       "    </tr>\n",
       "    <tr>\n",
       "      <th>293</th>\n",
       "      <td>293</td>\n",
       "      <td>1</td>\n",
       "      <td>0</td>\n",
       "    </tr>\n",
       "    <tr>\n",
       "      <th>294</th>\n",
       "      <td>294</td>\n",
       "      <td>1</td>\n",
       "      <td>0</td>\n",
       "    </tr>\n",
       "    <tr>\n",
       "      <th>295</th>\n",
       "      <td>295</td>\n",
       "      <td>1</td>\n",
       "      <td>0</td>\n",
       "    </tr>\n",
       "    <tr>\n",
       "      <th>296</th>\n",
       "      <td>296</td>\n",
       "      <td>1</td>\n",
       "      <td>0</td>\n",
       "    </tr>\n",
       "    <tr>\n",
       "      <th>297</th>\n",
       "      <td>297</td>\n",
       "      <td>1</td>\n",
       "      <td>0</td>\n",
       "    </tr>\n",
       "    <tr>\n",
       "      <th>298</th>\n",
       "      <td>298</td>\n",
       "      <td>1</td>\n",
       "      <td>0</td>\n",
       "    </tr>\n",
       "    <tr>\n",
       "      <th>299</th>\n",
       "      <td>299</td>\n",
       "      <td>1</td>\n",
       "      <td>0</td>\n",
       "    </tr>\n",
       "    <tr>\n",
       "      <th>300</th>\n",
       "      <td>300</td>\n",
       "      <td>1</td>\n",
       "      <td>0</td>\n",
       "    </tr>\n",
       "  </tbody>\n",
       "</table>\n",
       "<p>301 rows × 3 columns</p>\n",
       "</div>"
      ],
      "text/plain": [
       "         0    1   2\n",
       "0    Epoch  AUC  F1\n",
       "1        1    1   0\n",
       "2        2    1   0\n",
       "3        3    1   0\n",
       "4        4    1   0\n",
       "5        5    1   0\n",
       "6        6    1   0\n",
       "7        7    1   0\n",
       "8        8    1   0\n",
       "9        9    1   0\n",
       "10      10    1   0\n",
       "11      11    1   0\n",
       "12      12    1   0\n",
       "13      13    1   0\n",
       "14      14    1   0\n",
       "15      15    1   0\n",
       "16      16    1   0\n",
       "17      17    1   0\n",
       "18      18    1   0\n",
       "19      19    1   0\n",
       "20      20    1   0\n",
       "21      21    1   0\n",
       "22      22    1   0\n",
       "23      23    1   0\n",
       "24      24    1   0\n",
       "25      25    1   0\n",
       "26      26    1   0\n",
       "27      27    1   0\n",
       "28      28    1   0\n",
       "29      29    1   0\n",
       "..     ...  ...  ..\n",
       "271    271    1   0\n",
       "272    272    1   0\n",
       "273    273    1   0\n",
       "274    274    1   0\n",
       "275    275    1   0\n",
       "276    276    1   0\n",
       "277    277    1   0\n",
       "278    278    1   0\n",
       "279    279    1   0\n",
       "280    280    1   0\n",
       "281    281    1   0\n",
       "282    282    1   0\n",
       "283    283    1   0\n",
       "284    284    1   0\n",
       "285    285    1   0\n",
       "286    286    1   0\n",
       "287    287    1   0\n",
       "288    288    1   0\n",
       "289    289    1   0\n",
       "290    290    1   0\n",
       "291    291    1   0\n",
       "292    292    1   0\n",
       "293    293    1   0\n",
       "294    294    1   0\n",
       "295    295    1   0\n",
       "296    296    1   0\n",
       "297    297    1   0\n",
       "298    298    1   0\n",
       "299    299    1   0\n",
       "300    300    1   0\n",
       "\n",
       "[301 rows x 3 columns]"
      ]
     },
     "metadata": {},
     "output_type": "display_data"
    }
   ],
   "source": [
    "all_indice = nodes_dict['indice']\n",
    "all_labels = nodes_dict['label']\n",
    "\n",
    "train_index, test_index = train_test_split(np.arange(len(nodes_dict['indice'])),\n",
    "                                                       stratify=nodes_dict['label'],train_size=0.05,random_state=0)\n",
    "\n",
    "train_node_indice = all_indice[train_index]\n",
    "train_node_labels = all_labels[train_index]\n",
    "print(f'labels:{np.unique(train_node_labels,return_counts=True)}')\n",
    "tmp_nodes_dict = {}\n",
    "tmp_nodes_dict['all_ncount'] = nodes_dict['all_ncount']\n",
    "tmp_nodes_dict['indice'] = train_node_indice\n",
    "tmp_nodes_dict['label'] = train_node_labels\n",
    "trainer = SignedGCNTrainer(args, edges, tmp_nodes_dict)\n",
    "trainer.setup_dataset()\n",
    "trainer.create_and_train_model()\n",
    "\n",
    "if args.test_size > 0:\n",
    "    # trainer.save_model() ## trainer.create_and_train_model()のなかで，すでにbest_modelが保存されている．\n",
    "    # score_printer(trainer.logs)\n",
    "    display(pd.DataFrame(trainer.logs['performance']))\n",
    "    save_logs(args, trainer.logs)\n"
   ]
  },
  {
   "cell_type": "markdown",
   "metadata": {
    "colab_type": "text",
    "id": "AQoI9YJIukua"
   },
   "source": [
    "## inductive prediction"
   ]
  },
  {
   "cell_type": "code",
   "execution_count": 14,
   "metadata": {
    "colab": {},
    "colab_type": "code",
    "id": "OIVKVhJKukub"
   },
   "outputs": [
    {
     "name": "stdout",
     "output_type": "stream",
     "text": [
      "データセット：otc\n"
     ]
    }
   ],
   "source": [
    "data_name = input('データセット：')"
   ]
  },
  {
   "cell_type": "code",
   "execution_count": 15,
   "metadata": {
    "colab": {},
    "colab_type": "code",
    "id": "aDUSpzOIukud"
   },
   "outputs": [],
   "source": [
    "new_args = easydict.EasyDict({\n",
    "        \"edge_path\": f'../input/{data_name}/{data_name}_network.csv',\n",
    "        \"features_path\":  f'../input/{data_name}/{data_name}_node_feature.csv',\n",
    "        \"nodes_path\": f'../input/{data_name}/{data_name}_gt.csv',\n",
    "        \"embedding_path\": f'../tmp/embedding/{data_name}_sgcn_feature05.pkl', # tmp folder for cross-validation\n",
    "        \"regression_weights_path\": f'../tmp/weights/{data_name}_sgcn_feature05.pkl',\n",
    "        \"inductive_model_path\": f'../output/inductive/{data_name}_model', # or None\n",
    "        \"log_path\": f'../logs/{data_name}_logs_feature05.json',\n",
    "        \"epochs\":300,\n",
    "        \"test_size\":0.33,\n",
    "        \"reduction_iterations\": 128,\n",
    "        \"reduction_dimensions\": 30,\n",
    "        \"seed\": 42,\n",
    "        \"lamb\": 0.0,\n",
    "        \"learning_rate\": 0.001,  \n",
    "        \"weight_decay\": 10e-4, \n",
    "        # \"layers\": [64, 32,16,8],\n",
    "        \"layers\": [32, 16,],\n",
    "        \"spectral_features\":False,\n",
    "        \"general_features\": True,  \n",
    "        \"sample_num\":None,\n",
    "        \"class_weights\":False,\n",
    "        \"node_under_sampling\":False,\n",
    "        \"hidden_residual\":False,\n",
    "        \"eval_freq\":1,\n",
    "        \"subgraph_training\":False,\n",
    "})"
   ]
  },
  {
   "cell_type": "code",
   "execution_count": 16,
   "metadata": {
    "colab": {},
    "colab_type": "code",
    "id": "kKkWYWXHukue",
    "scrolled": true
   },
   "outputs": [],
   "source": [
    "new_edges, new_nodes_dict = read_graph(new_args)\n",
    "if data_name=='amazon':\n",
    "    # undirected\n",
    "    new_edges['positive_edges'] = new_edges['positive_edges'] + [[d,s] for s,d in new_edges['positive_edges']]\n",
    "    new_edges['negative_edges'] = new_edges['negative_edges'] + [[d,s] for s,d in new_edges['negative_edges']]\n",
    "X = np.array(pd.read_csv(f'../input/{data_name}/{data_name}_node_feature.csv')) # general node features"
   ]
  },
  {
   "cell_type": "code",
   "execution_count": 17,
   "metadata": {
    "colab": {},
    "colab_type": "code",
    "id": "f5CzRqlPukug"
   },
   "outputs": [
    {
     "name": "stdout",
     "output_type": "stream",
     "text": [
      "学習に使ったデータセット：alpha\n"
     ]
    }
   ],
   "source": [
    "training_dataset = input('学習に使ったデータセット：')"
   ]
  },
  {
   "cell_type": "code",
   "execution_count": 18,
   "metadata": {
    "colab": {},
    "colab_type": "code",
    "id": "-dpT0oFpukui",
    "scrolled": true
   },
   "outputs": [],
   "source": [
    "predictor = SignedGCNPredictor(new_args, f'../output/inductive/{training_dataset}_model_master', X, new_edges,new_nodes_dict)\n",
    "\n",
    "predictions = predictor.predict()\n",
    "predict_labels = predictions.argmax(1)"
   ]
  },
  {
   "cell_type": "code",
   "execution_count": 19,
   "metadata": {
    "colab": {},
    "colab_type": "code",
    "id": "NFtCS06jukul",
    "scrolled": true
   },
   "outputs": [
    {
     "data": {
      "text/plain": [
       "0.9592320261437909"
      ]
     },
     "execution_count": 19,
     "metadata": {},
     "output_type": "execute_result"
    }
   ],
   "source": [
    "y_true = new_nodes_dict['label']\n",
    "\n",
    "roc_auc_score(y_true=[1 if i==-1 else 0 for i in new_nodes_dict['label']],y_score=predictions[:,1][new_nodes_dict['indice']])"
   ]
  },
  {
   "cell_type": "code",
   "execution_count": 20,
   "metadata": {
    "colab": {},
    "colab_type": "code",
    "id": "SVxA65LXukum",
    "scrolled": true
   },
   "outputs": [
    {
     "data": {
      "text/plain": [
       "array([[112,  24],\n",
       "       [ 17, 163]])"
      ]
     },
     "execution_count": 20,
     "metadata": {},
     "output_type": "execute_result"
    }
   ],
   "source": [
    "from sklearn.metrics import accuracy_score,confusion_matrix\n",
    "confusion_matrix([1 if i==-1 else 0 for i in new_nodes_dict['label']],predict_labels[new_nodes_dict['indice']])"
   ]
  },
  {
   "cell_type": "code",
   "execution_count": 21,
   "metadata": {
    "colab": {},
    "colab_type": "code",
    "id": "evDto3IRukun"
   },
   "outputs": [
    {
     "data": {
      "image/png": "[encoded data removed]",
      "text/plain": [
       "<Figure size 432x288 with 1 Axes>"
      ]
     },
     "metadata": {},
     "output_type": "display_data"
    }
   ],
   "source": [
    "_ = plt.hist(predictions[:,1][new_nodes_dict['indice']][y_true==1],alpha=0.5,bins=10)\n",
    "_ = plt.hist(predictions[:,1][new_nodes_dict['indice']][y_true==-1],alpha=0.5,bins=10)"
   ]
  },
  {
   "cell_type": "markdown",
   "metadata": {
    "colab_type": "text",
    "id": "Gird3-4nukup"
   },
   "source": [
    "## epinions dataset"
   ]
  },
  {
   "cell_type": "code",
   "execution_count": null,
   "metadata": {
    "colab": {},
    "colab_type": "code",
    "id": "NlTmAsHLukuq"
   },
   "outputs": [],
   "source": [
    "data_name = 'epinions'"
   ]
  },
  {
   "cell_type": "code",
   "execution_count": null,
   "metadata": {
    "colab": {},
    "colab_type": "code",
    "id": "3jmHqiE7l7tc"
   },
   "outputs": [],
   "source": [
    "args = easydict.EasyDict({\n",
    "        \"edge_path\": '../input/{0}/{0}_network.csv'.format(data_name),\n",
    "        \"features_path\":  '../input/{0}/{0}_node_feature.csv'.format(data_name),\n",
    "        \"nodes_path\": '../input/{0}/{0}_gt.csv'.format(data_name),\n",
    "        \"embedding_path\": '../tmp/embedding/{0}_sgcn_feature05.pkl'.format(data_name), \n",
    "        \"regression_weights_path\": '../tmp/weights/{0}_sgcn_feature05.pkl'.format(data_name),\n",
    "        \"inductive_model_path\": '../output/inductive/{}_model'.format(data_name), # or None\n",
    "        \"log_path\": '../logs/{0}_logs_feature05.json'.format(data_name),\n",
    "        \"epochs\":150,\n",
    "        \"test_size\":0.33,\n",
    "        \"reduction_iterations\": 128,\n",
    "        \"reduction_dimensions\": 30,\n",
    "        \"seed\": 42,\n",
    "        \"lamb\": 0.0,\n",
    "        \"learning_rate\": 0.001,  \n",
    "        \"weight_decay\": 10e-4, \n",
    "        # \"layers\": [64, 32,16,8],\n",
    "        \"layers\": [32,16,],\n",
    "        \"spectral_features\":False,\n",
    "        \"general_features\": True,  \n",
    "        \"sample_num\":None,\n",
    "        \"class_weights\":False,\n",
    "        \"node_under_sampling\":False,\n",
    "        \"hidden_residual\":False,\n",
    "        \"eval_freq\":1,\n",
    "        \"subgraph_training\":False\n",
    "})"
   ]
  },
  {
   "cell_type": "code",
   "execution_count": null,
   "metadata": {
    "colab": {
     "base_uri": "https://localhost:8080/",
     "height": 793
    },
    "colab_type": "code",
    "executionInfo": {
     "elapsed": 1351,
     "status": "ok",
     "timestamp": 1549760936318,
     "user": {
      "displayName": "Kudo Wataru",
      "photoUrl": "",
      "userId": "01009934963101209451"
     },
     "user_tz": -540
    },
    "id": "0qCT5JAEukut",
    "outputId": "7bfd8521-4993-4787-acf9-1f8e460a0711",
    "scrolled": false
   },
   "outputs": [],
   "source": [
    "display(pd.io.json.json_normalize(args).T)"
   ]
  },
  {
   "cell_type": "code",
   "execution_count": null,
   "metadata": {
    "colab": {},
    "colab_type": "code",
    "id": "yIEbR34wukuu",
    "scrolled": true
   },
   "outputs": [],
   "source": [
    "#tab_printer(args)\n",
    "edges, nodes_dict = read_graph(args) # nodes_dict['indice']:node_id , nodes_dict['label'] : label"
   ]
  },
  {
   "cell_type": "code",
   "execution_count": null,
   "metadata": {
    "colab": {},
    "colab_type": "code",
    "id": "z7QmNFei1ozk"
   },
   "outputs": [],
   "source": [
    "# undirected\n",
    "# edges['positive_edges'] = edges['positive_edges'] + [[d,s] for s,d in edges['positive_edges']]\n",
    "# edges['negative_edges'] = edges['negative_edges'] + [[d,s] for s,d in edges['negative_edges']]"
   ]
  },
  {
   "cell_type": "code",
   "execution_count": null,
   "metadata": {
    "colab": {},
    "colab_type": "code",
    "id": "WBCCGLnUukux"
   },
   "outputs": [],
   "source": [
    "test_X = np.array(pd.read_csv(args.features_path))"
   ]
  },
  {
   "cell_type": "code",
   "execution_count": null,
   "metadata": {
    "colab": {},
    "colab_type": "code",
    "id": "3j6n2Szfukuy"
   },
   "outputs": [],
   "source": [
    "def subgraph_making(args,edges,nodes_dict,sample_node_num,train_node_indice_original,neighbor_sampling=True):\n",
    "    original_network_df = pd.read_csv(args.edge_path)\n",
    "    if neighbor_sampling == True:\n",
    "        first_neightbors = np.unique(original_network_df.loc[(original_network_df.id1_.isin(train_node_indice_original)) | \n",
    "                                                                                                      (original_network_df.id2_.isin(train_node_indice_original)), ['id1_','id2_']].values)\n",
    "        sampled_node_indice = np.random.choice(first_neightbors,sample_node_num,replace=False)\n",
    "    else:\n",
    "        sampled_node_indice = set(np.random.choice(np.arange(nodes_dict['all_ncount']), sample_node_num, replace=False)) | set(train_node_indice_original)\n",
    "\n",
    "    sub_network_df = \\\n",
    "        original_network_df.loc[(original_network_df.id1_.isin(sampled_node_indice)) & (original_network_df.id2_.isin(sampled_node_indice))]\n",
    "\n",
    "    original_gt_df = pd.read_csv(args.nodes_path)\n",
    "\n",
    "    sub_gt_df = \\\n",
    "        original_gt_df.copy().loc[(original_gt_df.node_id.isin(sub_network_df.id1_)) & (original_gt_df.node_id.isin(sub_network_df.id2_))]\n",
    "\n",
    "    from sklearn.preprocessing import LabelEncoder\n",
    "\n",
    "    subGraph_map_encoder = LabelEncoder()\n",
    "\n",
    "    subGraph_map_encoder.fit(list(set(sub_network_df.id1_) | set(sub_network_df.id2_) | set(sub_gt_df.node_id)))\n",
    "\n",
    "    sub_gt_df['node_id'] = subGraph_map_encoder.transform(sub_gt_df.node_id)\n",
    "\n",
    "    sub_network_df['id1_'] = subGraph_map_encoder.transform(sub_network_df.id1_)\n",
    "\n",
    "    sub_network_df['id2_'] = subGraph_map_encoder.transform(sub_network_df.id2_)\n",
    "\n",
    "    sub_edges = {}\n",
    "\n",
    "    sub_edges['positive_edges'] = sub_network_df.loc[sub_network_df.weight==1,['id1_','id2_']].values.tolist()\n",
    "\n",
    "    sub_edges['negative_edges'] = sub_network_df.loc[sub_network_df.weight==-1,['id1_','id2_']].values.tolist()\n",
    "\n",
    "    sub_edges['ecount'] = len(sub_network_df)\n",
    "\n",
    "    sub_edges['ncount'] = len(set(sub_network_df['id1_']) | set(sub_network_df['id2_']))\n",
    "\n",
    "    sub_nodes_dict = {}\n",
    "\n",
    "    sub_nodes_dict['indice'] = sub_gt_df.node_id.values\n",
    "    sub_nodes_dict['label'] = sub_gt_df.label.values\n",
    "\n",
    "    sub_nodes_dict['all_ncount'] = len(set(sub_network_df.id1_) | set(sub_network_df.id2_) | set(sub_gt_df.node_id))\n",
    "\n",
    "    sub_nodes_dict['subgraph_map_from_original_feature'] = subGraph_map_encoder.classes_    \n",
    "    return sub_edges, sub_nodes_dict, subGraph_map_encoder"
   ]
  },
  {
   "cell_type": "code",
   "execution_count": null,
   "metadata": {
    "colab": {},
    "colab_type": "code",
    "id": "4MdvuM9Luku0"
   },
   "outputs": [],
   "source": [
    "from sklearn.model_selection import StratifiedKFold\n",
    "kf = StratifiedKFold(n_splits=10,shuffle=True, random_state=0)\n",
    "all_indice = nodes_dict['indice']\n",
    "all_labels = nodes_dict['label']"
   ]
  },
  {
   "cell_type": "code",
   "execution_count": null,
   "metadata": {
    "colab": {},
    "colab_type": "code",
    "id": "HDz0ZNwZuku0",
    "scrolled": true
   },
   "outputs": [],
   "source": [
    "auc_scores = []\n",
    "# train : 90 % cross-validation\n",
    "for i, (train_index, test_index) in enumerate(kf.split(X=nodes_dict['indice'],y=nodes_dict['label'])):\n",
    "    print(\"==== Training Phase ====\")\n",
    "    print(f'{i}-th fold')\n",
    "    # training\n",
    "    train_node_indice_original = all_indice[train_index] #⬅️これは元々のグラフのnode_indice\n",
    "\n",
    "    # extract sub-graph\n",
    "    sub_edges, sub_nodes_dict,subGraph_map_encoder = subgraph_making(args,edges,nodes_dict,20000, train_node_indice_original)\n",
    "                                                                     # np.random.choice(train_node_indice_original,1000))\n",
    "    \n",
    "    train_indice_boolean_judger = np.isin(subGraph_map_encoder.inverse_transform(sub_nodes_dict['indice']),train_node_indice_original)\n",
    "    train_node_indice = sub_nodes_dict['indice'][train_indice_boolean_judger]\n",
    "    train_node_labels = sub_nodes_dict['label'][train_indice_boolean_judger]\n",
    "    print(f'labels:{np.unique(train_node_labels,return_counts=True)}')\n",
    "    tmp_nodes_dict = {}\n",
    "    tmp_nodes_dict['all_ncount'] = sub_nodes_dict['all_ncount']\n",
    "    tmp_nodes_dict['indice'] = train_node_indice\n",
    "    tmp_nodes_dict['label'] = train_node_labels\n",
    "    tmp_nodes_dict['subgraph_map_from_original_feature'] = subGraph_map_encoder.classes_\n",
    "    trainer = SignedGCNTrainer(args, sub_edges, tmp_nodes_dict)\n",
    "    trainer.setup_dataset()\n",
    "    trainer.create_and_train_model()\n",
    "    \n",
    "    if args.test_size > 0:\n",
    "        # trainer.save_model() ## trainer.create_and_train_model()のなかで，すでにbest_modelが保存されている．\n",
    "        # score_printer(trainer.logs)\n",
    "        display(pd.DataFrame(trainer.logs['performance']))\n",
    "        save_logs(args, trainer.logs)\n",
    "\n",
    "    # test\n",
    "    print(\"==== Test Phase ====\")\n",
    "    test_node_indice = all_indice[test_index]\n",
    "    test_node_labels = all_labels[test_index]\n",
    "    predictor = SignedGCNPredictor(args, args.inductive_model_path, test_X, edges,nodes_dict)\n",
    "    predictions = predictor.predict()\n",
    "    predict_labels = predictions.argmax(1)\n",
    "    auc_score = roc_auc_score(y_true=[1 if i==-1 else 0 for i in test_node_labels],y_score=predictions[:,1][test_node_indice])\n",
    "    auc_scores.append(auc_score)\n",
    "    cmx = confusion_matrix(y_true=[1 if i==-1 else 0 for i in test_node_labels],y_pred=predict_labels[test_node_indice])\n",
    "    print(f\"{i}-th fold's auc_score:{auc_score}\")\n",
    "    print(cmx)\n",
    "    print()\n",
    "    "
   ]
  },
  {
   "cell_type": "code",
   "execution_count": null,
   "metadata": {
    "colab": {},
    "colab_type": "code",
    "id": "9LhBdquOuku1",
    "scrolled": false
   },
   "outputs": [],
   "source": [
    "np.mean(auc_scores)"
   ]
  },
  {
   "cell_type": "markdown",
   "metadata": {
    "colab_type": "text",
    "id": "xoVeHjAsuku3"
   },
   "source": [
    "## epinions Robustness"
   ]
  },
  {
   "cell_type": "code",
   "execution_count": null,
   "metadata": {
    "colab": {},
    "colab_type": "code",
    "id": "4rXBuqT-uku4"
   },
   "outputs": [],
   "source": [
    "all_indice = nodes_dict['indice']\n",
    "all_labels = nodes_dict['label']"
   ]
  },
  {
   "cell_type": "code",
   "execution_count": null,
   "metadata": {
    "colab": {},
    "colab_type": "code",
    "id": "C-e5F4pkuku4"
   },
   "outputs": [],
   "source": [
    "def robustness_experiments(training_rates_list=[0.1, 0.2, 0.3, 0.4, 0.5, 0.6, 0.7, 0.8, 0.9]):\n",
    "    all_auc_scores = []\n",
    "    done_train_rate = []\n",
    "    training_rates = training_rates_list\n",
    "    for train_rate in training_rates:\n",
    "        print('train_rate : ',train_rate)\n",
    "        auc_scores = []\n",
    "        for i in range(10): \n",
    "            train_index, test_index = train_test_split(np.arange(len(nodes_dict['indice'])),\n",
    "                                                       stratify=nodes_dict['label'],train_size=float(train_rate),shuffle=True)\n",
    "\n",
    "            print(\"==== Training Phase ====\")\n",
    "            print('{}-th'.format(i))\n",
    "            # training\n",
    "            train_node_indice_original = all_indice[train_index] #⬅️これは元々のグラフのnode_indice\n",
    "            # extract sub-graph\n",
    "            sub_edges, sub_nodes_dict,subGraph_map_encoder = subgraph_making(args,edges,nodes_dict, 20000, \n",
    "                                                                             np.random.choice(train_node_indice_original,1000))\n",
    "            train_indice_boolean_judger = np.isin(subGraph_map_encoder.inverse_transform(sub_nodes_dict['indice']),train_node_indice_original)\n",
    "            train_node_indice = sub_nodes_dict['indice'][train_indice_boolean_judger]\n",
    "            train_node_labels = sub_nodes_dict['label'][train_indice_boolean_judger]\n",
    "\n",
    "            print('labels:',np.unique(train_node_labels,return_counts=True))\n",
    "            tmp_nodes_dict = {}\n",
    "            tmp_nodes_dict['all_ncount'] = sub_nodes_dict['all_ncount']\n",
    "            tmp_nodes_dict['indice'] = train_node_indice\n",
    "            tmp_nodes_dict['label'] = train_node_labels\n",
    "            tmp_nodes_dict['subgraph_map_from_original_feature'] = subGraph_map_encoder.classes_\n",
    "            trainer = SignedGCNTrainer(args, sub_edges, tmp_nodes_dict)\n",
    "            trainer.setup_dataset()\n",
    "            trainer.create_and_train_model()\n",
    " \n",
    "            if args.test_size > 0:\n",
    "                # trainer.save_model() ## trainer.create_and_train_model()のなかで，すでにbest_modelが保存されている．\n",
    "                # score_printer(trainer.logs)\n",
    "                display(pd.DataFrame(trainer.logs['performance']))\n",
    "                save_logs(args, trainer.logs)\n",
    "\n",
    "            # test\n",
    "            print(\"==== Test Phase ====\")\n",
    "            del trainer\n",
    "            test_node_indice = all_indice[test_index]\n",
    "            test_node_labels = all_labels[test_index]\n",
    "            predictor = SignedGCNPredictor(args, args.inductive_model_path, test_X, edges,nodes_dict)\n",
    "            predictions = predictor.predict()\n",
    "            predict_labels = predictions.argmax(1)\n",
    "            auc_score = roc_auc_score(y_true=[1 if i==-1 else 0 for i in test_node_labels],y_score=predictions[:,1][test_node_indice])\n",
    "            auc_scores.append(auc_score)\n",
    "            cmx = confusion_matrix(y_true=[1 if i==-1 else 0 for i in test_node_labels],y_pred=predict_labels[test_node_indice])\n",
    "\n",
    "            print(i,\"-th fold's auc_score:\",auc_score)\n",
    "            print(cmx)\n",
    "            print()\n",
    "        all_auc_scores.append(np.mean(auc_scores))\n",
    "        done_train_rate.append(train_rate)\n",
    "        print(train_rate , ' -->',np.mean(auc_scores))\n",
    "        pd.DataFrame(all_auc_scores,index=done_train_rate).to_csv('{}_tmp.csv'.format(data_name))\n",
    "    return pd.DataFrame(all_auc_scores, index=training_rates, columns=['average_auc'])"
   ]
  },
  {
   "cell_type": "code",
   "execution_count": null,
   "metadata": {
    "colab": {
     "base_uri": "https://localhost:8080/",
     "height": 3330
    },
    "colab_type": "code",
    "executionInfo": {
     "elapsed": 389691,
     "status": "error",
     "timestamp": 1549761373659,
     "user": {
      "displayName": "Kudo Wataru",
      "photoUrl": "",
      "userId": "01009934963101209451"
     },
     "user_tz": -540
    },
    "id": "PFYfnEuSuku6",
    "outputId": "6be88764-b676-4d46-bdad-c732c6bdc646",
    "scrolled": true
   },
   "outputs": [],
   "source": [
    "epi_result_df = robustness_experiments([0.1, 0.2, 0.3, 0.4, 0.5, 0.6, 0.7, 0.8, 0.9])"
   ]
  },
  {
   "cell_type": "code",
   "execution_count": null,
   "metadata": {
    "colab": {},
    "colab_type": "code",
    "id": "68qt4Stjuku9"
   },
   "outputs": [],
   "source": [
    "epi_result_df.to_csv('epinions_robustness.csv')"
   ]
  },
  {
   "cell_type": "code",
   "execution_count": null,
   "metadata": {
    "colab": {},
    "colab_type": "code",
    "id": "jzUTgAd0uku_"
   },
   "outputs": [],
   "source": [
    "epi_result_df.T"
   ]
  },
  {
   "cell_type": "code",
   "execution_count": null,
   "metadata": {
    "colab": {
     "base_uri": "https://localhost:8080/",
     "height": 34
    },
    "colab_type": "code",
    "executionInfo": {
     "elapsed": 3725,
     "status": "ok",
     "timestamp": 1549760488289,
     "user": {
      "displayName": "Kudo Wataru",
      "photoUrl": "",
      "userId": "01009934963101209451"
     },
     "user_tz": -540
    },
    "id": "7xG8KQzt7EPF",
    "outputId": "e7deabff-db72-4ee3-bf5c-f6665b2e276c"
   },
   "outputs": [],
   "source": [
    "!python -V"
   ]
  },
  {
   "cell_type": "markdown",
   "metadata": {
    "colab_type": "text",
    "id": "QN0M1aMqukvA"
   },
   "source": [
    "# ロバストネスの検証"
   ]
  },
  {
   "cell_type": "code",
   "execution_count": null,
   "metadata": {
    "colab": {
     "base_uri": "https://localhost:8080/",
     "height": 34
    },
    "colab_type": "code",
    "executionInfo": {
     "elapsed": 4510,
     "status": "ok",
     "timestamp": 1549778480379,
     "user": {
      "displayName": "工藤航",
      "photoUrl": "",
      "userId": "10393675799923719670"
     },
     "user_tz": -540
    },
    "id": "lfHzOH2zukvA",
    "outputId": "878e1d84-ed0f-426f-9636-a3d96069fd86"
   },
   "outputs": [],
   "source": [
    "data_name = input('データセット：')"
   ]
  },
  {
   "cell_type": "code",
   "execution_count": null,
   "metadata": {
    "colab": {},
    "colab_type": "code",
    "id": "8Gu0KGmZukvD"
   },
   "outputs": [],
   "source": [
    "args = easydict.EasyDict({\n",
    "        \"edge_path\": '../input/{0}/{0}_network.csv'.format(data_name),\n",
    "        \"features_path\":  '../input/{0}/{0}_node_feature.csv'.format(data_name),\n",
    "        \"nodes_path\": '../input/{0}/{0}_gt.csv'.format(data_name),\n",
    "        \"embedding_path\": '../tmp/embedding/{0}_sgcn_feature05.pkl'.format(data_name), \n",
    "        \"regression_weights_path\": '../tmp/weights/{0}_sgcn_feature05.pkl'.format(data_name),\n",
    "        \"inductive_model_path\": None, # '/home2/kudo/SGCN/output/inductive/{0}_model'.format(data_name), # or None\n",
    "        \"log_path\": '../logs/{0}_logs_feature05.json'.format(data_name),\n",
    "        \"epochs\":100,\n",
    "        \"test_size\":0.33,\n",
    "        \"reduction_iterations\": 128,\n",
    "        \"reduction_dimensions\": 30,\n",
    "        \"seed\": 42,\n",
    "        \"lamb\": 0.0,\n",
    "        \"learning_rate\": 0.001,  \n",
    "        \"weight_decay\": 10e-4, \n",
    "        # \"layers\": [64, 32,16,8],\n",
    "        \"layers\": [32,16,],\n",
    "        \"spectral_features\":False,\n",
    "        \"general_features\": True,  \n",
    "        \"sample_num\":None,\n",
    "        \"class_weights\":False,\n",
    "        \"node_under_sampling\":False,\n",
    "        \"hidden_residual\":False,\n",
    "        \"eval_freq\":1,\n",
    "        \"subgraph_training\":False\n",
    "})"
   ]
  },
  {
   "cell_type": "code",
   "execution_count": null,
   "metadata": {
    "colab": {},
    "colab_type": "code",
    "id": "1fuetVW1ukvH"
   },
   "outputs": [],
   "source": [
    "#tab_printer(args)\n",
    "edges, nodes_dict = read_graph(args) # nodes_dict['indice']:node_id , nodes_dict['label'] : label"
   ]
  },
  {
   "cell_type": "code",
   "execution_count": null,
   "metadata": {
    "colab": {},
    "colab_type": "code",
    "id": "NilRrmpd1EKW"
   },
   "outputs": [],
   "source": [
    "# undirected\n",
    "edges['positive_edges'] = edges['positive_edges'] + [[d,s] for s,d in edges['positive_edges']]\n",
    "edges['negative_edges'] = edges['negative_edges'] + [[d,s] for s,d in edges['negative_edges']]"
   ]
  },
  {
   "cell_type": "code",
   "execution_count": null,
   "metadata": {
    "colab": {},
    "colab_type": "code",
    "id": "tby0rdTAukvI"
   },
   "outputs": [],
   "source": [
    "all_indice = nodes_dict['indice']\n",
    "all_labels = nodes_dict['label']"
   ]
  },
  {
   "cell_type": "code",
   "execution_count": null,
   "metadata": {
    "colab": {},
    "colab_type": "code",
    "id": "12llzZXOukvK"
   },
   "outputs": [],
   "source": [
    "def robustness_experiments(training_rates_list=[0.1, 0.2, 0.3, 0.4, 0.5, 0.6, 0.7, 0.8, 0.9]):\n",
    "    all_auc_scores = []\n",
    "    training_rates = training_rates_list\n",
    "    for train_rate in training_rates:\n",
    "        auc_scores = []\n",
    "        for i in range(30): \n",
    "            train_index, test_index = train_test_split(np.arange(len(nodes_dict['indice'])),\n",
    "                                                       stratify=nodes_dict['label'],train_size=float(train_rate),shuffle=True)\n",
    "            print(\"==== Training Phase ====\")\n",
    "            print('{}-th'.format(i))\n",
    "            # training\n",
    "            train_node_indice = all_indice[train_index]\n",
    "            train_node_labels = all_labels[train_index]\n",
    "            print('labels:{}'.format(np.unique(train_node_labels,return_counts=True)))\n",
    "            tmp_nodes_dict = {}\n",
    "            tmp_nodes_dict['all_ncount'] = nodes_dict['all_ncount']\n",
    "            tmp_nodes_dict['indice'] = train_node_indice\n",
    "            tmp_nodes_dict['label'] = train_node_labels\n",
    "            trainer = SignedGCNTrainer(args, edges, tmp_nodes_dict)\n",
    "            trainer.setup_dataset()\n",
    "            trainer.create_and_train_model()\n",
    "\n",
    "            if args.test_size > 0:\n",
    "                # trainer.save_model() ## trainer.create_and_train_model()のなかで，すでにbest_modelが保存されている．\n",
    "                # score_printer(trainer.logs)\n",
    "                display(pd.DataFrame(trainer.logs['performance']))\n",
    "                save_logs(args, trainer.logs)\n",
    "\n",
    "            # test\n",
    "            print(\"==== Test Phase ====\")\n",
    "            test_node_indice = all_indice[test_index]\n",
    "            test_node_labels = all_labels[test_index]\n",
    "            # feature = pd.read_csv(args.embedding_path,index_col='id').values\n",
    "            feature = pd.read_pickle(args.embedding_path).drop('id',1).values\n",
    "            test_feature = feature[test_node_indice]\n",
    "            # weight = pd.read_csv(args.regression_weights_path)\n",
    "            weight = pd.read_pickle(args.regression_weights_path)\n",
    "            predictions = np.dot(test_feature,weight.values.T)\n",
    "            probabilities = torch.nn.functional.softmax(torch.from_numpy(predictions)).numpy()\n",
    "            predict_labels = probabilities.argmax(1)\n",
    "            auc_score = roc_auc_score(y_true=[1 if i==-1 else 0 for i in test_node_labels],y_score=probabilities[:,1])\n",
    "            auc_scores.append(auc_score)\n",
    "            cmx = confusion_matrix(y_true=[1 if i==-1 else 0 for i in test_node_labels],y_pred=predict_labels)\n",
    "            print(\"{0}-th fold's auc_score:{1}\".format(i ,auc_score))\n",
    "            print(cmx)\n",
    "            print()\n",
    "        all_auc_scores.append(np.mean(auc_scores))\n",
    "        print(train_rate,':',np.mean(auc_scores))\n",
    "        pd.DataFrame(all_auc_scores).to_csv('{}_tmp.csv'.format(data_name+'_master'))\n",
    "    return pd.DataFrame(all_auc_scores, index=training_rates, columns=['average_auc'])"
   ]
  },
  {
   "cell_type": "code",
   "execution_count": null,
   "metadata": {
    "colab": {
     "base_uri": "https://localhost:8080/",
     "height": 57606
    },
    "colab_type": "code",
    "executionInfo": {
     "elapsed": 848986,
     "status": "ok",
     "timestamp": 1549776544289,
     "user": {
      "displayName": "Kudo Wataru",
      "photoUrl": "",
      "userId": "01009934963101209451"
     },
     "user_tz": -540
    },
    "id": "HsK3Qrc7ukvM",
    "outputId": "5e0f70a7-17f6-4e26-b8cc-29334d0b048d",
    "scrolled": true
   },
   "outputs": [],
   "source": [
    "result_df = robustness_experiments([0.03, 0.05, 0.1, 0.2, 0.3, 0.4, 0.5, 0.6, 0.7, 0.8, 0.9])"
   ]
  },
  {
   "cell_type": "code",
   "execution_count": null,
   "metadata": {
    "colab": {},
    "colab_type": "code",
    "id": "X2BQ9PmpukvO"
   },
   "outputs": [],
   "source": [
    "result_df.to_csv('{}_robustness.csv'.format(data_name+'_master'))"
   ]
  },
  {
   "cell_type": "code",
   "execution_count": null,
   "metadata": {
    "colab": {},
    "colab_type": "code",
    "id": "tkHX7BCmukvP",
    "scrolled": true
   },
   "outputs": [],
   "source": [
    "result_df.T"
   ]
  },
  {
   "cell_type": "code",
   "execution_count": null,
   "metadata": {
    "colab": {
     "base_uri": "https://localhost:8080/",
     "height": 284
    },
    "colab_type": "code",
    "executionInfo": {
     "elapsed": 1492,
     "status": "ok",
     "timestamp": 1549776772941,
     "user": {
      "displayName": "Kudo Wataru",
      "photoUrl": "",
      "userId": "01009934963101209451"
     },
     "user_tz": -540
    },
    "id": "mqxezywLukvQ",
    "outputId": "0608b84b-383d-420c-bd7a-c5dbf5b0341a"
   },
   "outputs": [],
   "source": [
    "result_df.plot()"
   ]
  },
  {
   "cell_type": "code",
   "execution_count": null,
   "metadata": {
    "colab": {},
    "colab_type": "code",
    "id": "DH0LfgssukvS"
   },
   "outputs": [],
   "source": []
  },
  {
   "cell_type": "code",
   "execution_count": null,
   "metadata": {
    "colab": {},
    "colab_type": "code",
    "id": "Bsqe6XtSukvS",
    "scrolled": true
   },
   "outputs": [],
   "source": [
    "train_rate = input('トレーニングデータの比率：')"
   ]
  },
  {
   "cell_type": "code",
   "execution_count": null,
   "metadata": {
    "colab": {},
    "colab_type": "code",
    "id": "aOh2A4EOukvU",
    "scrolled": true
   },
   "outputs": [],
   "source": [
    "auc_scores = []\n",
    "for i in range(10): # trainとtestを逆にする\n",
    "    train_index, test_index = train_test_split(np.arange(len(nodes_dict['indice'])),stratify=nodes_dict['label'],train_size=float(train_rate)\n",
    "                                               ,shuffle=True)\n",
    "    print(\"==== Training Phase ====\")\n",
    "    print('{}-th'.format(i))\n",
    "    # training\n",
    "    train_node_indice = all_indice[train_index]\n",
    "    train_node_labels = all_labels[train_index]\n",
    "    print(f'labels:{np.unique(train_node_labels,return_counts=True)}')\n",
    "    tmp_nodes_dict = {}\n",
    "    tmp_nodes_dict['all_ncount'] = nodes_dict['all_ncount']\n",
    "    tmp_nodes_dict['indice'] = train_node_indice\n",
    "    tmp_nodes_dict['label'] = train_node_labels\n",
    "    trainer = SignedGCNTrainer(args, edges, tmp_nodes_dict)\n",
    "    trainer.setup_dataset()\n",
    "    trainer.create_and_train_model()\n",
    "    \n",
    "    if args.test_size > 0:\n",
    "        # trainer.save_model() ## trainer.create_and_train_model()のなかで，すでにbest_modelが保存されている．\n",
    "        # score_printer(trainer.logs)\n",
    "        display(pd.DataFrame(trainer.logs['performance']))\n",
    "        save_logs(args, trainer.logs)\n",
    "\n",
    "    # test\n",
    "    print(\"==== Test Phase ====\")\n",
    "    test_node_indice = all_indice[test_index]\n",
    "    test_node_labels = all_labels[test_index]\n",
    "    # feature = pd.read_csv(args.embedding_path,index_col='id').values\n",
    "    feature = pd.read_pickle(args.embedding_path).drop('id',1).values\n",
    "    test_feature = feature[test_node_indice]\n",
    "    # weight = pd.read_csv(args.regression_weights_path)\n",
    "    weight = pd.read_pickle(args.regression_weights_path)\n",
    "    predictions = np.dot(test_feature,weight.values.T)\n",
    "    probabilities = torch.nn.functional.softmax(torch.from_numpy(predictions)).numpy()\n",
    "    predict_labels = probabilities.argmax(1)\n",
    "    auc_score = roc_auc_score(y_true=[1 if i==-1 else 0 for i in test_node_labels],y_score=probabilities[:,1])\n",
    "    auc_scores.append(auc_score)\n",
    "    cmx = confusion_matrix(y_true=[1 if i==-1 else 0 for i in test_node_labels],y_pred=predict_labels)\n",
    "    print(\"{0}-th fold's auc_score:{1}\".format(i,auc_score))\n",
    "    print(cmx)\n",
    "    print()\n",
    "    "
   ]
  },
  {
   "cell_type": "code",
   "execution_count": null,
   "metadata": {
    "colab": {},
    "colab_type": "code",
    "id": "gtPHXYcFukvW",
    "scrolled": false
   },
   "outputs": [],
   "source": [
    "np.mean(auc_scores)"
   ]
  },
  {
   "cell_type": "code",
   "execution_count": null,
   "metadata": {
    "colab": {},
    "colab_type": "code",
    "id": "gJ4zgi2eukvX"
   },
   "outputs": [],
   "source": []
  },
  {
   "cell_type": "code",
   "execution_count": null,
   "metadata": {
    "colab": {},
    "colab_type": "code",
    "id": "T_NSwRN_ukvY"
   },
   "outputs": [],
   "source": []
  }
 ],
 "metadata": {
  "accelerator": "GPU",
  "colab": {
   "collapsed_sections": [],
   "name": "master_train_eval.ipynb",
   "provenance": [],
   "toc_visible": true,
   "version": "0.3.2"
  },
  "kernelspec": {
   "display_name": "Environment (conda_pytorch_p36)",
   "language": "python",
   "name": "conda_pytorch_p36"
  },
  "language_info": {
   "codemirror_mode": {
    "name": "ipython",
    "version": 3
   },
   "file_extension": ".py",
   "mimetype": "text/x-python",
   "name": "python",
   "nbconvert_exporter": "python",
   "pygments_lexer": "ipython3",
   "version": "3.6.5"
  }
 },
 "nbformat": 4,
 "nbformat_minor": 1
}
