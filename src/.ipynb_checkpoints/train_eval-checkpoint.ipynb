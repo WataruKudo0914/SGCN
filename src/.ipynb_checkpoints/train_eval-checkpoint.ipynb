{
 "cells": [
  {
   "cell_type": "markdown",
   "metadata": {},
   "source": [
    "# Signed Graph Convolutional Network(SGCN)を用いたFraud User Detection"
   ]
  },
  {
   "cell_type": "markdown",
   "metadata": {},
   "source": [
    "```sh\n",
    "pip install -r /home/ubuntu/SGCN/requirements.txt\n",
    "pip install torch_scatter\n",
    "pip install torch_sparse\n",
    "pip install easydict\n",
    "```\n"
   ]
  },
  {
   "cell_type": "code",
   "execution_count": null,
   "metadata": {
    "scrolled": true
   },
   "outputs": [],
   "source": [
    "from sgcn import SignedGCNTrainer, SignedGCNPredictor\n",
    "from parser_ import parameter_parser\n",
    "from utils import tab_printer, read_graph, score_printer, save_logs\n",
    "import easydict\n",
    "import argparse\n",
    "import pandas as pd\n",
    "import numpy as np\n",
    "import torch\n",
    "import json\n",
    "import networkx as nx\n",
    "from sklearn.metrics import roc_auc_score, roc_curve, auc\n",
    "from sklearn.metrics import accuracy_score,confusion_matrix\n",
    "from IPython.display import display\n",
    "import matplotlib.pyplot as plt\n",
    "%matplotlib inline"
   ]
  },
  {
   "cell_type": "code",
   "execution_count": null,
   "metadata": {},
   "outputs": [],
   "source": [
    "args = easydict.EasyDict({\n",
    "        \"edge_path\": '../input/amazon/amazon_network.csv',#'../input/amazon/user_network.csv',\n",
    "        \"features_path\":  '../input/amazon/amazon_node_feature.csv',#'../input/amazon/user_network.csv',\n",
    "        \"nodes_path\": '../input/amazon/amazon_gt.csv',\n",
    "        \"embedding_path\": '../tmp/embedding/amazon_sgcn_feature05.pkl', # tmp folder for cross-validation\n",
    "        \"regression_weights_path\": '../tmp/weights/amazon_sgcn_feature05.pkl',\n",
    "        \"inductive_model_path\": '../output/inductive/amazon_model', # or None\n",
    "        \"log_path\": '../logs/amazon_logs_feature05.json',\n",
    "        \"epochs\":300,\n",
    "        \"test_size\":0.66,\n",
    "        \"reduction_iterations\": 128,\n",
    "        \"reduction_dimensions\": 30,\n",
    "        \"seed\": 42,\n",
    "        \"lamb\": 1.0,\n",
    "        \"learning_rate\": 0.005,  \n",
    "        \"weight_decay\": 10e-5, \n",
    "        # \"layers\": [64, 32,16,8],\n",
    "        \"layers\": [32,16],\n",
    "        \"spectral_features\":False,\n",
    "        \"general_features\": True,  \n",
    "        \"sample_num\":None,\n",
    "        \"class_weights\":False,\n",
    "        \"node_under_sampling\":False,\n",
    "})"
   ]
  },
  {
   "cell_type": "code",
   "execution_count": null,
   "metadata": {
    "scrolled": false
   },
   "outputs": [],
   "source": [
    "display(pd.io.json.json_normalize(args).T)"
   ]
  },
  {
   "cell_type": "markdown",
   "metadata": {},
   "source": [
    "## 10-fold cross-validation\n",
    "- train : validation : test = 6:3:1"
   ]
  },
  {
   "cell_type": "code",
   "execution_count": null,
   "metadata": {},
   "outputs": [],
   "source": [
    "#tab_printer(args)\n",
    "edges, nodes_dict = read_graph(args) # nodes_dict['indice']:node_id , nodes_dict['label'] : label"
   ]
  },
  {
   "cell_type": "code",
   "execution_count": null,
   "metadata": {},
   "outputs": [],
   "source": [
    "from sklearn.model_selection import StratifiedKFold"
   ]
  },
  {
   "cell_type": "code",
   "execution_count": null,
   "metadata": {},
   "outputs": [],
   "source": [
    "kf = StratifiedKFold(n_splits=10)\n",
    "all_indice = nodes_dict['indice']\n",
    "all_labels = nodes_dict['label']\n",
    "auc_scores = []"
   ]
  },
  {
   "cell_type": "code",
   "execution_count": null,
   "metadata": {
    "scrolled": true
   },
   "outputs": [],
   "source": [
    "for i, (train_index, test_index) in enumerate(kf.split(X=nodes_dict['indice'],y=nodes_dict['label'])):\n",
    "    print(\"==== Training Phase ====\")\n",
    "    print(f'{i}-th fold')\n",
    "    # training\n",
    "    train_node_indice = all_indice[train_index]\n",
    "    train_node_labels = all_labels[train_index]\n",
    "    print(f'labels:{np.unique(train_node_labels,return_counts=True)}')\n",
    "    tmp_nodes_dict = {}\n",
    "    tmp_nodes_dict['all_ncount'] = nodes_dict['all_ncount']\n",
    "    tmp_nodes_dict['indice'] = train_node_indice\n",
    "    tmp_nodes_dict['label'] = train_node_labels\n",
    "    trainer = SignedGCNTrainer(args, edges, tmp_nodes_dict)\n",
    "    trainer.setup_dataset()\n",
    "    trainer.create_and_train_model()\n",
    "    \n",
    "    if args.test_size > 0:\n",
    "        # trainer.save_model() ## trainer.create_and_train_model()のなかで，すでにbest_modelが保存されている．\n",
    "        # score_printer(trainer.logs)\n",
    "        display(pd.DataFrame(trainer.logs['performance']))\n",
    "        save_logs(args, trainer.logs)\n",
    "\n",
    "    # test\n",
    "    print(\"==== Test Phase ====\")\n",
    "    test_node_indice = all_indice[test_index]\n",
    "    test_node_labels = all_labels[test_index]\n",
    "    # feature = pd.read_csv(args.embedding_path,index_col='id').values\n",
    "    feature = pd.read_pickle(args.embedding_path).drop('id',1).values\n",
    "    test_feature = feature[test_node_indice]\n",
    "    # weight = pd.read_csv(args.regression_weights_path)\n",
    "    weight = pd.read_pickle(args.regression_weights_path)\n",
    "    predictions = np.dot(test_feature,weight.values.T)\n",
    "    probabilities = torch.nn.functional.softmax(torch.from_numpy(predictions)).numpy()\n",
    "    predict_labels = probabilities.argmax(1)\n",
    "    auc_score = roc_auc_score(y_true=[1 if i==-1 else 0 for i in test_node_labels],y_score=probabilities[:,1])\n",
    "    auc_scores.append(auc_score)\n",
    "    cmx = confusion_matrix(y_true=[1 if i==-1 else 0 for i in test_node_labels],y_pred=predict_labels)\n",
    "    print(f\"{i}-th fold's auc_score:{auc_score}\")\n",
    "    print(cmx)\n",
    "    print()\n",
    "    "
   ]
  },
  {
   "cell_type": "code",
   "execution_count": null,
   "metadata": {
    "scrolled": true
   },
   "outputs": [],
   "source": [
    "np.mean(auc_scores)"
   ]
  },
  {
   "cell_type": "code",
   "execution_count": null,
   "metadata": {
    "scrolled": true
   },
   "outputs": [],
   "source": [
    "_ = plt.hist(probabilities[:,1][test_node_labels==1],alpha=0.5,bins=10)\n",
    "_ = plt.hist(probabilities[:,1][test_node_labels==-1],alpha=0.5,bins=10)\n",
    "# plt.xlim(0,0.03)"
   ]
  },
  {
   "cell_type": "markdown",
   "metadata": {},
   "source": [
    "結果 (32,16) (class-weights)\n",
    "- amazon : 0.867\n",
    "- alpha : \n",
    "- otc : "
   ]
  },
  {
   "cell_type": "markdown",
   "metadata": {},
   "source": [
    "結果 (32,16) (no-class-weights,test_size=0.33)\n",
    "- amazon : 0.871\n",
    "- alpha : 0.9828\n",
    "- otc : 0.997"
   ]
  },
  {
   "cell_type": "markdown",
   "metadata": {},
   "source": [
    "結果 (32,16) (no-class-weights,test_size=0.66)\n",
    "- amazon : 0.8635876758\n",
    "- alpha : 0.9831\n",
    "- otc : 0.993"
   ]
  },
  {
   "cell_type": "markdown",
   "metadata": {},
   "source": [
    "結果 (64,32)\n",
    "- amazon : 0.8597141032576031\n",
    "- alpha : \n",
    "- otc : "
   ]
  },
  {
   "cell_type": "markdown",
   "metadata": {},
   "source": [
    "結果 (64,32,16,8)\n",
    "- amazon : 0.8516649987979326\n",
    "- alpha : \n",
    "- otc : "
   ]
  },
  {
   "cell_type": "markdown",
   "metadata": {},
   "source": [
    "結果\n",
    "- amazon : 0.8704, (weighted classes loss : 0.871)\n",
    "- alpha : (sampled: 0.9804), (normal: 0.9857)\n",
    "- epinions : \n",
    "- otc : (0.9947), (normal:0.996)"
   ]
  },
  {
   "cell_type": "markdown",
   "metadata": {},
   "source": [
    "## single-validation"
   ]
  },
  {
   "cell_type": "code",
   "execution_count": null,
   "metadata": {
    "scrolled": true
   },
   "outputs": [],
   "source": [
    "trainer = SignedGCNTrainer(args, edges, nodes_dict)\n",
    "trainer.setup_dataset()\n",
    "trainer.create_and_train_model()"
   ]
  },
  {
   "cell_type": "code",
   "execution_count": null,
   "metadata": {
    "scrolled": true
   },
   "outputs": [],
   "source": [
    "if args.test_size > 0:\n",
    "    trainer.save_model()\n",
    "    score_printer(trainer.logs)\n",
    "    save_logs(args, trainer.logs)"
   ]
  },
  {
   "cell_type": "markdown",
   "metadata": {},
   "source": [
    "#### inductive settings"
   ]
  },
  {
   "cell_type": "code",
   "execution_count": null,
   "metadata": {},
   "outputs": [],
   "source": [
    "new_args = easydict.EasyDict({\n",
    "        \"edge_path\": '../input/amazon_elec/amazon_elec_network.csv',#'../input/amazon_elec/user_network.csv',\n",
    "        \"features_path\":  '../input/amazon_elec/amazon_elec_node_feature.csv',#'../input/amazon_elec/user_network.csv',\n",
    "        \"nodes_path\": '../input/amazon_elec/amazon_elec_gt.csv',\n",
    "        \"embedding_path\": '../tmp/embedding/amazon_elec_sgcn_feature05.csv', # tmp folder for cross-validation\n",
    "        \"regression_weights_path\": '../tmp/weights/amazon_elec_sgcn_feature05.csv',\n",
    "        \"inductive_model_path\": '../output/inductive/amazon_elec_model', # or None\n",
    "        \"log_path\": '../logs/amazon_elec_logs_feature05.json',\n",
    "        \"epochs\":300,\n",
    "        \"test_size\":0.33,\n",
    "        \"reduction_iterations\": 128,\n",
    "        \"reduction_dimensions\": 30,\n",
    "        \"seed\": 42,\n",
    "        \"lamb\": 1.0,\n",
    "        \"learning_rate\": 0.005,  \n",
    "        \"weight_decay\": 10e-5, \n",
    "        # \"layers\": [64, 32,16,8],\n",
    "        \"layers\": [32, 16],\n",
    "        \"spectral_features\":False,\n",
    "        \"general_features\": True,  \n",
    "        \"class_weights\":False,\n",
    "        \"sample_num\":None,\n",
    "        \"node_under_sampling\":False,\n",
    "})"
   ]
  },
  {
   "cell_type": "code",
   "execution_count": null,
   "metadata": {},
   "outputs": [],
   "source": [
    "new_edges, new_nodes_dict = read_graph(new_args)\n",
    "\n",
    "X = np.array(pd.read_csv('../input/amazon_elec/amazon_elec_node_feature.csv')) # general node features"
   ]
  },
  {
   "cell_type": "code",
   "execution_count": null,
   "metadata": {
    "scrolled": true
   },
   "outputs": [],
   "source": [
    "predictor = SignedGCNPredictor(new_args, '../output/inductive/amazon_model', X, new_edges,new_nodes_dict)"
   ]
  },
  {
   "cell_type": "code",
   "execution_count": null,
   "metadata": {
    "scrolled": true
   },
   "outputs": [],
   "source": [
    "predictions = predictor.predict()\n",
    "predict_labels = predictions.argmax(1)"
   ]
  },
  {
   "cell_type": "code",
   "execution_count": null,
   "metadata": {},
   "outputs": [],
   "source": [
    "y_true = new_nodes_dict['label']"
   ]
  },
  {
   "cell_type": "code",
   "execution_count": null,
   "metadata": {
    "scrolled": true
   },
   "outputs": [],
   "source": [
    "roc_auc_score(y_true=[1 if i==-1 else 0 for i in new_nodes_dict['label']],y_score=predictions[:,1][new_nodes_dict['indice']])"
   ]
  },
  {
   "cell_type": "code",
   "execution_count": null,
   "metadata": {
    "scrolled": true
   },
   "outputs": [],
   "source": [
    "from sklearn.metrics import accuracy_score,confusion_matrix\n",
    "confusion_matrix([1 if i==-1 else 0 for i in new_nodes_dict['label']],predict_labels[new_nodes_dict['indice']])"
   ]
  },
  {
   "cell_type": "code",
   "execution_count": null,
   "metadata": {
    "scrolled": true
   },
   "outputs": [],
   "source": [
    "y_true.shape"
   ]
  },
  {
   "cell_type": "code",
   "execution_count": null,
   "metadata": {},
   "outputs": [],
   "source": [
    "_ = plt.hist(predictions[:,1][new_nodes_dict['indice']][y_true==1],alpha=0.5,bins=10)\n",
    "_ = plt.hist(predictions[:,1][new_nodes_dict['indice']][y_true==-1],alpha=0.5,bins=10)"
   ]
  },
  {
   "cell_type": "code",
   "execution_count": null,
   "metadata": {},
   "outputs": [],
   "source": []
  },
  {
   "cell_type": "code",
   "execution_count": null,
   "metadata": {},
   "outputs": [],
   "source": []
  },
  {
   "cell_type": "code",
   "execution_count": null,
   "metadata": {},
   "outputs": [],
   "source": [
    "import json"
   ]
  },
  {
   "cell_type": "code",
   "execution_count": null,
   "metadata": {},
   "outputs": [],
   "source": [
    "performance = pd.DataFrame(json.load(open('../logs/otc_logs_feature05.json','r'))['performance'])\n",
    "\n",
    "performance.columns = performance.iloc[0,:]\n",
    "\n",
    "performance = performance.iloc[1:,:]"
   ]
  },
  {
   "cell_type": "code",
   "execution_count": null,
   "metadata": {
    "scrolled": true
   },
   "outputs": [],
   "source": [
    "performance['AUC'].plot()"
   ]
  },
  {
   "cell_type": "code",
   "execution_count": null,
   "metadata": {},
   "outputs": [],
   "source": [
    "feature = pd.read_csv(args.embedding_path,index_col='id')\n",
    "\n",
    "weight = pd.read_csv(args.regression_weights_path)"
   ]
  },
  {
   "cell_type": "code",
   "execution_count": null,
   "metadata": {},
   "outputs": [],
   "source": [
    "predictions = np.dot(feature.values,weight.values.T)"
   ]
  },
  {
   "cell_type": "code",
   "execution_count": null,
   "metadata": {},
   "outputs": [],
   "source": [
    "probabilities = torch.nn.functional.softmax(torch.from_numpy(predictions)).numpy()"
   ]
  },
  {
   "cell_type": "code",
   "execution_count": null,
   "metadata": {},
   "outputs": [],
   "source": [
    "predict_labels = probabilities.argmax(1)"
   ]
  },
  {
   "cell_type": "code",
   "execution_count": null,
   "metadata": {
    "scrolled": true
   },
   "outputs": [],
   "source": [
    "roc_auc_score(y_true=[0 if i==-1 else 1 for i in nodes_dict['label']],y_score=probabilities[:,1][nodes_dict['indice']])"
   ]
  },
  {
   "cell_type": "code",
   "execution_count": null,
   "metadata": {
    "scrolled": false
   },
   "outputs": [],
   "source": [
    "from sklearn.metrics import accuracy_score,confusion_matrix\n",
    "confusion_matrix([0 if i==-1 else 1 for i in nodes_dict['label']],predict_labels[nodes_dict['indice']])"
   ]
  },
  {
   "cell_type": "code",
   "execution_count": null,
   "metadata": {},
   "outputs": [],
   "source": []
  },
  {
   "cell_type": "markdown",
   "metadata": {},
   "source": [
    "# TODO"
   ]
  },
  {
   "cell_type": "code",
   "execution_count": null,
   "metadata": {},
   "outputs": [],
   "source": []
  }
 ],
 "metadata": {
  "kernelspec": {
   "display_name": "Python 3",
   "language": "python",
   "name": "python3"
  },
  "language_info": {
   "codemirror_mode": {
    "name": "ipython",
    "version": 3
   },
   "file_extension": ".py",
   "mimetype": "text/x-python",
   "name": "python",
   "nbconvert_exporter": "python",
   "pygments_lexer": "ipython3",
   "version": "3.5.2"
  }
 },
 "nbformat": 4,
 "nbformat_minor": 2
}
