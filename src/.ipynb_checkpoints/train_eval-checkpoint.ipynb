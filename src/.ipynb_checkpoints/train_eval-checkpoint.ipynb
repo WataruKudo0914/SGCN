{
 "cells": [
  {
   "cell_type": "markdown",
   "metadata": {},
   "source": [
    "# Signed Graph Convolutional Network(SGCN)を用いたFraud User Detection"
   ]
  },
  {
   "cell_type": "code",
   "execution_count": 1,
   "metadata": {
    "scrolled": true
   },
   "outputs": [
    {
     "name": "stdout",
     "output_type": "stream",
     "text": [
      "  balance_theory\u001b[m\r\n",
      "  balance_theory2\u001b[m\r\n",
      "  master\u001b[m\r\n",
      "  new_balance_theory2\u001b[m\r\n",
      "  subgraph_training_theory2\u001b[m\r\n",
      "* \u001b[32mvariants\u001b[m\r\n"
     ]
    }
   ],
   "source": [
    "!git branch"
   ]
  },
  {
   "cell_type": "markdown",
   "metadata": {},
   "source": [
    "```sh\n",
    "pip install -r /home/ubuntu/SGCN/requirements.txt\n",
    "pip install torch_scatter\n",
    "pip install torch_sparse\n",
    "pip install easydict\n",
    "```\n"
   ]
  },
  {
   "cell_type": "code",
   "execution_count": 2,
   "metadata": {
    "scrolled": true
   },
   "outputs": [
    {
     "name": "stderr",
     "output_type": "stream",
     "text": [
      "/home/ubuntu/anaconda3/envs/pytorch_p36/lib/python3.6/site-packages/matplotlib/__init__.py:1067: UserWarning: Duplicate key in file \"/home/ubuntu/.config/matplotlib/matplotlibrc\", line #2\n",
      "  (fname, cnt))\n",
      "/home/ubuntu/anaconda3/envs/pytorch_p36/lib/python3.6/site-packages/matplotlib/__init__.py:1067: UserWarning: Duplicate key in file \"/home/ubuntu/.config/matplotlib/matplotlibrc\", line #3\n",
      "  (fname, cnt))\n"
     ]
    }
   ],
   "source": [
    "from sgcn import SignedGCNTrainer, SignedGCNPredictor\n",
    "from parser import parameter_parser\n",
    "from utils import tab_printer, read_graph, score_printer, save_logs\n",
    "import easydict\n",
    "import argparse\n",
    "import pandas as pd\n",
    "import numpy as np\n",
    "import torch\n",
    "import json\n",
    "import networkx as nx\n",
    "from sklearn.metrics import roc_auc_score, roc_curve, auc\n",
    "from sklearn.metrics import accuracy_score,confusion_matrix\n",
    "from sklearn.model_selection import train_test_split\n",
    "from IPython.display import display\n",
    "import matplotlib.pyplot as plt\n",
    "%matplotlib inline"
   ]
  },
  {
   "cell_type": "code",
   "execution_count": null,
   "metadata": {},
   "outputs": [],
   "source": [
    "data_name = input('データセット：')"
   ]
  },
  {
   "cell_type": "code",
   "execution_count": null,
   "metadata": {},
   "outputs": [],
   "source": [
    "args = easydict.EasyDict({\n",
    "        \"edge_path\": f'../input/{data_name}/{data_name}_network.csv',\n",
    "        \"features_path\":  f'../input/{data_name}/{data_name}_node_feature.csv',\n",
    "        \"nodes_path\": f'../input/{data_name}/{data_name}_gt.csv',\n",
    "        \"embedding_path\": f'../tmp/embedding/{data_name}_sgcn_feature05.pkl', # tmp folder for cross-validation\n",
    "        \"regression_weights_path\": f'../tmp/weights/{data_name}_sgcn_feature05.pkl',\n",
    "        \"inductive_model_path\": None, # f'../output/inductive/{data_name}_model', # or None\n",
    "        \"log_path\": f'../logs/{data_name}_logs_feature05.json',\n",
    "        \"epochs\":300,\n",
    "        \"test_size\":0.33,\n",
    "        \"reduction_iterations\": 128,\n",
    "        \"reduction_dimensions\": 30,\n",
    "        \"seed\": 42,\n",
    "        \"lamb\": 0.0,\n",
    "        \"learning_rate\": 0.001,  \n",
    "        \"weight_decay\": 10e-4, \n",
    "        # \"layers\": [64, 32,16,8],\n",
    "        \"layers\": [32,16,],\n",
    "        \"spectral_features\":False,\n",
    "        \"general_features\": True,  \n",
    "        \"sample_num\":None,\n",
    "        \"class_weights\":False,\n",
    "        \"node_under_sampling\":False,\n",
    "        \"hidden_residual\":False,\n",
    "        \"eval_freq\":1,\n",
    "        \"subgraph_training\":False,\n",
    "})"
   ]
  },
  {
   "cell_type": "code",
   "execution_count": null,
   "metadata": {
    "scrolled": false
   },
   "outputs": [],
   "source": [
    "display(pd.io.json.json_normalize(args).T)"
   ]
  },
  {
   "cell_type": "markdown",
   "metadata": {},
   "source": [
    "## 10-fold cross-validation\n",
    "- train : validation : test = 6:3:1"
   ]
  },
  {
   "cell_type": "code",
   "execution_count": null,
   "metadata": {},
   "outputs": [],
   "source": [
    "#tab_printer(args)\n",
    "edges, nodes_dict = read_graph(args) # nodes_dict['indice']:node_id , nodes_dict['label'] : label"
   ]
  },
  {
   "cell_type": "code",
   "execution_count": null,
   "metadata": {},
   "outputs": [],
   "source": [
    "from sklearn.model_selection import StratifiedKFold"
   ]
  },
  {
   "cell_type": "code",
   "execution_count": null,
   "metadata": {},
   "outputs": [],
   "source": [
    "kf = StratifiedKFold(n_splits=10,shuffle=True,random_state=0)\n",
    "all_indice = nodes_dict['indice']\n",
    "all_labels = nodes_dict['label']\n",
    "auc_scores = []"
   ]
  },
  {
   "cell_type": "code",
   "execution_count": null,
   "metadata": {
    "scrolled": true
   },
   "outputs": [],
   "source": [
    "for i, (train_index, test_index) in enumerate(kf.split(X=nodes_dict['indice'],y=nodes_dict['label'])):\n",
    "    print(\"==== Training Phase ====\")\n",
    "    print(f'{i}-th fold')\n",
    "    # training\n",
    "    train_node_indice = all_indice[train_index]\n",
    "    train_node_labels = all_labels[train_index]\n",
    "    print(f'labels:{np.unique(train_node_labels,return_counts=True)}')\n",
    "    tmp_nodes_dict = {}\n",
    "    tmp_nodes_dict['all_ncount'] = nodes_dict['all_ncount']\n",
    "    tmp_nodes_dict['indice'] = train_node_indice\n",
    "    tmp_nodes_dict['label'] = train_node_labels\n",
    "    trainer = SignedGCNTrainer(args, edges, tmp_nodes_dict)\n",
    "    trainer.setup_dataset()\n",
    "    trainer.create_and_train_model()\n",
    "    \n",
    "    if args.test_size > 0:\n",
    "        # trainer.save_model() ## trainer.create_and_train_model()のなかで，すでにbest_modelが保存されている．\n",
    "        # score_printer(trainer.logs)\n",
    "        display(pd.DataFrame(trainer.logs['performance']))\n",
    "        save_logs(args, trainer.logs)\n",
    "\n",
    "    # test\n",
    "    print(\"==== Test Phase ====\")\n",
    "    test_node_indice = all_indice[test_index]\n",
    "    test_node_labels = all_labels[test_index]\n",
    "    # feature = pd.read_csv(args.embedding_path,index_col='id').values\n",
    "    feature = pd.read_pickle(args.embedding_path).drop('id',1).values\n",
    "    test_feature = feature[test_node_indice]\n",
    "    # weight = pd.read_csv(args.regression_weights_path)\n",
    "    weight = pd.read_pickle(args.regression_weights_path)\n",
    "    predictions = np.dot(test_feature,weight.values.T)\n",
    "    probabilities = torch.nn.functional.softmax(torch.from_numpy(predictions)).numpy()\n",
    "    predict_labels = probabilities.argmax(1)\n",
    "    auc_score = roc_auc_score(y_true=[1 if i==-1 else 0 for i in test_node_labels],y_score=probabilities[:,1])\n",
    "    auc_scores.append(auc_score)\n",
    "    cmx = confusion_matrix(y_true=[1 if i==-1 else 0 for i in test_node_labels],y_pred=predict_labels)\n",
    "    print(f\"{i}-th fold's auc_score:{auc_score}\")\n",
    "    print(cmx)\n",
    "    print()\n",
    "    "
   ]
  },
  {
   "cell_type": "code",
   "execution_count": null,
   "metadata": {
    "scrolled": false
   },
   "outputs": [],
   "source": [
    "np.mean(auc_scores)"
   ]
  },
  {
   "cell_type": "code",
   "execution_count": null,
   "metadata": {
    "scrolled": false
   },
   "outputs": [],
   "source": [
    "_ = plt.hist(probabilities[:,1][test_node_labels==1],alpha=0.5,bins=10)\n",
    "_ = plt.hist(probabilities[:,1][test_node_labels==-1],alpha=0.5,bins=10)\n",
    "# plt.xlim(0,0.03)"
   ]
  },
  {
   "cell_type": "markdown",
   "metadata": {},
   "source": [
    "# new_new_balance_theoryの結果\n",
    "結果 (32,) (non-class-weights,10e-4, test_size=0.33,lamb=0,lr=0.001)　⬅️これに決定\n",
    "- amazon :  0.8655989752374083\n",
    "- alpha : 0.974480519480\n",
    "- otc : 0.99349\n",
    "\n",
    "結果 (32,16) (non-class-weights,10e-4, test_size=0.33,lamb=0,lr=0.001)　\n",
    "- amazon :  0.876279480706\n",
    "- alpha : 0.977922077922\n",
    "- otc : 0.99072039072\n",
    "- epinions : 0.9768200116\n",
    "\n",
    "\n",
    "結果 (32,16, 8) (non-class-weights,10e-4, test_size=0.33, lamb=0)\n",
    "- amazon : 0.8786657350643106\n",
    "- alpha : \n",
    "- otc : \n",
    "\n",
    "結果 (32,16, 8, 8) (non-class-weights,10e-4, test_size=0.33, lamb=0)\n",
    "- amazon : 0.8778590500661\n",
    "- alpha : \n",
    "- otc : \n",
    "\n"
   ]
  },
  {
   "cell_type": "markdown",
   "metadata": {},
   "source": [
    "## single-validation"
   ]
  },
  {
   "cell_type": "code",
   "execution_count": null,
   "metadata": {},
   "outputs": [],
   "source": [
    "data_name = input('データセット：')"
   ]
  },
  {
   "cell_type": "code",
   "execution_count": null,
   "metadata": {},
   "outputs": [],
   "source": [
    "args = easydict.EasyDict({\n",
    "        \"edge_path\": f'../input/{data_name}/{data_name}_network.csv',\n",
    "        \"features_path\":  f'../input/{data_name}/{data_name}_node_feature.csv',\n",
    "        \"nodes_path\": f'../input/{data_name}/{data_name}_gt.csv',\n",
    "        \"embedding_path\": f'../tmp/embedding/{data_name}_sgcn_feature05.pkl', # tmp folder for cross-validation\n",
    "        \"regression_weights_path\": f'../tmp/weights/{data_name}_sgcn_feature05.pkl',\n",
    "        \"inductive_model_path\": f'../output/inductive/{data_name}_model', # or None\n",
    "        \"log_path\": f'../logs/{data_name}_logs_feature05.json',\n",
    "        \"epochs\":300,\n",
    "        \"test_size\":0.33,\n",
    "        \"reduction_iterations\": 128,\n",
    "        \"reduction_dimensions\": 30,\n",
    "        \"seed\": 42,\n",
    "        \"lamb\": 0.0,\n",
    "        \"learning_rate\": 0.001,  \n",
    "        \"weight_decay\": 10e-4, \n",
    "        # \"layers\": [64, 32,16,8],\n",
    "        \"layers\": [32, 16, 8],\n",
    "        \"spectral_features\":False,\n",
    "        \"general_features\": True,  \n",
    "        \"sample_num\":None,\n",
    "        \"class_weights\":False,\n",
    "        \"node_under_sampling\":False,\n",
    "        \"hidden_residual\":False,\n",
    "        \"eval_freq\":1,\n",
    "        \"subgraph_training\":False,\n",
    "})"
   ]
  },
  {
   "cell_type": "code",
   "execution_count": null,
   "metadata": {},
   "outputs": [],
   "source": [
    "#tab_printer(args)\n",
    "edges, nodes_dict = read_graph(args) # nodes_dict['indice']:node_id , nodes_dict['label'] : label"
   ]
  },
  {
   "cell_type": "code",
   "execution_count": null,
   "metadata": {
    "scrolled": false
   },
   "outputs": [],
   "source": [
    "trainer = SignedGCNTrainer(args, edges, nodes_dict)\n",
    "trainer.setup_dataset()\n",
    "trainer.create_and_train_model()"
   ]
  },
  {
   "cell_type": "code",
   "execution_count": null,
   "metadata": {
    "scrolled": true
   },
   "outputs": [],
   "source": [
    "if args.test_size > 0:\n",
    "    trainer.save_model()\n",
    "    # score_printer(trainer.logs)\n",
    "    display(pd.DataFrame(trainer.logs['performance']))\n",
    "    save_logs(args, trainer.logs)"
   ]
  },
  {
   "cell_type": "markdown",
   "metadata": {},
   "source": [
    "## inductive prediction"
   ]
  },
  {
   "cell_type": "code",
   "execution_count": null,
   "metadata": {},
   "outputs": [],
   "source": [
    "data_name = input('データセット：')"
   ]
  },
  {
   "cell_type": "code",
   "execution_count": null,
   "metadata": {},
   "outputs": [],
   "source": [
    "new_args = easydict.EasyDict({\n",
    "        \"edge_path\": f'../input/{data_name}/{data_name}_network.csv',\n",
    "        \"features_path\":  f'../input/{data_name}/{data_name}_node_feature.csv',\n",
    "        \"nodes_path\": f'../input/{data_name}/{data_name}_gt.csv',\n",
    "        \"embedding_path\": f'../tmp/embedding/{data_name}_sgcn_feature05.pkl', # tmp folder for cross-validation\n",
    "        \"regression_weights_path\": f'../tmp/weights/{data_name}_sgcn_feature05.pkl',\n",
    "        \"inductive_model_path\": f'../output/inductive/{data_name}_model', # or None\n",
    "        \"log_path\": f'../logs/{data_name}_logs_feature05.json',\n",
    "        \"epochs\":300,\n",
    "        \"test_size\":0.33,\n",
    "        \"reduction_iterations\": 128,\n",
    "        \"reduction_dimensions\": 30,\n",
    "        \"seed\": 42,\n",
    "        \"lamb\": 0.0,\n",
    "        \"learning_rate\": 0.001,  \n",
    "        \"weight_decay\": 10e-4, \n",
    "        # \"layers\": [64, 32,16,8],\n",
    "        \"layers\": [32, 16, 8],\n",
    "        \"spectral_features\":False,\n",
    "        \"general_features\": True,  \n",
    "        \"sample_num\":None,\n",
    "        \"class_weights\":False,\n",
    "        \"node_under_sampling\":False,\n",
    "        \"hidden_residual\":False,\n",
    "        \"eval_freq\":1,\n",
    "        \"subgraph_training\":False,\n",
    "})"
   ]
  },
  {
   "cell_type": "code",
   "execution_count": null,
   "metadata": {},
   "outputs": [],
   "source": [
    "new_edges, new_nodes_dict = read_graph(new_args)\n",
    "\n",
    "X = np.array(pd.read_csv(f'../input/{data_name}/{data_name}_node_feature.csv')) # general node features"
   ]
  },
  {
   "cell_type": "code",
   "execution_count": null,
   "metadata": {},
   "outputs": [],
   "source": [
    "training_dataset = input('学習に使ったデータセット：')"
   ]
  },
  {
   "cell_type": "code",
   "execution_count": null,
   "metadata": {
    "scrolled": true
   },
   "outputs": [],
   "source": [
    "predictor = SignedGCNPredictor(new_args, f'../output/inductive/{training_dataset}_model', X, new_edges,new_nodes_dict)"
   ]
  },
  {
   "cell_type": "code",
   "execution_count": null,
   "metadata": {
    "scrolled": true
   },
   "outputs": [],
   "source": [
    "predictions = predictor.predict()\n",
    "predict_labels = predictions.argmax(1)"
   ]
  },
  {
   "cell_type": "code",
   "execution_count": null,
   "metadata": {},
   "outputs": [],
   "source": [
    "y_true = new_nodes_dict['label']\n",
    "\n",
    "roc_auc_score(y_true=[1 if i==-1 else 0 for i in new_nodes_dict['label']],y_score=predictions[:,1][new_nodes_dict['indice']])"
   ]
  },
  {
   "cell_type": "code",
   "execution_count": null,
   "metadata": {
    "scrolled": true
   },
   "outputs": [],
   "source": [
    "from sklearn.metrics import accuracy_score,confusion_matrix\n",
    "confusion_matrix([1 if i==-1 else 0 for i in new_nodes_dict['label']],predict_labels[new_nodes_dict['indice']])"
   ]
  },
  {
   "cell_type": "code",
   "execution_count": null,
   "metadata": {},
   "outputs": [],
   "source": [
    "_ = plt.hist(predictions[:,1][new_nodes_dict['indice']][y_true==1],alpha=0.5,bins=10)\n",
    "_ = plt.hist(predictions[:,1][new_nodes_dict['indice']][y_true==-1],alpha=0.5,bins=10)"
   ]
  },
  {
   "cell_type": "markdown",
   "metadata": {},
   "source": [
    "## epinions dataset"
   ]
  },
  {
   "cell_type": "code",
   "execution_count": null,
   "metadata": {},
   "outputs": [],
   "source": [
    "data_name = 'epinions'"
   ]
  },
  {
   "cell_type": "code",
   "execution_count": null,
   "metadata": {},
   "outputs": [],
   "source": [
    "args = easydict.EasyDict({\n",
    "        \"edge_path\": f'../input/{data_name}/{data_name}_network.csv',#'../input/{data_name}/user_network.csv',\n",
    "        \"features_path\":  f'../input/{data_name}/{data_name}_node_feature.csv',#'../input/{data_name}/user_network.csv',\n",
    "        \"nodes_path\": f'../input/{data_name}/{data_name}_gt.csv',\n",
    "        \"embedding_path\": f'../tmp/embedding/{data_name}_sgcn_feature05.pkl', # tmp folder for cross-validation\n",
    "        \"regression_weights_path\": f'../tmp/weights/{data_name}_sgcn_feature05.pkl',\n",
    "        \"inductive_model_path\": f'../output/inductive/{data_name}_model', # or None\n",
    "        \"log_path\": f'../logs/{data_name}_logs_feature05.json',\n",
    "        \"epochs\":150,\n",
    "        \"test_size\":0.33,\n",
    "        \"reduction_iterations\": 128,\n",
    "        \"reduction_dimensions\": 30,\n",
    "        \"seed\": 42,\n",
    "        \"lamb\": 0.0,\n",
    "        \"learning_rate\": 0.001,  \n",
    "        \"weight_decay\": 10e-4, \n",
    "        # \"layers\": [64, 32,16,8],\n",
    "        \"layers\": [32, 16, ],\n",
    "        \"spectral_features\":False,\n",
    "        \"general_features\": True,  \n",
    "        \"sample_num\":None,\n",
    "        \"class_weights\":False,\n",
    "        \"node_under_sampling\":False,\n",
    "        \"hidden_residual\":False,\n",
    "        \"eval_freq\":1,\n",
    "        \"subgraph_training\":True,\n",
    "})"
   ]
  },
  {
   "cell_type": "code",
   "execution_count": null,
   "metadata": {
    "scrolled": false
   },
   "outputs": [],
   "source": [
    "display(pd.io.json.json_normalize(args).T)"
   ]
  },
  {
   "cell_type": "code",
   "execution_count": null,
   "metadata": {
    "scrolled": true
   },
   "outputs": [],
   "source": [
    "#tab_printer(args)\n",
    "edges, nodes_dict = read_graph(args) # nodes_dict['indice']:node_id , nodes_dict['label'] : label"
   ]
  },
  {
   "cell_type": "code",
   "execution_count": null,
   "metadata": {},
   "outputs": [],
   "source": [
    "test_X = np.array(pd.read_csv(args.features_path))"
   ]
  },
  {
   "cell_type": "code",
   "execution_count": null,
   "metadata": {},
   "outputs": [],
   "source": [
    "def subgraph_making(args,edges,nodes_dict,sample_node_num,train_node_indice_original,neighbor_sampling=True):\n",
    "    original_network_df = pd.read_csv(args.edge_path)\n",
    "    if neighbor_sampling == True:\n",
    "        first_neightbors = np.unique(original_network_df.loc[(original_network_df.id1_.isin(train_node_indice_original)) | \n",
    "                                                                                                      (original_network_df.id2_.isin(train_node_indice_original)), ['id1_','id2_']].values)\n",
    "        sampled_node_indice = np.random.choice(first_neightbors,sample_node_num,replace=False)\n",
    "    else:\n",
    "        sampled_node_indice = set(np.random.choice(np.arange(nodes_dict['all_ncount']), sample_node_num, replace=False)) | set(train_node_indice_original)\n",
    "\n",
    "    sub_network_df = \\\n",
    "        original_network_df.loc[(original_network_df.id1_.isin(sampled_node_indice)) & (original_network_df.id2_.isin(sampled_node_indice))]\n",
    "\n",
    "    original_gt_df = pd.read_csv(args.nodes_path)\n",
    "\n",
    "    sub_gt_df = \\\n",
    "        original_gt_df.copy().loc[(original_gt_df.node_id.isin(sub_network_df.id1_)) & (original_gt_df.node_id.isin(sub_network_df.id2_))]\n",
    "\n",
    "    from sklearn.preprocessing import LabelEncoder\n",
    "\n",
    "    subGraph_map_encoder = LabelEncoder()\n",
    "\n",
    "    subGraph_map_encoder.fit(list(set(sub_network_df.id1_) | set(sub_network_df.id2_) | set(sub_gt_df.node_id)))\n",
    "\n",
    "    sub_gt_df['node_id'] = subGraph_map_encoder.transform(sub_gt_df.node_id)\n",
    "\n",
    "    sub_network_df['id1_'] = subGraph_map_encoder.transform(sub_network_df.id1_)\n",
    "\n",
    "    sub_network_df['id2_'] = subGraph_map_encoder.transform(sub_network_df.id2_)\n",
    "\n",
    "    sub_edges = {}\n",
    "\n",
    "    sub_edges['positive_edges'] = sub_network_df.loc[sub_network_df.weight==1,['id1_','id2_']].values.tolist()\n",
    "\n",
    "    sub_edges['negative_edges'] = sub_network_df.loc[sub_network_df.weight==-1,['id1_','id2_']].values.tolist()\n",
    "\n",
    "    sub_edges['ecount'] = len(sub_network_df)\n",
    "\n",
    "    sub_edges['ncount'] = len(set(sub_network_df['id1_']) | set(sub_network_df['id2_']))\n",
    "\n",
    "    sub_nodes_dict = {}\n",
    "\n",
    "    sub_nodes_dict['indice'] = sub_gt_df.node_id.values\n",
    "    sub_nodes_dict['label'] = sub_gt_df.label.values\n",
    "\n",
    "    sub_nodes_dict['all_ncount'] = len(set(sub_network_df.id1_) | set(sub_network_df.id2_) | set(sub_gt_df.node_id))\n",
    "\n",
    "    sub_nodes_dict['subgraph_map_from_original_feature'] = subGraph_map_encoder.classes_    \n",
    "    return sub_edges, sub_nodes_dict, subGraph_map_encoder"
   ]
  },
  {
   "cell_type": "code",
   "execution_count": null,
   "metadata": {},
   "outputs": [],
   "source": [
    "from sklearn.model_selection import StratifiedKFold\n",
    "kf = StratifiedKFold(n_splits=10,shuffle=True, random_state=0)\n",
    "all_indice = nodes_dict['indice']\n",
    "all_labels = nodes_dict['label']"
   ]
  },
  {
   "cell_type": "code",
   "execution_count": null,
   "metadata": {
    "scrolled": true
   },
   "outputs": [],
   "source": [
    "auc_scores = []\n",
    "# train : 90 % cross-validation\n",
    "for i, (train_index, test_index) in enumerate(kf.split(X=nodes_dict['indice'],y=nodes_dict['label'])):\n",
    "    print(\"==== Training Phase ====\")\n",
    "    print(f'{i}-th fold')\n",
    "    # training\n",
    "    train_node_indice_original = all_indice[train_index] #⬅️これは元々のグラフのnode_indice\n",
    "\n",
    "    # extract sub-graph\n",
    "    sub_edges, sub_nodes_dict,subGraph_map_encoder = subgraph_making(args,edges,nodes_dict,20000, train_node_indice_original)\n",
    "                                                                     # np.random.choice(train_node_indice_original,1000))\n",
    "    \n",
    "    train_indice_boolean_judger = np.isin(subGraph_map_encoder.inverse_transform(sub_nodes_dict['indice']),train_node_indice_original)\n",
    "    train_node_indice = sub_nodes_dict['indice'][train_indice_boolean_judger]\n",
    "    train_node_labels = sub_nodes_dict['label'][train_indice_boolean_judger]\n",
    "    print(f'labels:{np.unique(train_node_labels,return_counts=True)}')\n",
    "    tmp_nodes_dict = {}\n",
    "    tmp_nodes_dict['all_ncount'] = sub_nodes_dict['all_ncount']\n",
    "    tmp_nodes_dict['indice'] = train_node_indice\n",
    "    tmp_nodes_dict['label'] = train_node_labels\n",
    "    tmp_nodes_dict['subgraph_map_from_original_feature'] = subGraph_map_encoder.classes_\n",
    "    trainer = SignedGCNTrainer(args, sub_edges, tmp_nodes_dict)\n",
    "    trainer.setup_dataset()\n",
    "    trainer.create_and_train_model()\n",
    "    \n",
    "    if args.test_size > 0:\n",
    "        # trainer.save_model() ## trainer.create_and_train_model()のなかで，すでにbest_modelが保存されている．\n",
    "        # score_printer(trainer.logs)\n",
    "        display(pd.DataFrame(trainer.logs['performance']))\n",
    "        save_logs(args, trainer.logs)\n",
    "\n",
    "    # test\n",
    "    print(\"==== Test Phase ====\")\n",
    "    test_node_indice = all_indice[test_index]\n",
    "    test_node_labels = all_labels[test_index]\n",
    "    predictor = SignedGCNPredictor(args, args.inductive_model_path, test_X, edges,nodes_dict)\n",
    "    predictions = predictor.predict()\n",
    "    predict_labels = predictions.argmax(1)\n",
    "    auc_score = roc_auc_score(y_true=[1 if i==-1 else 0 for i in test_node_labels],y_score=predictions[:,1][test_node_indice])\n",
    "    auc_scores.append(auc_score)\n",
    "    cmx = confusion_matrix(y_true=[1 if i==-1 else 0 for i in test_node_labels],y_pred=predict_labels[test_node_indice])\n",
    "    print(f\"{i}-th fold's auc_score:{auc_score}\")\n",
    "    print(cmx)\n",
    "    print()\n",
    "    "
   ]
  },
  {
   "cell_type": "code",
   "execution_count": null,
   "metadata": {
    "scrolled": false
   },
   "outputs": [],
   "source": [
    "np.mean(auc_scores)"
   ]
  },
  {
   "cell_type": "markdown",
   "metadata": {},
   "source": [
    "## epinions Robustness"
   ]
  },
  {
   "cell_type": "code",
   "execution_count": null,
   "metadata": {},
   "outputs": [],
   "source": [
    "all_indice = nodes_dict['indice']\n",
    "all_labels = nodes_dict['label']"
   ]
  },
  {
   "cell_type": "code",
   "execution_count": null,
   "metadata": {},
   "outputs": [],
   "source": [
    "def robustness_experiments(training_rates_list=[0.1, 0.2, 0.3, 0.4, 0.5, 0.6, 0.7, 0.8, 0.9]):\n",
    "    all_auc_scores = []\n",
    "    training_rates = training_rates_list\n",
    "    for train_rate in training_rates:\n",
    "        print(f'train_rate : {train_rate}')\n",
    "        auc_scores = []\n",
    "        for i in range(10): \n",
    "            train_index, test_index = train_test_split(np.arange(len(nodes_dict['indice'])),\n",
    "                                                       stratify=nodes_dict['label'],train_size=float(train_rate),shuffle=True)\n",
    "\n",
    "            print(\"==== Training Phase ====\")\n",
    "            print(f'{i}-th')\n",
    "            # training\n",
    "            train_node_indice_original = all_indice[train_index] #⬅️これは元々のグラフのnode_indice\n",
    "            # extract sub-graph\n",
    "            sub_edges, sub_nodes_dict,subGraph_map_encoder = subgraph_making(args,edges,nodes_dict, 20000, \n",
    "                                                                             np.random.choice(train_node_indice_original,1000))\n",
    "            train_indice_boolean_judger = np.isin(subGraph_map_encoder.inverse_transform(sub_nodes_dict['indice']),train_node_indice_original)\n",
    "            train_node_indice = sub_nodes_dict['indice'][train_indice_boolean_judger]\n",
    "            train_node_labels = sub_nodes_dict['label'][train_indice_boolean_judger]\n",
    "\n",
    "            print(f'labels:{np.unique(train_node_labels,return_counts=True)}')\n",
    "            tmp_nodes_dict = {}\n",
    "            tmp_nodes_dict['all_ncount'] = sub_nodes_dict['all_ncount']\n",
    "            tmp_nodes_dict['indice'] = train_node_indice\n",
    "            tmp_nodes_dict['label'] = train_node_labels\n",
    "            tmp_nodes_dict['subgraph_map_from_original_feature'] = subGraph_map_encoder.classes_\n",
    "            trainer = SignedGCNTrainer(args, sub_edges, tmp_nodes_dict)\n",
    "            trainer.setup_dataset()\n",
    "            trainer.create_and_train_model()\n",
    " \n",
    "            if args.test_size > 0:\n",
    "                # trainer.save_model() ## trainer.create_and_train_model()のなかで，すでにbest_modelが保存されている．\n",
    "                # score_printer(trainer.logs)\n",
    "                display(pd.DataFrame(trainer.logs['performance']))\n",
    "                save_logs(args, trainer.logs)\n",
    "\n",
    "            # test\n",
    "            print(\"==== Test Phase ====\")\n",
    "            test_node_indice = all_indice[test_index]\n",
    "            test_node_labels = all_labels[test_index]\n",
    "            predictor = SignedGCNPredictor(args, args.inductive_model_path, test_X, edges,nodes_dict)\n",
    "            predictions = predictor.predict()\n",
    "            predict_labels = predictions.argmax(1)\n",
    "            auc_score = roc_auc_score(y_true=[1 if i==-1 else 0 for i in test_node_labels],y_score=predictions[:,1][test_node_indice])\n",
    "            auc_scores.append(auc_score)\n",
    "            cmx = confusion_matrix(y_true=[1 if i==-1 else 0 for i in test_node_labels],y_pred=predict_labels[test_node_indice])\n",
    "\n",
    "            print(f\"{i}-th fold's auc_score:{auc_score}\")\n",
    "            print(cmx)\n",
    "            print()\n",
    "        all_auc_scores.append(np.mean(auc_scores))\n",
    "        print(f'rate{train_rate} --> {np.mean(auc_scores)}')\n",
    "    return pd.DataFrame(all_auc_scores, index=training_rates, columns=['average_auc'])"
   ]
  },
  {
   "cell_type": "code",
   "execution_count": null,
   "metadata": {
    "scrolled": true
   },
   "outputs": [],
   "source": [
    "epi_result_df = robustness_experiments([0.03, 0.1, 0.2, 0.3, 0.4, 0.5, 0.6, 0.7, 0.8, 0.9])"
   ]
  },
  {
   "cell_type": "code",
   "execution_count": null,
   "metadata": {},
   "outputs": [],
   "source": [
    "epi_result_df.to_csv('epinions_robustness.csv')"
   ]
  },
  {
   "cell_type": "code",
   "execution_count": null,
   "metadata": {},
   "outputs": [],
   "source": [
    "epi_result_df.T"
   ]
  },
  {
   "cell_type": "markdown",
   "metadata": {},
   "source": [
    "# ロバストネスの検証"
   ]
  },
  {
   "cell_type": "code",
   "execution_count": null,
   "metadata": {},
   "outputs": [],
   "source": [
    "data_name = input('データセット：')"
   ]
  },
  {
   "cell_type": "code",
   "execution_count": null,
   "metadata": {},
   "outputs": [],
   "source": [
    "args = easydict.EasyDict({\n",
    "        \"edge_path\": f'../input/{data_name}/{data_name}_network.csv',\n",
    "        \"features_path\":  f'../input/{data_name}/{data_name}_node_feature.csv',\n",
    "        \"nodes_path\": f'../input/{data_name}/{data_name}_gt.csv',\n",
    "        \"embedding_path\": f'../tmp/embedding/{data_name}_sgcn_feature05.pkl', # tmp folder for cross-validation\n",
    "        \"regression_weights_path\": f'../tmp/weights/{data_name}_sgcn_feature05.pkl',\n",
    "        \"inductive_model_path\": None, # f'../output/inductive/{data_name}_model', # or None\n",
    "        \"log_path\": f'../logs/{data_name}_logs_feature05.json',\n",
    "        \"epochs\":300,\n",
    "        \"test_size\":0.33,\n",
    "        \"reduction_iterations\": 128,\n",
    "        \"reduction_dimensions\": 30,\n",
    "        \"seed\": 42,\n",
    "        \"lamb\": 0.0,\n",
    "        \"learning_rate\": 0.001,  \n",
    "        \"weight_decay\": 10e-4, \n",
    "        # \"layers\": [64, 32,16,8],\n",
    "        \"layers\": [32,16,],\n",
    "        \"spectral_features\":False,\n",
    "        \"general_features\": True,  \n",
    "        \"sample_num\":None,\n",
    "        \"class_weights\":False,\n",
    "        \"node_under_sampling\":False,\n",
    "        \"hidden_residual\":False,\n",
    "        \"eval_freq\":1,\n",
    "        \"subgraph_training\":False,\n",
    "})"
   ]
  },
  {
   "cell_type": "code",
   "execution_count": null,
   "metadata": {},
   "outputs": [],
   "source": [
    "#tab_printer(args)\n",
    "edges, nodes_dict = read_graph(args) # nodes_dict['indice']:node_id , nodes_dict['label'] : label"
   ]
  },
  {
   "cell_type": "code",
   "execution_count": null,
   "metadata": {},
   "outputs": [],
   "source": [
    "all_indice = nodes_dict['indice']\n",
    "all_labels = nodes_dict['label']"
   ]
  },
  {
   "cell_type": "code",
   "execution_count": null,
   "metadata": {},
   "outputs": [],
   "source": [
    "def robustness_experiments(training_rates_list=[0.1, 0.2, 0.3, 0.4, 0.5, 0.6, 0.7, 0.8, 0.9]):\n",
    "    all_auc_scores = []\n",
    "    training_rates = training_rates_list\n",
    "    for train_rate in training_rates:\n",
    "        auc_scores = []\n",
    "        for i in range(10): \n",
    "            train_index, test_index = train_test_split(np.arange(len(nodes_dict['indice'])),\n",
    "                                                       stratify=nodes_dict['label'],train_size=float(train_rate),shuffle=True)\n",
    "            print(\"==== Training Phase ====\")\n",
    "            print(f'{i}-th')\n",
    "            # training\n",
    "            train_node_indice = all_indice[train_index]\n",
    "            train_node_labels = all_labels[train_index]\n",
    "            print(f'labels:{np.unique(train_node_labels,return_counts=True)}')\n",
    "            tmp_nodes_dict = {}\n",
    "            tmp_nodes_dict['all_ncount'] = nodes_dict['all_ncount']\n",
    "            tmp_nodes_dict['indice'] = train_node_indice\n",
    "            tmp_nodes_dict['label'] = train_node_labels\n",
    "            trainer = SignedGCNTrainer(args, edges, tmp_nodes_dict)\n",
    "            trainer.setup_dataset()\n",
    "            trainer.create_and_train_model()\n",
    "\n",
    "            if args.test_size > 0:\n",
    "                # trainer.save_model() ## trainer.create_and_train_model()のなかで，すでにbest_modelが保存されている．\n",
    "                # score_printer(trainer.logs)\n",
    "                display(pd.DataFrame(trainer.logs['performance']))\n",
    "                save_logs(args, trainer.logs)\n",
    "\n",
    "            # test\n",
    "            print(\"==== Test Phase ====\")\n",
    "            test_node_indice = all_indice[test_index]\n",
    "            test_node_labels = all_labels[test_index]\n",
    "            # feature = pd.read_csv(args.embedding_path,index_col='id').values\n",
    "            feature = pd.read_pickle(args.embedding_path).drop('id',1).values\n",
    "            test_feature = feature[test_node_indice]\n",
    "            # weight = pd.read_csv(args.regression_weights_path)\n",
    "            weight = pd.read_pickle(args.regression_weights_path)\n",
    "            predictions = np.dot(test_feature,weight.values.T)\n",
    "            probabilities = torch.nn.functional.softmax(torch.from_numpy(predictions)).numpy()\n",
    "            predict_labels = probabilities.argmax(1)\n",
    "            auc_score = roc_auc_score(y_true=[1 if i==-1 else 0 for i in test_node_labels],y_score=probabilities[:,1])\n",
    "            auc_scores.append(auc_score)\n",
    "            cmx = confusion_matrix(y_true=[1 if i==-1 else 0 for i in test_node_labels],y_pred=predict_labels)\n",
    "            print(f\"{i}-th fold's auc_score:{auc_score}\")\n",
    "            print(cmx)\n",
    "            print()\n",
    "        all_auc_scores.append(np.mean(auc_scores))\n",
    "    return pd.DataFrame(all_auc_scores, index=training_rates, columns=['average_auc'])"
   ]
  },
  {
   "cell_type": "code",
   "execution_count": null,
   "metadata": {
    "scrolled": true
   },
   "outputs": [],
   "source": [
    "result_df = robustness_experiments([0.03, 0.1, 0.2, 0.3, 0.4, 0.5, 0.6, 0.7, 0.8, 0.9])"
   ]
  },
  {
   "cell_type": "code",
   "execution_count": null,
   "metadata": {},
   "outputs": [],
   "source": [
    "result_df.to_csv('amazon_robustness.csv')"
   ]
  },
  {
   "cell_type": "code",
   "execution_count": null,
   "metadata": {
    "scrolled": true
   },
   "outputs": [],
   "source": [
    "result_df.T"
   ]
  },
  {
   "cell_type": "code",
   "execution_count": null,
   "metadata": {},
   "outputs": [],
   "source": [
    "result_df.plot()"
   ]
  },
  {
   "cell_type": "code",
   "execution_count": null,
   "metadata": {},
   "outputs": [],
   "source": []
  },
  {
   "cell_type": "code",
   "execution_count": null,
   "metadata": {
    "scrolled": true
   },
   "outputs": [],
   "source": [
    "train_rate = input('トレーニングデータの比率：')"
   ]
  },
  {
   "cell_type": "code",
   "execution_count": null,
   "metadata": {
    "scrolled": true
   },
   "outputs": [],
   "source": [
    "auc_scores = []\n",
    "for i in range(10): # trainとtestを逆にする\n",
    "    train_index, test_index = train_test_split(np.arange(len(nodes_dict['indice'])),stratify=nodes_dict['label'],train_size=float(train_rate)\n",
    "                                               ,shuffle=True)\n",
    "    print(\"==== Training Phase ====\")\n",
    "    print(f'{i}-th')\n",
    "    # training\n",
    "    train_node_indice = all_indice[train_index]\n",
    "    train_node_labels = all_labels[train_index]\n",
    "    print(f'labels:{np.unique(train_node_labels,return_counts=True)}')\n",
    "    tmp_nodes_dict = {}\n",
    "    tmp_nodes_dict['all_ncount'] = nodes_dict['all_ncount']\n",
    "    tmp_nodes_dict['indice'] = train_node_indice\n",
    "    tmp_nodes_dict['label'] = train_node_labels\n",
    "    trainer = SignedGCNTrainer(args, edges, tmp_nodes_dict)\n",
    "    trainer.setup_dataset()\n",
    "    trainer.create_and_train_model()\n",
    "    \n",
    "    if args.test_size > 0:\n",
    "        # trainer.save_model() ## trainer.create_and_train_model()のなかで，すでにbest_modelが保存されている．\n",
    "        # score_printer(trainer.logs)\n",
    "        display(pd.DataFrame(trainer.logs['performance']))\n",
    "        save_logs(args, trainer.logs)\n",
    "\n",
    "    # test\n",
    "    print(\"==== Test Phase ====\")\n",
    "    test_node_indice = all_indice[test_index]\n",
    "    test_node_labels = all_labels[test_index]\n",
    "    # feature = pd.read_csv(args.embedding_path,index_col='id').values\n",
    "    feature = pd.read_pickle(args.embedding_path).drop('id',1).values\n",
    "    test_feature = feature[test_node_indice]\n",
    "    # weight = pd.read_csv(args.regression_weights_path)\n",
    "    weight = pd.read_pickle(args.regression_weights_path)\n",
    "    predictions = np.dot(test_feature,weight.values.T)\n",
    "    probabilities = torch.nn.functional.softmax(torch.from_numpy(predictions)).numpy()\n",
    "    predict_labels = probabilities.argmax(1)\n",
    "    auc_score = roc_auc_score(y_true=[1 if i==-1 else 0 for i in test_node_labels],y_score=probabilities[:,1])\n",
    "    auc_scores.append(auc_score)\n",
    "    cmx = confusion_matrix(y_true=[1 if i==-1 else 0 for i in test_node_labels],y_pred=predict_labels)\n",
    "    print(f\"{i}-th fold's auc_score:{auc_score}\")\n",
    "    print(cmx)\n",
    "    print()\n",
    "    "
   ]
  },
  {
   "cell_type": "code",
   "execution_count": null,
   "metadata": {
    "scrolled": false
   },
   "outputs": [],
   "source": [
    "np.mean(auc_scores)"
   ]
  },
  {
   "cell_type": "code",
   "execution_count": null,
   "metadata": {},
   "outputs": [],
   "source": []
  },
  {
   "cell_type": "code",
   "execution_count": null,
   "metadata": {},
   "outputs": [],
   "source": []
  }
 ],
 "metadata": {
  "kernelspec": {
   "display_name": "Environment (conda_pytorch_p36)",
   "language": "python",
   "name": "conda_pytorch_p36"
  },
  "language_info": {
   "codemirror_mode": {
    "name": "ipython",
    "version": 3
   },
   "file_extension": ".py",
   "mimetype": "text/x-python",
   "name": "python",
   "nbconvert_exporter": "python",
   "pygments_lexer": "ipython3",
   "version": "3.6.5"
  }
 },
 "nbformat": 4,
 "nbformat_minor": 2
}
