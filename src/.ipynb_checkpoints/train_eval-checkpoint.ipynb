{
 "cells": [
  {
   "cell_type": "markdown",
   "metadata": {},
   "source": [
    "# Signed Graph Convolutional Network(SGCN)を用いたFraud User Detection"
   ]
  },
  {
   "cell_type": "markdown",
   "metadata": {},
   "source": [
    "```sh\n",
    "pip install -r /home/ubuntu/SGCN/requirements.txt\n",
    "pip install torch_scatter\n",
    "pip install torch_sparse\n",
    "pip install easydict\n",
    "```\n"
   ]
  },
  {
   "cell_type": "code",
   "execution_count": 1,
   "metadata": {
    "scrolled": true
   },
   "outputs": [
    {
     "name": "stderr",
     "output_type": "stream",
     "text": [
      "/home/ubuntu/anaconda3/envs/pytorch_p36/lib/python3.6/site-packages/matplotlib/__init__.py:1067: UserWarning: Duplicate key in file \"/home/ubuntu/.config/matplotlib/matplotlibrc\", line #2\n",
      "  (fname, cnt))\n",
      "/home/ubuntu/anaconda3/envs/pytorch_p36/lib/python3.6/site-packages/matplotlib/__init__.py:1067: UserWarning: Duplicate key in file \"/home/ubuntu/.config/matplotlib/matplotlibrc\", line #3\n",
      "  (fname, cnt))\n"
     ]
    }
   ],
   "source": [
    "from sgcn import SignedGCNTrainer\n",
    "from parser import parameter_parser\n",
    "from utils import tab_printer, read_graph, score_printer, save_logs\n",
    "import argparse\n",
    "import pandas as pd\n",
    "import numpy as np\n",
    "import torch\n",
    "%matplotlib inline"
   ]
  },
  {
   "cell_type": "code",
   "execution_count": 2,
   "metadata": {},
   "outputs": [],
   "source": [
    "import easydict\n",
    "args = easydict.EasyDict({\n",
    "        \"edge_path\": '../input/alpha/alpha_network.csv',#'../input/amazon/user_network.csv',\n",
    "        \"features_path\":  '../input/alpha/alpha_node_feature.csv',#'../input/amazon/user_network.csv',\n",
    "        \"nodes_path\": '../input/alpha/alpha_gt.csv',\n",
    "        \"embedding_path\": '../output/embedding/alpha_sgcn_feature05.csv',\n",
    "        \"regression_weights_path\": '../output/weights/alpha_sgcn_feature05.csv',\n",
    "        \"log_path\": '../logs/alpha_logs_feature05.json',\n",
    "        \"epochs\":1000,\n",
    "        \"test_size\":0.5,\n",
    "        \"reduction_iterations\": 128,\n",
    "        \"reduction_dimensions\": 30,\n",
    "        \"seed\": 42,\n",
    "        \"lamb\": 1.0,\n",
    "        \"learning_rate\": 0.005,  \n",
    "        \"weight_decay\": 10e-5, \n",
    "        \"layers\": [64, 32,16,8],\n",
    "        \"spectral_features\":False,\n",
    "        \"general_features\": True,  \n",
    "})"
   ]
  },
  {
   "cell_type": "code",
   "execution_count": 3,
   "metadata": {},
   "outputs": [
    {
     "data": {
      "text/html": [
       "<div>\n",
       "<style scoped>\n",
       "    .dataframe tbody tr th:only-of-type {\n",
       "        vertical-align: middle;\n",
       "    }\n",
       "\n",
       "    .dataframe tbody tr th {\n",
       "        vertical-align: top;\n",
       "    }\n",
       "\n",
       "    .dataframe thead th {\n",
       "        text-align: right;\n",
       "    }\n",
       "</style>\n",
       "<table border=\"1\" class=\"dataframe\">\n",
       "  <thead>\n",
       "    <tr style=\"text-align: right;\">\n",
       "      <th></th>\n",
       "      <th>0</th>\n",
       "    </tr>\n",
       "  </thead>\n",
       "  <tbody>\n",
       "    <tr>\n",
       "      <th>edge_path</th>\n",
       "      <td>../input/alpha/alpha_network.csv</td>\n",
       "    </tr>\n",
       "    <tr>\n",
       "      <th>embedding_path</th>\n",
       "      <td>../output/embedding/alpha_sgcn_feature05.csv</td>\n",
       "    </tr>\n",
       "    <tr>\n",
       "      <th>epochs</th>\n",
       "      <td>1000</td>\n",
       "    </tr>\n",
       "    <tr>\n",
       "      <th>features_path</th>\n",
       "      <td>../input/alpha/alpha_node_feature.csv</td>\n",
       "    </tr>\n",
       "    <tr>\n",
       "      <th>general_features</th>\n",
       "      <td>True</td>\n",
       "    </tr>\n",
       "    <tr>\n",
       "      <th>lamb</th>\n",
       "      <td>1</td>\n",
       "    </tr>\n",
       "    <tr>\n",
       "      <th>layers</th>\n",
       "      <td>[64, 32, 16, 8]</td>\n",
       "    </tr>\n",
       "    <tr>\n",
       "      <th>learning_rate</th>\n",
       "      <td>0.005</td>\n",
       "    </tr>\n",
       "    <tr>\n",
       "      <th>log_path</th>\n",
       "      <td>../logs/alpha_logs_feature05.json</td>\n",
       "    </tr>\n",
       "    <tr>\n",
       "      <th>nodes_path</th>\n",
       "      <td>../input/alpha/alpha_gt.csv</td>\n",
       "    </tr>\n",
       "    <tr>\n",
       "      <th>reduction_dimensions</th>\n",
       "      <td>30</td>\n",
       "    </tr>\n",
       "    <tr>\n",
       "      <th>reduction_iterations</th>\n",
       "      <td>128</td>\n",
       "    </tr>\n",
       "    <tr>\n",
       "      <th>regression_weights_path</th>\n",
       "      <td>../output/weights/alpha_sgcn_feature05.csv</td>\n",
       "    </tr>\n",
       "    <tr>\n",
       "      <th>seed</th>\n",
       "      <td>42</td>\n",
       "    </tr>\n",
       "    <tr>\n",
       "      <th>spectral_features</th>\n",
       "      <td>False</td>\n",
       "    </tr>\n",
       "    <tr>\n",
       "      <th>test_size</th>\n",
       "      <td>0.5</td>\n",
       "    </tr>\n",
       "    <tr>\n",
       "      <th>weight_decay</th>\n",
       "      <td>0.0001</td>\n",
       "    </tr>\n",
       "  </tbody>\n",
       "</table>\n",
       "</div>"
      ],
      "text/plain": [
       "                                                                    0\n",
       "edge_path                            ../input/alpha/alpha_network.csv\n",
       "embedding_path           ../output/embedding/alpha_sgcn_feature05.csv\n",
       "epochs                                                           1000\n",
       "features_path                   ../input/alpha/alpha_node_feature.csv\n",
       "general_features                                                 True\n",
       "lamb                                                                1\n",
       "layers                                                [64, 32, 16, 8]\n",
       "learning_rate                                                   0.005\n",
       "log_path                            ../logs/alpha_logs_feature05.json\n",
       "nodes_path                                ../input/alpha/alpha_gt.csv\n",
       "reduction_dimensions                                               30\n",
       "reduction_iterations                                              128\n",
       "regression_weights_path    ../output/weights/alpha_sgcn_feature05.csv\n",
       "seed                                                               42\n",
       "spectral_features                                               False\n",
       "test_size                                                         0.5\n",
       "weight_decay                                                   0.0001"
      ]
     },
     "execution_count": 3,
     "metadata": {},
     "output_type": "execute_result"
    }
   ],
   "source": [
    "pd.io.json.json_normalize(args).T"
   ]
  },
  {
   "cell_type": "code",
   "execution_count": 4,
   "metadata": {},
   "outputs": [],
   "source": [
    "#tab_printer(args)\n",
    "edges, nodes_dict = read_graph(args) # nodes_dict['indice']:node_id , nodes_dict['label'] : label"
   ]
  },
  {
   "cell_type": "code",
   "execution_count": 5,
   "metadata": {
    "scrolled": true
   },
   "outputs": [
    {
     "name": "stderr",
     "output_type": "stream",
     "text": [
      "SGCN (Loss=0.8201):   0%|          | 1/1000 [00:00<02:35,  6.43it/s]"
     ]
    },
    {
     "name": "stdout",
     "output_type": "stream",
     "text": [
      "\n",
      "Training started.\n",
      "\n"
     ]
    },
    {
     "name": "stderr",
     "output_type": "stream",
     "text": [
      "SGCN (Loss=0.022): 100%|██████████| 1000/1000 [02:32<00:00,  6.71it/s]\n"
     ]
    }
   ],
   "source": [
    "trainer = SignedGCNTrainer(args, edges, nodes_dict)\n",
    "trainer.setup_dataset()\n",
    "trainer.create_and_train_model()"
   ]
  },
  {
   "cell_type": "code",
   "execution_count": 6,
   "metadata": {
    "scrolled": true
   },
   "outputs": [
    {
     "name": "stdout",
     "output_type": "stream",
     "text": [
      "\n",
      "Embedding is saved.\n",
      "\n",
      "\n",
      "Regression weights are saved.\n",
      "\n",
      "+-------+-------+-------+\n",
      "| Epoch |  AUC  |  F1   |\n",
      "+=======+=======+=======+\n",
      "| 10    | 0.897 | 0.769 |\n",
      "+-------+-------+-------+\n",
      "| 20    | 0.930 | 0.859 |\n",
      "+-------+-------+-------+\n",
      "| 30    | 0.950 | 0.886 |\n",
      "+-------+-------+-------+\n",
      "| 40    | 0.959 | 0.892 |\n",
      "+-------+-------+-------+\n",
      "| 50    | 0.968 | 0.897 |\n",
      "+-------+-------+-------+\n",
      "| 60    | 0.946 | 0.903 |\n",
      "+-------+-------+-------+\n",
      "| 70    | 0.924 | 0.892 |\n",
      "+-------+-------+-------+\n",
      "| 80    | 0.932 | 0.879 |\n",
      "+-------+-------+-------+\n",
      "| 90    | 0.956 | 0.886 |\n",
      "+-------+-------+-------+\n",
      "| 100   | 0.971 | 0.870 |\n",
      "+-------+-------+-------+\n",
      "| 110   | 0.966 | 0.864 |\n",
      "+-------+-------+-------+\n",
      "| 120   | 0.977 | 0.848 |\n",
      "+-------+-------+-------+\n",
      "| 130   | 0.931 | 0.886 |\n",
      "+-------+-------+-------+\n",
      "| 140   | 0.964 | 0.875 |\n",
      "+-------+-------+-------+\n",
      "| 150   | 0.972 | 0.864 |\n",
      "+-------+-------+-------+\n",
      "| 160   | 0.969 | 0.854 |\n",
      "+-------+-------+-------+\n",
      "| 170   | 0.973 | 0.843 |\n",
      "+-------+-------+-------+\n",
      "| 180   | 0.964 | 0.838 |\n",
      "+-------+-------+-------+\n",
      "| 190   | 0.969 | 0.838 |\n",
      "+-------+-------+-------+\n",
      "| 200   | 0.964 | 0.838 |\n",
      "+-------+-------+-------+\n",
      "| 210   | 0.965 | 0.828 |\n",
      "+-------+-------+-------+\n",
      "| 220   | 0.964 | 0.833 |\n",
      "+-------+-------+-------+\n",
      "| 230   | 0.957 | 0.824 |\n",
      "+-------+-------+-------+\n",
      "| 240   | 0.956 | 0.809 |\n",
      "+-------+-------+-------+\n",
      "| 250   | 0.952 | 0.828 |\n",
      "+-------+-------+-------+\n",
      "| 260   | 0.957 | 0.805 |\n",
      "+-------+-------+-------+\n",
      "| 270   | 0.954 | 0.805 |\n",
      "+-------+-------+-------+\n",
      "| 280   | 0.950 | 0.805 |\n",
      "+-------+-------+-------+\n",
      "| 290   | 0.958 | 0.819 |\n",
      "+-------+-------+-------+\n",
      "| 300   | 0.958 | 0.824 |\n",
      "+-------+-------+-------+\n",
      "| 310   | 0.960 | 0.824 |\n",
      "+-------+-------+-------+\n",
      "| 320   | 0.950 | 0.800 |\n",
      "+-------+-------+-------+\n",
      "| 330   | 0.951 | 0.805 |\n",
      "+-------+-------+-------+\n",
      "| 340   | 0.947 | 0.800 |\n",
      "+-------+-------+-------+\n",
      "| 350   | 0.941 | 0.791 |\n",
      "+-------+-------+-------+\n",
      "| 360   | 0.934 | 0.782 |\n",
      "+-------+-------+-------+\n",
      "| 370   | 0.932 | 0.787 |\n",
      "+-------+-------+-------+\n",
      "| 380   | 0.951 | 0.809 |\n",
      "+-------+-------+-------+\n",
      "| 390   | 0.944 | 0.778 |\n",
      "+-------+-------+-------+\n",
      "| 400   | 0.972 | 0.875 |\n",
      "+-------+-------+-------+\n",
      "| 410   | 0.939 | 0.886 |\n",
      "+-------+-------+-------+\n",
      "| 420   | 0.956 | 0.881 |\n",
      "+-------+-------+-------+\n",
      "| 430   | 0.959 | 0.881 |\n",
      "+-------+-------+-------+\n",
      "| 440   | 0.978 | 0.859 |\n",
      "+-------+-------+-------+\n",
      "| 450   | 0.977 | 0.833 |\n",
      "+-------+-------+-------+\n",
      "| 460   | 0.962 | 0.828 |\n",
      "+-------+-------+-------+\n",
      "| 470   | 0.956 | 0.828 |\n",
      "+-------+-------+-------+\n",
      "| 480   | 0.955 | 0.805 |\n",
      "+-------+-------+-------+\n",
      "| 490   | 0.959 | 0.805 |\n",
      "+-------+-------+-------+\n",
      "| 500   | 0.935 | 0.800 |\n",
      "+-------+-------+-------+\n",
      "| 510   | 0.952 | 0.795 |\n",
      "+-------+-------+-------+\n",
      "| 520   | 0.941 | 0.800 |\n",
      "+-------+-------+-------+\n",
      "| 530   | 0.930 | 0.800 |\n",
      "+-------+-------+-------+\n",
      "| 540   | 0.945 | 0.787 |\n",
      "+-------+-------+-------+\n",
      "| 550   | 0.930 | 0.782 |\n",
      "+-------+-------+-------+\n",
      "| 560   | 0.944 | 0.787 |\n",
      "+-------+-------+-------+\n",
      "| 570   | 0.952 | 0.795 |\n",
      "+-------+-------+-------+\n",
      "| 580   | 0.932 | 0.795 |\n",
      "+-------+-------+-------+\n",
      "| 590   | 0.933 | 0.791 |\n",
      "+-------+-------+-------+\n",
      "| 600   | 0.949 | 0.791 |\n",
      "+-------+-------+-------+\n",
      "| 610   | 0.938 | 0.795 |\n",
      "+-------+-------+-------+\n",
      "| 620   | 0.936 | 0.787 |\n",
      "+-------+-------+-------+\n",
      "| 630   | 0.905 | 0.791 |\n",
      "+-------+-------+-------+\n",
      "| 640   | 0.937 | 0.787 |\n",
      "+-------+-------+-------+\n",
      "| 650   | 0.935 | 0.791 |\n",
      "+-------+-------+-------+\n",
      "| 660   | 0.937 | 0.782 |\n",
      "+-------+-------+-------+\n",
      "| 670   | 0.942 | 0.800 |\n",
      "+-------+-------+-------+\n",
      "| 680   | 0.917 | 0.787 |\n",
      "+-------+-------+-------+\n",
      "| 690   | 0.885 | 0.791 |\n",
      "+-------+-------+-------+\n",
      "| 700   | 0.931 | 0.787 |\n",
      "+-------+-------+-------+\n",
      "| 710   | 0.942 | 0.778 |\n",
      "+-------+-------+-------+\n",
      "| 720   | 0.923 | 0.791 |\n",
      "+-------+-------+-------+\n",
      "| 730   | 0.931 | 0.814 |\n",
      "+-------+-------+-------+\n",
      "| 740   | 0.929 | 0.800 |\n",
      "+-------+-------+-------+\n",
      "| 750   | 0.953 | 0.824 |\n",
      "+-------+-------+-------+\n",
      "| 760   | 0.916 | 0.809 |\n",
      "+-------+-------+-------+\n",
      "| 770   | 0.924 | 0.782 |\n",
      "+-------+-------+-------+\n",
      "| 780   | 0.939 | 0.805 |\n",
      "+-------+-------+-------+\n",
      "| 790   | 0.940 | 0.814 |\n",
      "+-------+-------+-------+\n",
      "| 800   | 0.947 | 0.819 |\n",
      "+-------+-------+-------+\n",
      "| 810   | 0.937 | 0.809 |\n",
      "+-------+-------+-------+\n",
      "| 820   | 0.920 | 0.819 |\n",
      "+-------+-------+-------+\n",
      "| 830   | 0.946 | 0.819 |\n",
      "+-------+-------+-------+\n",
      "| 840   | 0.907 | 0.809 |\n",
      "+-------+-------+-------+\n",
      "| 850   | 0.951 | 0.819 |\n",
      "+-------+-------+-------+\n",
      "| 860   | 0.942 | 0.824 |\n",
      "+-------+-------+-------+\n",
      "| 870   | 0.920 | 0.814 |\n",
      "+-------+-------+-------+\n",
      "| 880   | 0.917 | 0.814 |\n",
      "+-------+-------+-------+\n",
      "| 890   | 0.913 | 0.814 |\n",
      "+-------+-------+-------+\n",
      "| 900   | 0.931 | 0.814 |\n",
      "+-------+-------+-------+\n",
      "| 910   | 0.918 | 0.828 |\n",
      "+-------+-------+-------+\n",
      "| 920   | 0.903 | 0.814 |\n",
      "+-------+-------+-------+\n",
      "| 930   | 0.915 | 0.824 |\n",
      "+-------+-------+-------+\n",
      "| 940   | 0.900 | 0.819 |\n",
      "+-------+-------+-------+\n",
      "| 950   | 0.926 | 0.819 |\n",
      "+-------+-------+-------+\n",
      "| 960   | 0.904 | 0.819 |\n",
      "+-------+-------+-------+\n",
      "| 970   | 0.881 | 0.809 |\n",
      "+-------+-------+-------+\n",
      "| 980   | 0.926 | 0.809 |\n",
      "+-------+-------+-------+\n",
      "| 990   | 0.900 | 0.814 |\n",
      "+-------+-------+-------+\n",
      "| 1000  | 0.943 | 0.819 |\n",
      "+-------+-------+-------+\n"
     ]
    }
   ],
   "source": [
    "if args.test_size > 0:\n",
    "    trainer.save_model()\n",
    "    score_printer(trainer.logs)\n",
    "    save_logs(args, trainer.logs)"
   ]
  },
  {
   "cell_type": "code",
   "execution_count": 7,
   "metadata": {},
   "outputs": [],
   "source": [
    "import json"
   ]
  },
  {
   "cell_type": "code",
   "execution_count": 8,
   "metadata": {},
   "outputs": [],
   "source": [
    "performance = pd.DataFrame(json.load(open('../logs/alpha_logs_feature05.json','r'))['performance'])\n",
    "\n",
    "performance.columns = performance.iloc[0,:]\n",
    "\n",
    "performance = performance.iloc[1:,:]"
   ]
  },
  {
   "cell_type": "code",
   "execution_count": 9,
   "metadata": {
    "scrolled": true
   },
   "outputs": [
    {
     "data": {
      "text/plain": [
       "<matplotlib.axes._subplots.AxesSubplot at 0x7f3007821828>"
      ]
     },
     "execution_count": 9,
     "metadata": {},
     "output_type": "execute_result"
    },
    {
     "data": {
      "image/png": "[encoded data removed]",
      "text/plain": [
       "<Figure size 432x288 with 1 Axes>"
      ]
     },
     "metadata": {},
     "output_type": "display_data"
    }
   ],
   "source": [
    "performance['AUC'].plot()"
   ]
  },
  {
   "cell_type": "code",
   "execution_count": 16,
   "metadata": {
    "scrolled": true
   },
   "outputs": [],
   "source": [
    "feature = pd.read_csv('../output/embedding/alpha_sgcn_feature05.csv',index_col='id')\n",
    "\n",
    "weight = pd.read_csv('../output/weights/alpha_sgcn_feature05.csv')"
   ]
  },
  {
   "cell_type": "code",
   "execution_count": 17,
   "metadata": {},
   "outputs": [],
   "source": [
    "predictions = np.dot(feature.values,weight.values.T)"
   ]
  },
  {
   "cell_type": "code",
   "execution_count": 18,
   "metadata": {},
   "outputs": [
    {
     "name": "stderr",
     "output_type": "stream",
     "text": [
      "/home/ubuntu/anaconda3/envs/pytorch_p36/lib/python3.6/site-packages/ipykernel/__main__.py:1: UserWarning: Implicit dimension choice for softmax has been deprecated. Change the call to include dim=X as an argument.\n",
      "  if __name__ == '__main__':\n"
     ]
    }
   ],
   "source": [
    "probabilities = torch.nn.functional.softmax(torch.from_numpy(predictions)).numpy()"
   ]
  },
  {
   "cell_type": "code",
   "execution_count": 19,
   "metadata": {},
   "outputs": [],
   "source": [
    "predict_labels = probabilities.argmax(1)"
   ]
  },
  {
   "cell_type": "code",
   "execution_count": 20,
   "metadata": {},
   "outputs": [
    {
     "data": {
      "text/plain": [
       "array([[ 72,  30],\n",
       "       [  0, 138]])"
      ]
     },
     "execution_count": 20,
     "metadata": {},
     "output_type": "execute_result"
    }
   ],
   "source": [
    "from sklearn.metrics import accuracy_score,confusion_matrix\n",
    "confusion_matrix([0 if i==-1 else 1 for i in nodes_dict['label']],predict_labels[nodes_dict['indice']])"
   ]
  },
  {
   "cell_type": "code",
   "execution_count": null,
   "metadata": {},
   "outputs": [],
   "source": []
  }
 ],
 "metadata": {
  "kernelspec": {
   "display_name": "Environment (conda_pytorch_p36)",
   "language": "python",
   "name": "conda_pytorch_p36"
  },
  "language_info": {
   "codemirror_mode": {
    "name": "ipython",
    "version": 3
   },
   "file_extension": ".py",
   "mimetype": "text/x-python",
   "name": "python",
   "nbconvert_exporter": "python",
   "pygments_lexer": "ipython3",
   "version": "3.6.5"
  }
 },
 "nbformat": 4,
 "nbformat_minor": 2
}
