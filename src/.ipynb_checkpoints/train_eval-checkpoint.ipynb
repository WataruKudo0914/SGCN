{
 "cells": [
  {
   "cell_type": "markdown",
   "metadata": {},
   "source": [
    "# Signed Graph Convolutional Network(SGCN)を用いたFraud User Detection"
   ]
  },
  {
   "cell_type": "markdown",
   "metadata": {},
   "source": [
    "```sh\n",
    "pip install -r /home/ubuntu/SGCN/requirements.txt\n",
    "pip install torch_scatter\n",
    "pip install torch_sparse\n",
    "pip install easydict\n",
    "```\n"
   ]
  },
  {
   "cell_type": "code",
   "execution_count": 1,
   "metadata": {
    "scrolled": true
   },
   "outputs": [
    {
     "name": "stderr",
     "output_type": "stream",
     "text": [
      "/home/ubuntu/anaconda3/envs/pytorch_p36/lib/python3.6/site-packages/matplotlib/__init__.py:1067: UserWarning: Duplicate key in file \"/home/ubuntu/.config/matplotlib/matplotlibrc\", line #2\n",
      "  (fname, cnt))\n",
      "/home/ubuntu/anaconda3/envs/pytorch_p36/lib/python3.6/site-packages/matplotlib/__init__.py:1067: UserWarning: Duplicate key in file \"/home/ubuntu/.config/matplotlib/matplotlibrc\", line #3\n",
      "  (fname, cnt))\n"
     ]
    }
   ],
   "source": [
    "from sgcn import SignedGCNTrainer\n",
    "from parser import parameter_parser\n",
    "from utils import tab_printer, read_graph, score_printer, save_logs\n",
    "import argparse\n",
    "import pandas as pd\n",
    "import numpy as np\n",
    "import torch\n",
    "import json\n",
    "from sklearn.metrics import roc_auc_score\n",
    "%matplotlib inline"
   ]
  },
  {
   "cell_type": "code",
   "execution_count": 2,
   "metadata": {},
   "outputs": [],
   "source": [
    "import easydict\n",
    "args = easydict.EasyDict({\n",
    "        \"edge_path\": '../input/alpha/alpha_network.csv',#'../input/alpha/user_network.csv',\n",
    "        \"features_path\":  '../input/alpha/alpha_node_feature.csv',#'../input/alpha/user_network.csv',\n",
    "        \"nodes_path\": '../input/alpha/alpha_gt.csv',\n",
    "        \"embedding_path\": '../tmp/embedding/alpha_sgcn_feature05.csv', # tmp folder for cross-validation\n",
    "        \"regression_weights_path\": '../tmp/weights/alpha_sgcn_feature05.csv',\n",
    "        \"log_path\": '../logs/alpha_logs_feature05.json',\n",
    "        \"epochs\":300,\n",
    "        \"test_size\":0.33,\n",
    "        \"reduction_iterations\": 128,\n",
    "        \"reduction_dimensions\": 30,\n",
    "        \"seed\": 42,\n",
    "        \"lamb\": 1.0,\n",
    "        \"learning_rate\": 0.005,  \n",
    "        \"weight_decay\": 10e-5, \n",
    "        \"layers\": [64, 32,16,8],\n",
    "        \"spectral_features\":False,\n",
    "        \"general_features\": True,  \n",
    "})"
   ]
  },
  {
   "cell_type": "code",
   "execution_count": 3,
   "metadata": {},
   "outputs": [
    {
     "data": {
      "text/html": [
       "<div>\n",
       "<style scoped>\n",
       "    .dataframe tbody tr th:only-of-type {\n",
       "        vertical-align: middle;\n",
       "    }\n",
       "\n",
       "    .dataframe tbody tr th {\n",
       "        vertical-align: top;\n",
       "    }\n",
       "\n",
       "    .dataframe thead th {\n",
       "        text-align: right;\n",
       "    }\n",
       "</style>\n",
       "<table border=\"1\" class=\"dataframe\">\n",
       "  <thead>\n",
       "    <tr style=\"text-align: right;\">\n",
       "      <th></th>\n",
       "      <th>0</th>\n",
       "    </tr>\n",
       "  </thead>\n",
       "  <tbody>\n",
       "    <tr>\n",
       "      <th>edge_path</th>\n",
       "      <td>../input/alpha/alpha_network.csv</td>\n",
       "    </tr>\n",
       "    <tr>\n",
       "      <th>embedding_path</th>\n",
       "      <td>../tmp/embedding/alpha_sgcn_feature05.csv</td>\n",
       "    </tr>\n",
       "    <tr>\n",
       "      <th>epochs</th>\n",
       "      <td>300</td>\n",
       "    </tr>\n",
       "    <tr>\n",
       "      <th>features_path</th>\n",
       "      <td>../input/alpha/alpha_node_feature.csv</td>\n",
       "    </tr>\n",
       "    <tr>\n",
       "      <th>general_features</th>\n",
       "      <td>True</td>\n",
       "    </tr>\n",
       "    <tr>\n",
       "      <th>lamb</th>\n",
       "      <td>1</td>\n",
       "    </tr>\n",
       "    <tr>\n",
       "      <th>layers</th>\n",
       "      <td>[64, 32, 16, 8]</td>\n",
       "    </tr>\n",
       "    <tr>\n",
       "      <th>learning_rate</th>\n",
       "      <td>0.005</td>\n",
       "    </tr>\n",
       "    <tr>\n",
       "      <th>log_path</th>\n",
       "      <td>../logs/alpha_logs_feature05.json</td>\n",
       "    </tr>\n",
       "    <tr>\n",
       "      <th>nodes_path</th>\n",
       "      <td>../input/alpha/alpha_gt.csv</td>\n",
       "    </tr>\n",
       "    <tr>\n",
       "      <th>reduction_dimensions</th>\n",
       "      <td>30</td>\n",
       "    </tr>\n",
       "    <tr>\n",
       "      <th>reduction_iterations</th>\n",
       "      <td>128</td>\n",
       "    </tr>\n",
       "    <tr>\n",
       "      <th>regression_weights_path</th>\n",
       "      <td>../tmp/weights/alpha_sgcn_feature05.csv</td>\n",
       "    </tr>\n",
       "    <tr>\n",
       "      <th>seed</th>\n",
       "      <td>42</td>\n",
       "    </tr>\n",
       "    <tr>\n",
       "      <th>spectral_features</th>\n",
       "      <td>False</td>\n",
       "    </tr>\n",
       "    <tr>\n",
       "      <th>test_size</th>\n",
       "      <td>0.33</td>\n",
       "    </tr>\n",
       "    <tr>\n",
       "      <th>weight_decay</th>\n",
       "      <td>0.0001</td>\n",
       "    </tr>\n",
       "  </tbody>\n",
       "</table>\n",
       "</div>"
      ],
      "text/plain": [
       "                                                                 0\n",
       "edge_path                         ../input/alpha/alpha_network.csv\n",
       "embedding_path           ../tmp/embedding/alpha_sgcn_feature05.csv\n",
       "epochs                                                         300\n",
       "features_path                ../input/alpha/alpha_node_feature.csv\n",
       "general_features                                              True\n",
       "lamb                                                             1\n",
       "layers                                             [64, 32, 16, 8]\n",
       "learning_rate                                                0.005\n",
       "log_path                         ../logs/alpha_logs_feature05.json\n",
       "nodes_path                             ../input/alpha/alpha_gt.csv\n",
       "reduction_dimensions                                            30\n",
       "reduction_iterations                                           128\n",
       "regression_weights_path    ../tmp/weights/alpha_sgcn_feature05.csv\n",
       "seed                                                            42\n",
       "spectral_features                                            False\n",
       "test_size                                                     0.33\n",
       "weight_decay                                                0.0001"
      ]
     },
     "execution_count": 3,
     "metadata": {},
     "output_type": "execute_result"
    }
   ],
   "source": [
    "pd.io.json.json_normalize(args).T"
   ]
  },
  {
   "cell_type": "markdown",
   "metadata": {},
   "source": [
    "## 10-fold cross-validation\n",
    "- train : validation : test = 6:3:1"
   ]
  },
  {
   "cell_type": "code",
   "execution_count": 4,
   "metadata": {},
   "outputs": [],
   "source": [
    "#tab_printer(args)\n",
    "edges, nodes_dict = read_graph(args) # nodes_dict['indice']:node_id , nodes_dict['label'] : label"
   ]
  },
  {
   "cell_type": "code",
   "execution_count": 5,
   "metadata": {},
   "outputs": [],
   "source": [
    "from sklearn.model_selection import StratifiedKFold"
   ]
  },
  {
   "cell_type": "code",
   "execution_count": 6,
   "metadata": {},
   "outputs": [],
   "source": [
    "kf = StratifiedKFold(n_splits=10)\n",
    "all_indice = nodes_dict['indice']\n",
    "all_labels = nodes_dict['label']\n",
    "auc_scores = []"
   ]
  },
  {
   "cell_type": "code",
   "execution_count": 7,
   "metadata": {
    "scrolled": true
   },
   "outputs": [
    {
     "name": "stdout",
     "output_type": "stream",
     "text": [
      "0-th fold\n"
     ]
    },
    {
     "name": "stderr",
     "output_type": "stream",
     "text": [
      "SGCN (Loss=0.8153):   0%|          | 0/300 [00:00<?, ?it/s]"
     ]
    },
    {
     "name": "stdout",
     "output_type": "stream",
     "text": [
      "\n",
      "Training started.\n",
      "\n",
      "\n",
      "Embedding is saved.\n",
      "\n"
     ]
    },
    {
     "name": "stderr",
     "output_type": "stream",
     "text": [
      "SGCN (Loss=0.7041):   0%|          | 1/300 [00:00<01:20,  3.70it/s]"
     ]
    },
    {
     "name": "stdout",
     "output_type": "stream",
     "text": [
      "\n",
      "Regression weights are saved.\n",
      "\n",
      "\n",
      "Embedding is saved.\n",
      "\n"
     ]
    },
    {
     "name": "stderr",
     "output_type": "stream",
     "text": [
      "SGCN (Loss=0.6557):   1%|          | 2/300 [00:00<01:19,  3.74it/s]"
     ]
    },
    {
     "name": "stdout",
     "output_type": "stream",
     "text": [
      "\n",
      "Regression weights are saved.\n",
      "\n",
      "\n",
      "Embedding is saved.\n",
      "\n"
     ]
    },
    {
     "name": "stderr",
     "output_type": "stream",
     "text": [
      "SGCN (Loss=0.6576):   1%|          | 3/300 [00:00<01:18,  3.78it/s]"
     ]
    },
    {
     "name": "stdout",
     "output_type": "stream",
     "text": [
      "\n",
      "Regression weights are saved.\n",
      "\n",
      "\n",
      "Embedding is saved.\n",
      "\n"
     ]
    },
    {
     "name": "stderr",
     "output_type": "stream",
     "text": [
      "SGCN (Loss=0.6529):   1%|▏         | 4/300 [00:01<01:17,  3.80it/s]"
     ]
    },
    {
     "name": "stdout",
     "output_type": "stream",
     "text": [
      "\n",
      "Regression weights are saved.\n",
      "\n",
      "\n",
      "Embedding is saved.\n",
      "\n"
     ]
    },
    {
     "name": "stderr",
     "output_type": "stream",
     "text": [
      "SGCN (Loss=0.6387):   2%|▏         | 5/300 [00:01<01:17,  3.82it/s]"
     ]
    },
    {
     "name": "stdout",
     "output_type": "stream",
     "text": [
      "\n",
      "Regression weights are saved.\n",
      "\n",
      "\n",
      "Embedding is saved.\n",
      "\n"
     ]
    },
    {
     "name": "stderr",
     "output_type": "stream",
     "text": [
      "SGCN (Loss=0.6273):   2%|▏         | 6/300 [00:01<01:16,  3.84it/s]"
     ]
    },
    {
     "name": "stdout",
     "output_type": "stream",
     "text": [
      "\n",
      "Regression weights are saved.\n",
      "\n",
      "\n",
      "Embedding is saved.\n",
      "\n"
     ]
    },
    {
     "name": "stderr",
     "output_type": "stream",
     "text": [
      "SGCN (Loss=0.6154):   3%|▎         | 8/300 [00:01<01:05,  4.43it/s]"
     ]
    },
    {
     "name": "stdout",
     "output_type": "stream",
     "text": [
      "\n",
      "Regression weights are saved.\n",
      "\n"
     ]
    },
    {
     "name": "stderr",
     "output_type": "stream",
     "text": [
      "SGCN (Loss=0.6066):   3%|▎         | 9/300 [00:02<01:08,  4.23it/s]"
     ]
    },
    {
     "name": "stdout",
     "output_type": "stream",
     "text": [
      "\n",
      "Embedding is saved.\n",
      "\n",
      "\n",
      "Regression weights are saved.\n",
      "\n"
     ]
    },
    {
     "name": "stderr",
     "output_type": "stream",
     "text": [
      "SGCN (Loss=0.6062):   3%|▎         | 10/300 [00:02<01:10,  4.11it/s]"
     ]
    },
    {
     "name": "stdout",
     "output_type": "stream",
     "text": [
      "\n",
      "Embedding is saved.\n",
      "\n",
      "\n",
      "Regression weights are saved.\n",
      "\n"
     ]
    },
    {
     "name": "stderr",
     "output_type": "stream",
     "text": [
      "SGCN (Loss=0.5935):   4%|▎         | 11/300 [00:02<01:11,  4.04it/s]"
     ]
    },
    {
     "name": "stdout",
     "output_type": "stream",
     "text": [
      "\n",
      "Embedding is saved.\n",
      "\n",
      "\n",
      "Regression weights are saved.\n",
      "\n"
     ]
    },
    {
     "name": "stderr",
     "output_type": "stream",
     "text": [
      "SGCN (Loss=0.5799):   4%|▍         | 12/300 [00:03<01:12,  3.98it/s]"
     ]
    },
    {
     "name": "stdout",
     "output_type": "stream",
     "text": [
      "\n",
      "Embedding is saved.\n",
      "\n",
      "\n",
      "Regression weights are saved.\n",
      "\n"
     ]
    },
    {
     "name": "stderr",
     "output_type": "stream",
     "text": [
      "SGCN (Loss=0.573):   5%|▌         | 15/300 [00:03<01:01,  4.63it/s] "
     ]
    },
    {
     "name": "stdout",
     "output_type": "stream",
     "text": [
      "\n",
      "Embedding is saved.\n",
      "\n",
      "\n",
      "Regression weights are saved.\n",
      "\n"
     ]
    },
    {
     "name": "stderr",
     "output_type": "stream",
     "text": [
      "SGCN (Loss=0.5594):   5%|▌         | 16/300 [00:03<01:05,  4.37it/s]"
     ]
    },
    {
     "name": "stdout",
     "output_type": "stream",
     "text": [
      "\n",
      "Embedding is saved.\n",
      "\n",
      "\n",
      "Regression weights are saved.\n",
      "\n"
     ]
    },
    {
     "name": "stderr",
     "output_type": "stream",
     "text": [
      "SGCN (Loss=0.5416):   6%|▌         | 17/300 [00:04<01:07,  4.19it/s]"
     ]
    },
    {
     "name": "stdout",
     "output_type": "stream",
     "text": [
      "\n",
      "Embedding is saved.\n",
      "\n",
      "\n",
      "Regression weights are saved.\n",
      "\n"
     ]
    },
    {
     "name": "stderr",
     "output_type": "stream",
     "text": [
      "SGCN (Loss=0.5308):   6%|▌         | 18/300 [00:04<01:09,  4.08it/s]"
     ]
    },
    {
     "name": "stdout",
     "output_type": "stream",
     "text": [
      "\n",
      "Embedding is saved.\n",
      "\n",
      "\n",
      "Regression weights are saved.\n",
      "\n"
     ]
    },
    {
     "name": "stderr",
     "output_type": "stream",
     "text": [
      "SGCN (Loss=0.5141):   6%|▋         | 19/300 [00:04<01:10,  4.01it/s]"
     ]
    },
    {
     "name": "stdout",
     "output_type": "stream",
     "text": [
      "\n",
      "Embedding is saved.\n",
      "\n",
      "\n",
      "Regression weights are saved.\n",
      "\n"
     ]
    },
    {
     "name": "stderr",
     "output_type": "stream",
     "text": [
      "SGCN (Loss=0.4982):   7%|▋         | 20/300 [00:04<01:10,  3.95it/s]"
     ]
    },
    {
     "name": "stdout",
     "output_type": "stream",
     "text": [
      "\n",
      "Embedding is saved.\n",
      "\n",
      "\n",
      "Regression weights are saved.\n",
      "\n"
     ]
    },
    {
     "name": "stderr",
     "output_type": "stream",
     "text": [
      "SGCN (Loss=0.4958):   7%|▋         | 21/300 [00:05<01:11,  3.92it/s]"
     ]
    },
    {
     "name": "stdout",
     "output_type": "stream",
     "text": [
      "\n",
      "Embedding is saved.\n",
      "\n",
      "\n",
      "Regression weights are saved.\n",
      "\n"
     ]
    },
    {
     "name": "stderr",
     "output_type": "stream",
     "text": [
      "SGCN (Loss=0.4893):   7%|▋         | 22/300 [00:05<01:11,  3.90it/s]"
     ]
    },
    {
     "name": "stdout",
     "output_type": "stream",
     "text": [
      "\n",
      "Embedding is saved.\n",
      "\n",
      "\n",
      "Regression weights are saved.\n",
      "\n"
     ]
    },
    {
     "name": "stderr",
     "output_type": "stream",
     "text": [
      "SGCN (Loss=0.4584):   8%|▊         | 25/300 [00:05<00:59,  4.59it/s]"
     ]
    },
    {
     "name": "stdout",
     "output_type": "stream",
     "text": [
      "\n",
      "Embedding is saved.\n",
      "\n",
      "\n",
      "Regression weights are saved.\n",
      "\n"
     ]
    },
    {
     "name": "stderr",
     "output_type": "stream",
     "text": [
      "SGCN (Loss=0.4473):   9%|▊         | 26/300 [00:06<01:03,  4.35it/s]"
     ]
    },
    {
     "name": "stdout",
     "output_type": "stream",
     "text": [
      "\n",
      "Embedding is saved.\n",
      "\n",
      "\n",
      "Regression weights are saved.\n",
      "\n"
     ]
    },
    {
     "name": "stderr",
     "output_type": "stream",
     "text": [
      "SGCN (Loss=0.4468):   9%|▉         | 28/300 [00:06<01:00,  4.52it/s]"
     ]
    },
    {
     "name": "stdout",
     "output_type": "stream",
     "text": [
      "\n",
      "Embedding is saved.\n",
      "\n",
      "\n",
      "Regression weights are saved.\n",
      "\n"
     ]
    },
    {
     "name": "stderr",
     "output_type": "stream",
     "text": [
      "SGCN (Loss=0.368):  15%|█▍        | 44/300 [00:09<00:46,  5.50it/s] "
     ]
    },
    {
     "name": "stdout",
     "output_type": "stream",
     "text": [
      "\n",
      "Embedding is saved.\n",
      "\n",
      "\n",
      "Regression weights are saved.\n",
      "\n"
     ]
    },
    {
     "name": "stderr",
     "output_type": "stream",
     "text": [
      "SGCN (Loss=0.351):  15%|█▌        | 45/300 [00:09<00:52,  4.86it/s]"
     ]
    },
    {
     "name": "stdout",
     "output_type": "stream",
     "text": [
      "\n",
      "Embedding is saved.\n",
      "\n",
      "\n",
      "Regression weights are saved.\n",
      "\n"
     ]
    },
    {
     "name": "stderr",
     "output_type": "stream",
     "text": [
      "SGCN (Loss=0.3467):  15%|█▌        | 46/300 [00:09<00:56,  4.51it/s]"
     ]
    },
    {
     "name": "stdout",
     "output_type": "stream",
     "text": [
      "\n",
      "Embedding is saved.\n",
      "\n",
      "\n",
      "Regression weights are saved.\n",
      "\n"
     ]
    },
    {
     "name": "stderr",
     "output_type": "stream",
     "text": [
      "SGCN (Loss=0.3374):  16%|█▌        | 47/300 [00:09<00:59,  4.28it/s]"
     ]
    },
    {
     "name": "stdout",
     "output_type": "stream",
     "text": [
      "\n",
      "Embedding is saved.\n",
      "\n",
      "\n",
      "Regression weights are saved.\n",
      "\n"
     ]
    },
    {
     "name": "stderr",
     "output_type": "stream",
     "text": [
      "SGCN (Loss=0.3238):  17%|█▋        | 51/300 [00:10<00:50,  4.94it/s]"
     ]
    },
    {
     "name": "stdout",
     "output_type": "stream",
     "text": [
      "\n",
      "Embedding is saved.\n",
      "\n",
      "\n",
      "Regression weights are saved.\n",
      "\n"
     ]
    },
    {
     "name": "stderr",
     "output_type": "stream",
     "text": [
      "SGCN (Loss=0.2959):  20%|██        | 60/300 [00:12<00:44,  5.45it/s]"
     ]
    },
    {
     "name": "stdout",
     "output_type": "stream",
     "text": [
      "\n",
      "Embedding is saved.\n",
      "\n",
      "\n",
      "Regression weights are saved.\n",
      "\n"
     ]
    },
    {
     "name": "stderr",
     "output_type": "stream",
     "text": [
      "SGCN (Loss=0.2891):  20%|██        | 61/300 [00:12<00:49,  4.83it/s]"
     ]
    },
    {
     "name": "stdout",
     "output_type": "stream",
     "text": [
      "\n",
      "Embedding is saved.\n",
      "\n",
      "\n",
      "Regression weights are saved.\n",
      "\n"
     ]
    },
    {
     "name": "stderr",
     "output_type": "stream",
     "text": [
      "SGCN (Loss=0.291):  21%|██        | 62/300 [00:12<00:53,  4.48it/s] "
     ]
    },
    {
     "name": "stdout",
     "output_type": "stream",
     "text": [
      "\n",
      "Embedding is saved.\n",
      "\n",
      "\n",
      "Regression weights are saved.\n",
      "\n"
     ]
    },
    {
     "name": "stderr",
     "output_type": "stream",
     "text": [
      "SGCN (Loss=0.2662):  23%|██▎       | 68/300 [00:13<00:44,  5.27it/s]"
     ]
    },
    {
     "name": "stdout",
     "output_type": "stream",
     "text": [
      "\n",
      "Embedding is saved.\n",
      "\n",
      "\n",
      "Regression weights are saved.\n",
      "\n"
     ]
    },
    {
     "name": "stderr",
     "output_type": "stream",
     "text": [
      "SGCN (Loss=0.0646): 100%|██████████| 300/300 [00:48<00:00,  6.64it/s]\n",
      "/home/ubuntu/anaconda3/envs/pytorch_p36/lib/python3.6/site-packages/ipykernel/__main__.py:26: UserWarning: Implicit dimension choice for softmax has been deprecated. Change the call to include dim=X as an argument.\n",
      "SGCN (Loss=0.8208):   0%|          | 0/300 [00:00<?, ?it/s]"
     ]
    },
    {
     "name": "stdout",
     "output_type": "stream",
     "text": [
      "+-------+-------+-------+\n",
      "| Epoch |  AUC  |  F1   |\n",
      "+=======+=======+=======+\n",
      "| 10    | 0.912 | 0.774 |\n",
      "+-------+-------+-------+\n",
      "| 20    | 0.955 | 0.891 |\n",
      "+-------+-------+-------+\n",
      "| 30    | 0.958 | 0.921 |\n",
      "+-------+-------+-------+\n",
      "| 40    | 0.963 | 0.921 |\n",
      "+-------+-------+-------+\n",
      "| 50    | 0.988 | 0.901 |\n",
      "+-------+-------+-------+\n",
      "| 60    | 0.995 | 0.911 |\n",
      "+-------+-------+-------+\n",
      "| 70    | 0.995 | 0.911 |\n",
      "+-------+-------+-------+\n",
      "| 80    | 0.983 | 0.921 |\n",
      "+-------+-------+-------+\n",
      "| 90    | 0.976 | 0.901 |\n",
      "+-------+-------+-------+\n",
      "| 100   | 0.979 | 0.911 |\n",
      "+-------+-------+-------+\n",
      "| 110   | 0.985 | 0.911 |\n",
      "+-------+-------+-------+\n",
      "| 120   | 0.978 | 0.921 |\n",
      "+-------+-------+-------+\n",
      "| 130   | 0.967 | 0.901 |\n",
      "+-------+-------+-------+\n",
      "| 140   | 0.963 | 0.911 |\n",
      "+-------+-------+-------+\n",
      "| 150   | 0.967 | 0.901 |\n",
      "+-------+-------+-------+\n",
      "| 160   | 0.961 | 0.901 |\n",
      "+-------+-------+-------+\n",
      "| 170   | 0.954 | 0.891 |\n",
      "+-------+-------+-------+\n",
      "| 180   | 0.954 | 0.901 |\n",
      "+-------+-------+-------+\n",
      "| 190   | 0.952 | 0.845 |\n",
      "+-------+-------+-------+\n",
      "| 200   | 0.980 | 0.882 |\n",
      "+-------+-------+-------+\n",
      "| 210   | 0.927 | 0.863 |\n",
      "+-------+-------+-------+\n",
      "| 220   | 0.971 | 0.845 |\n",
      "+-------+-------+-------+\n",
      "| 230   | 0.962 | 0.837 |\n",
      "+-------+-------+-------+\n",
      "| 240   | 0.985 | 0.882 |\n",
      "+-------+-------+-------+\n",
      "| 250   | 0.981 | 0.872 |\n",
      "+-------+-------+-------+\n",
      "| 260   | 0.989 | 0.854 |\n",
      "+-------+-------+-------+\n",
      "| 270   | 0.983 | 0.854 |\n",
      "+-------+-------+-------+\n",
      "| 280   | 0.976 | 0.854 |\n",
      "+-------+-------+-------+\n",
      "| 290   | 0.989 | 0.854 |\n",
      "+-------+-------+-------+\n",
      "| 300   | 0.967 | 0.837 |\n",
      "+-------+-------+-------+\n",
      "1-th fold\n",
      "\n",
      "Training started.\n",
      "\n"
     ]
    },
    {
     "name": "stderr",
     "output_type": "stream",
     "text": [
      "\r",
      "SGCN (Loss=0.8208):   0%|          | 1/300 [00:00<01:18,  3.83it/s]"
     ]
    },
    {
     "name": "stdout",
     "output_type": "stream",
     "text": [
      "\n",
      "Embedding is saved.\n",
      "\n",
      "\n",
      "Regression weights are saved.\n",
      "\n"
     ]
    },
    {
     "name": "stderr",
     "output_type": "stream",
     "text": [
      "SGCN (Loss=0.7034):   1%|          | 2/300 [00:00<01:21,  3.67it/s]"
     ]
    },
    {
     "name": "stdout",
     "output_type": "stream",
     "text": [
      "\n",
      "Embedding is saved.\n",
      "\n",
      "\n",
      "Regression weights are saved.\n",
      "\n"
     ]
    },
    {
     "name": "stderr",
     "output_type": "stream",
     "text": [
      "SGCN (Loss=0.6562):   1%|          | 3/300 [00:00<01:23,  3.54it/s]"
     ]
    },
    {
     "name": "stdout",
     "output_type": "stream",
     "text": [
      "\n",
      "Embedding is saved.\n",
      "\n",
      "\n",
      "Regression weights are saved.\n",
      "\n"
     ]
    },
    {
     "name": "stderr",
     "output_type": "stream",
     "text": [
      "SGCN (Loss=0.6598):   1%|▏         | 4/300 [00:01<01:22,  3.57it/s]"
     ]
    },
    {
     "name": "stdout",
     "output_type": "stream",
     "text": [
      "\n",
      "Embedding is saved.\n",
      "\n",
      "\n",
      "Regression weights are saved.\n",
      "\n"
     ]
    },
    {
     "name": "stderr",
     "output_type": "stream",
     "text": [
      "SGCN (Loss=0.654):   2%|▏         | 5/300 [00:01<01:24,  3.50it/s] "
     ]
    },
    {
     "name": "stdout",
     "output_type": "stream",
     "text": [
      "\n",
      "Embedding is saved.\n",
      "\n",
      "\n",
      "Regression weights are saved.\n",
      "\n"
     ]
    },
    {
     "name": "stderr",
     "output_type": "stream",
     "text": [
      "SGCN (Loss=0.6258):   2%|▏         | 7/300 [00:01<01:13,  4.01it/s]"
     ]
    },
    {
     "name": "stdout",
     "output_type": "stream",
     "text": [
      "\n",
      "Embedding is saved.\n",
      "\n",
      "\n",
      "Regression weights are saved.\n",
      "\n"
     ]
    },
    {
     "name": "stderr",
     "output_type": "stream",
     "text": [
      "SGCN (Loss=0.6184):   3%|▎         | 8/300 [00:02<01:13,  3.95it/s]"
     ]
    },
    {
     "name": "stdout",
     "output_type": "stream",
     "text": [
      "\n",
      "Embedding is saved.\n",
      "\n",
      "\n",
      "Regression weights are saved.\n",
      "\n"
     ]
    },
    {
     "name": "stderr",
     "output_type": "stream",
     "text": [
      "SGCN (Loss=0.6089):   3%|▎         | 9/300 [00:02<01:14,  3.92it/s]"
     ]
    },
    {
     "name": "stdout",
     "output_type": "stream",
     "text": [
      "\n",
      "Embedding is saved.\n",
      "\n",
      "\n",
      "Regression weights are saved.\n",
      "\n"
     ]
    },
    {
     "name": "stderr",
     "output_type": "stream",
     "text": [
      "SGCN (Loss=0.6032):   3%|▎         | 10/300 [00:02<01:14,  3.89it/s]"
     ]
    },
    {
     "name": "stdout",
     "output_type": "stream",
     "text": [
      "\n",
      "Embedding is saved.\n",
      "\n",
      "\n",
      "Regression weights are saved.\n",
      "\n"
     ]
    },
    {
     "name": "stderr",
     "output_type": "stream",
     "text": [
      "SGCN (Loss=0.6018):   4%|▎         | 11/300 [00:02<01:14,  3.86it/s]"
     ]
    },
    {
     "name": "stdout",
     "output_type": "stream",
     "text": [
      "\n",
      "Embedding is saved.\n",
      "\n",
      "\n",
      "Regression weights are saved.\n",
      "\n"
     ]
    },
    {
     "name": "stderr",
     "output_type": "stream",
     "text": [
      "SGCN (Loss=0.5845):   4%|▍         | 12/300 [00:03<01:15,  3.80it/s]"
     ]
    },
    {
     "name": "stdout",
     "output_type": "stream",
     "text": [
      "\n",
      "Embedding is saved.\n",
      "\n",
      "\n",
      "Regression weights are saved.\n",
      "\n"
     ]
    },
    {
     "name": "stderr",
     "output_type": "stream",
     "text": [
      "SGCN (Loss=0.5847):   4%|▍         | 13/300 [00:03<01:15,  3.81it/s]"
     ]
    },
    {
     "name": "stdout",
     "output_type": "stream",
     "text": [
      "\n",
      "Embedding is saved.\n",
      "\n",
      "\n",
      "Regression weights are saved.\n",
      "\n"
     ]
    },
    {
     "name": "stderr",
     "output_type": "stream",
     "text": [
      "SGCN (Loss=0.5494):   5%|▌         | 15/300 [00:03<01:08,  4.18it/s]"
     ]
    },
    {
     "name": "stdout",
     "output_type": "stream",
     "text": [
      "\n",
      "Embedding is saved.\n",
      "\n",
      "\n",
      "Regression weights are saved.\n",
      "\n"
     ]
    },
    {
     "name": "stderr",
     "output_type": "stream",
     "text": [
      "SGCN (Loss=0.5462):   5%|▌         | 16/300 [00:04<01:12,  3.90it/s]"
     ]
    },
    {
     "name": "stdout",
     "output_type": "stream",
     "text": [
      "\n",
      "Embedding is saved.\n",
      "\n",
      "\n",
      "Regression weights are saved.\n",
      "\n"
     ]
    },
    {
     "name": "stderr",
     "output_type": "stream",
     "text": [
      "SGCN (Loss=0.5328):   6%|▌         | 17/300 [00:04<01:13,  3.83it/s]"
     ]
    },
    {
     "name": "stdout",
     "output_type": "stream",
     "text": [
      "\n",
      "Embedding is saved.\n",
      "\n",
      "\n",
      "Regression weights are saved.\n",
      "\n"
     ]
    },
    {
     "name": "stderr",
     "output_type": "stream",
     "text": [
      "SGCN (Loss=0.5103):   6%|▌         | 18/300 [00:04<01:16,  3.67it/s]"
     ]
    },
    {
     "name": "stdout",
     "output_type": "stream",
     "text": [
      "\n",
      "Embedding is saved.\n",
      "\n",
      "\n",
      "Regression weights are saved.\n",
      "\n"
     ]
    },
    {
     "name": "stderr",
     "output_type": "stream",
     "text": [
      "SGCN (Loss=0.4719):   7%|▋         | 21/300 [00:05<01:06,  4.21it/s]"
     ]
    },
    {
     "name": "stdout",
     "output_type": "stream",
     "text": [
      "\n",
      "Embedding is saved.\n",
      "\n",
      "\n",
      "Regression weights are saved.\n",
      "\n"
     ]
    },
    {
     "name": "stderr",
     "output_type": "stream",
     "text": [
      "SGCN (Loss=0.4767):   7%|▋         | 22/300 [00:05<01:07,  4.09it/s]"
     ]
    },
    {
     "name": "stdout",
     "output_type": "stream",
     "text": [
      "\n",
      "Embedding is saved.\n",
      "\n",
      "\n",
      "Regression weights are saved.\n",
      "\n"
     ]
    },
    {
     "name": "stderr",
     "output_type": "stream",
     "text": [
      "SGCN (Loss=0.4583):   9%|▉         | 27/300 [00:06<00:53,  5.09it/s]"
     ]
    },
    {
     "name": "stdout",
     "output_type": "stream",
     "text": [
      "\n",
      "Embedding is saved.\n",
      "\n",
      "\n",
      "Regression weights are saved.\n",
      "\n"
     ]
    },
    {
     "name": "stderr",
     "output_type": "stream",
     "text": [
      "SGCN (Loss=0.3312):  20%|██        | 60/300 [00:11<00:47,  5.01it/s]"
     ]
    },
    {
     "name": "stdout",
     "output_type": "stream",
     "text": [
      "\n",
      "Embedding is saved.\n",
      "\n",
      "\n",
      "Regression weights are saved.\n",
      "\n"
     ]
    },
    {
     "name": "stderr",
     "output_type": "stream",
     "text": [
      "SGCN (Loss=0.3258):  21%|██        | 63/300 [00:12<00:49,  4.78it/s]"
     ]
    },
    {
     "name": "stdout",
     "output_type": "stream",
     "text": [
      "\n",
      "Embedding is saved.\n",
      "\n",
      "\n",
      "Regression weights are saved.\n",
      "\n"
     ]
    },
    {
     "name": "stderr",
     "output_type": "stream",
     "text": [
      "SGCN (Loss=0.3163):  22%|██▏       | 66/300 [00:12<00:47,  4.89it/s]"
     ]
    },
    {
     "name": "stdout",
     "output_type": "stream",
     "text": [
      "\n",
      "Embedding is saved.\n",
      "\n",
      "\n",
      "Regression weights are saved.\n",
      "\n"
     ]
    },
    {
     "name": "stderr",
     "output_type": "stream",
     "text": [
      "SGCN (Loss=0.2923):  22%|██▏       | 67/300 [00:13<00:51,  4.51it/s]"
     ]
    },
    {
     "name": "stdout",
     "output_type": "stream",
     "text": [
      "\n",
      "Embedding is saved.\n",
      "\n",
      "\n",
      "Regression weights are saved.\n",
      "\n"
     ]
    },
    {
     "name": "stderr",
     "output_type": "stream",
     "text": [
      "SGCN (Loss=0.2325):  29%|██▉       | 88/300 [00:16<00:39,  5.37it/s]"
     ]
    },
    {
     "name": "stdout",
     "output_type": "stream",
     "text": [
      "\n",
      "Embedding is saved.\n",
      "\n",
      "\n",
      "Regression weights are saved.\n",
      "\n"
     ]
    },
    {
     "name": "stderr",
     "output_type": "stream",
     "text": [
      "SGCN (Loss=0.2361):  30%|██▉       | 89/300 [00:16<00:44,  4.70it/s]"
     ]
    },
    {
     "name": "stdout",
     "output_type": "stream",
     "text": [
      "\n",
      "Embedding is saved.\n",
      "\n",
      "\n",
      "Regression weights are saved.\n",
      "\n"
     ]
    },
    {
     "name": "stderr",
     "output_type": "stream",
     "text": [
      "SGCN (Loss=0.2278):  30%|███       | 91/300 [00:17<00:44,  4.69it/s]"
     ]
    },
    {
     "name": "stdout",
     "output_type": "stream",
     "text": [
      "\n",
      "Embedding is saved.\n",
      "\n",
      "\n",
      "Regression weights are saved.\n",
      "\n"
     ]
    },
    {
     "name": "stderr",
     "output_type": "stream",
     "text": [
      "SGCN (Loss=0.225):  31%|███       | 92/300 [00:17<00:47,  4.40it/s] "
     ]
    },
    {
     "name": "stdout",
     "output_type": "stream",
     "text": [
      "\n",
      "Embedding is saved.\n",
      "\n",
      "\n",
      "Regression weights are saved.\n",
      "\n"
     ]
    },
    {
     "name": "stderr",
     "output_type": "stream",
     "text": [
      "SGCN (Loss=0.2124):  31%|███▏      | 94/300 [00:17<00:47,  4.36it/s]"
     ]
    },
    {
     "name": "stdout",
     "output_type": "stream",
     "text": [
      "\n",
      "Embedding is saved.\n",
      "\n",
      "\n",
      "Regression weights are saved.\n",
      "\n"
     ]
    },
    {
     "name": "stderr",
     "output_type": "stream",
     "text": [
      "SGCN (Loss=0.2161):  32%|███▏      | 96/300 [00:18<00:45,  4.49it/s]"
     ]
    },
    {
     "name": "stdout",
     "output_type": "stream",
     "text": [
      "\n",
      "Embedding is saved.\n",
      "\n",
      "\n",
      "Regression weights are saved.\n",
      "\n"
     ]
    },
    {
     "name": "stderr",
     "output_type": "stream",
     "text": [
      "SGCN (Loss=0.2141):  32%|███▏      | 97/300 [00:18<00:47,  4.28it/s]"
     ]
    },
    {
     "name": "stdout",
     "output_type": "stream",
     "text": [
      "\n",
      "Embedding is saved.\n",
      "\n",
      "\n",
      "Regression weights are saved.\n",
      "\n"
     ]
    },
    {
     "name": "stderr",
     "output_type": "stream",
     "text": [
      "SGCN (Loss=0.2066):  33%|███▎      | 100/300 [00:19<00:43,  4.64it/s]"
     ]
    },
    {
     "name": "stdout",
     "output_type": "stream",
     "text": [
      "\n",
      "Embedding is saved.\n",
      "\n",
      "\n",
      "Regression weights are saved.\n",
      "\n"
     ]
    },
    {
     "name": "stderr",
     "output_type": "stream",
     "text": [
      "SGCN (Loss=0.2005):  34%|███▍      | 102/300 [00:19<00:42,  4.65it/s]"
     ]
    },
    {
     "name": "stdout",
     "output_type": "stream",
     "text": [
      "\n",
      "Embedding is saved.\n",
      "\n",
      "\n",
      "Regression weights are saved.\n",
      "\n"
     ]
    },
    {
     "name": "stderr",
     "output_type": "stream",
     "text": [
      "SGCN (Loss=0.2029):  35%|███▍      | 104/300 [00:19<00:42,  4.65it/s]"
     ]
    },
    {
     "name": "stdout",
     "output_type": "stream",
     "text": [
      "\n",
      "Embedding is saved.\n",
      "\n",
      "\n",
      "Regression weights are saved.\n",
      "\n"
     ]
    },
    {
     "name": "stderr",
     "output_type": "stream",
     "text": [
      "SGCN (Loss=0.1858):  35%|███▌      | 105/300 [00:20<00:44,  4.37it/s]"
     ]
    },
    {
     "name": "stdout",
     "output_type": "stream",
     "text": [
      "\n",
      "Embedding is saved.\n",
      "\n",
      "\n",
      "Regression weights are saved.\n",
      "\n"
     ]
    },
    {
     "name": "stderr",
     "output_type": "stream",
     "text": [
      "SGCN (Loss=0.1943):  36%|███▌      | 108/300 [00:20<00:40,  4.78it/s]"
     ]
    },
    {
     "name": "stdout",
     "output_type": "stream",
     "text": [
      "\n",
      "Embedding is saved.\n",
      "\n",
      "\n",
      "Regression weights are saved.\n",
      "\n"
     ]
    },
    {
     "name": "stderr",
     "output_type": "stream",
     "text": [
      "SGCN (Loss=0.1675):  39%|███▉      | 117/300 [00:22<00:34,  5.24it/s]"
     ]
    },
    {
     "name": "stdout",
     "output_type": "stream",
     "text": [
      "\n",
      "Embedding is saved.\n",
      "\n",
      "\n",
      "Regression weights are saved.\n",
      "\n"
     ]
    },
    {
     "name": "stderr",
     "output_type": "stream",
     "text": [
      "SGCN (Loss=0.0865): 100%|██████████| 300/300 [00:50<00:00,  6.28it/s]\n",
      "/home/ubuntu/anaconda3/envs/pytorch_p36/lib/python3.6/site-packages/ipykernel/__main__.py:26: UserWarning: Implicit dimension choice for softmax has been deprecated. Change the call to include dim=X as an argument.\n",
      "SGCN (Loss=0.8218):   0%|          | 0/300 [00:00<?, ?it/s]"
     ]
    },
    {
     "name": "stdout",
     "output_type": "stream",
     "text": [
      "+-------+-------+-------+\n",
      "| Epoch |  AUC  |  F1   |\n",
      "+=======+=======+=======+\n",
      "| 10    | 0.871 | 0.781 |\n",
      "+-------+-------+-------+\n",
      "| 20    | 0.915 | 0.872 |\n",
      "+-------+-------+-------+\n",
      "| 30    | 0.914 | 0.882 |\n",
      "+-------+-------+-------+\n",
      "| 40    | 0.891 | 0.882 |\n",
      "+-------+-------+-------+\n",
      "| 50    | 0.906 | 0.872 |\n",
      "+-------+-------+-------+\n",
      "| 60    | 0.939 | 0.891 |\n",
      "+-------+-------+-------+\n",
      "| 70    | 0.941 | 0.891 |\n",
      "+-------+-------+-------+\n",
      "| 80    | 0.931 | 0.901 |\n",
      "+-------+-------+-------+\n",
      "| 90    | 0.943 | 0.901 |\n",
      "+-------+-------+-------+\n",
      "| 100   | 0.963 | 0.891 |\n",
      "+-------+-------+-------+\n",
      "| 110   | 0.966 | 0.891 |\n",
      "+-------+-------+-------+\n",
      "| 120   | 0.958 | 0.891 |\n",
      "+-------+-------+-------+\n",
      "| 130   | 0.958 | 0.891 |\n",
      "+-------+-------+-------+\n",
      "| 140   | 0.911 | 0.911 |\n",
      "+-------+-------+-------+\n",
      "| 150   | 0.950 | 0.891 |\n",
      "+-------+-------+-------+\n",
      "| 160   | 0.960 | 0.891 |\n",
      "+-------+-------+-------+\n",
      "| 170   | 0.933 | 0.882 |\n",
      "+-------+-------+-------+\n",
      "| 180   | 0.942 | 0.872 |\n",
      "+-------+-------+-------+\n",
      "| 190   | 0.943 | 0.872 |\n",
      "+-------+-------+-------+\n",
      "| 200   | 0.937 | 0.863 |\n",
      "+-------+-------+-------+\n",
      "| 210   | 0.931 | 0.872 |\n",
      "+-------+-------+-------+\n",
      "| 220   | 0.930 | 0.863 |\n",
      "+-------+-------+-------+\n",
      "| 230   | 0.945 | 0.854 |\n",
      "+-------+-------+-------+\n",
      "| 240   | 0.918 | 0.854 |\n",
      "+-------+-------+-------+\n",
      "| 250   | 0.928 | 0.845 |\n",
      "+-------+-------+-------+\n",
      "| 260   | 0.921 | 0.845 |\n",
      "+-------+-------+-------+\n",
      "| 270   | 0.926 | 0.845 |\n",
      "+-------+-------+-------+\n",
      "| 280   | 0.917 | 0.845 |\n",
      "+-------+-------+-------+\n",
      "| 290   | 0.902 | 0.863 |\n",
      "+-------+-------+-------+\n",
      "| 300   | 0.947 | 0.863 |\n",
      "+-------+-------+-------+\n",
      "2-th fold\n",
      "\n",
      "Training started.\n",
      "\n"
     ]
    },
    {
     "name": "stderr",
     "output_type": "stream",
     "text": [
      "\r",
      "SGCN (Loss=0.8218):   0%|          | 1/300 [00:00<01:18,  3.83it/s]"
     ]
    },
    {
     "name": "stdout",
     "output_type": "stream",
     "text": [
      "\n",
      "Embedding is saved.\n",
      "\n",
      "\n",
      "Regression weights are saved.\n",
      "\n"
     ]
    },
    {
     "name": "stderr",
     "output_type": "stream",
     "text": [
      "SGCN (Loss=0.7021):   1%|          | 2/300 [00:00<01:17,  3.83it/s]"
     ]
    },
    {
     "name": "stdout",
     "output_type": "stream",
     "text": [
      "\n",
      "Embedding is saved.\n",
      "\n",
      "\n",
      "Regression weights are saved.\n",
      "\n"
     ]
    },
    {
     "name": "stderr",
     "output_type": "stream",
     "text": [
      "SGCN (Loss=0.6663):   1%|          | 3/300 [00:00<01:20,  3.69it/s]"
     ]
    },
    {
     "name": "stdout",
     "output_type": "stream",
     "text": [
      "\n",
      "Embedding is saved.\n",
      "\n",
      "\n",
      "Regression weights are saved.\n",
      "\n"
     ]
    },
    {
     "name": "stderr",
     "output_type": "stream",
     "text": [
      "SGCN (Loss=0.6678):   1%|▏         | 4/300 [00:01<01:20,  3.66it/s]"
     ]
    },
    {
     "name": "stdout",
     "output_type": "stream",
     "text": [
      "\n",
      "Embedding is saved.\n",
      "\n",
      "\n",
      "Regression weights are saved.\n",
      "\n"
     ]
    },
    {
     "name": "stderr",
     "output_type": "stream",
     "text": [
      "SGCN (Loss=0.636):   2%|▏         | 7/300 [00:01<01:06,  4.42it/s] "
     ]
    },
    {
     "name": "stdout",
     "output_type": "stream",
     "text": [
      "\n",
      "Embedding is saved.\n",
      "\n",
      "\n",
      "Regression weights are saved.\n",
      "\n"
     ]
    },
    {
     "name": "stderr",
     "output_type": "stream",
     "text": [
      "SGCN (Loss=0.6288):   3%|▎         | 8/300 [00:01<01:09,  4.22it/s]"
     ]
    },
    {
     "name": "stdout",
     "output_type": "stream",
     "text": [
      "\n",
      "Embedding is saved.\n",
      "\n",
      "\n",
      "Regression weights are saved.\n",
      "\n"
     ]
    },
    {
     "name": "stderr",
     "output_type": "stream",
     "text": [
      "SGCN (Loss=0.6177):   3%|▎         | 9/300 [00:02<01:10,  4.10it/s]"
     ]
    },
    {
     "name": "stdout",
     "output_type": "stream",
     "text": [
      "\n",
      "Embedding is saved.\n",
      "\n",
      "\n",
      "Regression weights are saved.\n",
      "\n"
     ]
    },
    {
     "name": "stderr",
     "output_type": "stream",
     "text": [
      "SGCN (Loss=0.6135):   3%|▎         | 10/300 [00:02<01:12,  4.01it/s]"
     ]
    },
    {
     "name": "stdout",
     "output_type": "stream",
     "text": [
      "\n",
      "Embedding is saved.\n",
      "\n",
      "\n",
      "Regression weights are saved.\n",
      "\n"
     ]
    },
    {
     "name": "stderr",
     "output_type": "stream",
     "text": [
      "SGCN (Loss=0.6039):   4%|▎         | 11/300 [00:02<01:13,  3.95it/s]"
     ]
    },
    {
     "name": "stdout",
     "output_type": "stream",
     "text": [
      "\n",
      "Embedding is saved.\n",
      "\n",
      "\n",
      "Regression weights are saved.\n",
      "\n"
     ]
    },
    {
     "name": "stderr",
     "output_type": "stream",
     "text": [
      "SGCN (Loss=0.5944):   4%|▍         | 12/300 [00:02<01:14,  3.87it/s]"
     ]
    },
    {
     "name": "stdout",
     "output_type": "stream",
     "text": [
      "\n",
      "Embedding is saved.\n",
      "\n",
      "\n",
      "Regression weights are saved.\n",
      "\n"
     ]
    },
    {
     "name": "stderr",
     "output_type": "stream",
     "text": [
      "SGCN (Loss=0.5789):   4%|▍         | 13/300 [00:03<01:14,  3.83it/s]"
     ]
    },
    {
     "name": "stdout",
     "output_type": "stream",
     "text": [
      "\n",
      "Embedding is saved.\n",
      "\n",
      "\n",
      "Regression weights are saved.\n",
      "\n"
     ]
    },
    {
     "name": "stderr",
     "output_type": "stream",
     "text": [
      "SGCN (Loss=0.5651):   5%|▍         | 14/300 [00:03<01:14,  3.84it/s]"
     ]
    },
    {
     "name": "stdout",
     "output_type": "stream",
     "text": [
      "\n",
      "Embedding is saved.\n",
      "\n",
      "\n",
      "Regression weights are saved.\n",
      "\n"
     ]
    },
    {
     "name": "stderr",
     "output_type": "stream",
     "text": [
      "SGCN (Loss=0.5591):   5%|▌         | 15/300 [00:03<01:14,  3.84it/s]"
     ]
    },
    {
     "name": "stdout",
     "output_type": "stream",
     "text": [
      "\n",
      "Embedding is saved.\n",
      "\n",
      "\n",
      "Regression weights are saved.\n",
      "\n"
     ]
    },
    {
     "name": "stderr",
     "output_type": "stream",
     "text": [
      "SGCN (Loss=0.5267):   5%|▌         | 16/300 [00:04<01:13,  3.84it/s]"
     ]
    },
    {
     "name": "stdout",
     "output_type": "stream",
     "text": [
      "\n",
      "Embedding is saved.\n",
      "\n",
      "\n",
      "Regression weights are saved.\n",
      "\n"
     ]
    },
    {
     "name": "stderr",
     "output_type": "stream",
     "text": [
      "SGCN (Loss=0.5051):   6%|▋         | 19/300 [00:04<01:03,  4.45it/s]"
     ]
    },
    {
     "name": "stdout",
     "output_type": "stream",
     "text": [
      "\n",
      "Embedding is saved.\n",
      "\n",
      "\n",
      "Regression weights are saved.\n",
      "\n"
     ]
    },
    {
     "name": "stderr",
     "output_type": "stream",
     "text": [
      "SGCN (Loss=0.4947):   7%|▋         | 20/300 [00:04<01:06,  4.24it/s]"
     ]
    },
    {
     "name": "stdout",
     "output_type": "stream",
     "text": [
      "\n",
      "Embedding is saved.\n",
      "\n",
      "\n",
      "Regression weights are saved.\n",
      "\n"
     ]
    },
    {
     "name": "stderr",
     "output_type": "stream",
     "text": [
      "SGCN (Loss=0.4542):   8%|▊         | 25/300 [00:05<00:54,  5.07it/s]"
     ]
    },
    {
     "name": "stdout",
     "output_type": "stream",
     "text": [
      "\n",
      "Embedding is saved.\n",
      "\n",
      "\n",
      "Regression weights are saved.\n",
      "\n"
     ]
    },
    {
     "name": "stderr",
     "output_type": "stream",
     "text": [
      "SGCN (Loss=0.4197):  10%|█         | 30/300 [00:06<00:53,  5.08it/s]"
     ]
    },
    {
     "name": "stdout",
     "output_type": "stream",
     "text": [
      "\n",
      "Embedding is saved.\n",
      "\n",
      "\n",
      "Regression weights are saved.\n",
      "\n"
     ]
    },
    {
     "name": "stderr",
     "output_type": "stream",
     "text": [
      "SGCN (Loss=0.4054):  12%|█▏        | 35/300 [00:07<00:50,  5.24it/s]"
     ]
    },
    {
     "name": "stdout",
     "output_type": "stream",
     "text": [
      "\n",
      "Embedding is saved.\n",
      "\n",
      "\n",
      "Regression weights are saved.\n",
      "\n"
     ]
    },
    {
     "name": "stderr",
     "output_type": "stream",
     "text": [
      "SGCN (Loss=0.3942):  12%|█▏        | 36/300 [00:07<00:56,  4.65it/s]"
     ]
    },
    {
     "name": "stdout",
     "output_type": "stream",
     "text": [
      "\n",
      "Embedding is saved.\n",
      "\n",
      "\n",
      "Regression weights are saved.\n",
      "\n"
     ]
    },
    {
     "name": "stderr",
     "output_type": "stream",
     "text": [
      "SGCN (Loss=0.3901):  12%|█▏        | 37/300 [00:08<01:01,  4.31it/s]"
     ]
    },
    {
     "name": "stdout",
     "output_type": "stream",
     "text": [
      "\n",
      "Embedding is saved.\n",
      "\n",
      "\n",
      "Regression weights are saved.\n",
      "\n"
     ]
    },
    {
     "name": "stderr",
     "output_type": "stream",
     "text": [
      "SGCN (Loss=0.3812):  13%|█▎        | 39/300 [00:08<01:02,  4.15it/s]"
     ]
    },
    {
     "name": "stdout",
     "output_type": "stream",
     "text": [
      "\n",
      "Embedding is saved.\n",
      "\n",
      "\n",
      "Regression weights are saved.\n",
      "\n"
     ]
    },
    {
     "name": "stderr",
     "output_type": "stream",
     "text": [
      "SGCN (Loss=0.3826):  13%|█▎        | 40/300 [00:08<01:08,  3.82it/s]"
     ]
    },
    {
     "name": "stdout",
     "output_type": "stream",
     "text": [
      "\n",
      "Embedding is saved.\n",
      "\n",
      "\n",
      "Regression weights are saved.\n",
      "\n"
     ]
    },
    {
     "name": "stderr",
     "output_type": "stream",
     "text": [
      "SGCN (Loss=0.3853):  14%|█▎        | 41/300 [00:09<01:07,  3.82it/s]"
     ]
    },
    {
     "name": "stdout",
     "output_type": "stream",
     "text": [
      "\n",
      "Embedding is saved.\n",
      "\n",
      "\n",
      "Regression weights are saved.\n",
      "\n"
     ]
    },
    {
     "name": "stderr",
     "output_type": "stream",
     "text": [
      "SGCN (Loss=0.3678):  14%|█▍        | 42/300 [00:09<01:07,  3.82it/s]"
     ]
    },
    {
     "name": "stdout",
     "output_type": "stream",
     "text": [
      "\n",
      "Embedding is saved.\n",
      "\n",
      "\n",
      "Regression weights are saved.\n",
      "\n"
     ]
    },
    {
     "name": "stderr",
     "output_type": "stream",
     "text": [
      "SGCN (Loss=0.3693):  14%|█▍        | 43/300 [00:09<01:08,  3.76it/s]"
     ]
    },
    {
     "name": "stdout",
     "output_type": "stream",
     "text": [
      "\n",
      "Embedding is saved.\n",
      "\n",
      "\n",
      "Regression weights are saved.\n",
      "\n"
     ]
    },
    {
     "name": "stderr",
     "output_type": "stream",
     "text": [
      "SGCN (Loss=0.353):  15%|█▍        | 44/300 [00:09<01:08,  3.71it/s] "
     ]
    },
    {
     "name": "stdout",
     "output_type": "stream",
     "text": [
      "\n",
      "Embedding is saved.\n",
      "\n",
      "\n",
      "Regression weights are saved.\n",
      "\n"
     ]
    },
    {
     "name": "stderr",
     "output_type": "stream",
     "text": [
      "SGCN (Loss=0.3143):  17%|█▋        | 52/300 [00:11<00:51,  4.82it/s]"
     ]
    },
    {
     "name": "stdout",
     "output_type": "stream",
     "text": [
      "\n",
      "Embedding is saved.\n",
      "\n",
      "\n",
      "Regression weights are saved.\n",
      "\n"
     ]
    },
    {
     "name": "stderr",
     "output_type": "stream",
     "text": [
      "SGCN (Loss=0.3038):  18%|█▊        | 55/300 [00:11<00:51,  4.72it/s]"
     ]
    },
    {
     "name": "stdout",
     "output_type": "stream",
     "text": [
      "\n",
      "Embedding is saved.\n",
      "\n",
      "\n",
      "Regression weights are saved.\n",
      "\n"
     ]
    },
    {
     "name": "stderr",
     "output_type": "stream",
     "text": [
      "SGCN (Loss=0.2983):  20%|█▉        | 59/300 [00:12<00:47,  5.02it/s]"
     ]
    },
    {
     "name": "stdout",
     "output_type": "stream",
     "text": [
      "\n",
      "Embedding is saved.\n",
      "\n",
      "\n",
      "Regression weights are saved.\n",
      "\n"
     ]
    },
    {
     "name": "stderr",
     "output_type": "stream",
     "text": [
      "SGCN (Loss=0.2964):  20%|██        | 60/300 [00:12<00:54,  4.38it/s]"
     ]
    },
    {
     "name": "stdout",
     "output_type": "stream",
     "text": [
      "\n",
      "Embedding is saved.\n",
      "\n",
      "\n",
      "Regression weights are saved.\n",
      "\n"
     ]
    },
    {
     "name": "stderr",
     "output_type": "stream",
     "text": [
      "SGCN (Loss=0.2844):  22%|██▏       | 67/300 [00:14<00:44,  5.18it/s]"
     ]
    },
    {
     "name": "stdout",
     "output_type": "stream",
     "text": [
      "\n",
      "Embedding is saved.\n",
      "\n",
      "\n",
      "Regression weights are saved.\n",
      "\n"
     ]
    },
    {
     "name": "stderr",
     "output_type": "stream",
     "text": [
      "SGCN (Loss=0.2627):  23%|██▎       | 68/300 [00:14<00:50,  4.62it/s]"
     ]
    },
    {
     "name": "stdout",
     "output_type": "stream",
     "text": [
      "\n",
      "Embedding is saved.\n",
      "\n",
      "\n",
      "Regression weights are saved.\n",
      "\n"
     ]
    },
    {
     "name": "stderr",
     "output_type": "stream",
     "text": [
      "SGCN (Loss=0.2056):  31%|███       | 93/300 [00:18<00:38,  5.32it/s]"
     ]
    },
    {
     "name": "stdout",
     "output_type": "stream",
     "text": [
      "\n",
      "Embedding is saved.\n",
      "\n",
      "\n",
      "Regression weights are saved.\n",
      "\n"
     ]
    },
    {
     "name": "stderr",
     "output_type": "stream",
     "text": [
      "SGCN (Loss=0.2096):  31%|███▏      | 94/300 [00:18<00:43,  4.76it/s]"
     ]
    },
    {
     "name": "stdout",
     "output_type": "stream",
     "text": [
      "\n",
      "Embedding is saved.\n",
      "\n",
      "\n",
      "Regression weights are saved.\n",
      "\n"
     ]
    },
    {
     "name": "stderr",
     "output_type": "stream",
     "text": [
      "SGCN (Loss=0.199):  32%|███▏      | 95/300 [00:18<00:46,  4.43it/s] "
     ]
    },
    {
     "name": "stdout",
     "output_type": "stream",
     "text": [
      "\n",
      "Embedding is saved.\n",
      "\n",
      "\n",
      "Regression weights are saved.\n",
      "\n"
     ]
    },
    {
     "name": "stderr",
     "output_type": "stream",
     "text": [
      "SGCN (Loss=0.2018):  33%|███▎      | 98/300 [00:19<00:42,  4.77it/s]"
     ]
    },
    {
     "name": "stdout",
     "output_type": "stream",
     "text": [
      "\n",
      "Embedding is saved.\n",
      "\n",
      "\n",
      "Regression weights are saved.\n",
      "\n"
     ]
    },
    {
     "name": "stderr",
     "output_type": "stream",
     "text": [
      "SGCN (Loss=0.194):  33%|███▎      | 99/300 [00:19<00:47,  4.24it/s] "
     ]
    },
    {
     "name": "stdout",
     "output_type": "stream",
     "text": [
      "\n",
      "Embedding is saved.\n",
      "\n",
      "\n",
      "Regression weights are saved.\n",
      "\n"
     ]
    },
    {
     "name": "stderr",
     "output_type": "stream",
     "text": [
      "SGCN (Loss=0.1655):  40%|████      | 121/300 [00:23<00:36,  4.97it/s]"
     ]
    },
    {
     "name": "stdout",
     "output_type": "stream",
     "text": [
      "\n",
      "Embedding is saved.\n",
      "\n",
      "\n",
      "Regression weights are saved.\n",
      "\n"
     ]
    },
    {
     "name": "stderr",
     "output_type": "stream",
     "text": [
      "SGCN (Loss=0.1622):  41%|████      | 123/300 [00:23<00:39,  4.46it/s]"
     ]
    },
    {
     "name": "stdout",
     "output_type": "stream",
     "text": [
      "\n",
      "Embedding is saved.\n",
      "\n",
      "\n",
      "Regression weights are saved.\n",
      "\n"
     ]
    },
    {
     "name": "stderr",
     "output_type": "stream",
     "text": [
      "SGCN (Loss=0.1586):  42%|████▏     | 127/300 [00:24<00:35,  4.92it/s]"
     ]
    },
    {
     "name": "stdout",
     "output_type": "stream",
     "text": [
      "\n",
      "Embedding is saved.\n",
      "\n",
      "\n",
      "Regression weights are saved.\n",
      "\n"
     ]
    },
    {
     "name": "stderr",
     "output_type": "stream",
     "text": [
      "SGCN (Loss=0.1512):  44%|████▍     | 132/300 [00:25<00:32,  5.11it/s]"
     ]
    },
    {
     "name": "stdout",
     "output_type": "stream",
     "text": [
      "\n",
      "Embedding is saved.\n",
      "\n",
      "\n",
      "Regression weights are saved.\n",
      "\n"
     ]
    },
    {
     "name": "stderr",
     "output_type": "stream",
     "text": [
      "SGCN (Loss=0.076):  84%|████████▎ | 251/300 [00:43<00:09,  5.40it/s] "
     ]
    },
    {
     "name": "stdout",
     "output_type": "stream",
     "text": [
      "\n",
      "Embedding is saved.\n",
      "\n",
      "\n",
      "Regression weights are saved.\n",
      "\n"
     ]
    },
    {
     "name": "stderr",
     "output_type": "stream",
     "text": [
      "SGCN (Loss=0.0748):  84%|████████▍ | 252/300 [00:44<00:10,  4.72it/s]"
     ]
    },
    {
     "name": "stdout",
     "output_type": "stream",
     "text": [
      "\n",
      "Embedding is saved.\n",
      "\n",
      "\n",
      "Regression weights are saved.\n",
      "\n"
     ]
    },
    {
     "name": "stderr",
     "output_type": "stream",
     "text": [
      "SGCN (Loss=0.0793):  87%|████████▋ | 262/300 [00:45<00:07,  5.32it/s]"
     ]
    },
    {
     "name": "stdout",
     "output_type": "stream",
     "text": [
      "\n",
      "Embedding is saved.\n",
      "\n",
      "\n",
      "Regression weights are saved.\n",
      "\n"
     ]
    },
    {
     "name": "stderr",
     "output_type": "stream",
     "text": [
      "SGCN (Loss=0.0746):  88%|████████▊ | 264/300 [00:46<00:07,  4.94it/s]"
     ]
    },
    {
     "name": "stdout",
     "output_type": "stream",
     "text": [
      "\n",
      "Embedding is saved.\n",
      "\n",
      "\n",
      "Regression weights are saved.\n",
      "\n"
     ]
    },
    {
     "name": "stderr",
     "output_type": "stream",
     "text": [
      "SGCN (Loss=0.0744):  89%|████████▊ | 266/300 [00:46<00:07,  4.78it/s]"
     ]
    },
    {
     "name": "stdout",
     "output_type": "stream",
     "text": [
      "\n",
      "Embedding is saved.\n",
      "\n",
      "\n",
      "Regression weights are saved.\n",
      "\n"
     ]
    },
    {
     "name": "stderr",
     "output_type": "stream",
     "text": [
      "SGCN (Loss=0.072):  92%|█████████▏| 276/300 [00:48<00:04,  5.41it/s] "
     ]
    },
    {
     "name": "stdout",
     "output_type": "stream",
     "text": [
      "\n",
      "Embedding is saved.\n",
      "\n",
      "\n",
      "Regression weights are saved.\n",
      "\n"
     ]
    },
    {
     "name": "stderr",
     "output_type": "stream",
     "text": [
      "SGCN (Loss=0.0694): 100%|██████████| 300/300 [00:51<00:00,  6.11it/s]\n",
      "/home/ubuntu/anaconda3/envs/pytorch_p36/lib/python3.6/site-packages/ipykernel/__main__.py:26: UserWarning: Implicit dimension choice for softmax has been deprecated. Change the call to include dim=X as an argument.\n",
      "SGCN (Loss=0.8137):   0%|          | 0/300 [00:00<?, ?it/s]"
     ]
    },
    {
     "name": "stdout",
     "output_type": "stream",
     "text": [
      "+-------+-------+-------+\n",
      "| Epoch |  AUC  |  F1   |\n",
      "+=======+=======+=======+\n",
      "| 10    | 0.801 | 0.811 |\n",
      "+-------+-------+-------+\n",
      "| 20    | 0.881 | 0.891 |\n",
      "+-------+-------+-------+\n",
      "| 30    | 0.895 | 0.909 |\n",
      "+-------+-------+-------+\n",
      "| 40    | 0.907 | 0.909 |\n",
      "+-------+-------+-------+\n",
      "| 50    | 0.909 | 0.898 |\n",
      "+-------+-------+-------+\n",
      "| 60    | 0.936 | 0.909 |\n",
      "+-------+-------+-------+\n",
      "| 70    | 0.932 | 0.928 |\n",
      "+-------+-------+-------+\n",
      "| 80    | 0.936 | 0.928 |\n",
      "+-------+-------+-------+\n",
      "| 90    | 0.943 | 0.928 |\n",
      "+-------+-------+-------+\n",
      "| 100   | 0.944 | 0.928 |\n",
      "+-------+-------+-------+\n",
      "| 110   | 0.944 | 0.928 |\n",
      "+-------+-------+-------+\n",
      "| 120   | 0.947 | 0.918 |\n",
      "+-------+-------+-------+\n",
      "| 130   | 0.947 | 0.900 |\n",
      "+-------+-------+-------+\n",
      "| 140   | 0.951 | 0.900 |\n",
      "+-------+-------+-------+\n",
      "| 150   | 0.947 | 0.900 |\n",
      "+-------+-------+-------+\n",
      "| 160   | 0.944 | 0.900 |\n",
      "+-------+-------+-------+\n",
      "| 170   | 0.936 | 0.891 |\n",
      "+-------+-------+-------+\n",
      "| 180   | 0.939 | 0.900 |\n",
      "+-------+-------+-------+\n",
      "| 190   | 0.949 | 0.882 |\n",
      "+-------+-------+-------+\n",
      "| 200   | 0.940 | 0.882 |\n",
      "+-------+-------+-------+\n",
      "| 210   | 0.941 | 0.874 |\n",
      "+-------+-------+-------+\n",
      "| 220   | 0.949 | 0.882 |\n",
      "+-------+-------+-------+\n",
      "| 230   | 0.945 | 0.882 |\n",
      "+-------+-------+-------+\n",
      "| 240   | 0.951 | 0.882 |\n",
      "+-------+-------+-------+\n",
      "| 250   | 0.944 | 0.882 |\n",
      "+-------+-------+-------+\n",
      "| 260   | 0.955 | 0.882 |\n",
      "+-------+-------+-------+\n",
      "| 270   | 0.951 | 0.874 |\n",
      "+-------+-------+-------+\n",
      "| 280   | 0.953 | 0.882 |\n",
      "+-------+-------+-------+\n",
      "| 290   | 0.952 | 0.882 |\n",
      "+-------+-------+-------+\n",
      "| 300   | 0.960 | 0.882 |\n",
      "+-------+-------+-------+\n",
      "3-th fold\n",
      "\n",
      "Training started.\n",
      "\n"
     ]
    },
    {
     "name": "stderr",
     "output_type": "stream",
     "text": [
      "\r",
      "SGCN (Loss=0.8137):   0%|          | 1/300 [00:00<01:28,  3.39it/s]"
     ]
    },
    {
     "name": "stdout",
     "output_type": "stream",
     "text": [
      "\n",
      "Embedding is saved.\n",
      "\n",
      "\n",
      "Regression weights are saved.\n",
      "\n"
     ]
    },
    {
     "name": "stderr",
     "output_type": "stream",
     "text": [
      "SGCN (Loss=0.7067):   1%|          | 2/300 [00:00<01:25,  3.51it/s]"
     ]
    },
    {
     "name": "stdout",
     "output_type": "stream",
     "text": [
      "\n",
      "Embedding is saved.\n",
      "\n",
      "\n",
      "Regression weights are saved.\n",
      "\n"
     ]
    },
    {
     "name": "stderr",
     "output_type": "stream",
     "text": [
      "SGCN (Loss=0.6671):   1%|          | 3/300 [00:00<01:24,  3.51it/s]"
     ]
    },
    {
     "name": "stdout",
     "output_type": "stream",
     "text": [
      "\n",
      "Embedding is saved.\n",
      "\n",
      "\n",
      "Regression weights are saved.\n",
      "\n"
     ]
    },
    {
     "name": "stderr",
     "output_type": "stream",
     "text": [
      "SGCN (Loss=0.669):   1%|▏         | 4/300 [00:01<01:24,  3.52it/s] "
     ]
    },
    {
     "name": "stdout",
     "output_type": "stream",
     "text": [
      "\n",
      "Embedding is saved.\n",
      "\n",
      "\n",
      "Regression weights are saved.\n",
      "\n"
     ]
    },
    {
     "name": "stderr",
     "output_type": "stream",
     "text": [
      "SGCN (Loss=0.6317):   3%|▎         | 8/300 [00:01<01:03,  4.58it/s]"
     ]
    },
    {
     "name": "stdout",
     "output_type": "stream",
     "text": [
      "\n",
      "Embedding is saved.\n",
      "\n",
      "\n",
      "Regression weights are saved.\n",
      "\n"
     ]
    },
    {
     "name": "stderr",
     "output_type": "stream",
     "text": [
      "SGCN (Loss=0.6205):   3%|▎         | 9/300 [00:02<01:07,  4.33it/s]"
     ]
    },
    {
     "name": "stdout",
     "output_type": "stream",
     "text": [
      "\n",
      "Embedding is saved.\n",
      "\n",
      "\n",
      "Regression weights are saved.\n",
      "\n"
     ]
    },
    {
     "name": "stderr",
     "output_type": "stream",
     "text": [
      "SGCN (Loss=0.6139):   3%|▎         | 10/300 [00:02<01:10,  4.11it/s]"
     ]
    },
    {
     "name": "stdout",
     "output_type": "stream",
     "text": [
      "\n",
      "Embedding is saved.\n",
      "\n",
      "\n",
      "Regression weights are saved.\n",
      "\n"
     ]
    },
    {
     "name": "stderr",
     "output_type": "stream",
     "text": [
      "SGCN (Loss=0.5997):   4%|▎         | 11/300 [00:02<01:12,  4.01it/s]"
     ]
    },
    {
     "name": "stdout",
     "output_type": "stream",
     "text": [
      "\n",
      "Embedding is saved.\n",
      "\n",
      "\n",
      "Regression weights are saved.\n",
      "\n"
     ]
    },
    {
     "name": "stderr",
     "output_type": "stream",
     "text": [
      "SGCN (Loss=0.594):   4%|▍         | 12/300 [00:02<01:14,  3.87it/s] "
     ]
    },
    {
     "name": "stdout",
     "output_type": "stream",
     "text": [
      "\n",
      "Embedding is saved.\n",
      "\n",
      "\n",
      "Regression weights are saved.\n",
      "\n"
     ]
    },
    {
     "name": "stderr",
     "output_type": "stream",
     "text": [
      "SGCN (Loss=0.592):   4%|▍         | 13/300 [00:03<01:15,  3.78it/s]"
     ]
    },
    {
     "name": "stdout",
     "output_type": "stream",
     "text": [
      "\n",
      "Embedding is saved.\n",
      "\n",
      "\n",
      "Regression weights are saved.\n",
      "\n"
     ]
    },
    {
     "name": "stderr",
     "output_type": "stream",
     "text": [
      "SGCN (Loss=0.5708):   5%|▍         | 14/300 [00:03<01:19,  3.59it/s]"
     ]
    },
    {
     "name": "stdout",
     "output_type": "stream",
     "text": [
      "\n",
      "Embedding is saved.\n",
      "\n",
      "\n",
      "Regression weights are saved.\n",
      "\n"
     ]
    },
    {
     "name": "stderr",
     "output_type": "stream",
     "text": [
      "SGCN (Loss=0.5536):   5%|▌         | 15/300 [00:03<01:17,  3.66it/s]"
     ]
    },
    {
     "name": "stdout",
     "output_type": "stream",
     "text": [
      "\n",
      "Embedding is saved.\n",
      "\n",
      "\n",
      "Regression weights are saved.\n",
      "\n"
     ]
    },
    {
     "name": "stderr",
     "output_type": "stream",
     "text": [
      "SGCN (Loss=0.5357):   5%|▌         | 16/300 [00:04<01:17,  3.67it/s]"
     ]
    },
    {
     "name": "stdout",
     "output_type": "stream",
     "text": [
      "\n",
      "Embedding is saved.\n",
      "\n",
      "\n",
      "Regression weights are saved.\n",
      "\n"
     ]
    },
    {
     "name": "stderr",
     "output_type": "stream",
     "text": [
      "SGCN (Loss=0.5124):   6%|▌         | 17/300 [00:04<01:17,  3.67it/s]"
     ]
    },
    {
     "name": "stdout",
     "output_type": "stream",
     "text": [
      "\n",
      "Embedding is saved.\n",
      "\n",
      "\n",
      "Regression weights are saved.\n",
      "\n"
     ]
    },
    {
     "name": "stderr",
     "output_type": "stream",
     "text": [
      "SGCN (Loss=0.4807):   7%|▋         | 20/300 [00:04<01:06,  4.19it/s]"
     ]
    },
    {
     "name": "stdout",
     "output_type": "stream",
     "text": [
      "\n",
      "Embedding is saved.\n",
      "\n",
      "\n",
      "Regression weights are saved.\n",
      "\n"
     ]
    },
    {
     "name": "stderr",
     "output_type": "stream",
     "text": [
      "SGCN (Loss=0.4681):   8%|▊         | 23/300 [00:05<01:01,  4.47it/s]"
     ]
    },
    {
     "name": "stdout",
     "output_type": "stream",
     "text": [
      "\n",
      "Embedding is saved.\n",
      "\n",
      "\n",
      "Regression weights are saved.\n",
      "\n"
     ]
    },
    {
     "name": "stderr",
     "output_type": "stream",
     "text": [
      "SGCN (Loss=0.4534):   8%|▊         | 24/300 [00:05<01:08,  4.04it/s]"
     ]
    },
    {
     "name": "stdout",
     "output_type": "stream",
     "text": [
      "\n",
      "Embedding is saved.\n",
      "\n",
      "\n",
      "Regression weights are saved.\n",
      "\n"
     ]
    },
    {
     "name": "stderr",
     "output_type": "stream",
     "text": [
      "SGCN (Loss=0.3507):  15%|█▌        | 45/300 [00:09<00:48,  5.24it/s]"
     ]
    },
    {
     "name": "stdout",
     "output_type": "stream",
     "text": [
      "\n",
      "Embedding is saved.\n",
      "\n",
      "\n",
      "Regression weights are saved.\n",
      "\n"
     ]
    },
    {
     "name": "stderr",
     "output_type": "stream",
     "text": [
      "SGCN (Loss=0.346):  15%|█▌        | 46/300 [00:09<00:54,  4.69it/s] "
     ]
    },
    {
     "name": "stdout",
     "output_type": "stream",
     "text": [
      "\n",
      "Embedding is saved.\n",
      "\n",
      "\n",
      "Regression weights are saved.\n",
      "\n"
     ]
    },
    {
     "name": "stderr",
     "output_type": "stream",
     "text": [
      "SGCN (Loss=0.3238):  17%|█▋        | 51/300 [00:10<00:50,  4.89it/s]"
     ]
    },
    {
     "name": "stdout",
     "output_type": "stream",
     "text": [
      "\n",
      "Embedding is saved.\n",
      "\n",
      "\n",
      "Regression weights are saved.\n",
      "\n"
     ]
    },
    {
     "name": "stderr",
     "output_type": "stream",
     "text": [
      "SGCN (Loss=0.3222):  17%|█▋        | 52/300 [00:10<00:58,  4.25it/s]"
     ]
    },
    {
     "name": "stdout",
     "output_type": "stream",
     "text": [
      "\n",
      "Embedding is saved.\n",
      "\n",
      "\n",
      "Regression weights are saved.\n",
      "\n"
     ]
    },
    {
     "name": "stderr",
     "output_type": "stream",
     "text": [
      "SGCN (Loss=0.3203):  18%|█▊        | 53/300 [00:10<01:01,  3.99it/s]"
     ]
    },
    {
     "name": "stdout",
     "output_type": "stream",
     "text": [
      "\n",
      "Embedding is saved.\n",
      "\n",
      "\n",
      "Regression weights are saved.\n",
      "\n"
     ]
    },
    {
     "name": "stderr",
     "output_type": "stream",
     "text": [
      "SGCN (Loss=0.3211):  18%|█▊        | 54/300 [00:11<01:03,  3.89it/s]"
     ]
    },
    {
     "name": "stdout",
     "output_type": "stream",
     "text": [
      "\n",
      "Embedding is saved.\n",
      "\n",
      "\n",
      "Regression weights are saved.\n",
      "\n"
     ]
    },
    {
     "name": "stderr",
     "output_type": "stream",
     "text": [
      "SGCN (Loss=0.313):  18%|█▊        | 55/300 [00:11<01:04,  3.82it/s] "
     ]
    },
    {
     "name": "stdout",
     "output_type": "stream",
     "text": [
      "\n",
      "Embedding is saved.\n",
      "\n",
      "\n",
      "Regression weights are saved.\n",
      "\n"
     ]
    },
    {
     "name": "stderr",
     "output_type": "stream",
     "text": [
      "SGCN (Loss=0.3136):  19%|█▉        | 58/300 [00:12<00:56,  4.29it/s]"
     ]
    },
    {
     "name": "stdout",
     "output_type": "stream",
     "text": [
      "\n",
      "Embedding is saved.\n",
      "\n",
      "\n",
      "Regression weights are saved.\n",
      "\n"
     ]
    },
    {
     "name": "stderr",
     "output_type": "stream",
     "text": [
      "SGCN (Loss=0.3052):  20%|█▉        | 59/300 [00:12<01:01,  3.90it/s]"
     ]
    },
    {
     "name": "stdout",
     "output_type": "stream",
     "text": [
      "\n",
      "Embedding is saved.\n",
      "\n",
      "\n",
      "Regression weights are saved.\n",
      "\n"
     ]
    },
    {
     "name": "stderr",
     "output_type": "stream",
     "text": [
      "SGCN (Loss=0.2857):  21%|██        | 62/300 [00:12<00:53,  4.49it/s]"
     ]
    },
    {
     "name": "stdout",
     "output_type": "stream",
     "text": [
      "\n",
      "Embedding is saved.\n",
      "\n",
      "\n",
      "Regression weights are saved.\n",
      "\n"
     ]
    },
    {
     "name": "stderr",
     "output_type": "stream",
     "text": [
      "SGCN (Loss=0.2874):  22%|██▏       | 66/300 [00:13<00:50,  4.67it/s]"
     ]
    },
    {
     "name": "stdout",
     "output_type": "stream",
     "text": [
      "\n",
      "Embedding is saved.\n",
      "\n",
      "\n",
      "Regression weights are saved.\n",
      "\n"
     ]
    },
    {
     "name": "stderr",
     "output_type": "stream",
     "text": [
      "SGCN (Loss=0.2852):  23%|██▎       | 69/300 [00:14<00:49,  4.64it/s]"
     ]
    },
    {
     "name": "stdout",
     "output_type": "stream",
     "text": [
      "\n",
      "Embedding is saved.\n",
      "\n",
      "\n",
      "Regression weights are saved.\n",
      "\n"
     ]
    },
    {
     "name": "stderr",
     "output_type": "stream",
     "text": [
      "SGCN (Loss=0.2823):  24%|██▎       | 71/300 [00:14<00:53,  4.30it/s]"
     ]
    },
    {
     "name": "stdout",
     "output_type": "stream",
     "text": [
      "\n",
      "Embedding is saved.\n",
      "\n",
      "\n",
      "Regression weights are saved.\n",
      "\n"
     ]
    },
    {
     "name": "stderr",
     "output_type": "stream",
     "text": [
      "SGCN (Loss=0.2819):  24%|██▍       | 72/300 [00:15<00:54,  4.16it/s]"
     ]
    },
    {
     "name": "stdout",
     "output_type": "stream",
     "text": [
      "\n",
      "Embedding is saved.\n",
      "\n",
      "\n",
      "Regression weights are saved.\n",
      "\n"
     ]
    },
    {
     "name": "stderr",
     "output_type": "stream",
     "text": [
      "SGCN (Loss=0.2718):  24%|██▍       | 73/300 [00:15<00:56,  4.05it/s]"
     ]
    },
    {
     "name": "stdout",
     "output_type": "stream",
     "text": [
      "\n",
      "Embedding is saved.\n",
      "\n",
      "\n",
      "Regression weights are saved.\n",
      "\n"
     ]
    },
    {
     "name": "stderr",
     "output_type": "stream",
     "text": [
      "SGCN (Loss=0.2691):  25%|██▍       | 74/300 [00:15<00:57,  3.94it/s]"
     ]
    },
    {
     "name": "stdout",
     "output_type": "stream",
     "text": [
      "\n",
      "Embedding is saved.\n",
      "\n",
      "\n",
      "Regression weights are saved.\n",
      "\n"
     ]
    },
    {
     "name": "stderr",
     "output_type": "stream",
     "text": [
      "SGCN (Loss=0.106):  57%|█████▋    | 172/300 [00:31<00:25,  5.06it/s] "
     ]
    },
    {
     "name": "stdout",
     "output_type": "stream",
     "text": [
      "\n",
      "Embedding is saved.\n",
      "\n",
      "\n",
      "Regression weights are saved.\n",
      "\n"
     ]
    },
    {
     "name": "stderr",
     "output_type": "stream",
     "text": [
      "SGCN (Loss=0.1066):  76%|███████▋  | 229/300 [00:39<00:12,  5.48it/s]"
     ]
    },
    {
     "name": "stdout",
     "output_type": "stream",
     "text": [
      "\n",
      "Embedding is saved.\n",
      "\n",
      "\n",
      "Regression weights are saved.\n",
      "\n"
     ]
    },
    {
     "name": "stderr",
     "output_type": "stream",
     "text": [
      "SGCN (Loss=0.1197):  77%|███████▋  | 231/300 [00:40<00:13,  4.98it/s]"
     ]
    },
    {
     "name": "stdout",
     "output_type": "stream",
     "text": [
      "\n",
      "Embedding is saved.\n",
      "\n",
      "\n",
      "Regression weights are saved.\n",
      "\n"
     ]
    },
    {
     "name": "stderr",
     "output_type": "stream",
     "text": [
      "SGCN (Loss=0.1046):  78%|███████▊  | 233/300 [00:40<00:14,  4.74it/s]"
     ]
    },
    {
     "name": "stdout",
     "output_type": "stream",
     "text": [
      "\n",
      "Embedding is saved.\n",
      "\n",
      "\n",
      "Regression weights are saved.\n",
      "\n"
     ]
    },
    {
     "name": "stderr",
     "output_type": "stream",
     "text": [
      "SGCN (Loss=0.0624): 100%|██████████| 300/300 [00:50<00:00,  6.64it/s]\n",
      "/home/ubuntu/anaconda3/envs/pytorch_p36/lib/python3.6/site-packages/ipykernel/__main__.py:26: UserWarning: Implicit dimension choice for softmax has been deprecated. Change the call to include dim=X as an argument.\n",
      "SGCN (Loss=0.8154):   0%|          | 0/300 [00:00<?, ?it/s]"
     ]
    },
    {
     "name": "stdout",
     "output_type": "stream",
     "text": [
      "+-------+-------+-------+\n",
      "| Epoch |  AUC  |  F1   |\n",
      "+=======+=======+=======+\n",
      "| 10    | 0.807 | 0.804 |\n",
      "+-------+-------+-------+\n",
      "| 20    | 0.895 | 0.900 |\n",
      "+-------+-------+-------+\n",
      "| 30    | 0.902 | 0.918 |\n",
      "+-------+-------+-------+\n",
      "| 40    | 0.904 | 0.900 |\n",
      "+-------+-------+-------+\n",
      "| 50    | 0.915 | 0.891 |\n",
      "+-------+-------+-------+\n",
      "| 60    | 0.935 | 0.918 |\n",
      "+-------+-------+-------+\n",
      "| 70    | 0.942 | 0.909 |\n",
      "+-------+-------+-------+\n",
      "| 80    | 0.942 | 0.928 |\n",
      "+-------+-------+-------+\n",
      "| 90    | 0.944 | 0.918 |\n",
      "+-------+-------+-------+\n",
      "| 100   | 0.951 | 0.928 |\n",
      "+-------+-------+-------+\n",
      "| 110   | 0.950 | 0.918 |\n",
      "+-------+-------+-------+\n",
      "| 120   | 0.950 | 0.928 |\n",
      "+-------+-------+-------+\n",
      "| 130   | 0.945 | 0.918 |\n",
      "+-------+-------+-------+\n",
      "| 140   | 0.942 | 0.900 |\n",
      "+-------+-------+-------+\n",
      "| 150   | 0.941 | 0.900 |\n",
      "+-------+-------+-------+\n",
      "| 160   | 0.936 | 0.891 |\n",
      "+-------+-------+-------+\n",
      "| 170   | 0.943 | 0.882 |\n",
      "+-------+-------+-------+\n",
      "| 180   | 0.940 | 0.882 |\n",
      "+-------+-------+-------+\n",
      "| 190   | 0.923 | 0.882 |\n",
      "+-------+-------+-------+\n",
      "| 200   | 0.931 | 0.874 |\n",
      "+-------+-------+-------+\n",
      "| 210   | 0.919 | 0.874 |\n",
      "+-------+-------+-------+\n",
      "| 220   | 0.934 | 0.874 |\n",
      "+-------+-------+-------+\n",
      "| 230   | 0.958 | 0.891 |\n",
      "+-------+-------+-------+\n",
      "| 240   | 0.954 | 0.891 |\n",
      "+-------+-------+-------+\n",
      "| 250   | 0.944 | 0.891 |\n",
      "+-------+-------+-------+\n",
      "| 260   | 0.933 | 0.874 |\n",
      "+-------+-------+-------+\n",
      "| 270   | 0.935 | 0.874 |\n",
      "+-------+-------+-------+\n",
      "| 280   | 0.944 | 0.874 |\n",
      "+-------+-------+-------+\n",
      "| 290   | 0.939 | 0.874 |\n",
      "+-------+-------+-------+\n",
      "| 300   | 0.937 | 0.865 |\n",
      "+-------+-------+-------+\n",
      "4-th fold\n",
      "\n",
      "Training started.\n",
      "\n"
     ]
    },
    {
     "name": "stderr",
     "output_type": "stream",
     "text": [
      "\r",
      "SGCN (Loss=0.8154):   0%|          | 1/300 [00:00<01:17,  3.86it/s]"
     ]
    },
    {
     "name": "stdout",
     "output_type": "stream",
     "text": [
      "\n",
      "Embedding is saved.\n",
      "\n",
      "\n",
      "Regression weights are saved.\n",
      "\n"
     ]
    },
    {
     "name": "stderr",
     "output_type": "stream",
     "text": [
      "SGCN (Loss=0.7057):   1%|          | 2/300 [00:00<01:18,  3.81it/s]"
     ]
    },
    {
     "name": "stdout",
     "output_type": "stream",
     "text": [
      "\n",
      "Embedding is saved.\n",
      "\n",
      "\n",
      "Regression weights are saved.\n",
      "\n"
     ]
    },
    {
     "name": "stderr",
     "output_type": "stream",
     "text": [
      "SGCN (Loss=0.6637):   1%|          | 3/300 [00:00<01:18,  3.80it/s]"
     ]
    },
    {
     "name": "stdout",
     "output_type": "stream",
     "text": [
      "\n",
      "Embedding is saved.\n",
      "\n",
      "\n",
      "Regression weights are saved.\n",
      "\n"
     ]
    },
    {
     "name": "stderr",
     "output_type": "stream",
     "text": [
      "SGCN (Loss=0.664):   1%|▏         | 4/300 [00:01<01:17,  3.82it/s] "
     ]
    },
    {
     "name": "stdout",
     "output_type": "stream",
     "text": [
      "\n",
      "Embedding is saved.\n",
      "\n",
      "\n",
      "Regression weights are saved.\n",
      "\n"
     ]
    },
    {
     "name": "stderr",
     "output_type": "stream",
     "text": [
      "SGCN (Loss=0.6558):   2%|▏         | 5/300 [00:01<01:17,  3.83it/s]"
     ]
    },
    {
     "name": "stdout",
     "output_type": "stream",
     "text": [
      "\n",
      "Embedding is saved.\n",
      "\n",
      "\n",
      "Regression weights are saved.\n",
      "\n"
     ]
    },
    {
     "name": "stderr",
     "output_type": "stream",
     "text": [
      "SGCN (Loss=0.6273):   2%|▏         | 7/300 [00:01<01:09,  4.21it/s]"
     ]
    },
    {
     "name": "stdout",
     "output_type": "stream",
     "text": [
      "\n",
      "Embedding is saved.\n",
      "\n",
      "\n",
      "Regression weights are saved.\n",
      "\n"
     ]
    },
    {
     "name": "stderr",
     "output_type": "stream",
     "text": [
      "SGCN (Loss=0.6224):   3%|▎         | 8/300 [00:01<01:11,  4.09it/s]"
     ]
    },
    {
     "name": "stdout",
     "output_type": "stream",
     "text": [
      "\n",
      "Embedding is saved.\n",
      "\n",
      "\n",
      "Regression weights are saved.\n",
      "\n"
     ]
    },
    {
     "name": "stderr",
     "output_type": "stream",
     "text": [
      "SGCN (Loss=0.6094):   3%|▎         | 9/300 [00:02<01:13,  3.96it/s]"
     ]
    },
    {
     "name": "stdout",
     "output_type": "stream",
     "text": [
      "\n",
      "Embedding is saved.\n",
      "\n",
      "\n",
      "Regression weights are saved.\n",
      "\n"
     ]
    },
    {
     "name": "stderr",
     "output_type": "stream",
     "text": [
      "SGCN (Loss=0.5918):   3%|▎         | 10/300 [00:02<01:15,  3.82it/s]"
     ]
    },
    {
     "name": "stdout",
     "output_type": "stream",
     "text": [
      "\n",
      "Embedding is saved.\n",
      "\n",
      "\n",
      "Regression weights are saved.\n",
      "\n"
     ]
    },
    {
     "name": "stderr",
     "output_type": "stream",
     "text": [
      "SGCN (Loss=0.5923):   4%|▎         | 11/300 [00:02<01:18,  3.67it/s]"
     ]
    },
    {
     "name": "stdout",
     "output_type": "stream",
     "text": [
      "\n",
      "Embedding is saved.\n",
      "\n",
      "\n",
      "Regression weights are saved.\n",
      "\n"
     ]
    },
    {
     "name": "stderr",
     "output_type": "stream",
     "text": [
      "SGCN (Loss=0.5837):   4%|▍         | 12/300 [00:03<01:18,  3.68it/s]"
     ]
    },
    {
     "name": "stdout",
     "output_type": "stream",
     "text": [
      "\n",
      "Embedding is saved.\n",
      "\n",
      "\n",
      "Regression weights are saved.\n",
      "\n"
     ]
    },
    {
     "name": "stderr",
     "output_type": "stream",
     "text": [
      "SGCN (Loss=0.5766):   4%|▍         | 13/300 [00:03<01:17,  3.72it/s]"
     ]
    },
    {
     "name": "stdout",
     "output_type": "stream",
     "text": [
      "\n",
      "Embedding is saved.\n",
      "\n",
      "\n",
      "Regression weights are saved.\n",
      "\n"
     ]
    },
    {
     "name": "stderr",
     "output_type": "stream",
     "text": [
      "SGCN (Loss=0.5517):   5%|▍         | 14/300 [00:03<01:15,  3.77it/s]"
     ]
    },
    {
     "name": "stdout",
     "output_type": "stream",
     "text": [
      "\n",
      "Embedding is saved.\n",
      "\n",
      "\n",
      "Regression weights are saved.\n",
      "\n"
     ]
    },
    {
     "name": "stderr",
     "output_type": "stream",
     "text": [
      "SGCN (Loss=0.5364):   5%|▌         | 15/300 [00:03<01:15,  3.80it/s]"
     ]
    },
    {
     "name": "stdout",
     "output_type": "stream",
     "text": [
      "\n",
      "Embedding is saved.\n",
      "\n",
      "\n",
      "Regression weights are saved.\n",
      "\n"
     ]
    },
    {
     "name": "stderr",
     "output_type": "stream",
     "text": [
      "SGCN (Loss=0.5241):   5%|▌         | 16/300 [00:04<01:14,  3.81it/s]"
     ]
    },
    {
     "name": "stdout",
     "output_type": "stream",
     "text": [
      "\n",
      "Embedding is saved.\n",
      "\n",
      "\n",
      "Regression weights are saved.\n",
      "\n"
     ]
    },
    {
     "name": "stderr",
     "output_type": "stream",
     "text": [
      "SGCN (Loss=0.5122):   6%|▌         | 17/300 [00:04<01:13,  3.83it/s]"
     ]
    },
    {
     "name": "stdout",
     "output_type": "stream",
     "text": [
      "\n",
      "Embedding is saved.\n",
      "\n",
      "\n",
      "Regression weights are saved.\n",
      "\n"
     ]
    },
    {
     "name": "stderr",
     "output_type": "stream",
     "text": [
      "SGCN (Loss=0.4847):   7%|▋         | 20/300 [00:04<01:02,  4.49it/s]"
     ]
    },
    {
     "name": "stdout",
     "output_type": "stream",
     "text": [
      "\n",
      "Embedding is saved.\n",
      "\n",
      "\n",
      "Regression weights are saved.\n",
      "\n"
     ]
    },
    {
     "name": "stderr",
     "output_type": "stream",
     "text": [
      "SGCN (Loss=0.4797):   7%|▋         | 21/300 [00:05<01:05,  4.27it/s]"
     ]
    },
    {
     "name": "stdout",
     "output_type": "stream",
     "text": [
      "\n",
      "Embedding is saved.\n",
      "\n",
      "\n",
      "Regression weights are saved.\n",
      "\n"
     ]
    },
    {
     "name": "stderr",
     "output_type": "stream",
     "text": [
      "SGCN (Loss=0.4603):   7%|▋         | 22/300 [00:05<01:07,  4.13it/s]"
     ]
    },
    {
     "name": "stdout",
     "output_type": "stream",
     "text": [
      "\n",
      "Embedding is saved.\n",
      "\n",
      "\n",
      "Regression weights are saved.\n",
      "\n"
     ]
    },
    {
     "name": "stderr",
     "output_type": "stream",
     "text": [
      "SGCN (Loss=0.4564):   8%|▊         | 23/300 [00:05<01:08,  4.04it/s]"
     ]
    },
    {
     "name": "stdout",
     "output_type": "stream",
     "text": [
      "\n",
      "Embedding is saved.\n",
      "\n",
      "\n",
      "Regression weights are saved.\n",
      "\n"
     ]
    },
    {
     "name": "stderr",
     "output_type": "stream",
     "text": [
      "SGCN (Loss=0.4459):   8%|▊         | 24/300 [00:06<01:10,  3.93it/s]"
     ]
    },
    {
     "name": "stdout",
     "output_type": "stream",
     "text": [
      "\n",
      "Embedding is saved.\n",
      "\n",
      "\n",
      "Regression weights are saved.\n",
      "\n"
     ]
    },
    {
     "name": "stderr",
     "output_type": "stream",
     "text": [
      "SGCN (Loss=0.4482):   8%|▊         | 25/300 [00:06<01:11,  3.83it/s]"
     ]
    },
    {
     "name": "stdout",
     "output_type": "stream",
     "text": [
      "\n",
      "Embedding is saved.\n",
      "\n",
      "\n",
      "Regression weights are saved.\n",
      "\n"
     ]
    },
    {
     "name": "stderr",
     "output_type": "stream",
     "text": [
      "SGCN (Loss=0.4241):   9%|▉         | 28/300 [00:06<00:59,  4.54it/s]"
     ]
    },
    {
     "name": "stdout",
     "output_type": "stream",
     "text": [
      "\n",
      "Embedding is saved.\n",
      "\n",
      "\n",
      "Regression weights are saved.\n",
      "\n"
     ]
    },
    {
     "name": "stderr",
     "output_type": "stream",
     "text": [
      "SGCN (Loss=0.3919):  12%|█▏        | 35/300 [00:08<00:50,  5.22it/s]"
     ]
    },
    {
     "name": "stdout",
     "output_type": "stream",
     "text": [
      "\n",
      "Embedding is saved.\n",
      "\n",
      "\n",
      "Regression weights are saved.\n",
      "\n"
     ]
    },
    {
     "name": "stderr",
     "output_type": "stream",
     "text": [
      "SGCN (Loss=0.3844):  12%|█▏        | 36/300 [00:08<00:56,  4.66it/s]"
     ]
    },
    {
     "name": "stdout",
     "output_type": "stream",
     "text": [
      "\n",
      "Embedding is saved.\n",
      "\n",
      "\n",
      "Regression weights are saved.\n",
      "\n"
     ]
    },
    {
     "name": "stderr",
     "output_type": "stream",
     "text": [
      "SGCN (Loss=0.3903):  12%|█▏        | 37/300 [00:08<01:00,  4.37it/s]"
     ]
    },
    {
     "name": "stdout",
     "output_type": "stream",
     "text": [
      "\n",
      "Embedding is saved.\n",
      "\n",
      "\n",
      "Regression weights are saved.\n",
      "\n"
     ]
    },
    {
     "name": "stderr",
     "output_type": "stream",
     "text": [
      "SGCN (Loss=0.3804):  13%|█▎        | 38/300 [00:08<01:03,  4.14it/s]"
     ]
    },
    {
     "name": "stdout",
     "output_type": "stream",
     "text": [
      "\n",
      "Embedding is saved.\n",
      "\n",
      "\n",
      "Regression weights are saved.\n",
      "\n"
     ]
    },
    {
     "name": "stderr",
     "output_type": "stream",
     "text": [
      "SGCN (Loss=0.3887):  13%|█▎        | 39/300 [00:09<01:05,  4.00it/s]"
     ]
    },
    {
     "name": "stdout",
     "output_type": "stream",
     "text": [
      "\n",
      "Embedding is saved.\n",
      "\n",
      "\n",
      "Regression weights are saved.\n",
      "\n"
     ]
    },
    {
     "name": "stderr",
     "output_type": "stream",
     "text": [
      "SGCN (Loss=0.3755):  13%|█▎        | 40/300 [00:09<01:06,  3.90it/s]"
     ]
    },
    {
     "name": "stdout",
     "output_type": "stream",
     "text": [
      "\n",
      "Embedding is saved.\n",
      "\n",
      "\n",
      "Regression weights are saved.\n",
      "\n"
     ]
    },
    {
     "name": "stderr",
     "output_type": "stream",
     "text": [
      "SGCN (Loss=0.3736):  14%|█▎        | 41/300 [00:09<01:06,  3.89it/s]"
     ]
    },
    {
     "name": "stdout",
     "output_type": "stream",
     "text": [
      "\n",
      "Embedding is saved.\n",
      "\n",
      "\n",
      "Regression weights are saved.\n",
      "\n"
     ]
    },
    {
     "name": "stderr",
     "output_type": "stream",
     "text": [
      "SGCN (Loss=0.3735):  14%|█▍        | 42/300 [00:09<01:07,  3.83it/s]"
     ]
    },
    {
     "name": "stdout",
     "output_type": "stream",
     "text": [
      "\n",
      "Embedding is saved.\n",
      "\n",
      "\n",
      "Regression weights are saved.\n",
      "\n"
     ]
    },
    {
     "name": "stderr",
     "output_type": "stream",
     "text": [
      "SGCN (Loss=0.3737):  14%|█▍        | 43/300 [00:10<01:06,  3.84it/s]"
     ]
    },
    {
     "name": "stdout",
     "output_type": "stream",
     "text": [
      "\n",
      "Embedding is saved.\n",
      "\n",
      "\n",
      "Regression weights are saved.\n",
      "\n"
     ]
    },
    {
     "name": "stderr",
     "output_type": "stream",
     "text": [
      "SGCN (Loss=0.3703):  15%|█▍        | 44/300 [00:10<01:09,  3.68it/s]"
     ]
    },
    {
     "name": "stdout",
     "output_type": "stream",
     "text": [
      "\n",
      "Embedding is saved.\n",
      "\n",
      "\n",
      "Regression weights are saved.\n",
      "\n"
     ]
    },
    {
     "name": "stderr",
     "output_type": "stream",
     "text": [
      "SGCN (Loss=0.3526):  15%|█▌        | 45/300 [00:10<01:11,  3.55it/s]"
     ]
    },
    {
     "name": "stdout",
     "output_type": "stream",
     "text": [
      "\n",
      "Embedding is saved.\n",
      "\n",
      "\n",
      "Regression weights are saved.\n",
      "\n"
     ]
    },
    {
     "name": "stderr",
     "output_type": "stream",
     "text": [
      "SGCN (Loss=0.3543):  15%|█▌        | 46/300 [00:11<01:10,  3.61it/s]"
     ]
    },
    {
     "name": "stdout",
     "output_type": "stream",
     "text": [
      "\n",
      "Embedding is saved.\n",
      "\n",
      "\n",
      "Regression weights are saved.\n",
      "\n"
     ]
    },
    {
     "name": "stderr",
     "output_type": "stream",
     "text": [
      "SGCN (Loss=0.3553):  16%|█▌        | 47/300 [00:11<01:09,  3.62it/s]"
     ]
    },
    {
     "name": "stdout",
     "output_type": "stream",
     "text": [
      "\n",
      "Embedding is saved.\n",
      "\n",
      "\n",
      "Regression weights are saved.\n",
      "\n"
     ]
    },
    {
     "name": "stderr",
     "output_type": "stream",
     "text": [
      "SGCN (Loss=0.3295):  17%|█▋        | 50/300 [00:11<00:56,  4.41it/s]"
     ]
    },
    {
     "name": "stdout",
     "output_type": "stream",
     "text": [
      "\n",
      "Embedding is saved.\n",
      "\n",
      "\n",
      "Regression weights are saved.\n",
      "\n"
     ]
    },
    {
     "name": "stderr",
     "output_type": "stream",
     "text": [
      "SGCN (Loss=0.3471):  17%|█▋        | 51/300 [00:12<00:59,  4.21it/s]"
     ]
    },
    {
     "name": "stdout",
     "output_type": "stream",
     "text": [
      "\n",
      "Embedding is saved.\n",
      "\n",
      "\n",
      "Regression weights are saved.\n",
      "\n"
     ]
    },
    {
     "name": "stderr",
     "output_type": "stream",
     "text": [
      "SGCN (Loss=0.329):  18%|█▊        | 54/300 [00:12<00:52,  4.70it/s] "
     ]
    },
    {
     "name": "stdout",
     "output_type": "stream",
     "text": [
      "\n",
      "Embedding is saved.\n",
      "\n",
      "\n",
      "Regression weights are saved.\n",
      "\n"
     ]
    },
    {
     "name": "stderr",
     "output_type": "stream",
     "text": [
      "SGCN (Loss=0.2844):  21%|██        | 63/300 [00:14<00:46,  5.06it/s]"
     ]
    },
    {
     "name": "stdout",
     "output_type": "stream",
     "text": [
      "\n",
      "Embedding is saved.\n",
      "\n",
      "\n",
      "Regression weights are saved.\n",
      "\n"
     ]
    },
    {
     "name": "stderr",
     "output_type": "stream",
     "text": [
      "SGCN (Loss=0.2525):  26%|██▋       | 79/300 [00:16<00:42,  5.22it/s]"
     ]
    },
    {
     "name": "stdout",
     "output_type": "stream",
     "text": [
      "\n",
      "Embedding is saved.\n",
      "\n",
      "\n",
      "Regression weights are saved.\n",
      "\n"
     ]
    },
    {
     "name": "stderr",
     "output_type": "stream",
     "text": [
      "SGCN (Loss=0.2546):  27%|██▋       | 80/300 [00:17<00:48,  4.51it/s]"
     ]
    },
    {
     "name": "stdout",
     "output_type": "stream",
     "text": [
      "\n",
      "Embedding is saved.\n",
      "\n",
      "\n",
      "Regression weights are saved.\n",
      "\n"
     ]
    },
    {
     "name": "stderr",
     "output_type": "stream",
     "text": [
      "SGCN (Loss=0.2391):  27%|██▋       | 82/300 [00:17<00:47,  4.57it/s]"
     ]
    },
    {
     "name": "stdout",
     "output_type": "stream",
     "text": [
      "\n",
      "Embedding is saved.\n",
      "\n",
      "\n",
      "Regression weights are saved.\n",
      "\n"
     ]
    },
    {
     "name": "stderr",
     "output_type": "stream",
     "text": [
      "SGCN (Loss=0.2287):  28%|██▊       | 83/300 [00:17<00:50,  4.32it/s]"
     ]
    },
    {
     "name": "stdout",
     "output_type": "stream",
     "text": [
      "\n",
      "Embedding is saved.\n",
      "\n",
      "\n",
      "Regression weights are saved.\n",
      "\n"
     ]
    },
    {
     "name": "stderr",
     "output_type": "stream",
     "text": [
      "SGCN (Loss=0.2345):  29%|██▉       | 87/300 [00:18<00:44,  4.81it/s]"
     ]
    },
    {
     "name": "stdout",
     "output_type": "stream",
     "text": [
      "\n",
      "Embedding is saved.\n",
      "\n",
      "\n",
      "Regression weights are saved.\n",
      "\n"
     ]
    },
    {
     "name": "stderr",
     "output_type": "stream",
     "text": [
      "SGCN (Loss=0.2183):  30%|███       | 90/300 [00:19<00:43,  4.88it/s]"
     ]
    },
    {
     "name": "stdout",
     "output_type": "stream",
     "text": [
      "\n",
      "Embedding is saved.\n",
      "\n",
      "\n",
      "Regression weights are saved.\n",
      "\n"
     ]
    },
    {
     "name": "stderr",
     "output_type": "stream",
     "text": [
      "SGCN (Loss=0.1956):  34%|███▍      | 103/300 [00:21<00:38,  5.08it/s]"
     ]
    },
    {
     "name": "stdout",
     "output_type": "stream",
     "text": [
      "\n",
      "Embedding is saved.\n",
      "\n",
      "\n",
      "Regression weights are saved.\n",
      "\n"
     ]
    },
    {
     "name": "stderr",
     "output_type": "stream",
     "text": [
      "SGCN (Loss=0.193):  35%|███▍      | 104/300 [00:21<00:42,  4.62it/s] "
     ]
    },
    {
     "name": "stdout",
     "output_type": "stream",
     "text": [
      "\n",
      "Embedding is saved.\n",
      "\n",
      "\n",
      "Regression weights are saved.\n",
      "\n"
     ]
    },
    {
     "name": "stderr",
     "output_type": "stream",
     "text": [
      "SGCN (Loss=0.1878):  36%|███▌      | 107/300 [00:22<00:39,  4.86it/s]"
     ]
    },
    {
     "name": "stdout",
     "output_type": "stream",
     "text": [
      "\n",
      "Embedding is saved.\n",
      "\n",
      "\n",
      "Regression weights are saved.\n",
      "\n"
     ]
    },
    {
     "name": "stderr",
     "output_type": "stream",
     "text": [
      "SGCN (Loss=0.172):  39%|███▉      | 118/300 [00:23<00:33,  5.43it/s] "
     ]
    },
    {
     "name": "stdout",
     "output_type": "stream",
     "text": [
      "\n",
      "Embedding is saved.\n",
      "\n",
      "\n",
      "Regression weights are saved.\n",
      "\n"
     ]
    },
    {
     "name": "stderr",
     "output_type": "stream",
     "text": [
      "SGCN (Loss=0.1695):  42%|████▏     | 126/300 [00:25<00:32,  5.39it/s]"
     ]
    },
    {
     "name": "stdout",
     "output_type": "stream",
     "text": [
      "\n",
      "Embedding is saved.\n",
      "\n",
      "\n",
      "Regression weights are saved.\n",
      "\n"
     ]
    },
    {
     "name": "stderr",
     "output_type": "stream",
     "text": [
      "SGCN (Loss=0.0674): 100%|██████████| 300/300 [00:52<00:00,  6.51it/s]\n",
      "/home/ubuntu/anaconda3/envs/pytorch_p36/lib/python3.6/site-packages/ipykernel/__main__.py:26: UserWarning: Implicit dimension choice for softmax has been deprecated. Change the call to include dim=X as an argument.\n",
      "SGCN (Loss=0.8174):   0%|          | 0/300 [00:00<?, ?it/s]"
     ]
    },
    {
     "name": "stdout",
     "output_type": "stream",
     "text": [
      "+-------+-------+-------+\n",
      "| Epoch |  AUC  |  F1   |\n",
      "+=======+=======+=======+\n",
      "| 10    | 0.789 | 0.804 |\n",
      "+-------+-------+-------+\n",
      "| 20    | 0.895 | 0.874 |\n",
      "+-------+-------+-------+\n",
      "| 30    | 0.916 | 0.882 |\n",
      "+-------+-------+-------+\n",
      "| 40    | 0.939 | 0.882 |\n",
      "+-------+-------+-------+\n",
      "| 50    | 0.964 | 0.891 |\n",
      "+-------+-------+-------+\n",
      "| 60    | 0.962 | 0.891 |\n",
      "+-------+-------+-------+\n",
      "| 70    | 0.951 | 0.909 |\n",
      "+-------+-------+-------+\n",
      "| 80    | 0.967 | 0.909 |\n",
      "+-------+-------+-------+\n",
      "| 90    | 0.973 | 0.909 |\n",
      "+-------+-------+-------+\n",
      "| 100   | 0.970 | 0.928 |\n",
      "+-------+-------+-------+\n",
      "| 110   | 0.974 | 0.918 |\n",
      "+-------+-------+-------+\n",
      "| 120   | 0.970 | 0.918 |\n",
      "+-------+-------+-------+\n",
      "| 130   | 0.974 | 0.918 |\n",
      "+-------+-------+-------+\n",
      "| 140   | 0.969 | 0.900 |\n",
      "+-------+-------+-------+\n",
      "| 150   | 0.964 | 0.900 |\n",
      "+-------+-------+-------+\n",
      "| 160   | 0.943 | 0.900 |\n",
      "+-------+-------+-------+\n",
      "| 170   | 0.944 | 0.900 |\n",
      "+-------+-------+-------+\n",
      "| 180   | 0.932 | 0.882 |\n",
      "+-------+-------+-------+\n",
      "| 190   | 0.932 | 0.882 |\n",
      "+-------+-------+-------+\n",
      "| 200   | 0.940 | 0.882 |\n",
      "+-------+-------+-------+\n",
      "| 210   | 0.923 | 0.882 |\n",
      "+-------+-------+-------+\n",
      "| 220   | 0.936 | 0.882 |\n",
      "+-------+-------+-------+\n",
      "| 230   | 0.922 | 0.865 |\n",
      "+-------+-------+-------+\n",
      "| 240   | 0.936 | 0.857 |\n",
      "+-------+-------+-------+\n",
      "| 250   | 0.932 | 0.849 |\n",
      "+-------+-------+-------+\n",
      "| 260   | 0.919 | 0.841 |\n",
      "+-------+-------+-------+\n",
      "| 270   | 0.923 | 0.833 |\n",
      "+-------+-------+-------+\n",
      "| 280   | 0.936 | 0.865 |\n",
      "+-------+-------+-------+\n",
      "| 290   | 0.946 | 0.841 |\n",
      "+-------+-------+-------+\n",
      "| 300   | 0.920 | 0.833 |\n",
      "+-------+-------+-------+\n",
      "5-th fold\n",
      "\n",
      "Training started.\n",
      "\n"
     ]
    },
    {
     "name": "stderr",
     "output_type": "stream",
     "text": [
      "\r",
      "SGCN (Loss=0.8174):   0%|          | 1/300 [00:00<01:30,  3.31it/s]"
     ]
    },
    {
     "name": "stdout",
     "output_type": "stream",
     "text": [
      "\n",
      "Embedding is saved.\n",
      "\n",
      "\n",
      "Regression weights are saved.\n",
      "\n"
     ]
    },
    {
     "name": "stderr",
     "output_type": "stream",
     "text": [
      "SGCN (Loss=0.7048):   1%|          | 2/300 [00:00<01:27,  3.42it/s]"
     ]
    },
    {
     "name": "stdout",
     "output_type": "stream",
     "text": [
      "\n",
      "Embedding is saved.\n",
      "\n",
      "\n",
      "Regression weights are saved.\n",
      "\n"
     ]
    },
    {
     "name": "stderr",
     "output_type": "stream",
     "text": [
      "SGCN (Loss=0.6672):   1%|          | 3/300 [00:00<01:23,  3.54it/s]"
     ]
    },
    {
     "name": "stdout",
     "output_type": "stream",
     "text": [
      "\n",
      "Embedding is saved.\n",
      "\n",
      "\n",
      "Regression weights are saved.\n",
      "\n"
     ]
    },
    {
     "name": "stderr",
     "output_type": "stream",
     "text": [
      "SGCN (Loss=0.669):   1%|▏         | 4/300 [00:01<01:21,  3.63it/s] "
     ]
    },
    {
     "name": "stdout",
     "output_type": "stream",
     "text": [
      "\n",
      "Embedding is saved.\n",
      "\n",
      "\n",
      "Regression weights are saved.\n",
      "\n"
     ]
    },
    {
     "name": "stderr",
     "output_type": "stream",
     "text": [
      "SGCN (Loss=0.6598):   2%|▏         | 5/300 [00:01<01:19,  3.69it/s]"
     ]
    },
    {
     "name": "stdout",
     "output_type": "stream",
     "text": [
      "\n",
      "Embedding is saved.\n",
      "\n",
      "\n",
      "Regression weights are saved.\n",
      "\n"
     ]
    },
    {
     "name": "stderr",
     "output_type": "stream",
     "text": [
      "SGCN (Loss=0.6415):   2%|▏         | 7/300 [00:01<01:10,  4.14it/s]"
     ]
    },
    {
     "name": "stdout",
     "output_type": "stream",
     "text": [
      "\n",
      "Embedding is saved.\n",
      "\n",
      "\n",
      "Regression weights are saved.\n",
      "\n"
     ]
    },
    {
     "name": "stderr",
     "output_type": "stream",
     "text": [
      "SGCN (Loss=0.6329):   3%|▎         | 8/300 [00:02<01:12,  4.00it/s]"
     ]
    },
    {
     "name": "stdout",
     "output_type": "stream",
     "text": [
      "\n",
      "Embedding is saved.\n",
      "\n",
      "\n",
      "Regression weights are saved.\n",
      "\n"
     ]
    },
    {
     "name": "stderr",
     "output_type": "stream",
     "text": [
      "SGCN (Loss=0.6244):   3%|▎         | 9/300 [00:02<01:14,  3.89it/s]"
     ]
    },
    {
     "name": "stdout",
     "output_type": "stream",
     "text": [
      "\n",
      "Embedding is saved.\n",
      "\n",
      "\n",
      "Regression weights are saved.\n",
      "\n"
     ]
    },
    {
     "name": "stderr",
     "output_type": "stream",
     "text": [
      "SGCN (Loss=0.6088):   3%|▎         | 10/300 [00:02<01:16,  3.78it/s]"
     ]
    },
    {
     "name": "stdout",
     "output_type": "stream",
     "text": [
      "\n",
      "Embedding is saved.\n",
      "\n",
      "\n",
      "Regression weights are saved.\n",
      "\n"
     ]
    },
    {
     "name": "stderr",
     "output_type": "stream",
     "text": [
      "SGCN (Loss=0.6004):   4%|▎         | 11/300 [00:02<01:17,  3.74it/s]"
     ]
    },
    {
     "name": "stdout",
     "output_type": "stream",
     "text": [
      "\n",
      "Embedding is saved.\n",
      "\n",
      "\n",
      "Regression weights are saved.\n",
      "\n"
     ]
    },
    {
     "name": "stderr",
     "output_type": "stream",
     "text": [
      "SGCN (Loss=0.5907):   4%|▍         | 12/300 [00:03<01:16,  3.76it/s]"
     ]
    },
    {
     "name": "stdout",
     "output_type": "stream",
     "text": [
      "\n",
      "Embedding is saved.\n",
      "\n",
      "\n",
      "Regression weights are saved.\n",
      "\n"
     ]
    },
    {
     "name": "stderr",
     "output_type": "stream",
     "text": [
      "SGCN (Loss=0.5804):   4%|▍         | 13/300 [00:03<01:16,  3.74it/s]"
     ]
    },
    {
     "name": "stdout",
     "output_type": "stream",
     "text": [
      "\n",
      "Embedding is saved.\n",
      "\n",
      "\n",
      "Regression weights are saved.\n",
      "\n"
     ]
    },
    {
     "name": "stderr",
     "output_type": "stream",
     "text": [
      "SGCN (Loss=0.5764):   5%|▍         | 14/300 [00:03<01:15,  3.77it/s]"
     ]
    },
    {
     "name": "stdout",
     "output_type": "stream",
     "text": [
      "\n",
      "Embedding is saved.\n",
      "\n",
      "\n",
      "Regression weights are saved.\n",
      "\n"
     ]
    },
    {
     "name": "stderr",
     "output_type": "stream",
     "text": [
      "SGCN (Loss=0.5393):   5%|▌         | 15/300 [00:03<01:15,  3.80it/s]"
     ]
    },
    {
     "name": "stdout",
     "output_type": "stream",
     "text": [
      "\n",
      "Embedding is saved.\n",
      "\n",
      "\n",
      "Regression weights are saved.\n",
      "\n"
     ]
    },
    {
     "name": "stderr",
     "output_type": "stream",
     "text": [
      "SGCN (Loss=0.5408):   5%|▌         | 16/300 [00:04<01:14,  3.81it/s]"
     ]
    },
    {
     "name": "stdout",
     "output_type": "stream",
     "text": [
      "\n",
      "Embedding is saved.\n",
      "\n",
      "\n",
      "Regression weights are saved.\n",
      "\n"
     ]
    },
    {
     "name": "stderr",
     "output_type": "stream",
     "text": [
      "SGCN (Loss=0.4946):   6%|▋         | 19/300 [00:04<01:04,  4.35it/s]"
     ]
    },
    {
     "name": "stdout",
     "output_type": "stream",
     "text": [
      "\n",
      "Embedding is saved.\n",
      "\n",
      "\n",
      "Regression weights are saved.\n",
      "\n"
     ]
    },
    {
     "name": "stderr",
     "output_type": "stream",
     "text": [
      "SGCN (Loss=0.4809):   7%|▋         | 20/300 [00:05<01:09,  4.03it/s]"
     ]
    },
    {
     "name": "stdout",
     "output_type": "stream",
     "text": [
      "\n",
      "Embedding is saved.\n",
      "\n",
      "\n",
      "Regression weights are saved.\n",
      "\n"
     ]
    },
    {
     "name": "stderr",
     "output_type": "stream",
     "text": [
      "SGCN (Loss=0.4718):   8%|▊         | 24/300 [00:05<00:57,  4.78it/s]"
     ]
    },
    {
     "name": "stdout",
     "output_type": "stream",
     "text": [
      "\n",
      "Embedding is saved.\n",
      "\n",
      "\n",
      "Regression weights are saved.\n",
      "\n"
     ]
    },
    {
     "name": "stderr",
     "output_type": "stream",
     "text": [
      "SGCN (Loss=0.4632):   8%|▊         | 25/300 [00:06<01:01,  4.45it/s]"
     ]
    },
    {
     "name": "stdout",
     "output_type": "stream",
     "text": [
      "\n",
      "Embedding is saved.\n",
      "\n",
      "\n",
      "Regression weights are saved.\n",
      "\n"
     ]
    },
    {
     "name": "stderr",
     "output_type": "stream",
     "text": [
      "SGCN (Loss=0.4222):  10%|█         | 30/300 [00:06<00:57,  4.68it/s]"
     ]
    },
    {
     "name": "stdout",
     "output_type": "stream",
     "text": [
      "\n",
      "Embedding is saved.\n",
      "\n",
      "\n",
      "Regression weights are saved.\n",
      "\n"
     ]
    },
    {
     "name": "stderr",
     "output_type": "stream",
     "text": [
      "SGCN (Loss=0.4237):  10%|█         | 31/300 [00:07<01:02,  4.34it/s]"
     ]
    },
    {
     "name": "stdout",
     "output_type": "stream",
     "text": [
      "\n",
      "Embedding is saved.\n",
      "\n",
      "\n",
      "Regression weights are saved.\n",
      "\n"
     ]
    },
    {
     "name": "stderr",
     "output_type": "stream",
     "text": [
      "SGCN (Loss=0.4071):  12%|█▏        | 35/300 [00:07<00:55,  4.78it/s]"
     ]
    },
    {
     "name": "stdout",
     "output_type": "stream",
     "text": [
      "\n",
      "Embedding is saved.\n",
      "\n",
      "\n",
      "Regression weights are saved.\n",
      "\n"
     ]
    },
    {
     "name": "stderr",
     "output_type": "stream",
     "text": [
      "SGCN (Loss=0.3959):  13%|█▎        | 38/300 [00:08<00:54,  4.81it/s]"
     ]
    },
    {
     "name": "stdout",
     "output_type": "stream",
     "text": [
      "\n",
      "Embedding is saved.\n",
      "\n",
      "\n",
      "Regression weights are saved.\n",
      "\n"
     ]
    },
    {
     "name": "stderr",
     "output_type": "stream",
     "text": [
      "SGCN (Loss=0.3774):  13%|█▎        | 39/300 [00:08<00:58,  4.47it/s]"
     ]
    },
    {
     "name": "stdout",
     "output_type": "stream",
     "text": [
      "\n",
      "Embedding is saved.\n",
      "\n",
      "\n",
      "Regression weights are saved.\n",
      "\n"
     ]
    },
    {
     "name": "stderr",
     "output_type": "stream",
     "text": [
      "SGCN (Loss=0.386):  13%|█▎        | 40/300 [00:09<01:01,  4.20it/s] "
     ]
    },
    {
     "name": "stdout",
     "output_type": "stream",
     "text": [
      "\n",
      "Embedding is saved.\n",
      "\n",
      "\n",
      "Regression weights are saved.\n",
      "\n"
     ]
    },
    {
     "name": "stderr",
     "output_type": "stream",
     "text": [
      "SGCN (Loss=0.3884):  14%|█▎        | 41/300 [00:09<01:05,  3.94it/s]"
     ]
    },
    {
     "name": "stdout",
     "output_type": "stream",
     "text": [
      "\n",
      "Embedding is saved.\n",
      "\n",
      "\n",
      "Regression weights are saved.\n",
      "\n"
     ]
    },
    {
     "name": "stderr",
     "output_type": "stream",
     "text": [
      "SGCN (Loss=0.3667):  14%|█▍        | 42/300 [00:09<01:07,  3.81it/s]"
     ]
    },
    {
     "name": "stdout",
     "output_type": "stream",
     "text": [
      "\n",
      "Embedding is saved.\n",
      "\n",
      "\n",
      "Regression weights are saved.\n",
      "\n"
     ]
    },
    {
     "name": "stderr",
     "output_type": "stream",
     "text": [
      "SGCN (Loss=0.362):  14%|█▍        | 43/300 [00:09<01:08,  3.75it/s] "
     ]
    },
    {
     "name": "stdout",
     "output_type": "stream",
     "text": [
      "\n",
      "Embedding is saved.\n",
      "\n",
      "\n",
      "Regression weights are saved.\n",
      "\n"
     ]
    },
    {
     "name": "stderr",
     "output_type": "stream",
     "text": [
      "SGCN (Loss=0.3507):  15%|█▍        | 44/300 [00:10<01:10,  3.63it/s]"
     ]
    },
    {
     "name": "stdout",
     "output_type": "stream",
     "text": [
      "\n",
      "Embedding is saved.\n",
      "\n",
      "\n",
      "Regression weights are saved.\n",
      "\n"
     ]
    },
    {
     "name": "stderr",
     "output_type": "stream",
     "text": [
      "SGCN (Loss=0.368):  15%|█▌        | 45/300 [00:10<01:11,  3.58it/s] "
     ]
    },
    {
     "name": "stdout",
     "output_type": "stream",
     "text": [
      "\n",
      "Embedding is saved.\n",
      "\n",
      "\n",
      "Regression weights are saved.\n",
      "\n"
     ]
    },
    {
     "name": "stderr",
     "output_type": "stream",
     "text": [
      "SGCN (Loss=0.3579):  15%|█▌        | 46/300 [00:10<01:09,  3.63it/s]"
     ]
    },
    {
     "name": "stdout",
     "output_type": "stream",
     "text": [
      "\n",
      "Embedding is saved.\n",
      "\n",
      "\n",
      "Regression weights are saved.\n",
      "\n"
     ]
    },
    {
     "name": "stderr",
     "output_type": "stream",
     "text": [
      "SGCN (Loss=0.3336):  16%|█▌        | 47/300 [00:11<01:11,  3.55it/s]"
     ]
    },
    {
     "name": "stdout",
     "output_type": "stream",
     "text": [
      "\n",
      "Embedding is saved.\n",
      "\n",
      "\n",
      "Regression weights are saved.\n",
      "\n"
     ]
    },
    {
     "name": "stderr",
     "output_type": "stream",
     "text": [
      "SGCN (Loss=0.3527):  16%|█▌        | 48/300 [00:11<01:11,  3.51it/s]"
     ]
    },
    {
     "name": "stdout",
     "output_type": "stream",
     "text": [
      "\n",
      "Embedding is saved.\n",
      "\n",
      "\n",
      "Regression weights are saved.\n",
      "\n"
     ]
    },
    {
     "name": "stderr",
     "output_type": "stream",
     "text": [
      "SGCN (Loss=0.3401):  16%|█▋        | 49/300 [00:11<01:14,  3.38it/s]"
     ]
    },
    {
     "name": "stdout",
     "output_type": "stream",
     "text": [
      "\n",
      "Embedding is saved.\n",
      "\n",
      "\n",
      "Regression weights are saved.\n",
      "\n"
     ]
    },
    {
     "name": "stderr",
     "output_type": "stream",
     "text": [
      "SGCN (Loss=0.3387):  17%|█▋        | 50/300 [00:11<01:12,  3.43it/s]"
     ]
    },
    {
     "name": "stdout",
     "output_type": "stream",
     "text": [
      "\n",
      "Embedding is saved.\n",
      "\n",
      "\n",
      "Regression weights are saved.\n",
      "\n"
     ]
    },
    {
     "name": "stderr",
     "output_type": "stream",
     "text": [
      "SGCN (Loss=0.3425):  17%|█▋        | 51/300 [00:12<01:11,  3.49it/s]"
     ]
    },
    {
     "name": "stdout",
     "output_type": "stream",
     "text": [
      "\n",
      "Embedding is saved.\n",
      "\n",
      "\n",
      "Regression weights are saved.\n",
      "\n"
     ]
    },
    {
     "name": "stderr",
     "output_type": "stream",
     "text": [
      "SGCN (Loss=0.3244):  17%|█▋        | 52/300 [00:12<01:11,  3.45it/s]"
     ]
    },
    {
     "name": "stdout",
     "output_type": "stream",
     "text": [
      "\n",
      "Embedding is saved.\n",
      "\n",
      "\n",
      "Regression weights are saved.\n",
      "\n"
     ]
    },
    {
     "name": "stderr",
     "output_type": "stream",
     "text": [
      "SGCN (Loss=0.3334):  18%|█▊        | 53/300 [00:12<01:12,  3.39it/s]"
     ]
    },
    {
     "name": "stdout",
     "output_type": "stream",
     "text": [
      "\n",
      "Embedding is saved.\n",
      "\n",
      "\n",
      "Regression weights are saved.\n",
      "\n"
     ]
    },
    {
     "name": "stderr",
     "output_type": "stream",
     "text": [
      "SGCN (Loss=0.2847):  23%|██▎       | 70/300 [00:15<00:46,  4.98it/s]"
     ]
    },
    {
     "name": "stdout",
     "output_type": "stream",
     "text": [
      "\n",
      "Embedding is saved.\n",
      "\n",
      "\n",
      "Regression weights are saved.\n",
      "\n"
     ]
    },
    {
     "name": "stderr",
     "output_type": "stream",
     "text": [
      "SGCN (Loss=0.267):  24%|██▎       | 71/300 [00:15<00:51,  4.46it/s] "
     ]
    },
    {
     "name": "stdout",
     "output_type": "stream",
     "text": [
      "\n",
      "Embedding is saved.\n",
      "\n",
      "\n",
      "Regression weights are saved.\n",
      "\n"
     ]
    },
    {
     "name": "stderr",
     "output_type": "stream",
     "text": [
      "SGCN (Loss=0.2483):  26%|██▌       | 78/300 [00:17<00:43,  5.06it/s]"
     ]
    },
    {
     "name": "stdout",
     "output_type": "stream",
     "text": [
      "\n",
      "Embedding is saved.\n",
      "\n",
      "\n",
      "Regression weights are saved.\n",
      "\n"
     ]
    },
    {
     "name": "stderr",
     "output_type": "stream",
     "text": [
      "SGCN (Loss=0.2379):  27%|██▋       | 82/300 [00:17<00:43,  4.98it/s]"
     ]
    },
    {
     "name": "stdout",
     "output_type": "stream",
     "text": [
      "\n",
      "Embedding is saved.\n",
      "\n",
      "\n",
      "Regression weights are saved.\n",
      "\n"
     ]
    },
    {
     "name": "stderr",
     "output_type": "stream",
     "text": [
      "SGCN (Loss=0.2406):  29%|██▊       | 86/300 [00:18<00:42,  5.10it/s]"
     ]
    },
    {
     "name": "stdout",
     "output_type": "stream",
     "text": [
      "\n",
      "Embedding is saved.\n",
      "\n",
      "\n",
      "Regression weights are saved.\n",
      "\n"
     ]
    },
    {
     "name": "stderr",
     "output_type": "stream",
     "text": [
      "SGCN (Loss=0.2006):  34%|███▍      | 102/300 [00:21<00:39,  5.04it/s]"
     ]
    },
    {
     "name": "stdout",
     "output_type": "stream",
     "text": [
      "\n",
      "Embedding is saved.\n",
      "\n",
      "\n",
      "Regression weights are saved.\n",
      "\n"
     ]
    },
    {
     "name": "stderr",
     "output_type": "stream",
     "text": [
      "SGCN (Loss=0.2076):  34%|███▍      | 103/300 [00:21<00:44,  4.47it/s]"
     ]
    },
    {
     "name": "stdout",
     "output_type": "stream",
     "text": [
      "\n",
      "Embedding is saved.\n",
      "\n",
      "\n",
      "Regression weights are saved.\n",
      "\n"
     ]
    },
    {
     "name": "stderr",
     "output_type": "stream",
     "text": [
      "SGCN (Loss=0.2014):  37%|███▋      | 111/300 [00:22<00:36,  5.23it/s]"
     ]
    },
    {
     "name": "stdout",
     "output_type": "stream",
     "text": [
      "\n",
      "Embedding is saved.\n",
      "\n",
      "\n",
      "Regression weights are saved.\n",
      "\n"
     ]
    },
    {
     "name": "stderr",
     "output_type": "stream",
     "text": [
      "SGCN (Loss=0.1893):  37%|███▋      | 112/300 [00:23<00:40,  4.65it/s]"
     ]
    },
    {
     "name": "stdout",
     "output_type": "stream",
     "text": [
      "\n",
      "Embedding is saved.\n",
      "\n",
      "\n",
      "Regression weights are saved.\n",
      "\n"
     ]
    },
    {
     "name": "stderr",
     "output_type": "stream",
     "text": [
      "SGCN (Loss=0.0713): 100%|██████████| 300/300 [00:52<00:00,  6.63it/s]\n",
      "/home/ubuntu/anaconda3/envs/pytorch_p36/lib/python3.6/site-packages/ipykernel/__main__.py:26: UserWarning: Implicit dimension choice for softmax has been deprecated. Change the call to include dim=X as an argument.\n",
      "SGCN (Loss=0.8153):   0%|          | 0/300 [00:00<?, ?it/s]"
     ]
    },
    {
     "name": "stdout",
     "output_type": "stream",
     "text": [
      "+-------+-------+-------+\n",
      "| Epoch |  AUC  |  F1   |\n",
      "+=======+=======+=======+\n",
      "| 10    | 0.822 | 0.811 |\n",
      "+-------+-------+-------+\n",
      "| 20    | 0.910 | 0.882 |\n",
      "+-------+-------+-------+\n",
      "| 30    | 0.932 | 0.900 |\n",
      "+-------+-------+-------+\n",
      "| 40    | 0.946 | 0.891 |\n",
      "+-------+-------+-------+\n",
      "| 50    | 0.966 | 0.900 |\n",
      "+-------+-------+-------+\n",
      "| 60    | 0.965 | 0.918 |\n",
      "+-------+-------+-------+\n",
      "| 70    | 0.970 | 0.909 |\n",
      "+-------+-------+-------+\n",
      "| 80    | 0.969 | 0.909 |\n",
      "+-------+-------+-------+\n",
      "| 90    | 0.968 | 0.928 |\n",
      "+-------+-------+-------+\n",
      "| 100   | 0.963 | 0.918 |\n",
      "+-------+-------+-------+\n",
      "| 110   | 0.966 | 0.928 |\n",
      "+-------+-------+-------+\n",
      "| 120   | 0.964 | 0.918 |\n",
      "+-------+-------+-------+\n",
      "| 130   | 0.971 | 0.909 |\n",
      "+-------+-------+-------+\n",
      "| 140   | 0.962 | 0.900 |\n",
      "+-------+-------+-------+\n",
      "| 150   | 0.961 | 0.900 |\n",
      "+-------+-------+-------+\n",
      "| 160   | 0.962 | 0.891 |\n",
      "+-------+-------+-------+\n",
      "| 170   | 0.956 | 0.882 |\n",
      "+-------+-------+-------+\n",
      "| 180   | 0.959 | 0.882 |\n",
      "+-------+-------+-------+\n",
      "| 190   | 0.953 | 0.882 |\n",
      "+-------+-------+-------+\n",
      "| 200   | 0.953 | 0.874 |\n",
      "+-------+-------+-------+\n",
      "| 210   | 0.949 | 0.874 |\n",
      "+-------+-------+-------+\n",
      "| 220   | 0.942 | 0.874 |\n",
      "+-------+-------+-------+\n",
      "| 230   | 0.948 | 0.882 |\n",
      "+-------+-------+-------+\n",
      "| 240   | 0.947 | 0.882 |\n",
      "+-------+-------+-------+\n",
      "| 250   | 0.933 | 0.882 |\n",
      "+-------+-------+-------+\n",
      "| 260   | 0.953 | 0.882 |\n",
      "+-------+-------+-------+\n",
      "| 270   | 0.951 | 0.882 |\n",
      "+-------+-------+-------+\n",
      "| 280   | 0.942 | 0.882 |\n",
      "+-------+-------+-------+\n",
      "| 290   | 0.931 | 0.874 |\n",
      "+-------+-------+-------+\n",
      "| 300   | 0.938 | 0.882 |\n",
      "+-------+-------+-------+\n",
      "6-th fold\n",
      "\n",
      "Training started.\n",
      "\n"
     ]
    },
    {
     "name": "stderr",
     "output_type": "stream",
     "text": [
      "\r",
      "SGCN (Loss=0.8153):   0%|          | 1/300 [00:00<01:24,  3.54it/s]"
     ]
    },
    {
     "name": "stdout",
     "output_type": "stream",
     "text": [
      "\n",
      "Embedding is saved.\n",
      "\n",
      "\n",
      "Regression weights are saved.\n",
      "\n"
     ]
    },
    {
     "name": "stderr",
     "output_type": "stream",
     "text": [
      "SGCN (Loss=0.7043):   1%|          | 2/300 [00:00<01:23,  3.58it/s]"
     ]
    },
    {
     "name": "stdout",
     "output_type": "stream",
     "text": [
      "\n",
      "Embedding is saved.\n",
      "\n",
      "\n",
      "Regression weights are saved.\n",
      "\n"
     ]
    },
    {
     "name": "stderr",
     "output_type": "stream",
     "text": [
      "SGCN (Loss=0.6667):   1%|          | 3/300 [00:00<01:22,  3.61it/s]"
     ]
    },
    {
     "name": "stdout",
     "output_type": "stream",
     "text": [
      "\n",
      "Embedding is saved.\n",
      "\n",
      "\n",
      "Regression weights are saved.\n",
      "\n"
     ]
    },
    {
     "name": "stderr",
     "output_type": "stream",
     "text": [
      "SGCN (Loss=0.6701):   1%|▏         | 4/300 [00:01<01:24,  3.50it/s]"
     ]
    },
    {
     "name": "stdout",
     "output_type": "stream",
     "text": [
      "\n",
      "Embedding is saved.\n",
      "\n",
      "\n",
      "Regression weights are saved.\n",
      "\n"
     ]
    },
    {
     "name": "stderr",
     "output_type": "stream",
     "text": [
      "SGCN (Loss=0.663):   2%|▏         | 5/300 [00:01<01:23,  3.55it/s] "
     ]
    },
    {
     "name": "stdout",
     "output_type": "stream",
     "text": [
      "\n",
      "Embedding is saved.\n",
      "\n",
      "\n",
      "Regression weights are saved.\n",
      "\n"
     ]
    },
    {
     "name": "stderr",
     "output_type": "stream",
     "text": [
      "SGCN (Loss=0.6402):   2%|▏         | 7/300 [00:01<01:17,  3.77it/s]"
     ]
    },
    {
     "name": "stdout",
     "output_type": "stream",
     "text": [
      "\n",
      "Embedding is saved.\n",
      "\n",
      "\n",
      "Regression weights are saved.\n",
      "\n"
     ]
    },
    {
     "name": "stderr",
     "output_type": "stream",
     "text": [
      "SGCN (Loss=0.6244):   3%|▎         | 9/300 [00:02<01:10,  4.13it/s]"
     ]
    },
    {
     "name": "stdout",
     "output_type": "stream",
     "text": [
      "\n",
      "Embedding is saved.\n",
      "\n",
      "\n",
      "Regression weights are saved.\n",
      "\n"
     ]
    },
    {
     "name": "stderr",
     "output_type": "stream",
     "text": [
      "SGCN (Loss=0.6279):   3%|▎         | 10/300 [00:02<01:12,  4.02it/s]"
     ]
    },
    {
     "name": "stdout",
     "output_type": "stream",
     "text": [
      "\n",
      "Embedding is saved.\n",
      "\n",
      "\n",
      "Regression weights are saved.\n",
      "\n"
     ]
    },
    {
     "name": "stderr",
     "output_type": "stream",
     "text": [
      "SGCN (Loss=0.6034):   4%|▎         | 11/300 [00:02<01:12,  3.97it/s]"
     ]
    },
    {
     "name": "stdout",
     "output_type": "stream",
     "text": [
      "\n",
      "Embedding is saved.\n",
      "\n",
      "\n",
      "Regression weights are saved.\n",
      "\n"
     ]
    },
    {
     "name": "stderr",
     "output_type": "stream",
     "text": [
      "SGCN (Loss=0.5998):   4%|▍         | 12/300 [00:03<01:13,  3.93it/s]"
     ]
    },
    {
     "name": "stdout",
     "output_type": "stream",
     "text": [
      "\n",
      "Embedding is saved.\n",
      "\n",
      "\n",
      "Regression weights are saved.\n",
      "\n"
     ]
    },
    {
     "name": "stderr",
     "output_type": "stream",
     "text": [
      "SGCN (Loss=0.5811):   4%|▍         | 13/300 [00:03<01:13,  3.91it/s]"
     ]
    },
    {
     "name": "stdout",
     "output_type": "stream",
     "text": [
      "\n",
      "Embedding is saved.\n",
      "\n",
      "\n",
      "Regression weights are saved.\n",
      "\n"
     ]
    },
    {
     "name": "stderr",
     "output_type": "stream",
     "text": [
      "SGCN (Loss=0.5607):   5%|▍         | 14/300 [00:03<01:14,  3.85it/s]"
     ]
    },
    {
     "name": "stdout",
     "output_type": "stream",
     "text": [
      "\n",
      "Embedding is saved.\n",
      "\n",
      "\n",
      "Regression weights are saved.\n",
      "\n"
     ]
    },
    {
     "name": "stderr",
     "output_type": "stream",
     "text": [
      "SGCN (Loss=0.5409):   5%|▌         | 15/300 [00:03<01:14,  3.83it/s]"
     ]
    },
    {
     "name": "stdout",
     "output_type": "stream",
     "text": [
      "\n",
      "Embedding is saved.\n",
      "\n",
      "\n",
      "Regression weights are saved.\n",
      "\n"
     ]
    },
    {
     "name": "stderr",
     "output_type": "stream",
     "text": [
      "SGCN (Loss=0.5208):   5%|▌         | 16/300 [00:04<01:14,  3.83it/s]"
     ]
    },
    {
     "name": "stdout",
     "output_type": "stream",
     "text": [
      "\n",
      "Embedding is saved.\n",
      "\n",
      "\n",
      "Regression weights are saved.\n",
      "\n"
     ]
    },
    {
     "name": "stderr",
     "output_type": "stream",
     "text": [
      "SGCN (Loss=0.4716):   7%|▋         | 20/300 [00:04<01:03,  4.40it/s]"
     ]
    },
    {
     "name": "stdout",
     "output_type": "stream",
     "text": [
      "\n",
      "Embedding is saved.\n",
      "\n",
      "\n",
      "Regression weights are saved.\n",
      "\n"
     ]
    },
    {
     "name": "stderr",
     "output_type": "stream",
     "text": [
      "SGCN (Loss=0.4447):   9%|▊         | 26/300 [00:05<00:55,  4.97it/s]"
     ]
    },
    {
     "name": "stdout",
     "output_type": "stream",
     "text": [
      "\n",
      "Embedding is saved.\n",
      "\n",
      "\n",
      "Regression weights are saved.\n",
      "\n"
     ]
    },
    {
     "name": "stderr",
     "output_type": "stream",
     "text": [
      "SGCN (Loss=0.4359):   9%|▉         | 27/300 [00:06<01:00,  4.52it/s]"
     ]
    },
    {
     "name": "stdout",
     "output_type": "stream",
     "text": [
      "\n",
      "Embedding is saved.\n",
      "\n",
      "\n",
      "Regression weights are saved.\n",
      "\n"
     ]
    },
    {
     "name": "stderr",
     "output_type": "stream",
     "text": [
      "SGCN (Loss=0.4254):  10%|█         | 31/300 [00:07<00:58,  4.58it/s]"
     ]
    },
    {
     "name": "stdout",
     "output_type": "stream",
     "text": [
      "\n",
      "Embedding is saved.\n",
      "\n",
      "\n",
      "Regression weights are saved.\n",
      "\n"
     ]
    },
    {
     "name": "stderr",
     "output_type": "stream",
     "text": [
      "SGCN (Loss=0.4259):  11%|█         | 32/300 [00:07<01:05,  4.09it/s]"
     ]
    },
    {
     "name": "stdout",
     "output_type": "stream",
     "text": [
      "\n",
      "Embedding is saved.\n",
      "\n",
      "\n",
      "Regression weights are saved.\n",
      "\n"
     ]
    },
    {
     "name": "stderr",
     "output_type": "stream",
     "text": [
      "SGCN (Loss=0.3971):  12%|█▏        | 36/300 [00:08<00:53,  4.89it/s]"
     ]
    },
    {
     "name": "stdout",
     "output_type": "stream",
     "text": [
      "\n",
      "Embedding is saved.\n",
      "\n",
      "\n",
      "Regression weights are saved.\n",
      "\n"
     ]
    },
    {
     "name": "stderr",
     "output_type": "stream",
     "text": [
      "SGCN (Loss=0.3848):  12%|█▏        | 37/300 [00:08<00:58,  4.53it/s]"
     ]
    },
    {
     "name": "stdout",
     "output_type": "stream",
     "text": [
      "\n",
      "Embedding is saved.\n",
      "\n",
      "\n",
      "Regression weights are saved.\n",
      "\n"
     ]
    },
    {
     "name": "stderr",
     "output_type": "stream",
     "text": [
      "SGCN (Loss=0.3814):  13%|█▎        | 40/300 [00:08<00:55,  4.70it/s]"
     ]
    },
    {
     "name": "stdout",
     "output_type": "stream",
     "text": [
      "\n",
      "Embedding is saved.\n",
      "\n",
      "\n",
      "Regression weights are saved.\n",
      "\n"
     ]
    },
    {
     "name": "stderr",
     "output_type": "stream",
     "text": [
      "SGCN (Loss=0.3771):  14%|█▎        | 41/300 [00:09<00:59,  4.34it/s]"
     ]
    },
    {
     "name": "stdout",
     "output_type": "stream",
     "text": [
      "\n",
      "Embedding is saved.\n",
      "\n",
      "\n",
      "Regression weights are saved.\n",
      "\n"
     ]
    },
    {
     "name": "stderr",
     "output_type": "stream",
     "text": [
      "SGCN (Loss=0.376):  14%|█▍        | 42/300 [00:09<01:01,  4.17it/s] "
     ]
    },
    {
     "name": "stdout",
     "output_type": "stream",
     "text": [
      "\n",
      "Embedding is saved.\n",
      "\n",
      "\n",
      "Regression weights are saved.\n",
      "\n"
     ]
    },
    {
     "name": "stderr",
     "output_type": "stream",
     "text": [
      "SGCN (Loss=0.3652):  14%|█▍        | 43/300 [00:09<01:03,  4.07it/s]"
     ]
    },
    {
     "name": "stdout",
     "output_type": "stream",
     "text": [
      "\n",
      "Embedding is saved.\n",
      "\n",
      "\n",
      "Regression weights are saved.\n",
      "\n"
     ]
    },
    {
     "name": "stderr",
     "output_type": "stream",
     "text": [
      "SGCN (Loss=0.3549):  15%|█▌        | 46/300 [00:10<00:54,  4.63it/s]"
     ]
    },
    {
     "name": "stdout",
     "output_type": "stream",
     "text": [
      "\n",
      "Embedding is saved.\n",
      "\n",
      "\n",
      "Regression weights are saved.\n",
      "\n"
     ]
    },
    {
     "name": "stderr",
     "output_type": "stream",
     "text": [
      "SGCN (Loss=0.3521):  16%|█▌        | 47/300 [00:10<00:58,  4.35it/s]"
     ]
    },
    {
     "name": "stdout",
     "output_type": "stream",
     "text": [
      "\n",
      "Embedding is saved.\n",
      "\n",
      "\n",
      "Regression weights are saved.\n",
      "\n"
     ]
    },
    {
     "name": "stderr",
     "output_type": "stream",
     "text": [
      "SGCN (Loss=0.3521):  16%|█▌        | 48/300 [00:10<01:00,  4.20it/s]"
     ]
    },
    {
     "name": "stdout",
     "output_type": "stream",
     "text": [
      "\n",
      "Embedding is saved.\n",
      "\n",
      "\n",
      "Regression weights are saved.\n",
      "\n"
     ]
    },
    {
     "name": "stderr",
     "output_type": "stream",
     "text": [
      "SGCN (Loss=0.3337):  17%|█▋        | 51/300 [00:11<00:55,  4.48it/s]"
     ]
    },
    {
     "name": "stdout",
     "output_type": "stream",
     "text": [
      "\n",
      "Embedding is saved.\n",
      "\n",
      "\n",
      "Regression weights are saved.\n",
      "\n"
     ]
    },
    {
     "name": "stderr",
     "output_type": "stream",
     "text": [
      "SGCN (Loss=0.3155):  19%|█▊        | 56/300 [00:12<00:51,  4.71it/s]"
     ]
    },
    {
     "name": "stdout",
     "output_type": "stream",
     "text": [
      "\n",
      "Embedding is saved.\n",
      "\n",
      "\n",
      "Regression weights are saved.\n",
      "\n"
     ]
    },
    {
     "name": "stderr",
     "output_type": "stream",
     "text": [
      "SGCN (Loss=0.3043):  20%|█▉        | 59/300 [00:12<00:49,  4.86it/s]"
     ]
    },
    {
     "name": "stdout",
     "output_type": "stream",
     "text": [
      "\n",
      "Embedding is saved.\n",
      "\n",
      "\n",
      "Regression weights are saved.\n",
      "\n"
     ]
    },
    {
     "name": "stderr",
     "output_type": "stream",
     "text": [
      "SGCN (Loss=0.2953):  20%|██        | 60/300 [00:13<00:53,  4.50it/s]"
     ]
    },
    {
     "name": "stdout",
     "output_type": "stream",
     "text": [
      "\n",
      "Embedding is saved.\n",
      "\n",
      "\n",
      "Regression weights are saved.\n",
      "\n"
     ]
    },
    {
     "name": "stderr",
     "output_type": "stream",
     "text": [
      "SGCN (Loss=0.3081):  20%|██        | 61/300 [00:13<00:56,  4.22it/s]"
     ]
    },
    {
     "name": "stdout",
     "output_type": "stream",
     "text": [
      "\n",
      "Embedding is saved.\n",
      "\n",
      "\n",
      "Regression weights are saved.\n",
      "\n"
     ]
    },
    {
     "name": "stderr",
     "output_type": "stream",
     "text": [
      "SGCN (Loss=0.2886):  22%|██▏       | 67/300 [00:14<00:44,  5.20it/s]"
     ]
    },
    {
     "name": "stdout",
     "output_type": "stream",
     "text": [
      "\n",
      "Embedding is saved.\n",
      "\n",
      "\n",
      "Regression weights are saved.\n",
      "\n"
     ]
    },
    {
     "name": "stderr",
     "output_type": "stream",
     "text": [
      "SGCN (Loss=0.2612):  25%|██▌       | 75/300 [00:15<00:44,  5.07it/s]"
     ]
    },
    {
     "name": "stdout",
     "output_type": "stream",
     "text": [
      "\n",
      "Embedding is saved.\n",
      "\n",
      "\n",
      "Regression weights are saved.\n",
      "\n"
     ]
    },
    {
     "name": "stderr",
     "output_type": "stream",
     "text": [
      "SGCN (Loss=0.2389):  28%|██▊       | 83/300 [00:17<00:41,  5.18it/s]"
     ]
    },
    {
     "name": "stdout",
     "output_type": "stream",
     "text": [
      "\n",
      "Embedding is saved.\n",
      "\n",
      "\n",
      "Regression weights are saved.\n",
      "\n"
     ]
    },
    {
     "name": "stderr",
     "output_type": "stream",
     "text": [
      "SGCN (Loss=0.2343):  28%|██▊       | 84/300 [00:17<00:46,  4.68it/s]"
     ]
    },
    {
     "name": "stdout",
     "output_type": "stream",
     "text": [
      "\n",
      "Embedding is saved.\n",
      "\n",
      "\n",
      "Regression weights are saved.\n",
      "\n"
     ]
    },
    {
     "name": "stderr",
     "output_type": "stream",
     "text": [
      "SGCN (Loss=0.1983):  37%|███▋      | 110/300 [00:21<00:36,  5.26it/s]"
     ]
    },
    {
     "name": "stdout",
     "output_type": "stream",
     "text": [
      "\n",
      "Embedding is saved.\n",
      "\n",
      "\n",
      "Regression weights are saved.\n",
      "\n"
     ]
    },
    {
     "name": "stderr",
     "output_type": "stream",
     "text": [
      "SGCN (Loss=0.1673):  43%|████▎     | 128/300 [00:24<00:35,  4.84it/s]"
     ]
    },
    {
     "name": "stdout",
     "output_type": "stream",
     "text": [
      "\n",
      "Embedding is saved.\n",
      "\n",
      "\n",
      "Regression weights are saved.\n",
      "\n"
     ]
    },
    {
     "name": "stderr",
     "output_type": "stream",
     "text": [
      "SGCN (Loss=0.0677): 100%|██████████| 300/300 [00:51<00:00,  6.49it/s]\n",
      "/home/ubuntu/anaconda3/envs/pytorch_p36/lib/python3.6/site-packages/ipykernel/__main__.py:26: UserWarning: Implicit dimension choice for softmax has been deprecated. Change the call to include dim=X as an argument.\n",
      "SGCN (Loss=0.8171):   0%|          | 0/300 [00:00<?, ?it/s]"
     ]
    },
    {
     "name": "stdout",
     "output_type": "stream",
     "text": [
      "+-------+-------+-------+\n",
      "| Epoch |  AUC  |  F1   |\n",
      "+=======+=======+=======+\n",
      "| 10    | 0.818 | 0.811 |\n",
      "+-------+-------+-------+\n",
      "| 20    | 0.901 | 0.882 |\n",
      "+-------+-------+-------+\n",
      "| 30    | 0.903 | 0.891 |\n",
      "+-------+-------+-------+\n",
      "| 40    | 0.933 | 0.891 |\n",
      "+-------+-------+-------+\n",
      "| 50    | 0.956 | 0.900 |\n",
      "+-------+-------+-------+\n",
      "| 60    | 0.964 | 0.918 |\n",
      "+-------+-------+-------+\n",
      "| 70    | 0.965 | 0.900 |\n",
      "+-------+-------+-------+\n",
      "| 80    | 0.966 | 0.909 |\n",
      "+-------+-------+-------+\n",
      "| 90    | 0.966 | 0.928 |\n",
      "+-------+-------+-------+\n",
      "| 100   | 0.964 | 0.928 |\n",
      "+-------+-------+-------+\n",
      "| 110   | 0.970 | 0.909 |\n",
      "+-------+-------+-------+\n",
      "| 120   | 0.966 | 0.928 |\n",
      "+-------+-------+-------+\n",
      "| 130   | 0.965 | 0.909 |\n",
      "+-------+-------+-------+\n",
      "| 140   | 0.967 | 0.918 |\n",
      "+-------+-------+-------+\n",
      "| 150   | 0.957 | 0.891 |\n",
      "+-------+-------+-------+\n",
      "| 160   | 0.952 | 0.891 |\n",
      "+-------+-------+-------+\n",
      "| 170   | 0.951 | 0.909 |\n",
      "+-------+-------+-------+\n",
      "| 180   | 0.942 | 0.891 |\n",
      "+-------+-------+-------+\n",
      "| 190   | 0.940 | 0.891 |\n",
      "+-------+-------+-------+\n",
      "| 200   | 0.929 | 0.891 |\n",
      "+-------+-------+-------+\n",
      "| 210   | 0.937 | 0.900 |\n",
      "+-------+-------+-------+\n",
      "| 220   | 0.937 | 0.891 |\n",
      "+-------+-------+-------+\n",
      "| 230   | 0.934 | 0.891 |\n",
      "+-------+-------+-------+\n",
      "| 240   | 0.922 | 0.891 |\n",
      "+-------+-------+-------+\n",
      "| 250   | 0.927 | 0.891 |\n",
      "+-------+-------+-------+\n",
      "| 260   | 0.913 | 0.882 |\n",
      "+-------+-------+-------+\n",
      "| 270   | 0.917 | 0.882 |\n",
      "+-------+-------+-------+\n",
      "| 280   | 0.923 | 0.882 |\n",
      "+-------+-------+-------+\n",
      "| 290   | 0.924 | 0.882 |\n",
      "+-------+-------+-------+\n",
      "| 300   | 0.928 | 0.882 |\n",
      "+-------+-------+-------+\n",
      "7-th fold\n",
      "\n",
      "Training started.\n",
      "\n"
     ]
    },
    {
     "name": "stderr",
     "output_type": "stream",
     "text": [
      "\r",
      "SGCN (Loss=0.8171):   0%|          | 1/300 [00:00<01:19,  3.77it/s]"
     ]
    },
    {
     "name": "stdout",
     "output_type": "stream",
     "text": [
      "\n",
      "Embedding is saved.\n",
      "\n",
      "\n",
      "Regression weights are saved.\n",
      "\n"
     ]
    },
    {
     "name": "stderr",
     "output_type": "stream",
     "text": [
      "SGCN (Loss=0.7101):   1%|          | 2/300 [00:00<01:18,  3.79it/s]"
     ]
    },
    {
     "name": "stdout",
     "output_type": "stream",
     "text": [
      "\n",
      "Embedding is saved.\n",
      "\n",
      "\n",
      "Regression weights are saved.\n",
      "\n"
     ]
    },
    {
     "name": "stderr",
     "output_type": "stream",
     "text": [
      "SGCN (Loss=0.6716):   1%|          | 3/300 [00:00<01:21,  3.65it/s]"
     ]
    },
    {
     "name": "stdout",
     "output_type": "stream",
     "text": [
      "\n",
      "Embedding is saved.\n",
      "\n",
      "\n",
      "Regression weights are saved.\n",
      "\n"
     ]
    },
    {
     "name": "stderr",
     "output_type": "stream",
     "text": [
      "SGCN (Loss=0.6747):   1%|▏         | 4/300 [00:01<01:21,  3.62it/s]"
     ]
    },
    {
     "name": "stdout",
     "output_type": "stream",
     "text": [
      "\n",
      "Embedding is saved.\n",
      "\n",
      "\n",
      "Regression weights are saved.\n",
      "\n"
     ]
    },
    {
     "name": "stderr",
     "output_type": "stream",
     "text": [
      "SGCN (Loss=0.6691):   2%|▏         | 5/300 [00:01<01:24,  3.49it/s]"
     ]
    },
    {
     "name": "stdout",
     "output_type": "stream",
     "text": [
      "\n",
      "Embedding is saved.\n",
      "\n",
      "\n",
      "Regression weights are saved.\n",
      "\n"
     ]
    },
    {
     "name": "stderr",
     "output_type": "stream",
     "text": [
      "SGCN (Loss=0.6523):   2%|▏         | 7/300 [00:01<01:14,  3.93it/s]"
     ]
    },
    {
     "name": "stdout",
     "output_type": "stream",
     "text": [
      "\n",
      "Embedding is saved.\n",
      "\n",
      "\n",
      "Regression weights are saved.\n",
      "\n"
     ]
    },
    {
     "name": "stderr",
     "output_type": "stream",
     "text": [
      "SGCN (Loss=0.6459):   3%|▎         | 8/300 [00:02<01:15,  3.85it/s]"
     ]
    },
    {
     "name": "stdout",
     "output_type": "stream",
     "text": [
      "\n",
      "Embedding is saved.\n",
      "\n",
      "\n",
      "Regression weights are saved.\n",
      "\n"
     ]
    },
    {
     "name": "stderr",
     "output_type": "stream",
     "text": [
      "SGCN (Loss=0.6421):   3%|▎         | 9/300 [00:02<01:16,  3.78it/s]"
     ]
    },
    {
     "name": "stdout",
     "output_type": "stream",
     "text": [
      "\n",
      "Embedding is saved.\n",
      "\n",
      "\n",
      "Regression weights are saved.\n",
      "\n"
     ]
    },
    {
     "name": "stderr",
     "output_type": "stream",
     "text": [
      "SGCN (Loss=0.621):   4%|▎         | 11/300 [00:02<01:10,  4.10it/s] "
     ]
    },
    {
     "name": "stdout",
     "output_type": "stream",
     "text": [
      "\n",
      "Embedding is saved.\n",
      "\n",
      "\n",
      "Regression weights are saved.\n",
      "\n"
     ]
    },
    {
     "name": "stderr",
     "output_type": "stream",
     "text": [
      "SGCN (Loss=0.6132):   4%|▍         | 12/300 [00:03<01:12,  3.99it/s]"
     ]
    },
    {
     "name": "stdout",
     "output_type": "stream",
     "text": [
      "\n",
      "Embedding is saved.\n",
      "\n",
      "\n",
      "Regression weights are saved.\n",
      "\n"
     ]
    },
    {
     "name": "stderr",
     "output_type": "stream",
     "text": [
      "SGCN (Loss=0.6092):   4%|▍         | 13/300 [00:03<01:12,  3.94it/s]"
     ]
    },
    {
     "name": "stdout",
     "output_type": "stream",
     "text": [
      "\n",
      "Embedding is saved.\n",
      "\n",
      "\n",
      "Regression weights are saved.\n",
      "\n"
     ]
    },
    {
     "name": "stderr",
     "output_type": "stream",
     "text": [
      "SGCN (Loss=0.5834):   5%|▍         | 14/300 [00:03<01:13,  3.91it/s]"
     ]
    },
    {
     "name": "stdout",
     "output_type": "stream",
     "text": [
      "\n",
      "Embedding is saved.\n",
      "\n",
      "\n",
      "Regression weights are saved.\n",
      "\n"
     ]
    },
    {
     "name": "stderr",
     "output_type": "stream",
     "text": [
      "SGCN (Loss=0.5723):   5%|▌         | 15/300 [00:03<01:16,  3.70it/s]"
     ]
    },
    {
     "name": "stdout",
     "output_type": "stream",
     "text": [
      "\n",
      "Embedding is saved.\n",
      "\n",
      "\n",
      "Regression weights are saved.\n",
      "\n"
     ]
    },
    {
     "name": "stderr",
     "output_type": "stream",
     "text": [
      "SGCN (Loss=0.561):   5%|▌         | 16/300 [00:04<01:16,  3.71it/s] "
     ]
    },
    {
     "name": "stdout",
     "output_type": "stream",
     "text": [
      "\n",
      "Embedding is saved.\n",
      "\n",
      "\n",
      "Regression weights are saved.\n",
      "\n"
     ]
    },
    {
     "name": "stderr",
     "output_type": "stream",
     "text": [
      "SGCN (Loss=0.5365):   6%|▌         | 17/300 [00:04<01:15,  3.76it/s]"
     ]
    },
    {
     "name": "stdout",
     "output_type": "stream",
     "text": [
      "\n",
      "Embedding is saved.\n",
      "\n",
      "\n",
      "Regression weights are saved.\n",
      "\n"
     ]
    },
    {
     "name": "stderr",
     "output_type": "stream",
     "text": [
      "SGCN (Loss=0.5014):   7%|▋         | 20/300 [00:05<01:02,  4.45it/s]"
     ]
    },
    {
     "name": "stdout",
     "output_type": "stream",
     "text": [
      "\n",
      "Embedding is saved.\n",
      "\n",
      "\n",
      "Regression weights are saved.\n",
      "\n"
     ]
    },
    {
     "name": "stderr",
     "output_type": "stream",
     "text": [
      "SGCN (Loss=0.4879):   7%|▋         | 21/300 [00:05<01:05,  4.24it/s]"
     ]
    },
    {
     "name": "stdout",
     "output_type": "stream",
     "text": [
      "\n",
      "Embedding is saved.\n",
      "\n",
      "\n",
      "Regression weights are saved.\n",
      "\n"
     ]
    },
    {
     "name": "stderr",
     "output_type": "stream",
     "text": [
      "SGCN (Loss=0.4618):   8%|▊         | 25/300 [00:05<00:56,  4.89it/s]"
     ]
    },
    {
     "name": "stdout",
     "output_type": "stream",
     "text": [
      "\n",
      "Embedding is saved.\n",
      "\n",
      "\n",
      "Regression weights are saved.\n",
      "\n"
     ]
    },
    {
     "name": "stderr",
     "output_type": "stream",
     "text": [
      "SGCN (Loss=0.4684):   9%|▊         | 26/300 [00:06<01:00,  4.52it/s]"
     ]
    },
    {
     "name": "stdout",
     "output_type": "stream",
     "text": [
      "\n",
      "Embedding is saved.\n",
      "\n",
      "\n",
      "Regression weights are saved.\n",
      "\n"
     ]
    },
    {
     "name": "stderr",
     "output_type": "stream",
     "text": [
      "SGCN (Loss=0.4591):   9%|▉         | 27/300 [00:06<01:03,  4.29it/s]"
     ]
    },
    {
     "name": "stdout",
     "output_type": "stream",
     "text": [
      "\n",
      "Embedding is saved.\n",
      "\n",
      "\n",
      "Regression weights are saved.\n",
      "\n"
     ]
    },
    {
     "name": "stderr",
     "output_type": "stream",
     "text": [
      "SGCN (Loss=0.4432):  10%|█         | 31/300 [00:07<00:54,  4.94it/s]"
     ]
    },
    {
     "name": "stdout",
     "output_type": "stream",
     "text": [
      "\n",
      "Embedding is saved.\n",
      "\n",
      "\n",
      "Regression weights are saved.\n",
      "\n"
     ]
    },
    {
     "name": "stderr",
     "output_type": "stream",
     "text": [
      "SGCN (Loss=0.4258):  11%|█         | 32/300 [00:07<00:59,  4.48it/s]"
     ]
    },
    {
     "name": "stdout",
     "output_type": "stream",
     "text": [
      "\n",
      "Embedding is saved.\n",
      "\n",
      "\n",
      "Regression weights are saved.\n",
      "\n"
     ]
    },
    {
     "name": "stderr",
     "output_type": "stream",
     "text": [
      "SGCN (Loss=0.3989):  13%|█▎        | 38/300 [00:08<00:50,  5.20it/s]"
     ]
    },
    {
     "name": "stdout",
     "output_type": "stream",
     "text": [
      "\n",
      "Embedding is saved.\n",
      "\n",
      "\n",
      "Regression weights are saved.\n",
      "\n"
     ]
    },
    {
     "name": "stderr",
     "output_type": "stream",
     "text": [
      "SGCN (Loss=0.399):  13%|█▎        | 39/300 [00:08<00:55,  4.70it/s] "
     ]
    },
    {
     "name": "stdout",
     "output_type": "stream",
     "text": [
      "\n",
      "Embedding is saved.\n",
      "\n",
      "\n",
      "Regression weights are saved.\n",
      "\n"
     ]
    },
    {
     "name": "stderr",
     "output_type": "stream",
     "text": [
      "SGCN (Loss=0.3895):  13%|█▎        | 40/300 [00:09<00:59,  4.41it/s]"
     ]
    },
    {
     "name": "stdout",
     "output_type": "stream",
     "text": [
      "\n",
      "Embedding is saved.\n",
      "\n",
      "\n",
      "Regression weights are saved.\n",
      "\n"
     ]
    },
    {
     "name": "stderr",
     "output_type": "stream",
     "text": [
      "SGCN (Loss=0.3882):  14%|█▎        | 41/300 [00:09<01:04,  4.04it/s]"
     ]
    },
    {
     "name": "stdout",
     "output_type": "stream",
     "text": [
      "\n",
      "Embedding is saved.\n",
      "\n",
      "\n",
      "Regression weights are saved.\n",
      "\n"
     ]
    },
    {
     "name": "stderr",
     "output_type": "stream",
     "text": [
      "SGCN (Loss=0.379):  14%|█▍        | 42/300 [00:09<01:07,  3.85it/s] "
     ]
    },
    {
     "name": "stdout",
     "output_type": "stream",
     "text": [
      "\n",
      "Embedding is saved.\n",
      "\n",
      "\n",
      "Regression weights are saved.\n",
      "\n"
     ]
    },
    {
     "name": "stderr",
     "output_type": "stream",
     "text": [
      "SGCN (Loss=0.3842):  14%|█▍        | 43/300 [00:09<01:09,  3.69it/s]"
     ]
    },
    {
     "name": "stdout",
     "output_type": "stream",
     "text": [
      "\n",
      "Embedding is saved.\n",
      "\n",
      "\n",
      "Regression weights are saved.\n",
      "\n"
     ]
    },
    {
     "name": "stderr",
     "output_type": "stream",
     "text": [
      "SGCN (Loss=0.3701):  15%|█▌        | 46/300 [00:10<00:58,  4.35it/s]"
     ]
    },
    {
     "name": "stdout",
     "output_type": "stream",
     "text": [
      "\n",
      "Embedding is saved.\n",
      "\n",
      "\n",
      "Regression weights are saved.\n",
      "\n"
     ]
    },
    {
     "name": "stderr",
     "output_type": "stream",
     "text": [
      "SGCN (Loss=0.3525):  16%|█▌        | 47/300 [00:10<01:01,  4.14it/s]"
     ]
    },
    {
     "name": "stdout",
     "output_type": "stream",
     "text": [
      "\n",
      "Embedding is saved.\n",
      "\n",
      "\n",
      "Regression weights are saved.\n",
      "\n"
     ]
    },
    {
     "name": "stderr",
     "output_type": "stream",
     "text": [
      "SGCN (Loss=0.3182):  20%|█▉        | 59/300 [00:12<00:47,  5.02it/s]"
     ]
    },
    {
     "name": "stdout",
     "output_type": "stream",
     "text": [
      "\n",
      "Embedding is saved.\n",
      "\n",
      "\n",
      "Regression weights are saved.\n",
      "\n"
     ]
    },
    {
     "name": "stderr",
     "output_type": "stream",
     "text": [
      "SGCN (Loss=0.3002):  20%|██        | 61/300 [00:13<00:49,  4.79it/s]"
     ]
    },
    {
     "name": "stdout",
     "output_type": "stream",
     "text": [
      "\n",
      "Embedding is saved.\n",
      "\n",
      "\n",
      "Regression weights are saved.\n",
      "\n"
     ]
    },
    {
     "name": "stderr",
     "output_type": "stream",
     "text": [
      "SGCN (Loss=0.2962):  21%|██        | 62/300 [00:13<00:54,  4.40it/s]"
     ]
    },
    {
     "name": "stdout",
     "output_type": "stream",
     "text": [
      "\n",
      "Embedding is saved.\n",
      "\n",
      "\n",
      "Regression weights are saved.\n",
      "\n"
     ]
    },
    {
     "name": "stderr",
     "output_type": "stream",
     "text": [
      "SGCN (Loss=0.1862):  41%|████      | 123/300 [00:22<00:32,  5.50it/s]"
     ]
    },
    {
     "name": "stdout",
     "output_type": "stream",
     "text": [
      "\n",
      "Embedding is saved.\n",
      "\n",
      "\n",
      "Regression weights are saved.\n",
      "\n"
     ]
    },
    {
     "name": "stderr",
     "output_type": "stream",
     "text": [
      "SGCN (Loss=0.1792):  41%|████▏     | 124/300 [00:23<00:36,  4.87it/s]"
     ]
    },
    {
     "name": "stdout",
     "output_type": "stream",
     "text": [
      "\n",
      "Embedding is saved.\n",
      "\n",
      "\n",
      "Regression weights are saved.\n",
      "\n"
     ]
    },
    {
     "name": "stderr",
     "output_type": "stream",
     "text": [
      "SGCN (Loss=0.1767):  42%|████▏     | 125/300 [00:23<00:39,  4.47it/s]"
     ]
    },
    {
     "name": "stdout",
     "output_type": "stream",
     "text": [
      "\n",
      "Embedding is saved.\n",
      "\n",
      "\n",
      "Regression weights are saved.\n",
      "\n"
     ]
    },
    {
     "name": "stderr",
     "output_type": "stream",
     "text": [
      "SGCN (Loss=0.1806):  42%|████▏     | 127/300 [00:23<00:38,  4.49it/s]"
     ]
    },
    {
     "name": "stdout",
     "output_type": "stream",
     "text": [
      "\n",
      "Embedding is saved.\n",
      "\n",
      "\n",
      "Regression weights are saved.\n",
      "\n"
     ]
    },
    {
     "name": "stderr",
     "output_type": "stream",
     "text": [
      "SGCN (Loss=0.1707):  43%|████▎     | 129/300 [00:24<00:40,  4.24it/s]"
     ]
    },
    {
     "name": "stdout",
     "output_type": "stream",
     "text": [
      "\n",
      "Embedding is saved.\n",
      "\n",
      "\n",
      "Regression weights are saved.\n",
      "\n"
     ]
    },
    {
     "name": "stderr",
     "output_type": "stream",
     "text": [
      "SGCN (Loss=0.1686):  44%|████▎     | 131/300 [00:24<00:38,  4.44it/s]"
     ]
    },
    {
     "name": "stdout",
     "output_type": "stream",
     "text": [
      "\n",
      "Embedding is saved.\n",
      "\n",
      "\n",
      "Regression weights are saved.\n",
      "\n"
     ]
    },
    {
     "name": "stderr",
     "output_type": "stream",
     "text": [
      "SGCN (Loss=0.1677):  44%|████▍     | 132/300 [00:24<00:40,  4.18it/s]"
     ]
    },
    {
     "name": "stdout",
     "output_type": "stream",
     "text": [
      "\n",
      "Embedding is saved.\n",
      "\n",
      "\n",
      "Regression weights are saved.\n",
      "\n"
     ]
    },
    {
     "name": "stderr",
     "output_type": "stream",
     "text": [
      "SGCN (Loss=0.1627):  45%|████▍     | 134/300 [00:25<00:38,  4.35it/s]"
     ]
    },
    {
     "name": "stdout",
     "output_type": "stream",
     "text": [
      "\n",
      "Embedding is saved.\n",
      "\n",
      "\n",
      "Regression weights are saved.\n",
      "\n"
     ]
    },
    {
     "name": "stderr",
     "output_type": "stream",
     "text": [
      "SGCN (Loss=0.1587):  45%|████▌     | 135/300 [00:25<00:39,  4.19it/s]"
     ]
    },
    {
     "name": "stdout",
     "output_type": "stream",
     "text": [
      "\n",
      "Embedding is saved.\n",
      "\n",
      "\n",
      "Regression weights are saved.\n",
      "\n"
     ]
    },
    {
     "name": "stderr",
     "output_type": "stream",
     "text": [
      "SGCN (Loss=0.1574):  45%|████▌     | 136/300 [00:25<00:40,  4.09it/s]"
     ]
    },
    {
     "name": "stdout",
     "output_type": "stream",
     "text": [
      "\n",
      "Embedding is saved.\n",
      "\n",
      "\n",
      "Regression weights are saved.\n",
      "\n"
     ]
    },
    {
     "name": "stderr",
     "output_type": "stream",
     "text": [
      "SGCN (Loss=0.1597):  46%|████▌     | 137/300 [00:26<00:42,  3.81it/s]"
     ]
    },
    {
     "name": "stdout",
     "output_type": "stream",
     "text": [
      "\n",
      "Embedding is saved.\n",
      "\n",
      "\n",
      "Regression weights are saved.\n",
      "\n"
     ]
    },
    {
     "name": "stderr",
     "output_type": "stream",
     "text": [
      "SGCN (Loss=0.0789): 100%|██████████| 300/300 [00:51<00:00,  6.61it/s]\n",
      "/home/ubuntu/anaconda3/envs/pytorch_p36/lib/python3.6/site-packages/ipykernel/__main__.py:26: UserWarning: Implicit dimension choice for softmax has been deprecated. Change the call to include dim=X as an argument.\n",
      "SGCN (Loss=0.8153):   0%|          | 0/300 [00:00<?, ?it/s]"
     ]
    },
    {
     "name": "stdout",
     "output_type": "stream",
     "text": [
      "+-------+-------+-------+\n",
      "| Epoch |  AUC  |  F1   |\n",
      "+=======+=======+=======+\n",
      "| 10    | 0.829 | 0.804 |\n",
      "+-------+-------+-------+\n",
      "| 20    | 0.894 | 0.882 |\n",
      "+-------+-------+-------+\n",
      "| 30    | 0.923 | 0.891 |\n",
      "+-------+-------+-------+\n",
      "| 40    | 0.942 | 0.909 |\n",
      "+-------+-------+-------+\n",
      "| 50    | 0.958 | 0.909 |\n",
      "+-------+-------+-------+\n",
      "| 60    | 0.960 | 0.918 |\n",
      "+-------+-------+-------+\n",
      "| 70    | 0.959 | 0.918 |\n",
      "+-------+-------+-------+\n",
      "| 80    | 0.957 | 0.898 |\n",
      "+-------+-------+-------+\n",
      "| 90    | 0.960 | 0.898 |\n",
      "+-------+-------+-------+\n",
      "| 100   | 0.959 | 0.923 |\n",
      "+-------+-------+-------+\n",
      "| 110   | 0.954 | 0.917 |\n",
      "+-------+-------+-------+\n",
      "| 120   | 0.962 | 0.928 |\n",
      "+-------+-------+-------+\n",
      "| 130   | 0.971 | 0.928 |\n",
      "+-------+-------+-------+\n",
      "| 140   | 0.969 | 0.928 |\n",
      "+-------+-------+-------+\n",
      "| 150   | 0.963 | 0.938 |\n",
      "+-------+-------+-------+\n",
      "| 160   | 0.958 | 0.909 |\n",
      "+-------+-------+-------+\n",
      "| 170   | 0.960 | 0.918 |\n",
      "+-------+-------+-------+\n",
      "| 180   | 0.955 | 0.909 |\n",
      "+-------+-------+-------+\n",
      "| 190   | 0.956 | 0.900 |\n",
      "+-------+-------+-------+\n",
      "| 200   | 0.949 | 0.891 |\n",
      "+-------+-------+-------+\n",
      "| 210   | 0.940 | 0.891 |\n",
      "+-------+-------+-------+\n",
      "| 220   | 0.942 | 0.898 |\n",
      "+-------+-------+-------+\n",
      "| 230   | 0.950 | 0.918 |\n",
      "+-------+-------+-------+\n",
      "| 240   | 0.956 | 0.918 |\n",
      "+-------+-------+-------+\n",
      "| 250   | 0.954 | 0.918 |\n",
      "+-------+-------+-------+\n",
      "| 260   | 0.947 | 0.909 |\n",
      "+-------+-------+-------+\n",
      "| 270   | 0.942 | 0.891 |\n",
      "+-------+-------+-------+\n",
      "| 280   | 0.928 | 0.882 |\n",
      "+-------+-------+-------+\n",
      "| 290   | 0.932 | 0.882 |\n",
      "+-------+-------+-------+\n",
      "| 300   | 0.927 | 0.882 |\n",
      "+-------+-------+-------+\n",
      "8-th fold\n",
      "\n",
      "Training started.\n",
      "\n"
     ]
    },
    {
     "name": "stderr",
     "output_type": "stream",
     "text": [
      "\r",
      "SGCN (Loss=0.8153):   0%|          | 1/300 [00:00<01:31,  3.26it/s]"
     ]
    },
    {
     "name": "stdout",
     "output_type": "stream",
     "text": [
      "\n",
      "Embedding is saved.\n",
      "\n",
      "\n",
      "Regression weights are saved.\n",
      "\n"
     ]
    },
    {
     "name": "stderr",
     "output_type": "stream",
     "text": [
      "SGCN (Loss=0.7023):   1%|          | 2/300 [00:00<01:29,  3.34it/s]"
     ]
    },
    {
     "name": "stdout",
     "output_type": "stream",
     "text": [
      "\n",
      "Embedding is saved.\n",
      "\n",
      "\n",
      "Regression weights are saved.\n",
      "\n"
     ]
    },
    {
     "name": "stderr",
     "output_type": "stream",
     "text": [
      "SGCN (Loss=0.655):   1%|          | 3/300 [00:00<01:26,  3.42it/s] "
     ]
    },
    {
     "name": "stdout",
     "output_type": "stream",
     "text": [
      "\n",
      "Embedding is saved.\n",
      "\n",
      "\n",
      "Regression weights are saved.\n",
      "\n"
     ]
    },
    {
     "name": "stderr",
     "output_type": "stream",
     "text": [
      "SGCN (Loss=0.5442):   4%|▍         | 13/300 [00:02<00:53,  5.37it/s]"
     ]
    },
    {
     "name": "stdout",
     "output_type": "stream",
     "text": [
      "\n",
      "Embedding is saved.\n",
      "\n",
      "\n",
      "Regression weights are saved.\n",
      "\n"
     ]
    },
    {
     "name": "stderr",
     "output_type": "stream",
     "text": [
      "SGCN (Loss=0.5339):   5%|▍         | 14/300 [00:02<01:03,  4.48it/s]"
     ]
    },
    {
     "name": "stdout",
     "output_type": "stream",
     "text": [
      "\n",
      "Embedding is saved.\n",
      "\n",
      "\n",
      "Regression weights are saved.\n",
      "\n"
     ]
    },
    {
     "name": "stderr",
     "output_type": "stream",
     "text": [
      "SGCN (Loss=0.5093):   5%|▌         | 15/300 [00:03<01:07,  4.21it/s]"
     ]
    },
    {
     "name": "stdout",
     "output_type": "stream",
     "text": [
      "\n",
      "Embedding is saved.\n",
      "\n",
      "\n",
      "Regression weights are saved.\n",
      "\n"
     ]
    },
    {
     "name": "stderr",
     "output_type": "stream",
     "text": [
      "SGCN (Loss=0.5217):   5%|▌         | 16/300 [00:03<01:09,  4.09it/s]"
     ]
    },
    {
     "name": "stdout",
     "output_type": "stream",
     "text": [
      "\n",
      "Embedding is saved.\n",
      "\n",
      "\n",
      "Regression weights are saved.\n",
      "\n"
     ]
    },
    {
     "name": "stderr",
     "output_type": "stream",
     "text": [
      "SGCN (Loss=0.4969):   6%|▌         | 17/300 [00:03<01:10,  3.99it/s]"
     ]
    },
    {
     "name": "stdout",
     "output_type": "stream",
     "text": [
      "\n",
      "Embedding is saved.\n",
      "\n",
      "\n",
      "Regression weights are saved.\n",
      "\n"
     ]
    },
    {
     "name": "stderr",
     "output_type": "stream",
     "text": [
      "SGCN (Loss=0.4436):   7%|▋         | 21/300 [00:04<00:57,  4.83it/s]"
     ]
    },
    {
     "name": "stdout",
     "output_type": "stream",
     "text": [
      "\n",
      "Embedding is saved.\n",
      "\n",
      "\n",
      "Regression weights are saved.\n",
      "\n"
     ]
    },
    {
     "name": "stderr",
     "output_type": "stream",
     "text": [
      "SGCN (Loss=0.4444):   7%|▋         | 22/300 [00:04<01:05,  4.27it/s]"
     ]
    },
    {
     "name": "stdout",
     "output_type": "stream",
     "text": [
      "\n",
      "Embedding is saved.\n",
      "\n",
      "\n",
      "Regression weights are saved.\n",
      "\n"
     ]
    },
    {
     "name": "stderr",
     "output_type": "stream",
     "text": [
      "SGCN (Loss=0.4209):   9%|▊         | 26/300 [00:05<00:55,  4.94it/s]"
     ]
    },
    {
     "name": "stdout",
     "output_type": "stream",
     "text": [
      "\n",
      "Embedding is saved.\n",
      "\n",
      "\n",
      "Regression weights are saved.\n",
      "\n"
     ]
    },
    {
     "name": "stderr",
     "output_type": "stream",
     "text": [
      "SGCN (Loss=0.4147):   9%|▉         | 27/300 [00:05<01:00,  4.54it/s]"
     ]
    },
    {
     "name": "stdout",
     "output_type": "stream",
     "text": [
      "\n",
      "Embedding is saved.\n",
      "\n",
      "\n",
      "Regression weights are saved.\n",
      "\n"
     ]
    },
    {
     "name": "stderr",
     "output_type": "stream",
     "text": [
      "SGCN (Loss=0.4116):   9%|▉         | 28/300 [00:05<01:06,  4.08it/s]"
     ]
    },
    {
     "name": "stdout",
     "output_type": "stream",
     "text": [
      "\n",
      "Embedding is saved.\n",
      "\n",
      "\n",
      "Regression weights are saved.\n",
      "\n"
     ]
    },
    {
     "name": "stderr",
     "output_type": "stream",
     "text": [
      "SGCN (Loss=0.3112):  20%|██        | 61/300 [00:11<00:45,  5.24it/s]"
     ]
    },
    {
     "name": "stdout",
     "output_type": "stream",
     "text": [
      "\n",
      "Embedding is saved.\n",
      "\n",
      "\n",
      "Regression weights are saved.\n",
      "\n"
     ]
    },
    {
     "name": "stderr",
     "output_type": "stream",
     "text": [
      "SGCN (Loss=0.3013):  21%|██        | 62/300 [00:11<00:50,  4.73it/s]"
     ]
    },
    {
     "name": "stdout",
     "output_type": "stream",
     "text": [
      "\n",
      "Embedding is saved.\n",
      "\n",
      "\n",
      "Regression weights are saved.\n",
      "\n"
     ]
    },
    {
     "name": "stderr",
     "output_type": "stream",
     "text": [
      "SGCN (Loss=0.3011):  21%|██        | 63/300 [00:11<00:53,  4.42it/s]"
     ]
    },
    {
     "name": "stdout",
     "output_type": "stream",
     "text": [
      "\n",
      "Embedding is saved.\n",
      "\n",
      "\n",
      "Regression weights are saved.\n",
      "\n"
     ]
    },
    {
     "name": "stderr",
     "output_type": "stream",
     "text": [
      "SGCN (Loss=0.303):  21%|██▏       | 64/300 [00:11<00:55,  4.22it/s] "
     ]
    },
    {
     "name": "stdout",
     "output_type": "stream",
     "text": [
      "\n",
      "Embedding is saved.\n",
      "\n",
      "\n",
      "Regression weights are saved.\n",
      "\n"
     ]
    },
    {
     "name": "stderr",
     "output_type": "stream",
     "text": [
      "SGCN (Loss=0.2938):  22%|██▏       | 65/300 [00:12<00:57,  4.09it/s]"
     ]
    },
    {
     "name": "stdout",
     "output_type": "stream",
     "text": [
      "\n",
      "Embedding is saved.\n",
      "\n",
      "\n",
      "Regression weights are saved.\n",
      "\n"
     ]
    },
    {
     "name": "stderr",
     "output_type": "stream",
     "text": [
      "SGCN (Loss=0.3015):  22%|██▏       | 66/300 [00:12<00:58,  4.01it/s]"
     ]
    },
    {
     "name": "stdout",
     "output_type": "stream",
     "text": [
      "\n",
      "Embedding is saved.\n",
      "\n",
      "\n",
      "Regression weights are saved.\n",
      "\n"
     ]
    },
    {
     "name": "stderr",
     "output_type": "stream",
     "text": [
      "SGCN (Loss=0.2961):  23%|██▎       | 69/300 [00:13<00:54,  4.24it/s]"
     ]
    },
    {
     "name": "stdout",
     "output_type": "stream",
     "text": [
      "\n",
      "Embedding is saved.\n",
      "\n",
      "\n",
      "Regression weights are saved.\n",
      "\n"
     ]
    },
    {
     "name": "stderr",
     "output_type": "stream",
     "text": [
      "SGCN (Loss=0.289):  24%|██▎       | 71/300 [00:13<00:51,  4.42it/s] "
     ]
    },
    {
     "name": "stdout",
     "output_type": "stream",
     "text": [
      "\n",
      "Embedding is saved.\n",
      "\n",
      "\n",
      "Regression weights are saved.\n",
      "\n"
     ]
    },
    {
     "name": "stderr",
     "output_type": "stream",
     "text": [
      "SGCN (Loss=0.3091):  24%|██▍       | 72/300 [00:13<00:53,  4.24it/s]"
     ]
    },
    {
     "name": "stdout",
     "output_type": "stream",
     "text": [
      "\n",
      "Embedding is saved.\n",
      "\n",
      "\n",
      "Regression weights are saved.\n",
      "\n"
     ]
    },
    {
     "name": "stderr",
     "output_type": "stream",
     "text": [
      "SGCN (Loss=0.2879):  26%|██▌       | 78/300 [00:14<00:43,  5.14it/s]"
     ]
    },
    {
     "name": "stdout",
     "output_type": "stream",
     "text": [
      "\n",
      "Embedding is saved.\n",
      "\n",
      "\n",
      "Regression weights are saved.\n",
      "\n"
     ]
    },
    {
     "name": "stderr",
     "output_type": "stream",
     "text": [
      "SGCN (Loss=0.2812):  26%|██▋       | 79/300 [00:15<00:47,  4.67it/s]"
     ]
    },
    {
     "name": "stdout",
     "output_type": "stream",
     "text": [
      "\n",
      "Embedding is saved.\n",
      "\n",
      "\n",
      "Regression weights are saved.\n",
      "\n"
     ]
    },
    {
     "name": "stderr",
     "output_type": "stream",
     "text": [
      "SGCN (Loss=0.2671):  27%|██▋       | 80/300 [00:15<00:50,  4.38it/s]"
     ]
    },
    {
     "name": "stdout",
     "output_type": "stream",
     "text": [
      "\n",
      "Embedding is saved.\n",
      "\n",
      "\n",
      "Regression weights are saved.\n",
      "\n"
     ]
    },
    {
     "name": "stderr",
     "output_type": "stream",
     "text": [
      "SGCN (Loss=0.2763):  27%|██▋       | 81/300 [00:15<00:52,  4.20it/s]"
     ]
    },
    {
     "name": "stdout",
     "output_type": "stream",
     "text": [
      "\n",
      "Embedding is saved.\n",
      "\n",
      "\n",
      "Regression weights are saved.\n",
      "\n"
     ]
    },
    {
     "name": "stderr",
     "output_type": "stream",
     "text": [
      "SGCN (Loss=0.2651):  27%|██▋       | 82/300 [00:15<00:54,  4.03it/s]"
     ]
    },
    {
     "name": "stdout",
     "output_type": "stream",
     "text": [
      "\n",
      "Embedding is saved.\n",
      "\n",
      "\n",
      "Regression weights are saved.\n",
      "\n"
     ]
    },
    {
     "name": "stderr",
     "output_type": "stream",
     "text": [
      "SGCN (Loss=0.2605):  29%|██▊       | 86/300 [00:16<00:45,  4.73it/s]"
     ]
    },
    {
     "name": "stdout",
     "output_type": "stream",
     "text": [
      "\n",
      "Embedding is saved.\n",
      "\n",
      "\n",
      "Regression weights are saved.\n",
      "\n"
     ]
    },
    {
     "name": "stderr",
     "output_type": "stream",
     "text": [
      "SGCN (Loss=0.2474):  29%|██▉       | 87/300 [00:16<00:49,  4.34it/s]"
     ]
    },
    {
     "name": "stdout",
     "output_type": "stream",
     "text": [
      "\n",
      "Embedding is saved.\n",
      "\n",
      "\n",
      "Regression weights are saved.\n",
      "\n"
     ]
    },
    {
     "name": "stderr",
     "output_type": "stream",
     "text": [
      "SGCN (Loss=0.2425):  30%|██▉       | 89/300 [00:17<00:49,  4.27it/s]"
     ]
    },
    {
     "name": "stdout",
     "output_type": "stream",
     "text": [
      "\n",
      "Embedding is saved.\n",
      "\n",
      "\n",
      "Regression weights are saved.\n",
      "\n"
     ]
    },
    {
     "name": "stderr",
     "output_type": "stream",
     "text": [
      "SGCN (Loss=0.2364):  30%|███       | 90/300 [00:17<00:51,  4.07it/s]"
     ]
    },
    {
     "name": "stdout",
     "output_type": "stream",
     "text": [
      "\n",
      "Embedding is saved.\n",
      "\n",
      "\n",
      "Regression weights are saved.\n",
      "\n"
     ]
    },
    {
     "name": "stderr",
     "output_type": "stream",
     "text": [
      "SGCN (Loss=0.2369):  30%|███       | 91/300 [00:17<00:53,  3.92it/s]"
     ]
    },
    {
     "name": "stdout",
     "output_type": "stream",
     "text": [
      "\n",
      "Embedding is saved.\n",
      "\n",
      "\n",
      "Regression weights are saved.\n",
      "\n"
     ]
    },
    {
     "name": "stderr",
     "output_type": "stream",
     "text": [
      "SGCN (Loss=0.2455):  31%|███       | 92/300 [00:18<00:54,  3.84it/s]"
     ]
    },
    {
     "name": "stdout",
     "output_type": "stream",
     "text": [
      "\n",
      "Embedding is saved.\n",
      "\n",
      "\n",
      "Regression weights are saved.\n",
      "\n"
     ]
    },
    {
     "name": "stderr",
     "output_type": "stream",
     "text": [
      "SGCN (Loss=0.2373):  31%|███       | 93/300 [00:18<00:53,  3.84it/s]"
     ]
    },
    {
     "name": "stdout",
     "output_type": "stream",
     "text": [
      "\n",
      "Embedding is saved.\n",
      "\n",
      "\n",
      "Regression weights are saved.\n",
      "\n"
     ]
    },
    {
     "name": "stderr",
     "output_type": "stream",
     "text": [
      "SGCN (Loss=0.2304):  31%|███▏      | 94/300 [00:18<00:53,  3.84it/s]"
     ]
    },
    {
     "name": "stdout",
     "output_type": "stream",
     "text": [
      "\n",
      "Embedding is saved.\n",
      "\n",
      "\n",
      "Regression weights are saved.\n",
      "\n"
     ]
    },
    {
     "name": "stderr",
     "output_type": "stream",
     "text": [
      "SGCN (Loss=0.2264):  32%|███▏      | 95/300 [00:18<00:53,  3.84it/s]"
     ]
    },
    {
     "name": "stdout",
     "output_type": "stream",
     "text": [
      "\n",
      "Embedding is saved.\n",
      "\n",
      "\n",
      "Regression weights are saved.\n",
      "\n"
     ]
    },
    {
     "name": "stderr",
     "output_type": "stream",
     "text": [
      "SGCN (Loss=0.2372):  32%|███▏      | 96/300 [00:19<00:53,  3.84it/s]"
     ]
    },
    {
     "name": "stdout",
     "output_type": "stream",
     "text": [
      "\n",
      "Embedding is saved.\n",
      "\n",
      "\n",
      "Regression weights are saved.\n",
      "\n"
     ]
    },
    {
     "name": "stderr",
     "output_type": "stream",
     "text": [
      "SGCN (Loss=0.2279):  32%|███▏      | 97/300 [00:19<00:53,  3.81it/s]"
     ]
    },
    {
     "name": "stdout",
     "output_type": "stream",
     "text": [
      "\n",
      "Embedding is saved.\n",
      "\n",
      "\n",
      "Regression weights are saved.\n",
      "\n"
     ]
    },
    {
     "name": "stderr",
     "output_type": "stream",
     "text": [
      "SGCN (Loss=0.2197):  34%|███▎      | 101/300 [00:20<00:41,  4.77it/s]"
     ]
    },
    {
     "name": "stdout",
     "output_type": "stream",
     "text": [
      "\n",
      "Embedding is saved.\n",
      "\n",
      "\n",
      "Regression weights are saved.\n",
      "\n"
     ]
    },
    {
     "name": "stderr",
     "output_type": "stream",
     "text": [
      "SGCN (Loss=0.1986):  35%|███▌      | 106/300 [00:20<00:38,  5.02it/s]"
     ]
    },
    {
     "name": "stdout",
     "output_type": "stream",
     "text": [
      "\n",
      "Embedding is saved.\n",
      "\n",
      "\n",
      "Regression weights are saved.\n",
      "\n"
     ]
    },
    {
     "name": "stderr",
     "output_type": "stream",
     "text": [
      "SGCN (Loss=0.141):  49%|████▉     | 147/300 [00:27<00:28,  5.29it/s] "
     ]
    },
    {
     "name": "stdout",
     "output_type": "stream",
     "text": [
      "\n",
      "Embedding is saved.\n",
      "\n",
      "\n",
      "Regression weights are saved.\n",
      "\n"
     ]
    },
    {
     "name": "stderr",
     "output_type": "stream",
     "text": [
      "SGCN (Loss=0.1423):  51%|█████     | 153/300 [00:28<00:28,  5.20it/s]"
     ]
    },
    {
     "name": "stdout",
     "output_type": "stream",
     "text": [
      "\n",
      "Embedding is saved.\n",
      "\n",
      "\n",
      "Regression weights are saved.\n",
      "\n"
     ]
    },
    {
     "name": "stderr",
     "output_type": "stream",
     "text": [
      "SGCN (Loss=0.1445):  51%|█████▏    | 154/300 [00:28<00:31,  4.71it/s]"
     ]
    },
    {
     "name": "stdout",
     "output_type": "stream",
     "text": [
      "\n",
      "Embedding is saved.\n",
      "\n",
      "\n",
      "Regression weights are saved.\n",
      "\n"
     ]
    },
    {
     "name": "stderr",
     "output_type": "stream",
     "text": [
      "SGCN (Loss=0.1329):  52%|█████▏    | 155/300 [00:29<00:34,  4.19it/s]"
     ]
    },
    {
     "name": "stdout",
     "output_type": "stream",
     "text": [
      "\n",
      "Embedding is saved.\n",
      "\n",
      "\n",
      "Regression weights are saved.\n",
      "\n"
     ]
    },
    {
     "name": "stderr",
     "output_type": "stream",
     "text": [
      "SGCN (Loss=0.1276):  54%|█████▎    | 161/300 [00:30<00:29,  4.68it/s]"
     ]
    },
    {
     "name": "stdout",
     "output_type": "stream",
     "text": [
      "\n",
      "Embedding is saved.\n",
      "\n",
      "\n",
      "Regression weights are saved.\n",
      "\n"
     ]
    },
    {
     "name": "stderr",
     "output_type": "stream",
     "text": [
      "SGCN (Loss=0.1294):  54%|█████▍    | 162/300 [00:30<00:31,  4.34it/s]"
     ]
    },
    {
     "name": "stdout",
     "output_type": "stream",
     "text": [
      "\n",
      "Embedding is saved.\n",
      "\n",
      "\n",
      "Regression weights are saved.\n",
      "\n"
     ]
    },
    {
     "name": "stderr",
     "output_type": "stream",
     "text": [
      "SGCN (Loss=0.0661): 100%|██████████| 300/300 [00:51<00:00,  6.13it/s]\n",
      "/home/ubuntu/anaconda3/envs/pytorch_p36/lib/python3.6/site-packages/ipykernel/__main__.py:26: UserWarning: Implicit dimension choice for softmax has been deprecated. Change the call to include dim=X as an argument.\n",
      "SGCN (Loss=0.813):   0%|          | 0/300 [00:00<?, ?it/s]"
     ]
    },
    {
     "name": "stdout",
     "output_type": "stream",
     "text": [
      "+-------+-------+-------+\n",
      "| Epoch |  AUC  |  F1   |\n",
      "+=======+=======+=======+\n",
      "| 10    | 0.807 | 0.789 |\n",
      "+-------+-------+-------+\n",
      "| 20    | 0.900 | 0.849 |\n",
      "+-------+-------+-------+\n",
      "| 30    | 0.923 | 0.857 |\n",
      "+-------+-------+-------+\n",
      "| 40    | 0.910 | 0.857 |\n",
      "+-------+-------+-------+\n",
      "| 50    | 0.910 | 0.857 |\n",
      "+-------+-------+-------+\n",
      "| 60    | 0.942 | 0.865 |\n",
      "+-------+-------+-------+\n",
      "| 70    | 0.965 | 0.849 |\n",
      "+-------+-------+-------+\n",
      "| 80    | 0.970 | 0.891 |\n",
      "+-------+-------+-------+\n",
      "| 90    | 0.976 | 0.928 |\n",
      "+-------+-------+-------+\n",
      "| 100   | 0.979 | 0.909 |\n",
      "+-------+-------+-------+\n",
      "| 110   | 0.979 | 0.938 |\n",
      "+-------+-------+-------+\n",
      "| 120   | 0.974 | 0.918 |\n",
      "+-------+-------+-------+\n",
      "| 130   | 0.975 | 0.900 |\n",
      "+-------+-------+-------+\n",
      "| 140   | 0.980 | 0.882 |\n",
      "+-------+-------+-------+\n",
      "| 150   | 0.979 | 0.882 |\n",
      "+-------+-------+-------+\n",
      "| 160   | 0.985 | 0.874 |\n",
      "+-------+-------+-------+\n",
      "| 170   | 0.974 | 0.874 |\n",
      "+-------+-------+-------+\n",
      "| 180   | 0.976 | 0.882 |\n",
      "+-------+-------+-------+\n",
      "| 190   | 0.975 | 0.857 |\n",
      "+-------+-------+-------+\n",
      "| 200   | 0.970 | 0.841 |\n",
      "+-------+-------+-------+\n",
      "| 210   | 0.965 | 0.841 |\n",
      "+-------+-------+-------+\n",
      "| 220   | 0.974 | 0.857 |\n",
      "+-------+-------+-------+\n",
      "| 230   | 0.976 | 0.865 |\n",
      "+-------+-------+-------+\n",
      "| 240   | 0.971 | 0.849 |\n",
      "+-------+-------+-------+\n",
      "| 250   | 0.969 | 0.849 |\n",
      "+-------+-------+-------+\n",
      "| 260   | 0.960 | 0.833 |\n",
      "+-------+-------+-------+\n",
      "| 270   | 0.965 | 0.841 |\n",
      "+-------+-------+-------+\n",
      "| 280   | 0.953 | 0.841 |\n",
      "+-------+-------+-------+\n",
      "| 290   | 0.956 | 0.841 |\n",
      "+-------+-------+-------+\n",
      "| 300   | 0.961 | 0.833 |\n",
      "+-------+-------+-------+\n",
      "9-th fold\n",
      "\n",
      "Training started.\n",
      "\n"
     ]
    },
    {
     "name": "stderr",
     "output_type": "stream",
     "text": [
      "\r",
      "SGCN (Loss=0.813):   0%|          | 1/300 [00:00<01:24,  3.54it/s]"
     ]
    },
    {
     "name": "stdout",
     "output_type": "stream",
     "text": [
      "\n",
      "Embedding is saved.\n",
      "\n",
      "\n",
      "Regression weights are saved.\n",
      "\n"
     ]
    },
    {
     "name": "stderr",
     "output_type": "stream",
     "text": [
      "SGCN (Loss=0.7071):   1%|          | 2/300 [00:00<01:25,  3.47it/s]"
     ]
    },
    {
     "name": "stdout",
     "output_type": "stream",
     "text": [
      "\n",
      "Embedding is saved.\n",
      "\n",
      "\n",
      "Regression weights are saved.\n",
      "\n"
     ]
    },
    {
     "name": "stderr",
     "output_type": "stream",
     "text": [
      "SGCN (Loss=0.5359):   5%|▌         | 15/300 [00:02<00:57,  4.96it/s]"
     ]
    },
    {
     "name": "stdout",
     "output_type": "stream",
     "text": [
      "\n",
      "Embedding is saved.\n",
      "\n",
      "\n",
      "Regression weights are saved.\n",
      "\n"
     ]
    },
    {
     "name": "stderr",
     "output_type": "stream",
     "text": [
      "SGCN (Loss=0.5465):   5%|▌         | 16/300 [00:03<01:02,  4.51it/s]"
     ]
    },
    {
     "name": "stdout",
     "output_type": "stream",
     "text": [
      "\n",
      "Embedding is saved.\n",
      "\n",
      "\n",
      "Regression weights are saved.\n",
      "\n"
     ]
    },
    {
     "name": "stderr",
     "output_type": "stream",
     "text": [
      "SGCN (Loss=0.5183):   6%|▌         | 17/300 [00:03<01:09,  4.08it/s]"
     ]
    },
    {
     "name": "stdout",
     "output_type": "stream",
     "text": [
      "\n",
      "Embedding is saved.\n",
      "\n",
      "\n",
      "Regression weights are saved.\n",
      "\n"
     ]
    },
    {
     "name": "stderr",
     "output_type": "stream",
     "text": [
      "SGCN (Loss=0.5055):   6%|▌         | 18/300 [00:03<01:13,  3.82it/s]"
     ]
    },
    {
     "name": "stdout",
     "output_type": "stream",
     "text": [
      "\n",
      "Embedding is saved.\n",
      "\n",
      "\n",
      "Regression weights are saved.\n",
      "\n"
     ]
    },
    {
     "name": "stderr",
     "output_type": "stream",
     "text": [
      "SGCN (Loss=0.4779):   7%|▋         | 21/300 [00:04<01:06,  4.21it/s]"
     ]
    },
    {
     "name": "stdout",
     "output_type": "stream",
     "text": [
      "\n",
      "Embedding is saved.\n",
      "\n",
      "\n",
      "Regression weights are saved.\n",
      "\n"
     ]
    },
    {
     "name": "stderr",
     "output_type": "stream",
     "text": [
      "SGCN (Loss=0.4779):   7%|▋         | 22/300 [00:04<01:10,  3.92it/s]"
     ]
    },
    {
     "name": "stdout",
     "output_type": "stream",
     "text": [
      "\n",
      "Embedding is saved.\n",
      "\n",
      "\n",
      "Regression weights are saved.\n",
      "\n"
     ]
    },
    {
     "name": "stderr",
     "output_type": "stream",
     "text": [
      "SGCN (Loss=0.4531):   9%|▉         | 28/300 [00:05<00:56,  4.78it/s]"
     ]
    },
    {
     "name": "stdout",
     "output_type": "stream",
     "text": [
      "\n",
      "Embedding is saved.\n",
      "\n",
      "\n",
      "Regression weights are saved.\n",
      "\n"
     ]
    },
    {
     "name": "stderr",
     "output_type": "stream",
     "text": [
      "SGCN (Loss=0.4353):  10%|▉         | 29/300 [00:05<01:00,  4.46it/s]"
     ]
    },
    {
     "name": "stdout",
     "output_type": "stream",
     "text": [
      "\n",
      "Embedding is saved.\n",
      "\n",
      "\n",
      "Regression weights are saved.\n",
      "\n"
     ]
    },
    {
     "name": "stderr",
     "output_type": "stream",
     "text": [
      "SGCN (Loss=0.436):  10%|█         | 30/300 [00:06<01:03,  4.26it/s] "
     ]
    },
    {
     "name": "stdout",
     "output_type": "stream",
     "text": [
      "\n",
      "Embedding is saved.\n",
      "\n",
      "\n",
      "Regression weights are saved.\n",
      "\n"
     ]
    },
    {
     "name": "stderr",
     "output_type": "stream",
     "text": [
      "SGCN (Loss=0.4255):  10%|█         | 31/300 [00:06<01:05,  4.13it/s]"
     ]
    },
    {
     "name": "stdout",
     "output_type": "stream",
     "text": [
      "\n",
      "Embedding is saved.\n",
      "\n",
      "\n",
      "Regression weights are saved.\n",
      "\n"
     ]
    },
    {
     "name": "stderr",
     "output_type": "stream",
     "text": [
      "SGCN (Loss=0.425):  11%|█         | 32/300 [00:06<01:07,  3.98it/s] "
     ]
    },
    {
     "name": "stdout",
     "output_type": "stream",
     "text": [
      "\n",
      "Embedding is saved.\n",
      "\n",
      "\n",
      "Regression weights are saved.\n",
      "\n"
     ]
    },
    {
     "name": "stderr",
     "output_type": "stream",
     "text": [
      "SGCN (Loss=0.4218):  11%|█         | 33/300 [00:06<01:08,  3.92it/s]"
     ]
    },
    {
     "name": "stdout",
     "output_type": "stream",
     "text": [
      "\n",
      "Embedding is saved.\n",
      "\n",
      "\n",
      "Regression weights are saved.\n",
      "\n"
     ]
    },
    {
     "name": "stderr",
     "output_type": "stream",
     "text": [
      "SGCN (Loss=0.4148):  11%|█▏        | 34/300 [00:07<01:09,  3.84it/s]"
     ]
    },
    {
     "name": "stdout",
     "output_type": "stream",
     "text": [
      "\n",
      "Embedding is saved.\n",
      "\n",
      "\n",
      "Regression weights are saved.\n",
      "\n"
     ]
    },
    {
     "name": "stderr",
     "output_type": "stream",
     "text": [
      "SGCN (Loss=0.4167):  12%|█▏        | 35/300 [00:07<01:12,  3.67it/s]"
     ]
    },
    {
     "name": "stdout",
     "output_type": "stream",
     "text": [
      "\n",
      "Embedding is saved.\n",
      "\n",
      "\n",
      "Regression weights are saved.\n",
      "\n"
     ]
    },
    {
     "name": "stderr",
     "output_type": "stream",
     "text": [
      "SGCN (Loss=0.4092):  12%|█▏        | 36/300 [00:07<01:12,  3.62it/s]"
     ]
    },
    {
     "name": "stdout",
     "output_type": "stream",
     "text": [
      "\n",
      "Embedding is saved.\n",
      "\n",
      "\n",
      "Regression weights are saved.\n",
      "\n"
     ]
    },
    {
     "name": "stderr",
     "output_type": "stream",
     "text": [
      "SGCN (Loss=0.3457):  18%|█▊        | 54/300 [00:10<00:45,  5.38it/s]"
     ]
    },
    {
     "name": "stdout",
     "output_type": "stream",
     "text": [
      "\n",
      "Embedding is saved.\n",
      "\n",
      "\n",
      "Regression weights are saved.\n",
      "\n"
     ]
    },
    {
     "name": "stderr",
     "output_type": "stream",
     "text": [
      "SGCN (Loss=0.3315):  18%|█▊        | 55/300 [00:10<00:53,  4.62it/s]"
     ]
    },
    {
     "name": "stdout",
     "output_type": "stream",
     "text": [
      "\n",
      "Embedding is saved.\n",
      "\n",
      "\n",
      "Regression weights are saved.\n",
      "\n"
     ]
    },
    {
     "name": "stderr",
     "output_type": "stream",
     "text": [
      "SGCN (Loss=0.3421):  19%|█▊        | 56/300 [00:11<01:00,  4.06it/s]"
     ]
    },
    {
     "name": "stdout",
     "output_type": "stream",
     "text": [
      "\n",
      "Embedding is saved.\n",
      "\n",
      "\n",
      "Regression weights are saved.\n",
      "\n"
     ]
    },
    {
     "name": "stderr",
     "output_type": "stream",
     "text": [
      "SGCN (Loss=0.3254):  19%|█▉        | 57/300 [00:11<01:04,  3.78it/s]"
     ]
    },
    {
     "name": "stdout",
     "output_type": "stream",
     "text": [
      "\n",
      "Embedding is saved.\n",
      "\n",
      "\n",
      "Regression weights are saved.\n",
      "\n"
     ]
    },
    {
     "name": "stderr",
     "output_type": "stream",
     "text": [
      "SGCN (Loss=0.3285):  19%|█▉        | 58/300 [00:11<01:07,  3.58it/s]"
     ]
    },
    {
     "name": "stdout",
     "output_type": "stream",
     "text": [
      "\n",
      "Embedding is saved.\n",
      "\n",
      "\n",
      "Regression weights are saved.\n",
      "\n"
     ]
    },
    {
     "name": "stderr",
     "output_type": "stream",
     "text": [
      "SGCN (Loss=0.3238):  20%|██        | 61/300 [00:12<00:56,  4.27it/s]"
     ]
    },
    {
     "name": "stdout",
     "output_type": "stream",
     "text": [
      "\n",
      "Embedding is saved.\n",
      "\n",
      "\n",
      "Regression weights are saved.\n",
      "\n"
     ]
    },
    {
     "name": "stderr",
     "output_type": "stream",
     "text": [
      "SGCN (Loss=0.344):  21%|██▏       | 64/300 [00:13<00:54,  4.32it/s] "
     ]
    },
    {
     "name": "stdout",
     "output_type": "stream",
     "text": [
      "\n",
      "Embedding is saved.\n",
      "\n",
      "\n",
      "Regression weights are saved.\n",
      "\n"
     ]
    },
    {
     "name": "stderr",
     "output_type": "stream",
     "text": [
      "SGCN (Loss=0.2731):  27%|██▋       | 81/300 [00:15<00:42,  5.12it/s]"
     ]
    },
    {
     "name": "stdout",
     "output_type": "stream",
     "text": [
      "\n",
      "Embedding is saved.\n",
      "\n",
      "\n",
      "Regression weights are saved.\n",
      "\n"
     ]
    },
    {
     "name": "stderr",
     "output_type": "stream",
     "text": [
      "SGCN (Loss=0.2658):  27%|██▋       | 82/300 [00:16<00:46,  4.65it/s]"
     ]
    },
    {
     "name": "stdout",
     "output_type": "stream",
     "text": [
      "\n",
      "Embedding is saved.\n",
      "\n",
      "\n",
      "Regression weights are saved.\n",
      "\n"
     ]
    },
    {
     "name": "stderr",
     "output_type": "stream",
     "text": [
      "SGCN (Loss=0.2555):  29%|██▉       | 87/300 [00:17<00:42,  4.98it/s]"
     ]
    },
    {
     "name": "stdout",
     "output_type": "stream",
     "text": [
      "\n",
      "Embedding is saved.\n",
      "\n",
      "\n",
      "Regression weights are saved.\n",
      "\n"
     ]
    },
    {
     "name": "stderr",
     "output_type": "stream",
     "text": [
      "SGCN (Loss=0.2453):  29%|██▉       | 88/300 [00:17<00:47,  4.47it/s]"
     ]
    },
    {
     "name": "stdout",
     "output_type": "stream",
     "text": [
      "\n",
      "Embedding is saved.\n",
      "\n",
      "\n",
      "Regression weights are saved.\n",
      "\n"
     ]
    },
    {
     "name": "stderr",
     "output_type": "stream",
     "text": [
      "SGCN (Loss=0.2426):  31%|███       | 93/300 [00:18<00:44,  4.68it/s]"
     ]
    },
    {
     "name": "stdout",
     "output_type": "stream",
     "text": [
      "\n",
      "Embedding is saved.\n",
      "\n",
      "\n",
      "Regression weights are saved.\n",
      "\n"
     ]
    },
    {
     "name": "stderr",
     "output_type": "stream",
     "text": [
      "SGCN (Loss=0.2377):  31%|███▏      | 94/300 [00:18<00:47,  4.35it/s]"
     ]
    },
    {
     "name": "stdout",
     "output_type": "stream",
     "text": [
      "\n",
      "Embedding is saved.\n",
      "\n",
      "\n",
      "Regression weights are saved.\n",
      "\n"
     ]
    },
    {
     "name": "stderr",
     "output_type": "stream",
     "text": [
      "SGCN (Loss=0.242):  32%|███▏      | 95/300 [00:18<00:49,  4.12it/s] "
     ]
    },
    {
     "name": "stdout",
     "output_type": "stream",
     "text": [
      "\n",
      "Embedding is saved.\n",
      "\n",
      "\n",
      "Regression weights are saved.\n",
      "\n"
     ]
    },
    {
     "name": "stderr",
     "output_type": "stream",
     "text": [
      "SGCN (Loss=0.2317):  32%|███▏      | 96/300 [00:19<00:50,  4.02it/s]"
     ]
    },
    {
     "name": "stdout",
     "output_type": "stream",
     "text": [
      "\n",
      "Embedding is saved.\n",
      "\n",
      "\n",
      "Regression weights are saved.\n",
      "\n"
     ]
    },
    {
     "name": "stderr",
     "output_type": "stream",
     "text": [
      "SGCN (Loss=0.227):  32%|███▏      | 97/300 [00:19<00:51,  3.95it/s] "
     ]
    },
    {
     "name": "stdout",
     "output_type": "stream",
     "text": [
      "\n",
      "Embedding is saved.\n",
      "\n",
      "\n",
      "Regression weights are saved.\n",
      "\n"
     ]
    },
    {
     "name": "stderr",
     "output_type": "stream",
     "text": [
      "SGCN (Loss=0.2255):  33%|███▎      | 99/300 [00:19<00:48,  4.13it/s]"
     ]
    },
    {
     "name": "stdout",
     "output_type": "stream",
     "text": [
      "\n",
      "Embedding is saved.\n",
      "\n",
      "\n",
      "Regression weights are saved.\n",
      "\n"
     ]
    },
    {
     "name": "stderr",
     "output_type": "stream",
     "text": [
      "SGCN (Loss=0.2218):  33%|███▎      | 100/300 [00:20<00:50,  3.96it/s]"
     ]
    },
    {
     "name": "stdout",
     "output_type": "stream",
     "text": [
      "\n",
      "Embedding is saved.\n",
      "\n",
      "\n",
      "Regression weights are saved.\n",
      "\n"
     ]
    },
    {
     "name": "stderr",
     "output_type": "stream",
     "text": [
      "SGCN (Loss=0.2185):  34%|███▎      | 101/300 [00:20<00:51,  3.90it/s]"
     ]
    },
    {
     "name": "stdout",
     "output_type": "stream",
     "text": [
      "\n",
      "Embedding is saved.\n",
      "\n",
      "\n",
      "Regression weights are saved.\n",
      "\n"
     ]
    },
    {
     "name": "stderr",
     "output_type": "stream",
     "text": [
      "SGCN (Loss=0.2165):  34%|███▍      | 102/300 [00:20<00:51,  3.87it/s]"
     ]
    },
    {
     "name": "stdout",
     "output_type": "stream",
     "text": [
      "\n",
      "Embedding is saved.\n",
      "\n",
      "\n",
      "Regression weights are saved.\n",
      "\n"
     ]
    },
    {
     "name": "stderr",
     "output_type": "stream",
     "text": [
      "SGCN (Loss=0.0696): 100%|██████████| 300/300 [00:51<00:00,  6.53it/s]"
     ]
    },
    {
     "name": "stdout",
     "output_type": "stream",
     "text": [
      "+-------+-------+-------+\n",
      "| Epoch |  AUC  |  F1   |\n",
      "+=======+=======+=======+\n",
      "| 10    | 0.796 | 0.783 |\n",
      "+-------+-------+-------+\n",
      "| 20    | 0.913 | 0.841 |\n",
      "+-------+-------+-------+\n",
      "| 30    | 0.945 | 0.874 |\n",
      "+-------+-------+-------+\n",
      "| 40    | 0.953 | 0.865 |\n",
      "+-------+-------+-------+\n",
      "| 50    | 0.951 | 0.865 |\n",
      "+-------+-------+-------+\n",
      "| 60    | 0.967 | 0.874 |\n",
      "+-------+-------+-------+\n",
      "| 70    | 0.972 | 0.947 |\n",
      "+-------+-------+-------+\n",
      "| 80    | 0.974 | 0.947 |\n",
      "+-------+-------+-------+\n",
      "| 90    | 0.974 | 0.928 |\n",
      "+-------+-------+-------+\n",
      "| 100   | 0.985 | 0.947 |\n",
      "+-------+-------+-------+\n",
      "| 110   | 0.980 | 0.947 |\n",
      "+-------+-------+-------+\n",
      "| 120   | 0.980 | 0.938 |\n",
      "+-------+-------+-------+\n",
      "| 130   | 0.983 | 0.909 |\n",
      "+-------+-------+-------+\n",
      "| 140   | 0.976 | 0.857 |\n",
      "+-------+-------+-------+\n",
      "| 150   | 0.973 | 0.882 |\n",
      "+-------+-------+-------+\n",
      "| 160   | 0.965 | 0.841 |\n",
      "+-------+-------+-------+\n",
      "| 170   | 0.964 | 0.841 |\n",
      "+-------+-------+-------+\n",
      "| 180   | 0.966 | 0.841 |\n",
      "+-------+-------+-------+\n",
      "| 190   | 0.956 | 0.833 |\n",
      "+-------+-------+-------+\n",
      "| 200   | 0.955 | 0.833 |\n",
      "+-------+-------+-------+\n",
      "| 210   | 0.950 | 0.833 |\n",
      "+-------+-------+-------+\n",
      "| 220   | 0.931 | 0.833 |\n",
      "+-------+-------+-------+\n",
      "| 230   | 0.934 | 0.833 |\n",
      "+-------+-------+-------+\n",
      "| 240   | 0.935 | 0.833 |\n",
      "+-------+-------+-------+\n",
      "| 250   | 0.917 | 0.833 |\n",
      "+-------+-------+-------+\n",
      "| 260   | 0.928 | 0.826 |\n",
      "+-------+-------+-------+\n",
      "| 270   | 0.942 | 0.833 |\n",
      "+-------+-------+-------+\n",
      "| 280   | 0.920 | 0.826 |\n",
      "+-------+-------+-------+\n",
      "| 290   | 0.916 | 0.826 |\n",
      "+-------+-------+-------+\n",
      "| 300   | 0.929 | 0.818 |\n",
      "+-------+-------+-------+\n"
     ]
    },
    {
     "name": "stderr",
     "output_type": "stream",
     "text": [
      "\n",
      "/home/ubuntu/anaconda3/envs/pytorch_p36/lib/python3.6/site-packages/ipykernel/__main__.py:26: UserWarning: Implicit dimension choice for softmax has been deprecated. Change the call to include dim=X as an argument.\n"
     ]
    }
   ],
   "source": [
    "for i, (train_index, test_index) in enumerate(kf.split(X=nodes_dict['indice'],y=nodes_dict['label'])):\n",
    "    print(f'{i}-th fold')\n",
    "    # training\n",
    "    train_node_indice = all_indice[train_index]\n",
    "    train_node_labels = all_labels[train_index]\n",
    "    tmp_nodes_dict = {}\n",
    "    tmp_nodes_dict['all_ncount'] = nodes_dict['all_ncount']\n",
    "    tmp_nodes_dict['indice'] = train_node_indice\n",
    "    tmp_nodes_dict['label'] = train_node_labels\n",
    "    trainer = SignedGCNTrainer(args, edges, tmp_nodes_dict)\n",
    "    trainer.setup_dataset()\n",
    "    trainer.create_and_train_model()\n",
    "    \n",
    "    if args.test_size > 0:\n",
    "        # trainer.save_model() ## trainer.create_and_train_model()のなかで，すでにbest_modelが保存されている．\n",
    "        score_printer(trainer.logs)\n",
    "        save_logs(args, trainer.logs)\n",
    "\n",
    "    # test\n",
    "    test_node_indice = all_indice[test_index]\n",
    "    test_node_labels = all_labels[test_index]\n",
    "    feature = pd.read_csv(args.embedding_path,index_col='id').values\n",
    "    test_feature = feature[test_node_indice]\n",
    "    weight = pd.read_csv(args.regression_weights_path)\n",
    "    predictions = np.dot(test_feature,weight.values.T)\n",
    "    probabilities = torch.nn.functional.softmax(torch.from_numpy(predictions)).numpy()\n",
    "    auc_score = roc_auc_score(y_true=[0 if i==-1 else 1for i in test_node_labels],y_score=probabilities[:,1])\n",
    "    auc_scores.append(auc_score)"
   ]
  },
  {
   "cell_type": "code",
   "execution_count": 8,
   "metadata": {},
   "outputs": [
    {
     "data": {
      "text/plain": [
       "0.9696753246753247"
      ]
     },
     "execution_count": 8,
     "metadata": {},
     "output_type": "execute_result"
    }
   ],
   "source": [
    "np.mean(auc_scores)"
   ]
  },
  {
   "cell_type": "markdown",
   "metadata": {},
   "source": [
    "結果\n",
    "- amazon : \n",
    "- alpha : \n",
    "- epinions : \n",
    "- otc : 0.987"
   ]
  },
  {
   "cell_type": "markdown",
   "metadata": {},
   "source": [
    "## single-validation"
   ]
  },
  {
   "cell_type": "code",
   "execution_count": null,
   "metadata": {
    "scrolled": true
   },
   "outputs": [],
   "source": [
    "trainer = SignedGCNTrainer(args, edges, nodes_dict)\n",
    "trainer.setup_dataset()\n",
    "trainer.create_and_train_model()"
   ]
  },
  {
   "cell_type": "code",
   "execution_count": null,
   "metadata": {
    "scrolled": true
   },
   "outputs": [],
   "source": [
    "if args.test_size > 0:\n",
    "    trainer.save_model()\n",
    "    score_printer(trainer.logs)\n",
    "    save_logs(args, trainer.logs)"
   ]
  },
  {
   "cell_type": "code",
   "execution_count": null,
   "metadata": {},
   "outputs": [],
   "source": [
    "import json"
   ]
  },
  {
   "cell_type": "code",
   "execution_count": null,
   "metadata": {},
   "outputs": [],
   "source": [
    "performance = pd.DataFrame(json.load(open('../logs/otc_logs_feature05.json','r'))['performance'])\n",
    "\n",
    "performance.columns = performance.iloc[0,:]\n",
    "\n",
    "performance = performance.iloc[1:,:]"
   ]
  },
  {
   "cell_type": "code",
   "execution_count": null,
   "metadata": {
    "scrolled": true
   },
   "outputs": [],
   "source": [
    "performance['AUC'].plot()"
   ]
  },
  {
   "cell_type": "code",
   "execution_count": null,
   "metadata": {},
   "outputs": [],
   "source": [
    "feature = pd.read_csv(args.embedding_path,index_col='id')\n",
    "\n",
    "weight = pd.read_csv(args.regression_weights_path)"
   ]
  },
  {
   "cell_type": "code",
   "execution_count": null,
   "metadata": {},
   "outputs": [],
   "source": [
    "predictions = np.dot(feature.values,weight.values.T)"
   ]
  },
  {
   "cell_type": "code",
   "execution_count": null,
   "metadata": {},
   "outputs": [],
   "source": [
    "probabilities = torch.nn.functional.softmax(torch.from_numpy(predictions)).numpy()"
   ]
  },
  {
   "cell_type": "code",
   "execution_count": null,
   "metadata": {},
   "outputs": [],
   "source": [
    "predict_labels = probabilities.argmax(1)"
   ]
  },
  {
   "cell_type": "code",
   "execution_count": null,
   "metadata": {
    "scrolled": true
   },
   "outputs": [],
   "source": [
    "roc_auc_score(y_true=[0 if i==-1 else 1 for i in nodes_dict['label']],y_score=probabilities[:,1][nodes_dict['indice']])"
   ]
  },
  {
   "cell_type": "code",
   "execution_count": null,
   "metadata": {
    "scrolled": false
   },
   "outputs": [],
   "source": [
    "from sklearn.metrics import accuracy_score,confusion_matrix\n",
    "confusion_matrix([0 if i==-1 else 1 for i in nodes_dict['label']],predict_labels[nodes_dict['indice']])"
   ]
  },
  {
   "cell_type": "code",
   "execution_count": null,
   "metadata": {},
   "outputs": [],
   "source": []
  },
  {
   "cell_type": "markdown",
   "metadata": {},
   "source": [
    "# TODO"
   ]
  },
  {
   "cell_type": "markdown",
   "metadata": {},
   "source": [
    "~~- best modelを保存するようにすること．~~\n",
    "- inductiveな方法で結果を取得できるようにすること．"
   ]
  },
  {
   "cell_type": "code",
   "execution_count": null,
   "metadata": {},
   "outputs": [],
   "source": []
  }
 ],
 "metadata": {
  "kernelspec": {
   "display_name": "Environment (conda_pytorch_p36)",
   "language": "python",
   "name": "conda_pytorch_p36"
  },
  "language_info": {
   "codemirror_mode": {
    "name": "ipython",
    "version": 3
   },
   "file_extension": ".py",
   "mimetype": "text/x-python",
   "name": "python",
   "nbconvert_exporter": "python",
   "pygments_lexer": "ipython3",
   "version": "3.6.5"
  }
 },
 "nbformat": 4,
 "nbformat_minor": 2
}
