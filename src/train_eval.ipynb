{
 "cells": [
  {
   "cell_type": "markdown",
   "metadata": {},
   "source": [
    "# Signed Graph Convolutional Network(SGCN)を用いたFraud User Detection"
   ]
  },
  {
   "cell_type": "markdown",
   "metadata": {},
   "source": [
    "```sh\n",
    "pip install -r /home/ubuntu/SGCN/requirements.txt\n",
    "pip install torch_scatter\n",
    "pip install torch_sparse\n",
    "pip install easydict\n",
    "```\n"
   ]
  },
  {
   "cell_type": "code",
   "execution_count": 1,
   "metadata": {
    "scrolled": true
   },
   "outputs": [
    {
     "name": "stderr",
     "output_type": "stream",
     "text": [
      "/home/ubuntu/anaconda3/envs/pytorch_p36/lib/python3.6/site-packages/matplotlib/__init__.py:1067: UserWarning: Duplicate key in file \"/home/ubuntu/.config/matplotlib/matplotlibrc\", line #2\n",
      "  (fname, cnt))\n",
      "/home/ubuntu/anaconda3/envs/pytorch_p36/lib/python3.6/site-packages/matplotlib/__init__.py:1067: UserWarning: Duplicate key in file \"/home/ubuntu/.config/matplotlib/matplotlibrc\", line #3\n",
      "  (fname, cnt))\n"
     ]
    }
   ],
   "source": [
    "from sgcn import SignedGCNTrainer\n",
    "from parser import parameter_parser\n",
    "from utils import tab_printer, read_graph, score_printer, save_logs\n",
    "import argparse\n",
    "import pandas as pd\n",
    "import numpy as np\n",
    "import torch\n",
    "%matplotlib inline"
   ]
  },
  {
   "cell_type": "code",
   "execution_count": 2,
   "metadata": {},
   "outputs": [],
   "source": [
    "import easydict\n",
    "args = easydict.EasyDict({\n",
    "        \"edge_path\": '../input/amazon/amazon_network.csv',#'../input/amazon/user_network.csv',\n",
    "        \"features_path\":  '../input/amazon/amazon_node_feature.csv',#'../input/amazon/user_network.csv',\n",
    "        \"nodes_path\": '../input/amazon/amazon_gt.csv',\n",
    "        \"embedding_path\": '../output/embedding/amazon_sgcn_feature09test.csv',\n",
    "        \"regression_weights_path\": '../output/weights/amazon_sgcn_feature09test.csv',\n",
    "        \"log_path\": '../logs/amazon_logs_feature09test.json',\n",
    "        \"epochs\":1000,\n",
    "        \"test_size\":0.9,\n",
    "        \"reduction_iterations\": 128,\n",
    "        \"reduction_dimensions\": 30,\n",
    "        \"seed\": 42,\n",
    "        \"lamb\": 1.0,\n",
    "        \"learning_rate\": 0.005,  \n",
    "        \"weight_decay\": 10e-5, \n",
    "        \"layers\": [64, 32,16,8],\n",
    "        \"spectral_features\":False,\n",
    "        \"general_features\": True,  \n",
    "})"
   ]
  },
  {
   "cell_type": "code",
   "execution_count": 3,
   "metadata": {},
   "outputs": [
    {
     "data": {
      "text/html": [
       "<div>\n",
       "<style scoped>\n",
       "    .dataframe tbody tr th:only-of-type {\n",
       "        vertical-align: middle;\n",
       "    }\n",
       "\n",
       "    .dataframe tbody tr th {\n",
       "        vertical-align: top;\n",
       "    }\n",
       "\n",
       "    .dataframe thead th {\n",
       "        text-align: right;\n",
       "    }\n",
       "</style>\n",
       "<table border=\"1\" class=\"dataframe\">\n",
       "  <thead>\n",
       "    <tr style=\"text-align: right;\">\n",
       "      <th></th>\n",
       "      <th>0</th>\n",
       "    </tr>\n",
       "  </thead>\n",
       "  <tbody>\n",
       "    <tr>\n",
       "      <th>edge_path</th>\n",
       "      <td>../input/amazon/amazon_network.csv</td>\n",
       "    </tr>\n",
       "    <tr>\n",
       "      <th>embedding_path</th>\n",
       "      <td>../output/embedding/amazon_sgcn_feature09test.csv</td>\n",
       "    </tr>\n",
       "    <tr>\n",
       "      <th>epochs</th>\n",
       "      <td>1000</td>\n",
       "    </tr>\n",
       "    <tr>\n",
       "      <th>features_path</th>\n",
       "      <td>../input/amazon/amazon_node_feature.csv</td>\n",
       "    </tr>\n",
       "    <tr>\n",
       "      <th>general_features</th>\n",
       "      <td>True</td>\n",
       "    </tr>\n",
       "    <tr>\n",
       "      <th>lamb</th>\n",
       "      <td>1</td>\n",
       "    </tr>\n",
       "    <tr>\n",
       "      <th>layers</th>\n",
       "      <td>[64, 32, 16, 8]</td>\n",
       "    </tr>\n",
       "    <tr>\n",
       "      <th>learning_rate</th>\n",
       "      <td>0.005</td>\n",
       "    </tr>\n",
       "    <tr>\n",
       "      <th>log_path</th>\n",
       "      <td>../logs/amazon_logs_feature09test.json</td>\n",
       "    </tr>\n",
       "    <tr>\n",
       "      <th>nodes_path</th>\n",
       "      <td>../input/amazon/amazon_gt.csv</td>\n",
       "    </tr>\n",
       "    <tr>\n",
       "      <th>reduction_dimensions</th>\n",
       "      <td>30</td>\n",
       "    </tr>\n",
       "    <tr>\n",
       "      <th>reduction_iterations</th>\n",
       "      <td>128</td>\n",
       "    </tr>\n",
       "    <tr>\n",
       "      <th>regression_weights_path</th>\n",
       "      <td>../output/weights/amazon_sgcn_feature09test.csv</td>\n",
       "    </tr>\n",
       "    <tr>\n",
       "      <th>seed</th>\n",
       "      <td>42</td>\n",
       "    </tr>\n",
       "    <tr>\n",
       "      <th>spectral_features</th>\n",
       "      <td>False</td>\n",
       "    </tr>\n",
       "    <tr>\n",
       "      <th>test_size</th>\n",
       "      <td>0.9</td>\n",
       "    </tr>\n",
       "    <tr>\n",
       "      <th>weight_decay</th>\n",
       "      <td>0.0001</td>\n",
       "    </tr>\n",
       "  </tbody>\n",
       "</table>\n",
       "</div>"
      ],
      "text/plain": [
       "                                                                         0\n",
       "edge_path                               ../input/amazon/amazon_network.csv\n",
       "embedding_path           ../output/embedding/amazon_sgcn_feature09test.csv\n",
       "epochs                                                                1000\n",
       "features_path                      ../input/amazon/amazon_node_feature.csv\n",
       "general_features                                                      True\n",
       "lamb                                                                     1\n",
       "layers                                                     [64, 32, 16, 8]\n",
       "learning_rate                                                        0.005\n",
       "log_path                            ../logs/amazon_logs_feature09test.json\n",
       "nodes_path                                   ../input/amazon/amazon_gt.csv\n",
       "reduction_dimensions                                                    30\n",
       "reduction_iterations                                                   128\n",
       "regression_weights_path    ../output/weights/amazon_sgcn_feature09test.csv\n",
       "seed                                                                    42\n",
       "spectral_features                                                    False\n",
       "test_size                                                              0.9\n",
       "weight_decay                                                        0.0001"
      ]
     },
     "execution_count": 3,
     "metadata": {},
     "output_type": "execute_result"
    }
   ],
   "source": [
    "pd.io.json.json_normalize(args).T"
   ]
  },
  {
   "cell_type": "code",
   "execution_count": 4,
   "metadata": {},
   "outputs": [],
   "source": [
    "#tab_printer(args)\n",
    "edges, nodes_dict = read_graph(args) # nodes_dict['indice']:node_id , nodes_dict['label'] : label"
   ]
  },
  {
   "cell_type": "code",
   "execution_count": 5,
   "metadata": {
    "scrolled": true
   },
   "outputs": [
    {
     "name": "stderr",
     "output_type": "stream",
     "text": [
      "\r",
      "Loss:   0%|          | 0/1000 [00:00<?, ?it/s]"
     ]
    },
    {
     "name": "stdout",
     "output_type": "stream",
     "text": [
      "\n",
      "Training started.\n",
      "\n"
     ]
    },
    {
     "name": "stderr",
     "output_type": "stream",
     "text": [
      "SGCN (Loss=0.0999): 100%|██████████| 1000/1000 [38:56<00:00,  2.34s/it]\n"
     ]
    }
   ],
   "source": [
    "trainer = SignedGCNTrainer(args, edges, nodes_dict)\n",
    "trainer.setup_dataset()\n",
    "trainer.create_and_train_model()"
   ]
  },
  {
   "cell_type": "code",
   "execution_count": 6,
   "metadata": {
    "scrolled": true
   },
   "outputs": [
    {
     "name": "stdout",
     "output_type": "stream",
     "text": [
      "\n",
      "Embedding is saved.\n",
      "\n",
      "\n",
      "Regression weights are saved.\n",
      "\n",
      "+-------+-------+-------+\n",
      "| Epoch |  AUC  |  F1   |\n",
      "+=======+=======+=======+\n",
      "| 10    | 0.671 | 0.952 |\n",
      "+-------+-------+-------+\n",
      "| 20    | 0.738 | 0.952 |\n",
      "+-------+-------+-------+\n",
      "| 30    | 0.765 | 0.952 |\n",
      "+-------+-------+-------+\n",
      "| 40    | 0.780 | 0.952 |\n",
      "+-------+-------+-------+\n",
      "| 50    | 0.782 | 0.952 |\n",
      "+-------+-------+-------+\n",
      "| 60    | 0.776 | 0.952 |\n",
      "+-------+-------+-------+\n",
      "| 70    | 0.759 | 0.952 |\n",
      "+-------+-------+-------+\n",
      "| 80    | 0.739 | 0.952 |\n",
      "+-------+-------+-------+\n",
      "| 90    | 0.735 | 0.952 |\n",
      "+-------+-------+-------+\n",
      "| 100   | 0.743 | 0.952 |\n",
      "+-------+-------+-------+\n",
      "| 110   | 0.753 | 0.952 |\n",
      "+-------+-------+-------+\n",
      "| 120   | 0.750 | 0.952 |\n",
      "+-------+-------+-------+\n",
      "| 130   | 0.742 | 0.952 |\n",
      "+-------+-------+-------+\n",
      "| 140   | 0.738 | 0.952 |\n",
      "+-------+-------+-------+\n",
      "| 150   | 0.730 | 0.952 |\n",
      "+-------+-------+-------+\n",
      "| 160   | 0.728 | 0.952 |\n",
      "+-------+-------+-------+\n",
      "| 170   | 0.746 | 0.952 |\n",
      "+-------+-------+-------+\n",
      "| 180   | 0.777 | 0.952 |\n",
      "+-------+-------+-------+\n",
      "| 190   | 0.781 | 0.952 |\n",
      "+-------+-------+-------+\n",
      "| 200   | 0.808 | 0.952 |\n",
      "+-------+-------+-------+\n",
      "| 210   | 0.754 | 0.952 |\n",
      "+-------+-------+-------+\n",
      "| 220   | 0.819 | 0.952 |\n",
      "+-------+-------+-------+\n",
      "| 230   | 0.823 | 0.952 |\n",
      "+-------+-------+-------+\n",
      "| 240   | 0.795 | 0.952 |\n",
      "+-------+-------+-------+\n",
      "| 250   | 0.799 | 0.952 |\n",
      "+-------+-------+-------+\n",
      "| 260   | 0.767 | 0.952 |\n",
      "+-------+-------+-------+\n",
      "| 270   | 0.807 | 0.952 |\n",
      "+-------+-------+-------+\n",
      "| 280   | 0.790 | 0.952 |\n",
      "+-------+-------+-------+\n",
      "| 290   | 0.760 | 0.952 |\n",
      "+-------+-------+-------+\n",
      "| 300   | 0.767 | 0.952 |\n",
      "+-------+-------+-------+\n",
      "| 310   | 0.759 | 0.952 |\n",
      "+-------+-------+-------+\n",
      "| 320   | 0.753 | 0.952 |\n",
      "+-------+-------+-------+\n",
      "| 330   | 0.751 | 0.952 |\n",
      "+-------+-------+-------+\n",
      "| 340   | 0.759 | 0.952 |\n",
      "+-------+-------+-------+\n",
      "| 350   | 0.765 | 0.952 |\n",
      "+-------+-------+-------+\n",
      "| 360   | 0.770 | 0.952 |\n",
      "+-------+-------+-------+\n",
      "| 370   | 0.772 | 0.952 |\n",
      "+-------+-------+-------+\n",
      "| 380   | 0.770 | 0.952 |\n",
      "+-------+-------+-------+\n",
      "| 390   | 0.779 | 0.952 |\n",
      "+-------+-------+-------+\n",
      "| 400   | 0.782 | 0.952 |\n",
      "+-------+-------+-------+\n",
      "| 410   | 0.784 | 0.952 |\n",
      "+-------+-------+-------+\n",
      "| 420   | 0.790 | 0.952 |\n",
      "+-------+-------+-------+\n",
      "| 430   | 0.798 | 0.952 |\n",
      "+-------+-------+-------+\n",
      "| 440   | 0.801 | 0.952 |\n",
      "+-------+-------+-------+\n",
      "| 450   | 0.799 | 0.952 |\n",
      "+-------+-------+-------+\n",
      "| 460   | 0.798 | 0.952 |\n",
      "+-------+-------+-------+\n",
      "| 470   | 0.805 | 0.951 |\n",
      "+-------+-------+-------+\n",
      "| 480   | 0.794 | 0.952 |\n",
      "+-------+-------+-------+\n",
      "| 490   | 0.780 | 0.951 |\n",
      "+-------+-------+-------+\n",
      "| 500   | 0.775 | 0.951 |\n",
      "+-------+-------+-------+\n",
      "| 510   | 0.775 | 0.951 |\n",
      "+-------+-------+-------+\n",
      "| 520   | 0.776 | 0.951 |\n",
      "+-------+-------+-------+\n",
      "| 530   | 0.777 | 0.952 |\n",
      "+-------+-------+-------+\n",
      "| 540   | 0.780 | 0.952 |\n",
      "+-------+-------+-------+\n",
      "| 550   | 0.782 | 0.952 |\n",
      "+-------+-------+-------+\n",
      "| 560   | 0.785 | 0.952 |\n",
      "+-------+-------+-------+\n",
      "| 570   | 0.788 | 0.952 |\n",
      "+-------+-------+-------+\n",
      "| 580   | 0.787 | 0.953 |\n",
      "+-------+-------+-------+\n",
      "| 590   | 0.787 | 0.952 |\n",
      "+-------+-------+-------+\n",
      "| 600   | 0.782 | 0.952 |\n",
      "+-------+-------+-------+\n",
      "| 610   | 0.785 | 0.953 |\n",
      "+-------+-------+-------+\n",
      "| 620   | 0.782 | 0.953 |\n",
      "+-------+-------+-------+\n",
      "| 630   | 0.780 | 0.951 |\n",
      "+-------+-------+-------+\n",
      "| 640   | 0.779 | 0.951 |\n",
      "+-------+-------+-------+\n",
      "| 650   | 0.791 | 0.951 |\n",
      "+-------+-------+-------+\n",
      "| 660   | 0.788 | 0.952 |\n",
      "+-------+-------+-------+\n",
      "| 670   | 0.807 | 0.952 |\n",
      "+-------+-------+-------+\n",
      "| 680   | 0.801 | 0.952 |\n",
      "+-------+-------+-------+\n",
      "| 690   | 0.808 | 0.952 |\n",
      "+-------+-------+-------+\n",
      "| 700   | 0.808 | 0.952 |\n",
      "+-------+-------+-------+\n",
      "| 710   | 0.805 | 0.953 |\n",
      "+-------+-------+-------+\n",
      "| 720   | 0.802 | 0.953 |\n",
      "+-------+-------+-------+\n",
      "| 730   | 0.801 | 0.954 |\n",
      "+-------+-------+-------+\n",
      "| 740   | 0.799 | 0.953 |\n",
      "+-------+-------+-------+\n",
      "| 750   | 0.796 | 0.953 |\n",
      "+-------+-------+-------+\n",
      "| 760   | 0.828 | 0.953 |\n",
      "+-------+-------+-------+\n",
      "| 770   | 0.796 | 0.952 |\n",
      "+-------+-------+-------+\n",
      "| 780   | 0.791 | 0.952 |\n",
      "+-------+-------+-------+\n",
      "| 790   | 0.791 | 0.952 |\n",
      "+-------+-------+-------+\n",
      "| 800   | 0.787 | 0.952 |\n",
      "+-------+-------+-------+\n",
      "| 810   | 0.787 | 0.953 |\n",
      "+-------+-------+-------+\n",
      "| 820   | 0.792 | 0.953 |\n",
      "+-------+-------+-------+\n",
      "| 830   | 0.792 | 0.953 |\n",
      "+-------+-------+-------+\n",
      "| 840   | 0.788 | 0.952 |\n",
      "+-------+-------+-------+\n",
      "| 850   | 0.797 | 0.951 |\n",
      "+-------+-------+-------+\n",
      "| 860   | 0.812 | 0.951 |\n",
      "+-------+-------+-------+\n",
      "| 870   | 0.795 | 0.951 |\n",
      "+-------+-------+-------+\n",
      "| 880   | 0.805 | 0.951 |\n",
      "+-------+-------+-------+\n",
      "| 890   | 0.810 | 0.951 |\n",
      "+-------+-------+-------+\n",
      "| 900   | 0.827 | 0.951 |\n",
      "+-------+-------+-------+\n",
      "| 910   | 0.816 | 0.945 |\n",
      "+-------+-------+-------+\n",
      "| 920   | 0.804 | 0.951 |\n",
      "+-------+-------+-------+\n",
      "| 930   | 0.782 | 0.953 |\n",
      "+-------+-------+-------+\n",
      "| 940   | 0.784 | 0.955 |\n",
      "+-------+-------+-------+\n",
      "| 950   | 0.802 | 0.954 |\n",
      "+-------+-------+-------+\n",
      "| 960   | 0.790 | 0.954 |\n",
      "+-------+-------+-------+\n",
      "| 970   | 0.783 | 0.953 |\n",
      "+-------+-------+-------+\n",
      "| 980   | 0.776 | 0.952 |\n",
      "+-------+-------+-------+\n",
      "| 990   | 0.772 | 0.952 |\n",
      "+-------+-------+-------+\n",
      "| 1000  | 0.779 | 0.953 |\n",
      "+-------+-------+-------+\n"
     ]
    }
   ],
   "source": [
    "if args.test_size > 0:\n",
    "    trainer.save_model()\n",
    "    score_printer(trainer.logs)\n",
    "    save_logs(args, trainer.logs)"
   ]
  },
  {
   "cell_type": "code",
   "execution_count": 7,
   "metadata": {},
   "outputs": [],
   "source": [
    "import json"
   ]
  },
  {
   "cell_type": "code",
   "execution_count": 15,
   "metadata": {},
   "outputs": [],
   "source": [
    "performance = pd.DataFrame(json.load(open('../logs/amazon_logs_feature09test.json','r'))['performance'])\n",
    "\n",
    "performance.columns = performance.iloc[0,:]\n",
    "\n",
    "performance = performance.iloc[1:,:]"
   ]
  },
  {
   "cell_type": "code",
   "execution_count": 16,
   "metadata": {
    "scrolled": true
   },
   "outputs": [
    {
     "data": {
      "text/plain": [
       "<matplotlib.axes._subplots.AxesSubplot at 0x7f95afc66b70>"
      ]
     },
     "execution_count": 16,
     "metadata": {},
     "output_type": "execute_result"
    },
    {
     "data": {
      "image/png": "[encoded data removed]",
      "text/plain": [
       "<Figure size 432x288 with 1 Axes>"
      ]
     },
     "metadata": {},
     "output_type": "display_data"
    }
   ],
   "source": [
    "performance['AUC'].plot()"
   ]
  },
  {
   "cell_type": "code",
   "execution_count": 22,
   "metadata": {
    "scrolled": true
   },
   "outputs": [],
   "source": [
    "feature = pd.read_csv('../output/embedding/amazon_sgcn_feature09test.csv',index_col='id')\n",
    "\n",
    "weight = pd.read_csv('../output/weights/amazon_sgcn_feature09test.csv')"
   ]
  },
  {
   "cell_type": "code",
   "execution_count": 23,
   "metadata": {},
   "outputs": [],
   "source": [
    "predictions = np.dot(feature.values,weight.values.T)"
   ]
  },
  {
   "cell_type": "code",
   "execution_count": 24,
   "metadata": {},
   "outputs": [
    {
     "name": "stderr",
     "output_type": "stream",
     "text": [
      "/home/ubuntu/anaconda3/envs/pytorch_p36/lib/python3.6/site-packages/ipykernel/__main__.py:1: UserWarning: Implicit dimension choice for softmax has been deprecated. Change the call to include dim=X as an argument.\n",
      "  if __name__ == '__main__':\n"
     ]
    }
   ],
   "source": [
    "probabilities = torch.nn.functional.softmax(torch.from_numpy(predictions)).numpy()"
   ]
  },
  {
   "cell_type": "code",
   "execution_count": 25,
   "metadata": {},
   "outputs": [],
   "source": [
    "predict_labels = probabilities.argmax(1)"
   ]
  },
  {
   "cell_type": "code",
   "execution_count": 26,
   "metadata": {},
   "outputs": [
    {
     "data": {
      "text/plain": [
       "array([[ 115,  126],\n",
       "       [ 125, 2233]])"
      ]
     },
     "execution_count": 26,
     "metadata": {},
     "output_type": "execute_result"
    }
   ],
   "source": [
    "from sklearn.metrics import accuracy_score,confusion_matrix\n",
    "confusion_matrix([0 if i==-1 else 1 for i in nodes_dict['label']],predict_labels[nodes_dict['indice']])"
   ]
  },
  {
   "cell_type": "code",
   "execution_count": null,
   "metadata": {},
   "outputs": [],
   "source": []
  }
 ],
 "metadata": {
  "kernelspec": {
   "display_name": "Environment (conda_pytorch_p36)",
   "language": "python",
   "name": "conda_pytorch_p36"
  },
  "language_info": {
   "codemirror_mode": {
    "name": "ipython",
    "version": 3
   },
   "file_extension": ".py",
   "mimetype": "text/x-python",
   "name": "python",
   "nbconvert_exporter": "python",
   "pygments_lexer": "ipython3",
   "version": "3.6.5"
  }
 },
 "nbformat": 4,
 "nbformat_minor": 2
}
