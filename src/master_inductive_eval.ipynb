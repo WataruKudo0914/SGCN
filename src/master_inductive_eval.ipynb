{
 "cells": [
  {
   "cell_type": "markdown",
   "metadata": {
    "colab_type": "text",
    "id": "C343BEEwuktz"
   },
   "source": [
    "# Signed Graph Convolutional Network(SGCN)を用いたFraud User Detection"
   ]
  },
  {
   "cell_type": "code",
   "execution_count": 1,
   "metadata": {
    "colab": {},
    "colab_type": "code",
    "id": "-OrHa6xIukt6",
    "scrolled": false
   },
   "outputs": [
    {
     "name": "stderr",
     "output_type": "stream",
     "text": [
      "/home/ubuntu/anaconda3/envs/pytorch_p36/lib/python3.6/site-packages/matplotlib/__init__.py:1067: UserWarning: Duplicate key in file \"/home/ubuntu/.config/matplotlib/matplotlibrc\", line #2\n",
      "  (fname, cnt))\n",
      "/home/ubuntu/anaconda3/envs/pytorch_p36/lib/python3.6/site-packages/matplotlib/__init__.py:1067: UserWarning: Duplicate key in file \"/home/ubuntu/.config/matplotlib/matplotlibrc\", line #3\n",
      "  (fname, cnt))\n"
     ]
    }
   ],
   "source": [
    "from sgcn_master import SignedGCNTrainer, SignedGCNPredictor\n",
    "from parser import parameter_parser\n",
    "from utils import tab_printer, read_graph, score_printer, save_logs\n",
    "import easydict\n",
    "import argparse\n",
    "import pandas as pd\n",
    "import numpy as np\n",
    "import torch\n",
    "import json\n",
    "import networkx as nx\n",
    "from sklearn.metrics import roc_auc_score, roc_curve, auc\n",
    "from sklearn.metrics import accuracy_score,confusion_matrix\n",
    "from sklearn.model_selection import train_test_split\n",
    "from IPython.display import display\n",
    "import matplotlib.pyplot as plt\n",
    "%matplotlib inline"
   ]
  },
  {
   "cell_type": "markdown",
   "metadata": {},
   "source": [
    "## まとめて学習"
   ]
  },
  {
   "cell_type": "code",
   "execution_count": null,
   "metadata": {},
   "outputs": [],
   "source": [
    "def train_all(data_name_list,l1_lambda=0.0,l2_lambda=10e-4,iter_num=30):\n",
    "    for data_name in data_name_list:\n",
    "        for i in range(iter_num):\n",
    "            print(f'{i}-th iteration')\n",
    "            args = easydict.EasyDict({\n",
    "                    \"edge_path\": f'../input/{data_name}/{data_name}_network.csv',\n",
    "                    \"features_path\":  f'../input/{data_name}/{data_name}_node_feature.csv',\n",
    "                    \"nodes_path\": f'../input/{data_name}/{data_name}_gt.csv',\n",
    "                    \"embedding_path\": f'../tmp/embedding/{data_name}_sgcn_feature05.pkl', # tmp folder for cross-validation\n",
    "                    \"regression_weights_path\": f'../tmp/weights/{data_name}_sgcn_feature05.pkl',\n",
    "                    \"inductive_model_path\": f'../output/inductive_master_tmp/{data_name}_model_l1_{l1_lambda}_l2_{l2_lambda}_{i}th', # or None\n",
    "                    \"log_path\": f'../logs/{data_name}_logs_feature05.json',\n",
    "                    \"epochs\":300,\n",
    "                    \"test_size\":0.2,\n",
    "                    \"reduction_iterations\": 128,\n",
    "                    \"reduction_dimensions\": 30,\n",
    "                    \"seed\": 42,\n",
    "                    \"lamb\": 0.0,\n",
    "                    \"learning_rate\": 0.001,  \n",
    "                    \"weight_decay\": l2_lambda, \n",
    "                    # \"layers\": [64, 32,16,8],\n",
    "                    \"layers\": [32, 16, ],\n",
    "                    \"spectral_features\":False,\n",
    "                    \"general_features\": True,  \n",
    "                    \"sample_num\":None,\n",
    "                    \"class_weights\":False,\n",
    "                    \"node_under_sampling\":False,\n",
    "                    \"hidden_residual\":False,\n",
    "                    \"eval_freq\":1,\n",
    "                    \"subgraph_training\":False,\n",
    "                    \"l1_lambda\":l1_lambda,\n",
    "            })    \n",
    "            edges, nodes_dict = read_graph(args) # nodes_dict['indice']:node_id , nodes_dict['label'] : label\n",
    "            print(np.unique(nodes_dict['label'],return_counts=True))\n",
    "            trainer = SignedGCNTrainer(args, edges, nodes_dict)\n",
    "            trainer.setup_dataset()\n",
    "            trainer.create_and_train_model()    "
   ]
  },
  {
   "cell_type": "code",
   "execution_count": null,
   "metadata": {},
   "outputs": [],
   "source": [
    "otc_list = ['otc_early0.03','otc_early0.04','otc_early0.05','otc_early0.07','otc_early0.1','otc_early0.15','otc_early0.2',]"
   ]
  },
  {
   "cell_type": "code",
   "execution_count": null,
   "metadata": {
    "scrolled": true
   },
   "outputs": [],
   "source": [
    "train_all(otc_list,l1_lambda=10.0)"
   ]
  },
  {
   "cell_type": "code",
   "execution_count": null,
   "metadata": {},
   "outputs": [],
   "source": [
    "alpha_list = ['alpha_early0.04','alpha_early0.05','alpha_early0.07','alpha_early0.1','alpha_early0.15','alpha_early0.2','alpha_early0.3']"
   ]
  },
  {
   "cell_type": "code",
   "execution_count": null,
   "metadata": {
    "scrolled": true
   },
   "outputs": [],
   "source": [
    "train_all(alpha_list,l1_lambda=10.0)"
   ]
  },
  {
   "cell_type": "code",
   "execution_count": 2,
   "metadata": {},
   "outputs": [],
   "source": [
    "# epinions_list = ['epinions_early0.0005','epinions_early0.001','epinions_early0.005','epinions_early0.01',]\n",
    "\n",
    "# epinions_list = ['epinions_early0.0007','epinions_early0.003','epinions_early0.007',]\n",
    "epinions_list = ['epinions_early0.0005','epinions_early0.0007','epinions_early0.001',\n",
    "                 'epinions_early0.003','epinions_early0.005','epinions_early0.007','epinions_early0.01',]"
   ]
  },
  {
   "cell_type": "code",
   "execution_count": null,
   "metadata": {
    "scrolled": true
   },
   "outputs": [],
   "source": [
    "train_all(epinions_list,l1_lambda=10.0)"
   ]
  },
  {
   "cell_type": "code",
   "execution_count": null,
   "metadata": {},
   "outputs": [],
   "source": []
  },
  {
   "cell_type": "markdown",
   "metadata": {},
   "source": [
    "## まとめて評価"
   ]
  },
  {
   "cell_type": "markdown",
   "metadata": {},
   "source": [
    "### data loading"
   ]
  },
  {
   "cell_type": "code",
   "execution_count": 3,
   "metadata": {
    "colab": {},
    "colab_type": "code",
    "id": "OIVKVhJKukub",
    "scrolled": true
   },
   "outputs": [
    {
     "name": "stdout",
     "output_type": "stream",
     "text": [
      "推定対象データセット：epinions\n"
     ]
    }
   ],
   "source": [
    "data_name = input('推定対象データセット：')"
   ]
  },
  {
   "cell_type": "code",
   "execution_count": 4,
   "metadata": {
    "colab": {},
    "colab_type": "code",
    "id": "aDUSpzOIukud"
   },
   "outputs": [],
   "source": [
    "new_args = easydict.EasyDict({\n",
    "        \"edge_path\": f'../input/{data_name}/{data_name}_network.csv',\n",
    "        \"features_path\":  f'../input/{data_name}/{data_name}_node_feature.csv',\n",
    "        \"nodes_path\": f'../input/{data_name}/{data_name}_gt.csv',\n",
    "        \"embedding_path\": f'../tmp/embedding/{data_name}_sgcn_feature05.pkl', # tmp folder for cross-validation\n",
    "        \"regression_weights_path\": f'../tmp/weights/{data_name}_sgcn_feature05.pkl',\n",
    "        \"inductive_model_path\": f'../output/inductive/{data_name}_model_master', # or None\n",
    "        \"log_path\": f'../logs/{data_name}_logs_feature05.json',\n",
    "        \"epochs\":300,\n",
    "        \"test_size\":0.33,\n",
    "        \"reduction_iterations\": 128,\n",
    "        \"reduction_dimensions\": 30,\n",
    "        \"seed\": 42,\n",
    "        \"lamb\": 0.0,\n",
    "        \"learning_rate\": 0.001,  \n",
    "        \"weight_decay\": 10e-4, \n",
    "        # \"layers\": [64, 32,16,8],\n",
    "        \"layers\": [32, 16, ],\n",
    "        \"spectral_features\":False,\n",
    "        \"general_features\": True,  \n",
    "        \"sample_num\":None,\n",
    "        \"class_weights\":False,\n",
    "        \"node_under_sampling\":False,\n",
    "        \"hidden_residual\":False,\n",
    "        \"eval_freq\":1,\n",
    "        \"subgraph_training\":False,\n",
    "        \"l1_lambda\":0.0,\n",
    "})"
   ]
  },
  {
   "cell_type": "code",
   "execution_count": 5,
   "metadata": {
    "colab": {},
    "colab_type": "code",
    "id": "kKkWYWXHukue",
    "scrolled": true
   },
   "outputs": [],
   "source": [
    "new_edges, new_nodes_dict = read_graph(new_args)\n",
    "if data_name=='amazon':\n",
    "    # undirected\n",
    "    new_edges['positive_edges'] = new_edges['positive_edges'] + [[d,s] for s,d in new_edges['positive_edges']]\n",
    "    new_edges['negative_edges'] = new_edges['negative_edges'] + [[d,s] for s,d in new_edges['negative_edges']]\n",
    "X = np.array(pd.read_csv(f'../input/{data_name}/{data_name}_node_feature.csv')) # general node features"
   ]
  },
  {
   "cell_type": "code",
   "execution_count": 6,
   "metadata": {},
   "outputs": [],
   "source": [
    "def evaluate_all(trained_model_list,l1_lambda=0.0,l2_lambda=10e-4,iter_num=30):\n",
    "    result_df = pd.DataFrame()\n",
    "    bagging_df = pd.DataFrame()\n",
    "    for training_dataset in trained_model_list:\n",
    "        auc_scores = []\n",
    "        bagging_pred_scores = []\n",
    "        for i in range(iter_num):\n",
    "            predictor = SignedGCNPredictor(new_args, f'../output/inductive_master_tmp/{training_dataset}_model_l1_{l1_lambda}_l2_{l2_lambda}_{i}th', \n",
    "                                           X, new_edges,new_nodes_dict)\n",
    "            predictions = predictor.predict()\n",
    "            trained_node_raw = np.load(f'../input/{training_dataset}/{training_dataset}_label_encoder.npy')\n",
    "            newly_added_node_judger = ~np.isin(new_nodes_dict['indice'],trained_node_raw)\n",
    "            y_true = new_nodes_dict['label'][newly_added_node_judger]\n",
    "            y_score_indice = new_nodes_dict['indice'][newly_added_node_judger]\n",
    "            bagging_pred_scores.append(predictions[y_score_indice])\n",
    "            \n",
    "            current_auc = roc_auc_score(y_true=[1 if i==-1 else 0 for i in y_true],y_score=predictions[y_score_indice])\n",
    "            auc_scores.append(current_auc)        \n",
    "        averaged_auc = np.mean(auc_scores)\n",
    "        bagging_auc = roc_auc_score(y_true=[1 if i==-1 else 0 for i in y_true],y_score=sum(bagging_pred_scores)/iter_num)\n",
    "        result_df = result_df.append(pd.io.json.json_normalize({training_dataset:averaged_auc}).T)\n",
    "        bagging_df = bagging_df.append(pd.io.json.json_normalize({training_dataset:bagging_auc}).T)\n",
    "    return result_df, bagging_df"
   ]
  },
  {
   "cell_type": "code",
   "execution_count": 7,
   "metadata": {},
   "outputs": [],
   "source": [
    "result_df, bagging_df = evaluate_all(epinions_list,l1_lambda=10.0)\n",
    "\n",
    "result_df['rate'] = result_df.reset_index()['index'].str.split('.',expand=True)[1].map(lambda x:'0.'+x).values\n",
    "\n",
    "bagging_df['rate'] = bagging_df.reset_index()['index'].str.split('.',expand=True)[1].map(lambda x:'0.'+x).values"
   ]
  },
  {
   "cell_type": "code",
   "execution_count": 9,
   "metadata": {
    "scrolled": true
   },
   "outputs": [
    {
     "data": {
      "text/html": [
       "<div>\n",
       "<style scoped>\n",
       "    .dataframe tbody tr th:only-of-type {\n",
       "        vertical-align: middle;\n",
       "    }\n",
       "\n",
       "    .dataframe tbody tr th {\n",
       "        vertical-align: top;\n",
       "    }\n",
       "\n",
       "    .dataframe thead th {\n",
       "        text-align: right;\n",
       "    }\n",
       "</style>\n",
       "<table border=\"1\" class=\"dataframe\">\n",
       "  <thead>\n",
       "    <tr style=\"text-align: right;\">\n",
       "      <th>rate</th>\n",
       "      <th>0.0005</th>\n",
       "      <th>0.0007</th>\n",
       "      <th>0.001</th>\n",
       "      <th>0.003</th>\n",
       "      <th>0.005</th>\n",
       "      <th>0.007</th>\n",
       "      <th>0.01</th>\n",
       "    </tr>\n",
       "  </thead>\n",
       "  <tbody>\n",
       "    <tr>\n",
       "      <th>0</th>\n",
       "      <td>0.716503</td>\n",
       "      <td>0.737821</td>\n",
       "      <td>0.776753</td>\n",
       "      <td>0.839291</td>\n",
       "      <td>0.865601</td>\n",
       "      <td>0.908839</td>\n",
       "      <td>0.933292</td>\n",
       "    </tr>\n",
       "  </tbody>\n",
       "</table>\n",
       "</div>"
      ],
      "text/plain": [
       "rate    0.0005    0.0007     0.001     0.003     0.005     0.007      0.01\n",
       "0     0.716503  0.737821  0.776753  0.839291  0.865601  0.908839  0.933292"
      ]
     },
     "execution_count": 9,
     "metadata": {},
     "output_type": "execute_result"
    }
   ],
   "source": [
    "result_df.set_index('rate').T"
   ]
  },
  {
   "cell_type": "code",
   "execution_count": null,
   "metadata": {
    "scrolled": true
   },
   "outputs": [],
   "source": [
    "# bagging_df.set_index('rate').T"
   ]
  },
  {
   "cell_type": "code",
   "execution_count": null,
   "metadata": {},
   "outputs": [],
   "source": []
  },
  {
   "cell_type": "code",
   "execution_count": null,
   "metadata": {},
   "outputs": [],
   "source": []
  },
  {
   "cell_type": "markdown",
   "metadata": {
    "colab_type": "text",
    "id": "TqaT6DeZukuQ"
   },
   "source": [
    "## training"
   ]
  },
  {
   "cell_type": "code",
   "execution_count": null,
   "metadata": {},
   "outputs": [],
   "source": [
    "iter_num = 30"
   ]
  },
  {
   "cell_type": "code",
   "execution_count": null,
   "metadata": {
    "colab": {},
    "colab_type": "code",
    "id": "vHQMPYOyukuR",
    "scrolled": false
   },
   "outputs": [],
   "source": [
    "data_name = input('データセット：')"
   ]
  },
  {
   "cell_type": "code",
   "execution_count": null,
   "metadata": {},
   "outputs": [],
   "source": [
    "l1_lambda = float(input('l1_lambda:'))"
   ]
  },
  {
   "cell_type": "code",
   "execution_count": null,
   "metadata": {},
   "outputs": [],
   "source": [
    "for i in range(iter_num):\n",
    "    print(f'{i}-th iteration')\n",
    "    args = easydict.EasyDict({\n",
    "            \"edge_path\": f'../input/{data_name}/{data_name}_network.csv',\n",
    "            \"features_path\":  f'../input/{data_name}/{data_name}_node_feature.csv',\n",
    "            \"nodes_path\": f'../input/{data_name}/{data_name}_gt.csv',\n",
    "            \"embedding_path\": f'../tmp/embedding/{data_name}_sgcn_feature05.pkl', # tmp folder for cross-validation\n",
    "            \"regression_weights_path\": f'../tmp/weights/{data_name}_sgcn_feature05.pkl',\n",
    "            \"inductive_model_path\": f'../output/inductive_master_tmp/{data_name}_model_l1_{l1_lambda}_{i}th', # or None\n",
    "            \"log_path\": f'../logs/{data_name}_logs_feature05.json',\n",
    "            \"epochs\":50,\n",
    "            \"test_size\":0.2,\n",
    "            \"reduction_iterations\": 128,\n",
    "            \"reduction_dimensions\": 30,\n",
    "            \"seed\": 42,\n",
    "            \"lamb\": 0.0,\n",
    "            \"learning_rate\": 0.001,  \n",
    "            \"weight_decay\": 10e-4, \n",
    "            # \"layers\": [64, 32,16,8],\n",
    "            \"layers\": [32, 16, ],\n",
    "            \"spectral_features\":False,\n",
    "            \"general_features\": True,  \n",
    "            \"sample_num\":None,\n",
    "            \"class_weights\":False,\n",
    "            \"node_under_sampling\":False,\n",
    "            \"hidden_residual\":False,\n",
    "            \"eval_freq\":1,\n",
    "            \"subgraph_training\":False,\n",
    "            \"l1_lambda\":l1_lambda,\n",
    "    })    \n",
    "    edges, nodes_dict = read_graph(args) # nodes_dict['indice']:node_id , nodes_dict['label'] : label\n",
    "    print(np.unique(nodes_dict['label'],return_counts=True))\n",
    "    trainer = SignedGCNTrainer(args, edges, nodes_dict)\n",
    "    trainer.setup_dataset()\n",
    "    trainer.create_and_train_model()"
   ]
  },
  {
   "cell_type": "markdown",
   "metadata": {},
   "source": [
    "## evaluation"
   ]
  },
  {
   "cell_type": "markdown",
   "metadata": {},
   "source": [
    "### data loading"
   ]
  },
  {
   "cell_type": "code",
   "execution_count": null,
   "metadata": {
    "colab": {},
    "colab_type": "code",
    "id": "OIVKVhJKukub",
    "scrolled": false
   },
   "outputs": [],
   "source": [
    "data_name = input('推定対象データセット：')"
   ]
  },
  {
   "cell_type": "code",
   "execution_count": null,
   "metadata": {
    "colab": {},
    "colab_type": "code",
    "id": "aDUSpzOIukud"
   },
   "outputs": [],
   "source": [
    "new_args = easydict.EasyDict({\n",
    "        \"edge_path\": f'../input/{data_name}/{data_name}_network.csv',\n",
    "        \"features_path\":  f'../input/{data_name}/{data_name}_node_feature.csv',\n",
    "        \"nodes_path\": f'../input/{data_name}/{data_name}_gt.csv',\n",
    "        \"embedding_path\": f'../tmp/embedding/{data_name}_sgcn_feature05.pkl', # tmp folder for cross-validation\n",
    "        \"regression_weights_path\": f'../tmp/weights/{data_name}_sgcn_feature05.pkl',\n",
    "        \"inductive_model_path\": f'../output/inductive/{data_name}_model_master', # or None\n",
    "        \"log_path\": f'../logs/{data_name}_logs_feature05.json',\n",
    "        \"epochs\":300,\n",
    "        \"test_size\":0.33,\n",
    "        \"reduction_iterations\": 128,\n",
    "        \"reduction_dimensions\": 30,\n",
    "        \"seed\": 42,\n",
    "        \"lamb\": 0.0,\n",
    "        \"learning_rate\": 0.001,  \n",
    "        \"weight_decay\": 10e-4, \n",
    "        # \"layers\": [64, 32,16,8],\n",
    "        \"layers\": [32, 16, ],\n",
    "        \"spectral_features\":False,\n",
    "        \"general_features\": True,  \n",
    "        \"sample_num\":None,\n",
    "        \"class_weights\":False,\n",
    "        \"node_under_sampling\":False,\n",
    "        \"hidden_residual\":False,\n",
    "        \"eval_freq\":1,\n",
    "        \"subgraph_training\":False,\n",
    "        \"l1_lambda\":0.0,\n",
    "})"
   ]
  },
  {
   "cell_type": "code",
   "execution_count": null,
   "metadata": {
    "colab": {},
    "colab_type": "code",
    "id": "kKkWYWXHukue",
    "scrolled": true
   },
   "outputs": [],
   "source": [
    "new_edges, new_nodes_dict = read_graph(new_args)\n",
    "if data_name=='amazon':\n",
    "    # undirected\n",
    "    new_edges['positive_edges'] = new_edges['positive_edges'] + [[d,s] for s,d in new_edges['positive_edges']]\n",
    "    new_edges['negative_edges'] = new_edges['negative_edges'] + [[d,s] for s,d in new_edges['negative_edges']]\n",
    "X = np.array(pd.read_csv(f'../input/{data_name}/{data_name}_node_feature.csv')) # general node features"
   ]
  },
  {
   "cell_type": "markdown",
   "metadata": {},
   "source": [
    "### evaluation and averaging"
   ]
  },
  {
   "cell_type": "code",
   "execution_count": null,
   "metadata": {},
   "outputs": [],
   "source": [
    "iter_num = 30"
   ]
  },
  {
   "cell_type": "code",
   "execution_count": null,
   "metadata": {
    "colab": {},
    "colab_type": "code",
    "id": "f5CzRqlPukug",
    "scrolled": false
   },
   "outputs": [],
   "source": [
    "training_dataset = input('学習に使ったデータセット：')"
   ]
  },
  {
   "cell_type": "code",
   "execution_count": null,
   "metadata": {},
   "outputs": [],
   "source": [
    "l1_lambda = float(input('l1_lambda:'))"
   ]
  },
  {
   "cell_type": "code",
   "execution_count": null,
   "metadata": {},
   "outputs": [],
   "source": [
    "l2_lambda = float(input('l2_lambda:'))"
   ]
  },
  {
   "cell_type": "code",
   "execution_count": null,
   "metadata": {},
   "outputs": [],
   "source": [
    "auc_scores = []\n",
    "for i in range(iter_num):\n",
    "    predictor = SignedGCNPredictor(new_args, f'../output/inductive_master_tmp/{training_dataset}_model_l1_{l1_lambda}_l2_{l2_lambda}_{i}th', \n",
    "                                   X, new_edges,new_nodes_dict)\n",
    "    predictions = predictor.predict()\n",
    "    trained_node_raw = np.load(f'../input/{training_dataset}/{training_dataset}_label_encoder.npy')\n",
    "    newly_added_node_judger = ~np.isin(new_nodes_dict['indice'],trained_node_raw)\n",
    "    y_true = new_nodes_dict['label'][newly_added_node_judger]\n",
    "    y_score_indice = new_nodes_dict['indice'][newly_added_node_judger]\n",
    "\n",
    "    current_auc = roc_auc_score(y_true=[1 if i==-1 else 0 for i in y_true],y_score=predictions[y_score_indice])\n",
    "    auc_scores.append(current_auc)"
   ]
  },
  {
   "cell_type": "code",
   "execution_count": null,
   "metadata": {
    "scrolled": true
   },
   "outputs": [],
   "source": [
    "auc_scores"
   ]
  },
  {
   "cell_type": "code",
   "execution_count": null,
   "metadata": {
    "colab": {},
    "colab_type": "code",
    "id": "gJ4zgi2eukvX",
    "scrolled": true
   },
   "outputs": [],
   "source": [
    "np.mean(auc_scores), np.std(auc_scores)"
   ]
  },
  {
   "cell_type": "code",
   "execution_count": null,
   "metadata": {
    "colab": {},
    "colab_type": "code",
    "id": "T_NSwRN_ukvY"
   },
   "outputs": [],
   "source": []
  }
 ],
 "metadata": {
  "accelerator": "GPU",
  "colab": {
   "collapsed_sections": [],
   "name": "master_train_eval.ipynb",
   "provenance": [],
   "toc_visible": true,
   "version": "0.3.2"
  },
  "kernelspec": {
   "display_name": "Environment (conda_pytorch_p36)",
   "language": "python",
   "name": "conda_pytorch_p36"
  },
  "language_info": {
   "codemirror_mode": {
    "name": "ipython",
    "version": 3
   },
   "file_extension": ".py",
   "mimetype": "text/x-python",
   "name": "python",
   "nbconvert_exporter": "python",
   "pygments_lexer": "ipython3",
   "version": "3.6.5"
  }
 },
 "nbformat": 4,
 "nbformat_minor": 1
}
